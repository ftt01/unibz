{
 "cells": [
  {
   "cell_type": "code",
   "execution_count": 16,
   "metadata": {},
   "outputs": [],
   "source": [
    "import sys\n",
    "\n",
    "lib_dir = \"/mnt/c/Users/daniele/Documents/GitHub/ftt01/phd/share/lib\"\n",
    "sys.path.insert( 0, lib_dir )"
   ]
  },
  {
   "cell_type": "code",
   "execution_count": 17,
   "metadata": {},
   "outputs": [],
   "source": [
    "from lib import *"
   ]
  },
  {
   "cell_type": "code",
   "execution_count": 18,
   "metadata": {},
   "outputs": [],
   "source": [
    "wdir = \"/media/windows/projects/meteo_forecast_water_demand/\"\n",
    "\n",
    "output_path = wdir + \"meteo/era5/postprocessed/obs/\""
   ]
  },
  {
   "cell_type": "code",
   "execution_count": 19,
   "metadata": {},
   "outputs": [],
   "source": [
    "data_obs = pd.DataFrame()"
   ]
  },
  {
   "cell_type": "code",
   "execution_count": 73,
   "metadata": {},
   "outputs": [
    {
     "name": "stdout",
     "output_type": "stream",
     "text": [
      "ID start_date: 47705\n",
      "ID end_date: 327982\n"
     ]
    }
   ],
   "source": [
    "current_data = pd.read_csv(wdir + '/meteo/historical/radiazione.csv', header=None)\n",
    "\n",
    "id_start = int(current_data[current_data[0]== '00:00:00 01/01/2013'].index[0])\n",
    "id_end = int(current_data[current_data[0]== '23:00:00 31/12/2020'].index[0])\n",
    "print( \"ID start_date: \" + str(id_start) )\n",
    "print( \"ID end_date: \" + str(id_end) )\n",
    "\n",
    "data_laste = pd.DataFrame( current_data.loc[id_start:id_end][1] )\n",
    "data_laste.index = pd.to_datetime(current_data.loc[id_start:id_end][0],format='%H:%M:%S %d/%m/%Y')\n",
    "\n",
    "data_laste = data_laste.resample('H').sum()\n",
    "\n",
    "data_obs['surface_total_radiation'] = data_laste"
   ]
  },
  {
   "cell_type": "code",
   "execution_count": 74,
   "metadata": {},
   "outputs": [
    {
     "data": {
      "text/html": [
       "<div>\n",
       "<style scoped>\n",
       "    .dataframe tbody tr th:only-of-type {\n",
       "        vertical-align: middle;\n",
       "    }\n",
       "\n",
       "    .dataframe tbody tr th {\n",
       "        vertical-align: top;\n",
       "    }\n",
       "\n",
       "    .dataframe thead th {\n",
       "        text-align: right;\n",
       "    }\n",
       "</style>\n",
       "<table border=\"1\" class=\"dataframe\">\n",
       "  <thead>\n",
       "    <tr style=\"text-align: right;\">\n",
       "      <th></th>\n",
       "      <th>1</th>\n",
       "    </tr>\n",
       "  </thead>\n",
       "  <tbody>\n",
       "    <tr>\n",
       "      <th>count</th>\n",
       "      <td>70128.000000</td>\n",
       "    </tr>\n",
       "    <tr>\n",
       "      <th>mean</th>\n",
       "      <td>520.697857</td>\n",
       "    </tr>\n",
       "    <tr>\n",
       "      <th>std</th>\n",
       "      <td>833.005001</td>\n",
       "    </tr>\n",
       "    <tr>\n",
       "      <th>min</th>\n",
       "      <td>0.000000</td>\n",
       "    </tr>\n",
       "    <tr>\n",
       "      <th>25%</th>\n",
       "      <td>0.000000</td>\n",
       "    </tr>\n",
       "    <tr>\n",
       "      <th>50%</th>\n",
       "      <td>0.100000</td>\n",
       "    </tr>\n",
       "    <tr>\n",
       "      <th>75%</th>\n",
       "      <td>806.825000</td>\n",
       "    </tr>\n",
       "    <tr>\n",
       "      <th>max</th>\n",
       "      <td>3932.300000</td>\n",
       "    </tr>\n",
       "  </tbody>\n",
       "</table>\n",
       "</div>"
      ],
      "text/plain": [
       "                  1\n",
       "count  70128.000000\n",
       "mean     520.697857\n",
       "std      833.005001\n",
       "min        0.000000\n",
       "25%        0.000000\n",
       "50%        0.100000\n",
       "75%      806.825000\n",
       "max     3932.300000"
      ]
     },
     "execution_count": 74,
     "metadata": {},
     "output_type": "execute_result"
    }
   ],
   "source": [
    "data_laste.describe()"
   ]
  },
  {
   "cell_type": "code",
   "execution_count": 75,
   "metadata": {},
   "outputs": [
    {
     "data": {
      "text/plain": [
       "<AxesSubplot:xlabel='0'>"
      ]
     },
     "execution_count": 75,
     "metadata": {},
     "output_type": "execute_result"
    },
    {
     "data": {
      "image/png": "[encoded data removed]",
      "text/plain": [
       "<Figure size 432x288 with 1 Axes>"
      ]
     },
     "metadata": {
      "needs_background": "light"
     },
     "output_type": "display_data"
    }
   ],
   "source": [
    "data_laste.plot()"
   ]
  },
  {
   "cell_type": "code",
   "execution_count": 60,
   "metadata": {},
   "outputs": [
    {
     "name": "stdout",
     "output_type": "stream",
     "text": [
      "ID start_date: 455811\n",
      "ID end_date: 1296542\n"
     ]
    }
   ],
   "source": [
    "current_data = pd.read_csv(wdir + '/meteo/historical/precipitation.csv', header=None)\n",
    "\n",
    "id_start = int(current_data[current_data[0]== '00:00:00 01/01/2013'].index[0])\n",
    "id_end = int(current_data[current_data[0]== '23:00:00 31/12/2020'].index[0])\n",
    "print( \"ID start_date: \" + str(id_start) )\n",
    "print( \"ID end_date: \" + str(id_end) )\n",
    "\n",
    "data_laste = pd.DataFrame( current_data.loc[id_start:id_end][1] )\n",
    "data_laste.index = pd.to_datetime(current_data.loc[id_start:id_end][0],format='%H:%M:%S %d/%m/%Y')\n",
    "\n",
    "data_laste = data_laste.resample('H').sum()\n",
    "\n",
    "data_obs['precipitation'] = data_laste"
   ]
  },
  {
   "cell_type": "code",
   "execution_count": 61,
   "metadata": {},
   "outputs": [
    {
     "name": "stdout",
     "output_type": "stream",
     "text": [
      "ID start_date: 314889\n",
      "ID end_date: 593758\n"
     ]
    }
   ],
   "source": [
    "current_data = pd.read_csv(wdir + '/meteo/historical/relative_humidity.csv', header=None)\n",
    "\n",
    "id_start = int(current_data[current_data[0]== '00:00:00 01/01/2013'].index[0])\n",
    "id_end = int(current_data[current_data[0]== '23:00:00 31/12/2020'].index[0])\n",
    "print( \"ID start_date: \" + str(id_start) )\n",
    "print( \"ID end_date: \" + str(id_end) )\n",
    "\n",
    "data_laste = pd.DataFrame( current_data.loc[id_start:id_end][1] )\n",
    "data_laste.index = pd.to_datetime(current_data.loc[id_start:id_end][0],format='%H:%M:%S %d/%m/%Y')\n",
    "\n",
    "data_laste = data_laste.resample('H').mean()\n",
    "\n",
    "data_obs['relative_humidity'] = data_laste"
   ]
  },
  {
   "cell_type": "code",
   "execution_count": 62,
   "metadata": {},
   "outputs": [
    {
     "name": "stdout",
     "output_type": "stream",
     "text": [
      "ID start_date: 316497\n",
      "ID end_date: 596788\n"
     ]
    }
   ],
   "source": [
    "current_data = pd.read_csv(wdir + '/meteo/historical/temperature.csv', header=None)\n",
    "\n",
    "id_start = int(current_data[current_data[0]== '00:00:00 01/01/2013'].index[0])\n",
    "id_end = int(current_data[current_data[0]== '23:00:00 31/12/2020'].index[0])\n",
    "print( \"ID start_date: \" + str(id_start) )\n",
    "print( \"ID end_date: \" + str(id_end) )\n",
    "\n",
    "data_laste = pd.DataFrame( current_data.loc[id_start:id_end][1] )\n",
    "data_laste.index = pd.to_datetime(current_data.loc[id_start:id_end][0],format='%H:%M:%S %d/%m/%Y')\n",
    "\n",
    "data_laste = data_laste.resample('H').mean()\n",
    "\n",
    "data_obs['temperature'] = data_laste"
   ]
  },
  {
   "cell_type": "code",
   "execution_count": 63,
   "metadata": {},
   "outputs": [
    {
     "data": {
      "text/html": [
       "<div>\n",
       "<style scoped>\n",
       "    .dataframe tbody tr th:only-of-type {\n",
       "        vertical-align: middle;\n",
       "    }\n",
       "\n",
       "    .dataframe tbody tr th {\n",
       "        vertical-align: top;\n",
       "    }\n",
       "\n",
       "    .dataframe thead th {\n",
       "        text-align: right;\n",
       "    }\n",
       "</style>\n",
       "<table border=\"1\" class=\"dataframe\">\n",
       "  <thead>\n",
       "    <tr style=\"text-align: right;\">\n",
       "      <th></th>\n",
       "      <th>surface_total_radiation</th>\n",
       "    </tr>\n",
       "  </thead>\n",
       "  <tbody>\n",
       "    <tr>\n",
       "      <th>count</th>\n",
       "      <td>26304.000000</td>\n",
       "    </tr>\n",
       "    <tr>\n",
       "      <th>mean</th>\n",
       "      <td>534.297160</td>\n",
       "    </tr>\n",
       "    <tr>\n",
       "      <th>std</th>\n",
       "      <td>851.886395</td>\n",
       "    </tr>\n",
       "    <tr>\n",
       "      <th>min</th>\n",
       "      <td>0.000000</td>\n",
       "    </tr>\n",
       "    <tr>\n",
       "      <th>25%</th>\n",
       "      <td>0.000000</td>\n",
       "    </tr>\n",
       "    <tr>\n",
       "      <th>50%</th>\n",
       "      <td>0.600000</td>\n",
       "    </tr>\n",
       "    <tr>\n",
       "      <th>75%</th>\n",
       "      <td>834.675000</td>\n",
       "    </tr>\n",
       "    <tr>\n",
       "      <th>max</th>\n",
       "      <td>3892.700000</td>\n",
       "    </tr>\n",
       "  </tbody>\n",
       "</table>\n",
       "</div>"
      ],
      "text/plain": [
       "       surface_total_radiation\n",
       "count             26304.000000\n",
       "mean                534.297160\n",
       "std                 851.886395\n",
       "min                   0.000000\n",
       "25%                   0.000000\n",
       "50%                   0.600000\n",
       "75%                 834.675000\n",
       "max                3892.700000"
      ]
     },
     "execution_count": 63,
     "metadata": {},
     "output_type": "execute_result"
    }
   ],
   "source": [
    "radiation_data = data_obs[['surface_total_radiation']]\n",
    "# radiation_data_red = radiation_data[radiation_data['surface_total_radiation'] > 0.0]# era5_laste.plot()\n",
    "radiation_data.describe()"
   ]
  },
  {
   "cell_type": "code",
   "execution_count": 64,
   "metadata": {},
   "outputs": [
    {
     "data": {
      "text/plain": [
       "<AxesSubplot:xlabel='0'>"
      ]
     },
     "execution_count": 64,
     "metadata": {},
     "output_type": "execute_result"
    },
    {
     "data": {
      "image/png": "[encoded data removed]",
      "text/plain": [
       "<Figure size 432x288 with 1 Axes>"
      ]
     },
     "metadata": {
      "needs_background": "light"
     },
     "output_type": "display_data"
    }
   ],
   "source": [
    "radiation_data.plot()"
   ]
  },
  {
   "cell_type": "code",
   "execution_count": 65,
   "metadata": {},
   "outputs": [
    {
     "data": {
      "text/html": [
       "<div>\n",
       "<style scoped>\n",
       "    .dataframe tbody tr th:only-of-type {\n",
       "        vertical-align: middle;\n",
       "    }\n",
       "\n",
       "    .dataframe tbody tr th {\n",
       "        vertical-align: top;\n",
       "    }\n",
       "\n",
       "    .dataframe thead th {\n",
       "        text-align: right;\n",
       "    }\n",
       "</style>\n",
       "<table border=\"1\" class=\"dataframe\">\n",
       "  <thead>\n",
       "    <tr style=\"text-align: right;\">\n",
       "      <th></th>\n",
       "      <th>surface_total_radiation</th>\n",
       "    </tr>\n",
       "  </thead>\n",
       "  <tbody>\n",
       "    <tr>\n",
       "      <th>count</th>\n",
       "      <td>35067.000000</td>\n",
       "    </tr>\n",
       "    <tr>\n",
       "      <th>mean</th>\n",
       "      <td>1041.306622</td>\n",
       "    </tr>\n",
       "    <tr>\n",
       "      <th>std</th>\n",
       "      <td>919.547121</td>\n",
       "    </tr>\n",
       "    <tr>\n",
       "      <th>min</th>\n",
       "      <td>0.100000</td>\n",
       "    </tr>\n",
       "    <tr>\n",
       "      <th>25%</th>\n",
       "      <td>238.400000</td>\n",
       "    </tr>\n",
       "    <tr>\n",
       "      <th>50%</th>\n",
       "      <td>806.700000</td>\n",
       "    </tr>\n",
       "    <tr>\n",
       "      <th>75%</th>\n",
       "      <td>1658.200000</td>\n",
       "    </tr>\n",
       "    <tr>\n",
       "      <th>max</th>\n",
       "      <td>3932.300000</td>\n",
       "    </tr>\n",
       "  </tbody>\n",
       "</table>\n",
       "</div>"
      ],
      "text/plain": [
       "       surface_total_radiation\n",
       "count             35067.000000\n",
       "mean               1041.306622\n",
       "std                 919.547121\n",
       "min                   0.100000\n",
       "25%                 238.400000\n",
       "50%                 806.700000\n",
       "75%                1658.200000\n",
       "max                3932.300000"
      ]
     },
     "execution_count": 65,
     "metadata": {},
     "output_type": "execute_result"
    }
   ],
   "source": [
    "radiation_data_red.describe()"
   ]
  },
  {
   "cell_type": "code",
   "execution_count": 66,
   "metadata": {},
   "outputs": [
    {
     "data": {
      "text/plain": [
       "-35055.0"
      ]
     },
     "execution_count": 66,
     "metadata": {},
     "output_type": "execute_result"
    }
   ],
   "source": [
    "35067.000000-70122.000000"
   ]
  },
  {
   "cell_type": "code",
   "execution_count": 67,
   "metadata": {},
   "outputs": [
    {
     "data": {
      "text/plain": [
       "0.49991443484213227"
      ]
     },
     "execution_count": 67,
     "metadata": {},
     "output_type": "execute_result"
    }
   ],
   "source": [
    "35055.0/70122.000000"
   ]
  },
  {
   "cell_type": "code",
   "execution_count": 68,
   "metadata": {},
   "outputs": [
    {
     "data": {
      "text/plain": [
       "<AxesSubplot:xlabel='0'>"
      ]
     },
     "execution_count": 68,
     "metadata": {},
     "output_type": "execute_result"
    },
    {
     "data": {
      "image/png": "[encoded data removed]",
      "text/plain": [
       "<Figure size 432x288 with 1 Axes>"
      ]
     },
     "metadata": {
      "needs_background": "light"
     },
     "output_type": "display_data"
    }
   ],
   "source": [
    "data_obs[['surface_total_radiation_new']].iloc[5010:5050].plot()"
   ]
  },
  {
   "cell_type": "code",
   "execution_count": null,
   "metadata": {},
   "outputs": [],
   "source": []
  }
 ],
 "metadata": {
  "interpreter": {
   "hash": "31f2aee4e71d21fbe5cf8b01ff0e069b9275f58929596ceb00d14d90e3e16cd6"
  },
  "kernelspec": {
   "display_name": "Python 3.8.10 64-bit",
   "language": "python",
   "name": "python3"
  },
  "language_info": {
   "codemirror_mode": {
    "name": "ipython",
    "version": 3
   },
   "file_extension": ".py",
   "mimetype": "text/x-python",
   "name": "python",
   "nbconvert_exporter": "python",
   "pygments_lexer": "ipython3",
   "version": "3.8.10"
  },
  "orig_nbformat": 4
 },
 "nbformat": 4,
 "nbformat_minor": 2
}
