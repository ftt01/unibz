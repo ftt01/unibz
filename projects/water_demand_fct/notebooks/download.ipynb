{
 "cells": [
  {
   "cell_type": "code",
   "execution_count": 8,
   "metadata": {},
   "outputs": [],
   "source": [
    "import sys\n",
    "\n",
    "lib_dir = \"/home/daniele/documents/github/ftt01/phd/share/lib\"\n",
    "sys.path.insert( 0, lib_dir )"
   ]
  },
  {
   "cell_type": "code",
   "execution_count": 9,
   "metadata": {},
   "outputs": [],
   "source": [
    "from lib import *"
   ]
  },
  {
   "cell_type": "code",
   "execution_count": 10,
   "metadata": {},
   "outputs": [],
   "source": [
    "wdir = \"/media/windows/projects/meteo_forecast_water_demand/\"\n",
    "\n",
    "output_path = wdir + \"meteo/era5/download/original/\"\n",
    "\n",
    "spatial_resolution = 0.1\n",
    "\n",
    "bbox = [ 45.67, 10.39, 47.09, 12.48 ]"
   ]
  },
  {
   "cell_type": "code",
   "execution_count": 11,
   "metadata": {},
   "outputs": [],
   "source": [
    "mkNestedDir( output_path )\n",
    "os.chdir( output_path )\n",
    "\n",
    "## ERA5-Land\n",
    "lat_min = round( 0.05 + bbox[0] - bbox[0] % spatial_resolution, 2 )\n",
    "lat_max = round( 0.05 + bbox[2] - bbox[2] % spatial_resolution + spatial_resolution, 2 )\n",
    "lon_min = round( bbox[1] - bbox[1] % spatial_resolution, 2 )\n",
    "lon_max = round( bbox[3] - bbox[3] % spatial_resolution + spatial_resolution, 2 )"
   ]
  },
  {
   "cell_type": "code",
   "execution_count": 12,
   "metadata": {},
   "outputs": [
    {
     "name": "stderr",
     "output_type": "stream",
     "text": [
      "2022-05-20 16:54:06,999 INFO Welcome to the CDS\n",
      "2022-05-20 16:54:07,000 INFO Sending request to https://cds.climate.copernicus.eu/api/v2/resources/reanalysis-era5-land\n",
      "2022-05-20 16:54:07,050 INFO Request is queued\n",
      "2022-05-20 17:08:25,705 INFO Request is running\n",
      "2022-05-20 17:56:30,093 INFO Request is completed\n",
      "2022-05-20 17:56:30,094 INFO Downloading https://download-0002-clone.copernicus-climate.eu/cache-compute-0002/cache/data9/adaptor.mars.internal-1653059178.6136687-28183-10-df00b39d-64d1-4812-830c-32e9ccb6c639.grib to 20132014.grib (22.1M)\n",
      "2022-05-20 17:56:33,720 INFO Download rate 6.1M/s   \n"
     ]
    },
    {
     "data": {
      "text/plain": [
       "Result(content_length=23126400,content_type=application/x-grib,location=https://download-0002-clone.copernicus-climate.eu/cache-compute-0002/cache/data9/adaptor.mars.internal-1653059178.6136687-28183-10-df00b39d-64d1-4812-830c-32e9ccb6c639.grib)"
      ]
     },
     "execution_count": 12,
     "metadata": {},
     "output_type": "execute_result"
    }
   ],
   "source": [
    "import cdsapi\n",
    "\n",
    "c = cdsapi.Client()\n",
    "\n",
    "c.retrieve(\n",
    "    'reanalysis-era5-land',\n",
    "    {\n",
    "        'variable': [\n",
    "            'surface_solar_radiation_downwards'\n",
    "        ],\n",
    "        'year': [\n",
    "            '2013', '2014'\n",
    "        ],\n",
    "        'month': [\n",
    "            '01', '02', '03',\n",
    "            '04', '05', '06',\n",
    "            '07', '08', '09',\n",
    "            '10', '11', '12',\n",
    "        ],\n",
    "        'day': [\n",
    "            '01', '02', '03',\n",
    "            '04', '05', '06',\n",
    "            '07', '08', '09',\n",
    "            '10', '11', '12',\n",
    "            '13', '14', '15',\n",
    "            '16', '17', '18',\n",
    "            '19', '20', '21',\n",
    "            '22', '23', '24',\n",
    "            '25', '26', '27',\n",
    "            '28', '29', '30',\n",
    "            '31',\n",
    "        ],\n",
    "        'time': [\n",
    "            '00:00', '01:00', '02:00',\n",
    "            '03:00', '04:00', '05:00',\n",
    "            '06:00', '07:00', '08:00',\n",
    "            '09:00', '10:00', '11:00',\n",
    "            '12:00', '13:00', '14:00',\n",
    "            '15:00', '16:00', '17:00',\n",
    "            '18:00', '19:00', '20:00',\n",
    "            '21:00', '22:00', '23:00',\n",
    "        ],\n",
    "        'area': [\n",
    "            lat_min, lon_min, lat_max,\n",
    "            lon_max,\n",
    "        ],\n",
    "        'format': 'grib',\n",
    "    },\n",
    "    '20132014.grib')"
   ]
  },
  {
   "cell_type": "code",
   "execution_count": 13,
   "metadata": {},
   "outputs": [
    {
     "name": "stderr",
     "output_type": "stream",
     "text": [
      "2022-05-20 17:56:33,771 INFO Welcome to the CDS\n",
      "2022-05-20 17:56:33,772 INFO Sending request to https://cds.climate.copernicus.eu/api/v2/resources/reanalysis-era5-land\n",
      "2022-05-20 17:56:33,800 INFO Request is queued\n",
      "2022-05-20 18:06:52,304 INFO Request is running\n",
      "2022-05-20 18:56:56,318 INFO Request is completed\n",
      "2022-05-20 18:56:56,319 INFO Downloading https://download-0002-clone.copernicus-climate.eu/cache-compute-0002/cache/data2/adaptor.mars.internal-1653062724.4841552-21961-19-93d78635-3301-4fd0-aef2-9f187861197b.grib to 20152016.grib (22.1M)\n",
      "2022-05-20 18:56:59,557 INFO Download rate 6.8M/s   \n"
     ]
    },
    {
     "data": {
      "text/plain": [
       "Result(content_length=23158080,content_type=application/x-grib,location=https://download-0002-clone.copernicus-climate.eu/cache-compute-0002/cache/data2/adaptor.mars.internal-1653062724.4841552-21961-19-93d78635-3301-4fd0-aef2-9f187861197b.grib)"
      ]
     },
     "execution_count": 13,
     "metadata": {},
     "output_type": "execute_result"
    }
   ],
   "source": [
    "import cdsapi\n",
    "\n",
    "c = cdsapi.Client()\n",
    "\n",
    "c.retrieve(\n",
    "    'reanalysis-era5-land',\n",
    "    {\n",
    "        'variable': [\n",
    "            'surface_solar_radiation_downwards'\n",
    "        ],\n",
    "        'year': [\n",
    "            '2015', '2016'\n",
    "        ],\n",
    "        'month': [\n",
    "            '01', '02', '03',\n",
    "            '04', '05', '06',\n",
    "            '07', '08', '09',\n",
    "            '10', '11', '12',\n",
    "        ],\n",
    "        'day': [\n",
    "            '01', '02', '03',\n",
    "            '04', '05', '06',\n",
    "            '07', '08', '09',\n",
    "            '10', '11', '12',\n",
    "            '13', '14', '15',\n",
    "            '16', '17', '18',\n",
    "            '19', '20', '21',\n",
    "            '22', '23', '24',\n",
    "            '25', '26', '27',\n",
    "            '28', '29', '30',\n",
    "            '31',\n",
    "        ],\n",
    "        'time': [\n",
    "            '00:00', '01:00', '02:00',\n",
    "            '03:00', '04:00', '05:00',\n",
    "            '06:00', '07:00', '08:00',\n",
    "            '09:00', '10:00', '11:00',\n",
    "            '12:00', '13:00', '14:00',\n",
    "            '15:00', '16:00', '17:00',\n",
    "            '18:00', '19:00', '20:00',\n",
    "            '21:00', '22:00', '23:00',\n",
    "        ],\n",
    "        'area': [\n",
    "            lat_min, lon_min, lat_max,\n",
    "            lon_max,\n",
    "        ],\n",
    "        'format': 'grib',\n",
    "    },\n",
    "    '20152016.grib')"
   ]
  },
  {
   "cell_type": "code",
   "execution_count": 14,
   "metadata": {},
   "outputs": [
    {
     "name": "stderr",
     "output_type": "stream",
     "text": [
      "2022-05-20 18:56:59,594 INFO Welcome to the CDS\n",
      "2022-05-20 18:56:59,594 INFO Sending request to https://cds.climate.copernicus.eu/api/v2/resources/reanalysis-era5-land\n",
      "2022-05-20 18:56:59,620 INFO Request is queued\n",
      "2022-05-20 19:05:17,767 INFO Request is running\n",
      "2022-05-20 19:49:21,168 INFO Request is completed\n",
      "2022-05-20 19:49:21,169 INFO Downloading https://download-0010-clone.copernicus-climate.eu/cache-compute-0010/cache/data4/adaptor.mars.internal-1653066144.3667042-7489-15-8f465a17-e38a-48b0-b036-ebb943c62887.grib to 20172018.grib (22.1M)\n",
      "2022-05-20 19:49:24,674 INFO Download rate 6.3M/s   \n"
     ]
    },
    {
     "data": {
      "text/plain": [
       "Result(content_length=23126400,content_type=application/x-grib,location=https://download-0010-clone.copernicus-climate.eu/cache-compute-0010/cache/data4/adaptor.mars.internal-1653066144.3667042-7489-15-8f465a17-e38a-48b0-b036-ebb943c62887.grib)"
      ]
     },
     "execution_count": 14,
     "metadata": {},
     "output_type": "execute_result"
    }
   ],
   "source": [
    "import cdsapi\n",
    "\n",
    "c = cdsapi.Client()\n",
    "\n",
    "c.retrieve(\n",
    "    'reanalysis-era5-land',\n",
    "    {\n",
    "        'variable': [\n",
    "            'surface_solar_radiation_downwards'\n",
    "        ],\n",
    "        'year': [\n",
    "            '2017', '2018'\n",
    "        ],\n",
    "        'month': [\n",
    "            '01', '02', '03',\n",
    "            '04', '05', '06',\n",
    "            '07', '08', '09',\n",
    "            '10', '11', '12',\n",
    "        ],\n",
    "        'day': [\n",
    "            '01', '02', '03',\n",
    "            '04', '05', '06',\n",
    "            '07', '08', '09',\n",
    "            '10', '11', '12',\n",
    "            '13', '14', '15',\n",
    "            '16', '17', '18',\n",
    "            '19', '20', '21',\n",
    "            '22', '23', '24',\n",
    "            '25', '26', '27',\n",
    "            '28', '29', '30',\n",
    "            '31',\n",
    "        ],\n",
    "        'time': [\n",
    "            '00:00', '01:00', '02:00',\n",
    "            '03:00', '04:00', '05:00',\n",
    "            '06:00', '07:00', '08:00',\n",
    "            '09:00', '10:00', '11:00',\n",
    "            '12:00', '13:00', '14:00',\n",
    "            '15:00', '16:00', '17:00',\n",
    "            '18:00', '19:00', '20:00',\n",
    "            '21:00', '22:00', '23:00',\n",
    "        ],\n",
    "        'area': [\n",
    "            lat_min, lon_min, lat_max,\n",
    "            lon_max,\n",
    "        ],\n",
    "        'format': 'grib',\n",
    "    },\n",
    "    '20172018.grib')"
   ]
  },
  {
   "cell_type": "code",
   "execution_count": 15,
   "metadata": {},
   "outputs": [
    {
     "name": "stderr",
     "output_type": "stream",
     "text": [
      "2022-05-20 19:49:24,722 INFO Welcome to the CDS\n",
      "2022-05-20 19:49:24,722 INFO Sending request to https://cds.climate.copernicus.eu/api/v2/resources/reanalysis-era5-land\n",
      "2022-05-20 19:49:24,753 INFO Request is queued\n",
      "2022-05-20 20:01:43,602 INFO Request is running\n",
      "2022-05-20 20:49:47,644 INFO Request is completed\n",
      "2022-05-20 20:49:47,645 INFO Downloading https://download-0003-clone.copernicus-climate.eu/cache-compute-0003/cache/data3/adaptor.mars.internal-1653069563.6967075-8461-12-cb90a01e-bb5a-4198-b006-5ea27c11ab8a.grib to 20192020.grib (22.1M)\n",
      "2022-05-20 20:49:51,018 INFO Download rate 6.5M/s   \n"
     ]
    },
    {
     "data": {
      "text/plain": [
       "Result(content_length=23158080,content_type=application/x-grib,location=https://download-0003-clone.copernicus-climate.eu/cache-compute-0003/cache/data3/adaptor.mars.internal-1653069563.6967075-8461-12-cb90a01e-bb5a-4198-b006-5ea27c11ab8a.grib)"
      ]
     },
     "execution_count": 15,
     "metadata": {},
     "output_type": "execute_result"
    }
   ],
   "source": [
    "import cdsapi\n",
    "\n",
    "c = cdsapi.Client()\n",
    "\n",
    "c.retrieve(\n",
    "    'reanalysis-era5-land',\n",
    "    {\n",
    "        'variable': [\n",
    "            'surface_solar_radiation_downwards'\n",
    "        ],\n",
    "        'year': [\n",
    "            '2019','2020'\n",
    "        ],\n",
    "        'month': [\n",
    "            '01', '02', '03',\n",
    "            '04', '05', '06',\n",
    "            '07', '08', '09',\n",
    "            '10', '11', '12',\n",
    "        ],\n",
    "        'day': [\n",
    "            '01', '02', '03',\n",
    "            '04', '05', '06',\n",
    "            '07', '08', '09',\n",
    "            '10', '11', '12',\n",
    "            '13', '14', '15',\n",
    "            '16', '17', '18',\n",
    "            '19', '20', '21',\n",
    "            '22', '23', '24',\n",
    "            '25', '26', '27',\n",
    "            '28', '29', '30',\n",
    "            '31',\n",
    "        ],\n",
    "        'time': [\n",
    "            '00:00', '01:00', '02:00',\n",
    "            '03:00', '04:00', '05:00',\n",
    "            '06:00', '07:00', '08:00',\n",
    "            '09:00', '10:00', '11:00',\n",
    "            '12:00', '13:00', '14:00',\n",
    "            '15:00', '16:00', '17:00',\n",
    "            '18:00', '19:00', '20:00',\n",
    "            '21:00', '22:00', '23:00',\n",
    "        ],\n",
    "        'area': [\n",
    "            lat_min, lon_min, lat_max,\n",
    "            lon_max,\n",
    "        ],\n",
    "        'format': 'grib',\n",
    "    },\n",
    "    '20192020.grib')"
   ]
  },
  {
   "cell_type": "code",
   "execution_count": null,
   "metadata": {},
   "outputs": [],
   "source": [
    "# variables = ['2m_dewpoint_temperature', '2m_temperature', 'surface_net_solar_radiation','surface_pressure', 'total_precipitation']\n",
    "# years = ['2013','2014','2015','2016','2017','2018','2019']\n",
    "# months = ['1','2','3','4','5','6','7','8','9','10','11','12']\n",
    "# days = ['01','02','03','04','05','06','07','08','09','10','11','12','13','14','15','16','17','18','19','20','21','22','23','24','25','26','27','28','29','30','31']\n",
    "# hours = ['00','01','02','03','04','05','06','07','08','09','10','11','12','13','14','15','16','17','18','19','20','21','22','23']"
   ]
  },
  {
   "cell_type": "code",
   "execution_count": null,
   "metadata": {},
   "outputs": [],
   "source": [
    "# import cdsapi\n",
    "\n",
    "# c = cdsapi.Client()\n",
    "\n",
    "# c.retrieve(\n",
    "#     'reanalysis-era5-land',\n",
    "#     {\n",
    "#         'variable': [\n",
    "#             '2m_temperature'\n",
    "#         ],\n",
    "#         'year': [\n",
    "#             '2019'\n",
    "#         ],\n",
    "#         'month': [\n",
    "#             '01'\n",
    "#         ],\n",
    "#         'day': [\n",
    "#             '01'\n",
    "#         ],\n",
    "#         'time': [\n",
    "#             '00:00'\n",
    "#         ],\n",
    "#         'area': [\n",
    "#             46.15, 11, 45.95,\n",
    "#             11.2,\n",
    "#         ],\n",
    "#         'format': 'grib',\n",
    "#     },\n",
    "#     '2019_01_01_0000_2m_temperature.grib')"
   ]
  }
 ],
 "metadata": {
  "interpreter": {
   "hash": "916dbcbb3f70747c44a77c7bcd40155683ae19c65e1c03b4aa3499c5328201f1"
  },
  "kernelspec": {
   "display_name": "Python 3.8.10 64-bit",
   "language": "python",
   "name": "python3"
  },
  "language_info": {
   "codemirror_mode": {
    "name": "ipython",
    "version": 3
   },
   "file_extension": ".py",
   "mimetype": "text/x-python",
   "name": "python",
   "nbconvert_exporter": "python",
   "pygments_lexer": "ipython3",
   "version": "3.8.10"
  },
  "orig_nbformat": 4
 },
 "nbformat": 4,
 "nbformat_minor": 2
}
