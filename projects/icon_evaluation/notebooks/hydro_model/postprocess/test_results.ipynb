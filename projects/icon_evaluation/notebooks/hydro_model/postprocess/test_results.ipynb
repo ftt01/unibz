{
 "cells": [
  {
   "cell_type": "code",
   "execution_count": null,
   "metadata": {},
   "outputs": [],
   "source": [
    "import sys\n",
    "\n",
    "lib_dir = \"/home/daniele/documents/github/ftt01/phd/share/lib\"\n",
    "sys.path.insert( 0, lib_dir )"
   ]
  },
  {
   "cell_type": "code",
   "execution_count": null,
   "metadata": {},
   "outputs": [],
   "source": [
    "from lib import *"
   ]
  },
  {
   "cell_type": "code",
   "execution_count": null,
   "metadata": {},
   "outputs": [],
   "source": [
    "wdir = \"/media/windows/projects/icon-evaluation/hydro_modeling/\"\n",
    "\n",
    "basin = \"passirio\"\n",
    "\n",
    "timezone_str = 'Europe/Rome'\n",
    "\n",
    "gauge_station = '58' ### merano\n",
    "gauge_measure = '118'"
   ]
  },
  {
   "cell_type": "code",
   "execution_count": null,
   "metadata": {},
   "outputs": [],
   "source": [
    "start_date_str = '20210628T00:00:00'\n",
    "end_date_str = '20210731T00:00:00'\n",
    "\n",
    "start_date = dt.datetime.strptime(start_date_str, '%Y%m%dT%H:%M:%S')\n",
    "end_date = dt.datetime.strptime(end_date_str, '%Y%m%dT%H:%M:%S')\n",
    "\n",
    "dates = [ start_date + dt.timedelta(days=x) for x in range(0, (end_date-start_date).days) ]\n",
    "fct_dates = [ start_date + dt.timedelta(hours=x) for x in range(0, (end_date-start_date).days*24) ]\n",
    "\n",
    "output_dt_format = '%Y-%m-%d %H:%M:%S'"
   ]
  },
  {
   "cell_type": "code",
   "execution_count": null,
   "metadata": {},
   "outputs": [],
   "source": [
    "calibration_lag_hours = 1*360*24\n",
    "wu_days = 360\n",
    "da_days = 10\n",
    "forecasting_lead_time = 24"
   ]
  },
  {
   "cell_type": "code",
   "execution_count": null,
   "metadata": {},
   "outputs": [],
   "source": [
    "bias_table = pd.DataFrame(columns=['fct', 'hydro'])\n",
    "\n",
    "for date in dates:\n",
    "\n",
    "    print(date)\n",
    "    str_date = dt.datetime.strftime(date, format='%Y%m%d')\n",
    "\n",
    "    current_start_date = dt.datetime.strftime(\n",
    "        date - dt.timedelta(days=da_days*2), output_dt_format)\n",
    "    current_end_date = dt.datetime.strftime(\n",
    "        date + dt.timedelta(hours=forecasting_lead_time), output_dt_format)\n",
    "\n",
    "    streamflow_df = pd.DataFrame()\n",
    "\n",
    "    ### measured ###\n",
    "    obs_flow = pd.read_csv(wdir + basin + \"/meteo/streamflow/\" + gauge_measure +\n",
    "                            \".txt\", skiprows=5, header=None, parse_dates=True, index_col=0)\n",
    "    obs_flow.index.name = 'datetime'\n",
    "    # obs_flow = obs_flow[current_start_date:current_end_date]\n",
    "\n",
    "    streamflow_df['measured'] = obs_flow[obs_flow[1] > 0][1]\n",
    "\n",
    "    ### forward ###\n",
    "    obs_flow_filepath = wdir + basin + \"/OUTPUT/FORWARD/output_1/\"\n",
    "\n",
    "    t = pd.read_csv(obs_flow_filepath + 'out_flow.txt')\n",
    "    t.rename(columns={'date':'datetime'}, inplace=True)\n",
    "    t = read_timeseries_pd( t, input_dt_format='%Y-%m-%d %H:%M' )\n",
    "\n",
    "    # streamflow_df['forward'] = pd.to_numeric( t[current_start_date:current_end_date]['58'] )\n",
    "    # streamflow_df['forward'] = t[current_start_date:current_end_date]['58']\n",
    "    streamflow_df['forward'] = t['58']\n",
    "    streamflow_df.reset_index(inplace=True)\n",
    "\n",
    "    obs_flow_filepath = wdir + basin + \"/OUTPUT/\" + \\\n",
    "        str_date + \"/FORECASTING/Nens_20/output_1/\"\n",
    "\n",
    "    try:\n",
    "\n",
    "        ### DA ###\n",
    "        obs_flow = pd.read_csv(obs_flow_filepath + 'DA_out_ENSEMBLE_mean_flow.txt',\n",
    "                            skiprows=1, header=None)\n",
    "        obs_flow = obs_flow.rename(columns={0: 'datetime'})\n",
    "        obs_flow = read_timeseries_pd(obs_flow, input_dt_format='%Y-%m-%d %H:%M')\n",
    "        obs_flow = obs_flow[[int(gauge_station)]]\n",
    "        obs_flow = obs_flow.rename(columns={int(gauge_station): 'DA'})\n",
    "\n",
    "        # obs_flow = obs_flow[current_start_date:current_end_date]\n",
    "\n",
    "        obs_flow.reset_index(inplace=True)\n",
    "        streamflow_df = streamflow_df.merge(obs_flow, on='datetime', how='outer')\n",
    "        del [obs_flow]\n",
    "\n",
    "        # ### deterministic ###\n",
    "        # obs_flow = pd.read_csv(obs_flow_filepath + 'out_flow.txt',\n",
    "        #                     skiprows=1, header=None)\n",
    "        # obs_flow = obs_flow.rename(columns={0: 'datetime'})\n",
    "        # obs_flow = read_timeseries_pd(obs_flow, input_dt_format='%Y-%m-%d %H:%M')\n",
    "        # obs_flow = obs_flow[[int(gauge_station)]]\n",
    "        # obs_flow = obs_flow.rename(columns={int(gauge_station): 'deterministic'})\n",
    "\n",
    "        # obs_flow = obs_flow[current_start_date:current_end_date]\n",
    "\n",
    "        # obs_flow.reset_index(inplace=True)\n",
    "        # streamflow_df = streamflow_df.merge(obs_flow, on='datetime', how='outer')\n",
    "        # del [obs_flow]\n",
    "\n",
    "        ### forecast ###\n",
    "        obs_flow = pd.read_csv(obs_flow_filepath + 'out_ENSEMBLE_mean_flow.txt',\n",
    "                            skiprows=1, header=None, parse_dates=True, index_col=0)\n",
    "        obs_flow.index.name = 'datetime'\n",
    "        obs_flow = obs_flow[[int(gauge_station)]]\n",
    "        obs_flow = obs_flow.rename(columns={int(gauge_station): 'forecast'})\n",
    "\n",
    "        # obs_flow = obs_flow[current_start_date:current_end_date]\n",
    "\n",
    "        obs_flow.reset_index(inplace=True)\n",
    "        streamflow_df = streamflow_df.merge(obs_flow, on='datetime', how='outer')\n",
    "        del [obs_flow]\n",
    "\n",
    "    except FileNotFoundError as e:\n",
    "        print(e)\n",
    "        continue\n",
    "    except:\n",
    "        raise\n",
    "    \n",
    "    streamflow_df.set_index('datetime', inplace=True)\n",
    "    streamflow_df = streamflow_df[current_start_date:current_end_date]\n",
    "\n",
    "    plots = []\n",
    "\n",
    "    plt_conf = {}\n",
    "    plt_conf[\"label\"] = 'Observed'\n",
    "    plt_conf[\"color\"] = '#fdb863'\n",
    "    plots.append( (streamflow_df['measured'], plt_conf) )\n",
    "\n",
    "    plt_conf = {}\n",
    "    plt_conf[\"label\"] = 'DA'\n",
    "    plt_conf[\"color\"] = '#e66101'\n",
    "    plots.append( (streamflow_df['DA'], plt_conf) )\n",
    "\n",
    "    plt_conf = {}\n",
    "    plt_conf[\"label\"] = 'forward'\n",
    "    plt_conf[\"color\"] = '#8078bc'\n",
    "    plots.append( (streamflow_df['forward'], plt_conf) )\n",
    "\n",
    "    plt_conf = {}\n",
    "    plt_conf[\"label\"] = 'forecast'\n",
    "    plt_conf[\"color\"] = '#5e3c99'\n",
    "    plots.append( (streamflow_df['forecast'], plt_conf) )\n",
    "\n",
    "    import matplotlib.dates as mdates\n",
    "    x_major_locator=mdates.YearLocator(month=10, day=1)\n",
    "    x_major_formatter=mdates.DateFormatter('%m-%d')\n",
    "\n",
    "    output_path_plots_HD = wdir + basin + \"/OUTPUT/plots_HD/\"\n",
    "    createPlot(plots,  \"Time $[hour]$\", \"Streamflow $[m^3/hour]$\",\n",
    "           output_path_plots_HD + str_date + \".\" + output_format, output_format=output_format,  x_major_formatter=x_major_formatter, my_dpi=600)\n",
    "\n",
    "    output_path_plots = wdir + basin + \"/OUTPUT/plots/\"\n",
    "    createPlot(plots,  \"Time $[hour]$\", \"Streamflow $[m^3/hour]$\",\n",
    "           output_path_plots + str_date + \".\" + output_format, output_format=output_format,  x_major_formatter=x_major_formatter, my_dpi=50)\n",
    "\n",
    "#     bias_table['fct'] = streamflow_df['ensemble'] - streamflow_df['measured']\n",
    "#     ### hydrological model in deterministic run days\n",
    "#     bias_table['hydro'] = streamflow_df['deterministic'] - streamflow_df['measured']\n",
    "\n",
    "#     # if counter == 3:\n",
    "#     #     break\n",
    "#     # else:\n",
    "#     #     counter = counter + 1\n",
    "\n",
    "# createBoxPlot(fct_dataframe,  \"Time $[hour]$\", \"Streamflow bias $[m^3/hour]$\",\n",
    "#               output_path_plots, period='H', output_format=output_format, my_dpi=600)\n"
   ]
  },
  {
   "cell_type": "code",
   "execution_count": null,
   "metadata": {},
   "outputs": [],
   "source": [
    "# streamflow_df.set_index('datetime', inplace=True)\n",
    "streamflow_df.plot(figsize=(15,15))"
   ]
  },
  {
   "cell_type": "code",
   "execution_count": null,
   "metadata": {},
   "outputs": [],
   "source": [
    "# deterministic_data = bias_table['hydro'].dropna()"
   ]
  },
  {
   "cell_type": "code",
   "execution_count": null,
   "metadata": {},
   "outputs": [],
   "source": [
    "# bias_values = pd.DataFrame(index=[i for i in range(forecasting_lead_time)], columns=[\n",
    "#                            i for i in range(int(len(deterministic_data)/forecasting_lead_time))])"
   ]
  },
  {
   "cell_type": "code",
   "execution_count": null,
   "metadata": {},
   "outputs": [],
   "source": [
    "# c = 0\n",
    "# for t in deterministic_data.index:\n",
    "#     try:\n",
    "#         bias_values[c][t.hour] = deterministic_data[t]\n",
    "#     except:\n",
    "#         break\n",
    "#     if t.hour+1 == bias_values.shape[0]:\n",
    "#         c = c+1"
   ]
  },
  {
   "cell_type": "code",
   "execution_count": null,
   "metadata": {},
   "outputs": [],
   "source": [
    "# bias_mean_values = bias_values.mean(axis=1)"
   ]
  },
  {
   "cell_type": "code",
   "execution_count": null,
   "metadata": {},
   "outputs": [],
   "source": [
    "# fct_data = bias_table['fct'].dropna()"
   ]
  },
  {
   "cell_type": "code",
   "execution_count": null,
   "metadata": {},
   "outputs": [],
   "source": [
    "# c = 0\n",
    "# for f in fct_data.index:\n",
    "#     # print(deterministic_data.loc[f])\n",
    "#     try:\n",
    "#         fct_data.loc[f] = fct_data.loc[f] - bias_mean_values[f.hour]\n",
    "#     except:\n",
    "#         print('AAAAAAAAAAAAAAAH')\n",
    "#         break\n",
    "\n",
    "# streamflow_df['unbiased'] = fct_data"
   ]
  },
  {
   "cell_type": "code",
   "execution_count": null,
   "metadata": {},
   "outputs": [],
   "source": [
    "# deterministic_data = bias_table['hydro'].dropna()"
   ]
  },
  {
   "cell_type": "code",
   "execution_count": null,
   "metadata": {},
   "outputs": [],
   "source": [
    "# c = 0\n",
    "# for f in deterministic_data.index:\n",
    "#     # print(deterministic_data.loc[f])\n",
    "#     try:\n",
    "#         deterministic_data.loc[f] = deterministic_data.loc[f] - bias_mean_values[f.hour]\n",
    "#     except:\n",
    "#         print('AAAAAAAAAAAAAAAH')\n",
    "#         break\n",
    "\n",
    "# streamflow_df['unbiased_deterministic'] = deterministic_data"
   ]
  },
  {
   "cell_type": "code",
   "execution_count": null,
   "metadata": {},
   "outputs": [],
   "source": [
    "# streamflow_df.plot(figsize=(20,20))"
   ]
  },
  {
   "cell_type": "code",
   "execution_count": null,
   "metadata": {},
   "outputs": [],
   "source": []
  },
  {
   "cell_type": "code",
   "execution_count": null,
   "metadata": {},
   "outputs": [],
   "source": []
  }
 ],
 "metadata": {
  "interpreter": {
   "hash": "916dbcbb3f70747c44a77c7bcd40155683ae19c65e1c03b4aa3499c5328201f1"
  },
  "kernelspec": {
   "display_name": "Python 3.8.10 64-bit",
   "language": "python",
   "name": "python3"
  },
  "language_info": {
   "codemirror_mode": {
    "name": "ipython",
    "version": 3
   },
   "file_extension": ".py",
   "mimetype": "text/x-python",
   "name": "python",
   "nbconvert_exporter": "python",
   "pygments_lexer": "ipython3",
   "version": "3.8.10"
  },
  "orig_nbformat": 4
 },
 "nbformat": 4,
 "nbformat_minor": 2
}
