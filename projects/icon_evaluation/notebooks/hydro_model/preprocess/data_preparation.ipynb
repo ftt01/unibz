{
 "cells": [
  {
   "cell_type": "markdown",
   "metadata": {},
   "source": [
    "### FORECAST DATA"
   ]
  },
  {
   "cell_type": "code",
   "execution_count": null,
   "metadata": {},
   "outputs": [],
   "source": [
    "def append_data(current_data, additional_data):\n",
    "\n",
    "    current_data = current_data.reset_index()\n",
    "    additional_data = additional_data.reset_index()\n",
    "\n",
    "    current_data = pd.concat([current_data[current_data['datetime'].isin(\n",
    "        additional_data['datetime']) == False], additional_data], ignore_index=True)\n",
    "\n",
    "    # print(data)\n",
    "    current_data.dropna(subset=['datetime'], inplace=True)\n",
    "    current_data.sort_values(by=['datetime'], inplace=True)\n",
    "\n",
    "    current_data = current_data.set_index('datetime')\n",
    "    current_data = current_data[current_data.index.notnull()]\n",
    "\n",
    "    return current_data"
   ]
  },
  {
   "cell_type": "code",
   "execution_count": null,
   "metadata": {},
   "outputs": [],
   "source": [
    "output_path = wdir + '_output_fct_/'\n",
    "output_dt_format = '%Y-%m-%d %H:%M:%S'"
   ]
  },
  {
   "cell_type": "code",
   "execution_count": null,
   "metadata": {},
   "outputs": [],
   "source": [
    "# stations metadata\n",
    "metadata_data_path = wdir + \"/data/forecast/points3.csv\"\n",
    "\n",
    "metadata = pd.read_csv(metadata_data_path)\n",
    "# metadata = metadata[ metadata['ID_UI'] != '-999' ]\n"
   ]
  },
  {
   "cell_type": "code",
   "execution_count": null,
   "metadata": {},
   "outputs": [],
   "source": [
    "############## FORECAST DATA ##############\n",
    "for variable in variables:\n",
    "    input_fct_data = wdir + 'data/forecast/icon-d2-eps_45h/postprocessed/' + \\\n",
    "        basin + '/' + variable + '/deterministic/mean/'\n",
    "\n",
    "    if variable == 'precipitation':\n",
    "        precipitation_fct_table = pd.DataFrame(index=range(\n",
    "            1, forecasting_lead_time+1), columns=precipitation_data.columns)\n",
    "    elif variable == 'temperature':\n",
    "        temperature_fct_table = pd.DataFrame(index=range(\n",
    "            1, forecasting_lead_time+1), columns=temperature_data.columns)\n",
    "\n",
    "    dates = glob.glob(input_fct_data + '/*')\n",
    "\n",
    "    for date in dates:\n",
    "\n",
    "        date_str = date.split('/')[-1]\n",
    "        # print(date_str)\n",
    "\n",
    "        files = glob.glob(date + '/*.csv')\n",
    "\n",
    "        for f in files:\n",
    "            id_point = str(os.path.basename(f)[:-4])\n",
    "            # print(id_point)\n",
    "\n",
    "            # ID,2.0\n",
    "            # x,642993.5\n",
    "            # y,5164882.0\n",
    "            # z,630.0\n",
    "            header = \"\"\"ID,{id}\\nx,{x}\\ny,{y}\\nz,{z}\\n\"\"\"\n",
    "\n",
    "            df = read_timeseries_pd(pd.read_csv(\n",
    "                f, sep=';'), '%Y-%m-%d %H:%M:%S')\n",
    "            df = df.rename(columns={'values': id_point})\n",
    "            df = df.iloc[-forecasting_lead_time:]\n",
    "\n",
    "            try:\n",
    "                if variable == 'precipitation':\n",
    "                    obs_data = precipitation_data[[id_point]]\n",
    "                elif variable == 'temperature':\n",
    "                    obs_data = temperature_data[[id_point]]\n",
    "            except:\n",
    "                continue\n",
    "            current_data = append_data(obs_data, df)\n",
    "\n",
    "            # current_data = current_data.resample('H').mean()\n",
    "            current_data.index = [dt.datetime.strftime(\n",
    "                i, format=output_dt_format) for i in current_data.index]\n",
    "            current_data.index.name = 'datetime'\n",
    "\n",
    "            df = current_data.to_csv(header=False).strip('\\n').split('\\n')\n",
    "            data = '\\r\\n'.join(df)\n",
    "\n",
    "            output_filepath = output_path + date_str + \\\n",
    "                \"/\" + variable + \"/\" + id_point + \".csv\"\n",
    "            mkNestedDir(getPathFromFilepath(output_filepath))\n",
    "\n",
    "            try:\n",
    "                east = float(metadata[metadata['ID'] == int(id_point)]['lat'])\n",
    "                north = float(metadata[metadata['ID'] == int(id_point)]['lon'])\n",
    "                elevation = float(\n",
    "                    metadata[metadata['ID'] == int(id_point)]['elev'])\n",
    "            except:\n",
    "                print('No metadata: ' + id_point)\n",
    "                raise\n",
    "\n",
    "            with open(output_filepath, 'w') as new:\n",
    "                new.write(header.format(id=id_point,\n",
    "                                        x=east, y=north, z=elevation))\n",
    "                new.write(data)\n",
    "\n",
    "## TODO > precipitation_fct_table must be used!"
   ]
  }
 ],
 "metadata": {
  "language_info": {
   "name": "python"
  },
  "orig_nbformat": 4
 },
 "nbformat": 4,
 "nbformat_minor": 2
}
