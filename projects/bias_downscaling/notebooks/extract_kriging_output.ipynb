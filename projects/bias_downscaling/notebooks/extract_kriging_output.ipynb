{
 "cells": [
  {
   "cell_type": "code",
   "execution_count": 26,
   "metadata": {},
   "outputs": [],
   "source": [
    "import sys\n",
    "\n",
    "lib_dir = \"/home/daniele/documents/github/ftt01/phd/share/lib\"\n",
    "sys.path.insert( 0, lib_dir )"
   ]
  },
  {
   "cell_type": "code",
   "execution_count": 27,
   "metadata": {},
   "outputs": [],
   "source": [
    "from lib import *"
   ]
  },
  {
   "cell_type": "code",
   "execution_count": 28,
   "metadata": {},
   "outputs": [],
   "source": [
    "import psycopg2"
   ]
  },
  {
   "cell_type": "code",
   "execution_count": 70,
   "metadata": {},
   "outputs": [],
   "source": [
    "conn = psycopg2.connect(\n",
    "    host=\"IP.2\",\n",
    "    port=5432,\n",
    "    database=\"gis\",\n",
    "    user=\"docker\",\n",
    "    password=\"docker\")\n",
    "\n",
    "cur = conn.cursor()\n",
    "\n",
    "# cur.execute(\"\"\"INSERT INTO public.eu_it_taa_era5land_grid(\n",
    "# \tid, point)\n",
    "# \tVALUES (?, ?);\"\"\")\n",
    "\n",
    "# rows = cur.fetchall()\n",
    "\n",
    "# print(\"Show me the databases:\\n\")\n",
    "# for row in rows:\n",
    "#     print(\"   \", row)"
   ]
  },
  {
   "cell_type": "code",
   "execution_count": 30,
   "metadata": {},
   "outputs": [],
   "source": [
    "input_path = \"/media/windows/projects/bias_correction/data/meteo/era5/kriging/precipitation/tmp/\"\n",
    "output_path = input_path + \"biased/\"\n",
    "mkNestedDir( output_path )\n",
    "\n",
    "# variables = ['2m_temperature', 'surface_net_solar_radiation',\n",
    "#              'total_precipitation', 'relative_humidity']\n",
    "\n",
    "# lat_min = 45.00\n",
    "# lat_max = 47.50\n",
    "# lon_min = 9.80\n",
    "# lon_max = 13.00\n",
    "# basin = 'trentino_alto_adige'\n",
    "\n",
    "lat_min = 45.67\n",
    "lat_max = 47.07\n",
    "lon_min = 10.39\n",
    "lon_max = 12.39"
   ]
  },
  {
   "cell_type": "code",
   "execution_count": 31,
   "metadata": {},
   "outputs": [],
   "source": [
    "from eccodes import *\n",
    "import xarray as xr\n",
    "import dask as dd"
   ]
  },
  {
   "cell_type": "code",
   "execution_count": 32,
   "metadata": {},
   "outputs": [],
   "source": [
    "files_to_read = glob.glob(input_path + \"*.csv\")"
   ]
  },
  {
   "cell_type": "code",
   "execution_count": 33,
   "metadata": {},
   "outputs": [],
   "source": [
    "for f in files_to_read:\n",
    "\n",
    "    df = pd.read_csv(f, nrows=2)\n",
    "    "
   ]
  },
  {
   "cell_type": "code",
   "execution_count": 34,
   "metadata": {},
   "outputs": [],
   "source": [
    "df = df.T"
   ]
  },
  {
   "cell_type": "code",
   "execution_count": 35,
   "metadata": {},
   "outputs": [],
   "source": [
    "# SELECT id FROM grid_meta WHERE x=651000 AND y=5059000"
   ]
  },
  {
   "cell_type": "code",
   "execution_count": 42,
   "metadata": {},
   "outputs": [
    {
     "data": {
      "text/plain": [
       "Unnamed: 0    Easting\n",
       "V1             651000\n",
       "V2             652000\n",
       "V3             649000\n",
       "V4             650000\n",
       "               ...   \n",
       "V14369         745000\n",
       "V14370         746000\n",
       "V14371         742000\n",
       "V14372         743000\n",
       "V14373         744000\n",
       "Name: 0, Length: 14374, dtype: object"
      ]
     },
     "execution_count": 42,
     "metadata": {},
     "output_type": "execute_result"
    }
   ],
   "source": [
    "df[0]"
   ]
  },
  {
   "cell_type": "code",
   "execution_count": 48,
   "metadata": {},
   "outputs": [],
   "source": [
    "points = []\n",
    "\n",
    "for i in range(len(df)):\n",
    "    points.append( ( df.iloc[i][0],df.iloc[i][1] ) )"
   ]
  },
  {
   "cell_type": "code",
   "execution_count": 69,
   "metadata": {},
   "outputs": [],
   "source": [
    "cur.close()"
   ]
  },
  {
   "cell_type": "code",
   "execution_count": 90,
   "metadata": {},
   "outputs": [],
   "source": [
    "for el in points[1:]:\n",
    "    # print(\"\"\"INSERT INTO public.eu_it_taa_era5land(points) VALUES (ST_GeomFromText(\\'POINT({x} {y})\\', 32632));\"\"\".format(x=el[0], y=el[1]))\n",
    "    point = \"'POINT({x} {y})'\".format(x=el[0], y=el[1])\n",
    "    # print(point)\n",
    "    cur.execute(\"\"\"INSERT INTO public.eu_it_taa_era5land(points) VALUES (ST_GeomFromText({point}, 32632));\"\"\".format(point=point))\n",
    "    # cur.commit()"
   ]
  },
  {
   "cell_type": "code",
   "execution_count": 88,
   "metadata": {},
   "outputs": [],
   "source": [
    "curs = conn.cursor()\n",
    "curs.execute(\"ROLLBACK\")\n",
    "conn.commit()"
   ]
  },
  {
   "cell_type": "code",
   "execution_count": null,
   "metadata": {},
   "outputs": [],
   "source": []
  }
 ],
 "metadata": {
  "interpreter": {
   "hash": "916dbcbb3f70747c44a77c7bcd40155683ae19c65e1c03b4aa3499c5328201f1"
  },
  "kernelspec": {
   "display_name": "Python 3.8.10 64-bit",
   "language": "python",
   "name": "python3"
  },
  "language_info": {
   "codemirror_mode": {
    "name": "ipython",
    "version": 3
   },
   "file_extension": ".py",
   "mimetype": "text/x-python",
   "name": "python",
   "nbconvert_exporter": "python",
   "pygments_lexer": "ipython3",
   "version": "3.10.4"
  },
  "orig_nbformat": 4
 },
 "nbformat": 4,
 "nbformat_minor": 2
}
