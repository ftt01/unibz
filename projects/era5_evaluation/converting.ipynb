{
 "cells": [
  {
   "cell_type": "code",
   "execution_count": 1,
   "metadata": {},
   "outputs": [],
   "source": [
    "!rm -r ./bin/*"
   ]
  },
  {
   "cell_type": "code",
   "execution_count": 2,
   "metadata": {},
   "outputs": [
    {
     "name": "stdout",
     "output_type": "stream",
     "text": [
      "[NbConvertApp] Converting notebook ./notebook/meteo/alto_adige/precipitation/meteo_AA_precipitation_cells.ipynb to script\n",
      "[NbConvertApp] Writing 29250 bytes to bin/meteo/alto_adige/precipitation/meteo_AA_precipitation_cells.py\n",
      "[NbConvertApp] Converting notebook ./notebook/meteo/alto_adige/precipitation/meteo_AA_precipitation_lapserate.ipynb to script\n",
      "[NbConvertApp] Writing 9204 bytes to bin/meteo/alto_adige/precipitation/meteo_AA_precipitation_lapserate.py\n",
      "[NbConvertApp] Converting notebook ./notebook/meteo/alto_adige/temperature/meteo_AA_temperature_cells.ipynb to script\n",
      "[NbConvertApp] Writing 20475 bytes to bin/meteo/alto_adige/temperature/meteo_AA_temperature_cells.py\n",
      "[NbConvertApp] Converting notebook ./notebook/meteo/alto_adige/meteo_AA_weather_stations.ipynb to script\n",
      "[NbConvertApp] Writing 2748 bytes to bin/meteo/alto_adige/meteo_AA_weather_stations.py\n"
     ]
    }
   ],
   "source": [
    "!jupyter nbconvert --output-dir='./bin/meteo/alto_adige/precipitation/' --to script ./notebook/meteo/alto_adige/precipitation/meteo_AA_precipitation_cells.ipynb\n",
    "!jupyter nbconvert --output-dir='./bin/meteo/alto_adige/precipitation/' --to script ./notebook/meteo/alto_adige/precipitation/meteo_AA_precipitation_lapserate.ipynb\n",
    "!jupyter nbconvert --output-dir='./bin/meteo/alto_adige/temperature/' --to script ./notebook/meteo/alto_adige/temperature/meteo_AA_temperature_cells.ipynb\n",
    "!jupyter nbconvert --output-dir='./bin/meteo/alto_adige/' --to script ./notebook/meteo/alto_adige/meteo_AA_weather_stations.ipynb"
   ]
  },
  {
   "cell_type": "code",
   "execution_count": 3,
   "metadata": {},
   "outputs": [
    {
     "name": "stdout",
     "output_type": "stream",
     "text": [
      "[NbConvertApp] Converting notebook ./notebook/meteo/passirio/precipitation/meteo_passirio_precipitation_cells.ipynb to script\n",
      "[NbConvertApp] Writing 12420 bytes to bin/meteo/passirio/precipitation/meteo_passirio_precipitation_cells.py\n",
      "[NbConvertApp] Converting notebook ./notebook/meteo/passirio/precipitation/meteo_passirio_precipitation_lapserate.ipynb to script\n",
      "[NbConvertApp] Writing 8236 bytes to bin/meteo/passirio/precipitation/meteo_passirio_precipitation_lapserate.py\n"
     ]
    }
   ],
   "source": [
    "!jupyter nbconvert --output-dir='./bin/meteo/passirio/precipitation/' --to script ./notebook/meteo/passirio/precipitation/meteo_passirio_precipitation_cells.ipynb\n",
    "!jupyter nbconvert --output-dir='./bin//meteo/passirio/precipitation/' --to script ./notebook/meteo/passirio/precipitation/meteo_passirio_precipitation_lapserate.ipynb"
   ]
  },
  {
   "cell_type": "code",
   "execution_count": 4,
   "metadata": {},
   "outputs": [
    {
     "name": "stdout",
     "output_type": "stream",
     "text": [
      "[NbConvertApp] Converting notebook ./notebook/model/passirio/precipitation/model_passirio_precipitation.ipynb to script\n",
      "[NbConvertApp] Writing 11974 bytes to bin/model/passirio/precipitation/model_passirio_precipitation.py\n",
      "[NbConvertApp] Converting notebook ./notebook/model/passirio/temperature/model_passirio_temperature.ipynb to script\n",
      "[NbConvertApp] Writing 9267 bytes to bin/model/passirio/temperature/model_passirio_temperature.py\n"
     ]
    }
   ],
   "source": [
    "!jupyter nbconvert --output-dir='./bin/model/passirio/precipitation/' --to script ./notebook/model/passirio/precipitation/model_passirio_precipitation.ipynb\n",
    "!jupyter nbconvert --output-dir='./bin/model/passirio/temperature/' --to script ./notebook/model/passirio/temperature/model_passirio_temperature.ipynb"
   ]
  },
  {
   "cell_type": "code",
   "execution_count": 5,
   "metadata": {},
   "outputs": [],
   "source": [
    "# !jupyter nbconvert --output-dir='./bin/meteo/plan/precipitation/' --to script ./notebook/meteo/plan/precipitation/meteo_plan_precipitation_cells.ipynb\n",
    "# !jupyter nbconvert --output-dir='./bin/model/plan/precipitation/' --to script ./notebook/model/plan/precipitation/model_plan_precipitation.ipynb\n",
    "# !jupyter nbconvert --output-dir='./bin/meteo/plan/temperature/' --to script ./notebook/meteo/plan/temperature/meteo_plan_temperature_cells.ipynb"
   ]
  },
  {
   "cell_type": "code",
   "execution_count": 6,
   "metadata": {},
   "outputs": [],
   "source": [
    "### MODEL ###"
   ]
  },
  {
   "cell_type": "code",
   "execution_count": 1,
   "metadata": {},
   "outputs": [
    {
     "name": "stdout",
     "output_type": "stream",
     "text": [
      "[NbConvertApp] Converting notebook ./notebook/model/passirio/streamflow/model_passirio_merano_merano_hydrograph_kr_kr11_rea_obs.ipynb to script\n",
      "[NbConvertApp] Writing 39645 bytes to bin/model/passirio/streamflow/model_passirio_merano_merano_hydrograph_kr_kr11_rea_obs.py\n",
      "[NbConvertApp] Converting notebook ./notebook/model/passirio/streamflow/model_passirio_merano_merano_hydrograph_kr_kr11_rea_obs_insection.ipynb to script\n",
      "[NbConvertApp] Writing 5585 bytes to bin/model/passirio/streamflow/model_passirio_merano_merano_hydrograph_kr_kr11_rea_obs_insection.py\n",
      "[NbConvertApp] Converting notebook ./notebook/model/passirio/streamflow/model_passirio_merano_merano_qqplot_kr_kr11_rea_obs.ipynb to script\n",
      "[NbConvertApp] Writing 10754 bytes to bin/model/passirio/streamflow/model_passirio_merano_merano_qqplot_kr_kr11_rea_obs.py\n"
     ]
    }
   ],
   "source": [
    "!jupyter nbconvert --output-dir='./bin/model/passirio/streamflow/' --to script ./notebook/model/passirio/streamflow/model_passirio_merano_merano_hydrograph_kr_kr11_rea_obs.ipynb\n",
    "!jupyter nbconvert --output-dir='./bin/model/passirio/streamflow/' --to script ./notebook/model/passirio/streamflow/model_passirio_merano_merano_hydrograph_kr_kr11_rea_obs_insection.ipynb\n",
    "!jupyter nbconvert --output-dir='./bin/model/passirio/streamflow/' --to script ./notebook/model/passirio/streamflow/model_passirio_merano_merano_qqplot_kr_kr11_rea_obs.ipynb"
   ]
  },
  {
   "cell_type": "code",
   "execution_count": 8,
   "metadata": {},
   "outputs": [
    {
     "name": "stdout",
     "output_type": "stream",
     "text": [
      "[NbConvertApp] Converting notebook ./notebook/model/passirio/streamflow/model_passirio_plan_plan_hydrograph_kr_kr11_rea_obs.ipynb to script\n",
      "[NbConvertApp] Writing 40880 bytes to bin/model/passirio/streamflow/model_passirio_plan_plan_hydrograph_kr_kr11_rea_obs.py\n",
      "[NbConvertApp] Converting notebook ./notebook/model/passirio/streamflow/model_passirio_plan_plan_hydrograph_kr_kr11_rea_obs_insection.ipynb to script\n",
      "[NbConvertApp] Writing 5568 bytes to bin/model/passirio/streamflow/model_passirio_plan_plan_hydrograph_kr_kr11_rea_obs_insection.py\n",
      "[NbConvertApp] Converting notebook ./notebook/model/passirio/streamflow/model_passirio_plan_plan_qqplot_kr_kr11_rea_obs.ipynb to script\n",
      "[NbConvertApp] Writing 10730 bytes to bin/model/passirio/streamflow/model_passirio_plan_plan_qqplot_kr_kr11_rea_obs.py\n"
     ]
    }
   ],
   "source": [
    "!jupyter nbconvert --output-dir='./bin/model/passirio/streamflow/' --to script ./notebook/model/passirio/streamflow/model_passirio_plan_plan_hydrograph_kr_kr11_rea_obs.ipynb\n",
    "!jupyter nbconvert --output-dir='./bin/model/passirio/streamflow/' --to script ./notebook/model/passirio/streamflow/model_passirio_plan_plan_hydrograph_kr_kr11_rea_obs_insection.ipynb\n",
    "!jupyter nbconvert --output-dir='./bin/model/passirio/streamflow/' --to script ./notebook/model/passirio/streamflow/model_passirio_plan_plan_qqplot_kr_kr11_rea_obs.ipynb"
   ]
  },
  {
   "cell_type": "code",
   "execution_count": 9,
   "metadata": {},
   "outputs": [
    {
     "name": "stdout",
     "output_type": "stream",
     "text": [
      "[NbConvertApp] Converting notebook ./notebook/model/passirio/streamflow/model_passirio_merano_plan_hydrograph_kr_kr11_rea_obs.ipynb to script\n",
      "[NbConvertApp] Writing 34809 bytes to bin/model/passirio/streamflow/model_passirio_merano_plan_hydrograph_kr_kr11_rea_obs.py\n"
     ]
    }
   ],
   "source": [
    "!jupyter nbconvert --output-dir='./bin/model/passirio/streamflow/' --to script ./notebook/model/passirio/streamflow/model_passirio_merano_plan_hydrograph_kr_kr11_rea_obs.ipynb"
   ]
  },
  {
   "cell_type": "code",
   "execution_count": 1,
   "metadata": {},
   "outputs": [
    {
     "name": "stdout",
     "output_type": "stream",
     "text": [
      "[NbConvertApp] Converting notebook ./notebook/model/passirio/snow/model_passirio_sca.ipynb to script\n",
      "[NbConvertApp] Writing 7575 bytes to bin/model/passirio/snow/model_passirio_sca.py\n",
      "[NbConvertApp] Converting notebook ./notebook/model/passirio/snow/model_passirio_swe.ipynb to script\n",
      "[NbConvertApp] Writing 5847 bytes to bin/model/passirio/snow/model_passirio_swe.py\n",
      "[NbConvertApp] Converting notebook ./notebook/model/passirio/snow/model_plan_swe.ipynb to script\n",
      "[NbConvertApp] Writing 5789 bytes to bin/model/passirio/snow/model_plan_swe.py\n",
      "[NbConvertApp] Converting notebook ./notebook/model/passirio/snow/model_swe_local.ipynb to script\n",
      "[NbConvertApp] Writing 19187 bytes to bin/model/passirio/snow/model_swe_local.py\n"
     ]
    }
   ],
   "source": [
    "!jupyter nbconvert --output-dir='./bin/model/passirio/snow/' --to script ./notebook/model/passirio/snow/model_passirio_sca.ipynb\n",
    "!jupyter nbconvert --output-dir='./bin/model/passirio/snow/' --to script ./notebook/model/passirio/snow/model_passirio_swe.ipynb\n",
    "!jupyter nbconvert --output-dir='./bin/model/passirio/snow/' --to script ./notebook/model/passirio/snow/model_plan_swe.ipynb\n",
    "!jupyter nbconvert --output-dir='./bin/model/passirio/snow/' --to script ./notebook/model/passirio/snow/model_swe_local.ipynb"
   ]
  },
  {
   "cell_type": "code",
   "execution_count": 10,
   "metadata": {},
   "outputs": [],
   "source": [
    "# !jupyter nbconvert --output-dir='./bin/streamflow/' --to script ./notebook/model/passirio/streamflow/model_passirio_merano_boxplot_streamflow_bias_kr11-kr.ipynb\n",
    "# !jupyter nbconvert --output-dir='./bin/streamflow/' --to script ./notebook/model/passirio/streamflow/model_passirio_merano_boxplot_streamflow_bias_rea-kr.ipynb\n",
    "# !jupyter nbconvert --output-dir='./bin/streamflow/' --to script ./notebook/model/passirio/streamflow/model_passirio_merano_boxplot_streamflow_bias_rea-kr11.ipynb\n",
    "# !jupyter nbconvert --output-dir='./bin/streamflow/' --to script ./notebook/model/passirio/streamflow/model_passirio_merano_ECDF_streamflow_kr_kr11_rea_obs.ipynb\n",
    "# !jupyter nbconvert --output-dir='./bin/streamflow/' --to script ./notebook/model/passirio/streamflow/model_passirio_merano_ECDF_streamflow_kr_kr11_rea_obs_insected.ipynb"
   ]
  },
  {
   "cell_type": "code",
   "execution_count": 11,
   "metadata": {},
   "outputs": [],
   "source": [
    "# !jupyter nbconvert --output-dir='./bin/streamflow/' --to script ./notebook/model/passirio/streamflow/model_passirio_plan_ECDF_streamflow_kr_kr11_rea_obs.ipynb\n",
    "# !jupyter nbconvert --output-dir='./bin/streamflow/' --to script ./notebook/model/passirio/streamflow/model_passirio_plan_ECDF_streamflow_kr_kr11_rea_obs_insected.ipynb\n",
    "# !jupyter nbconvert --output-dir='./bin/streamflow/' --to script ./notebook/model/passirio/streamflow/model_passirio_plan_boxplot_streamflow_bias_rea-kr11.ipynb"
   ]
  },
  {
   "cell_type": "code",
   "execution_count": 12,
   "metadata": {},
   "outputs": [],
   "source": [
    "# !jupyter nbconvert --output-dir='./bin/streamflow/' --to script ./notebook/streamflow/model_passirio_merano_merano_hydrograph_kr_obs.ipynb\n",
    "# !jupyter nbconvert --output-dir='./bin/streamflow/' --to script ./notebook/streamflow/model_passirio_merano_merano_hydrograph_kr11_obs.ipynb\n",
    "# !jupyter nbconvert --output-dir='./bin/streamflow/' --to script ./notebook/streamflow/model_passirio_merano_merano_hydrograph_rea_obs.ipynb"
   ]
  },
  {
   "cell_type": "code",
   "execution_count": 13,
   "metadata": {},
   "outputs": [],
   "source": [
    "# !jupyter nbconvert --output-dir='./bin/streamflow/' --to script ./notebook/streamflow/model_passirio_merano_plan_hydrograph_kr_obs.ipynb\n",
    "# !jupyter nbconvert --output-dir='./bin/streamflow/' --to script ./notebook/streamflow/model_passirio_merano_plan_hydrograph_kr11_obs.ipynb\n",
    "# !jupyter nbconvert --output-dir='./bin/streamflow/' --to script ./notebook/streamflow/model_passirio_merano_plan_hydrograph_rea_obs.ipynb "
   ]
  },
  {
   "cell_type": "code",
   "execution_count": 14,
   "metadata": {},
   "outputs": [],
   "source": [
    "# !jupyter nbconvert --output-dir='./bin/streamflow/' --to script ./notebook/streamflow/model_passirio_plan_plan_hydrograph_kr_obs.ipynb\n",
    "# !jupyter nbconvert --output-dir='./bin/streamflow/' --to script ./notebook/streamflow/model_passirio_plan_plan_hydrograph_kr11_obs.ipynb\n",
    "# !jupyter nbconvert --output-dir='./bin/streamflow/' --to script ./notebook/streamflow/model_passirio_plan_plan_hydrograph_rea_obs.ipynb"
   ]
  },
  {
   "cell_type": "code",
   "execution_count": 15,
   "metadata": {},
   "outputs": [],
   "source": []
  }
 ],
 "metadata": {
  "interpreter": {
   "hash": "31f2aee4e71d21fbe5cf8b01ff0e069b9275f58929596ceb00d14d90e3e16cd6"
  },
  "kernelspec": {
   "display_name": "Python 3.8.10 64-bit",
   "name": "python3"
  },
  "language_info": {
   "codemirror_mode": {
    "name": "ipython",
    "version": 3
   },
   "file_extension": ".py",
   "mimetype": "text/x-python",
   "name": "python",
   "nbconvert_exporter": "python",
   "pygments_lexer": "ipython3",
   "version": "3.10.6"
  },
  "orig_nbformat": 4
 },
 "nbformat": 4,
 "nbformat_minor": 2
}
