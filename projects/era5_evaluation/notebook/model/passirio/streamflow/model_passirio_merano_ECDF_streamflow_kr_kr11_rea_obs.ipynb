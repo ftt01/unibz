{
 "cells": [
  {
   "cell_type": "code",
   "execution_count": null,
   "metadata": {},
   "outputs": [],
   "source": [
    "import sys\n",
    "\n",
    "lib_dir = \"/home/daniele/documents/github/ftt01/phd/share/lib\"\n",
    "sys.path.insert(0, lib_dir)"
   ]
  },
  {
   "cell_type": "code",
   "execution_count": null,
   "metadata": {},
   "outputs": [],
   "source": [
    "from lib import *"
   ]
  },
  {
   "cell_type": "code",
   "execution_count": 1,
   "metadata": {},
   "outputs": [],
   "source": [
    "wdir = \"/home/daniele/documents/github/ftt01/phd/projects/era5_evaluation/\"\n",
    "current = DataCollector(configPath=wdir + \"etc/conf/\")"
   ]
  },
  {
   "cell_type": "code",
   "execution_count": 3,
   "metadata": {},
   "outputs": [],
   "source": [
    "### simulation selection #############################################################################\n",
    "\n",
    "kriging_data_calibration = DataCollector(configPath=wdir + \"etc/conf/\")\n",
    "\n",
    "current_phase = \"calibration_best_merano\"\n",
    "current_basin = \"passirio\"\n",
    "current_type = \"kriging\"\n",
    "current_node = \"merano\"\n",
    "\n",
    "kriging_data_calibration.retrieveData(current_phase, current_basin, current_type, current_node)\n",
    "\n",
    "### end simulation selection ##########################################################################\n",
    "### simulation selection #############################################################################\n",
    "\n",
    "kriging_data_validation = DataCollector(configPath=wdir + \"etc/conf/\")\n",
    "\n",
    "current_phase = \"validation_best_merano\"\n",
    "current_basin = \"passirio\"\n",
    "current_type = \"kriging\"\n",
    "current_node = \"merano\"\n",
    "\n",
    "kriging_data_validation.retrieveData(current_phase, current_basin, current_type, current_node)\n",
    "\n",
    "### end simulation selection ##########################################################################\n",
    "kriging_data = pd.concat( [kriging_data_calibration.model_flow, kriging_data_validation.model_flow] )\n",
    "\n",
    "obs_data = pd.concat( [kriging_data_calibration.obs_flow, kriging_data_validation.obs_flow] )"
   ]
  },
  {
   "cell_type": "code",
   "execution_count": 4,
   "metadata": {},
   "outputs": [],
   "source": [
    "### simulation selection #############################################################################\n",
    "\n",
    "kriging_11_data_calibration = DataCollector(configPath=wdir + \"etc/conf/\")\n",
    "\n",
    "current_phase = \"calibration_best_merano\"\n",
    "current_basin = \"passirio\"\n",
    "current_type = \"kriging_11\"\n",
    "current_node = \"merano\"\n",
    "\n",
    "kriging_11_data_calibration.retrieveData(current_phase, current_basin, current_type, current_node)\n",
    "\n",
    "### end simulation selection ##########################################################################\n",
    "### simulation selection #############################################################################\n",
    "\n",
    "kriging_11_data_validation = DataCollector(configPath=wdir + \"etc/conf/\")\n",
    "\n",
    "current_phase = \"validation_best_merano\"\n",
    "current_basin = \"passirio\"\n",
    "current_type = \"kriging_11\"\n",
    "current_node = \"merano\"\n",
    "\n",
    "kriging_11_data_validation.retrieveData(current_phase, current_basin, current_type, current_node)\n",
    "\n",
    "### end simulation selection ##########################################################################\n",
    "kriging_11_data = pd.concat( [kriging_11_data_calibration.model_flow, kriging_11_data_validation.model_flow] )"
   ]
  },
  {
   "cell_type": "code",
   "execution_count": 5,
   "metadata": {},
   "outputs": [],
   "source": [
    "### simulation selection #############################################################################\n",
    "\n",
    "reanalysis_data_calibration = DataCollector(configPath=wdir + \"etc/conf/\")\n",
    "\n",
    "current_phase = \"calibration_best_merano\"\n",
    "current_basin = \"passirio\"\n",
    "current_type = \"reanalysis\"\n",
    "current_node = \"merano\"\n",
    "\n",
    "reanalysis_data_calibration.retrieveData(current_phase, current_basin, current_type, current_node)\n",
    "\n",
    "### end simulation selection ##########################################################################\n",
    "### simulation selection #############################################################################\n",
    "\n",
    "reanalysis_data_validation = DataCollector(configPath=wdir + \"etc/conf/\")\n",
    "\n",
    "current_phase = \"validation_best_merano\"\n",
    "current_basin = \"passirio\"\n",
    "current_type = \"reanalysis\"\n",
    "current_node = \"merano\"\n",
    "\n",
    "reanalysis_data_validation.retrieveData(current_phase, current_basin, current_type, current_node)\n",
    "\n",
    "### end simulation selection ##########################################################################\n",
    "reanalysis_data = pd.concat( [reanalysis_data_calibration.model_flow, reanalysis_data_validation.model_flow] )"
   ]
  },
  {
   "cell_type": "code",
   "execution_count": 6,
   "metadata": {},
   "outputs": [],
   "source": [
    "kriging_data_daily_mean =  kriging_data.resample('D').mean()\n",
    "ecdf_kriging_flow_daily_mean = evaluateECDF( kriging_data_daily_mean )\n",
    "\n",
    "obs_data_daily_mean =  obs_data.resample('D').mean()\n",
    "ecdf_obs_flow_daily_mean = evaluateECDF( obs_data_daily_mean )\n",
    "\n",
    "kriging_11_data_daily_mean =  kriging_11_data.resample('D').mean()\n",
    "ecdf_kriging_11_flow_daily_mean = evaluateECDF( kriging_11_data_daily_mean )\n",
    "\n",
    "reanalysis_data_daily_mean =  reanalysis_data.resample('D').mean()\n",
    "ecdf_reanalysis_flow_daily_mean = evaluateECDF( reanalysis_data_daily_mean )\n",
    "\n",
    "plots = []\n",
    "\n",
    "### rea 11x8 plot ###\n",
    "plt_conf = {}\n",
    "plt_conf[\"label\"] = 'REA11x8'\n",
    "plt_conf[\"color\"] = '#e66101'\n",
    "plots.append( (ecdf_reanalysis_flow_daily_mean, plt_conf) )\n",
    "\n",
    "### kriging 1x1 plot ###\n",
    "plt_conf = {}\n",
    "plt_conf[\"label\"] = 'KR1x1'\n",
    "plt_conf[\"color\"] = '#8078bc'\n",
    "plots.append( (ecdf_kriging_flow_daily_mean, plt_conf) )\n",
    "\n",
    "### kriging 11x8 plot ###\n",
    "plt_conf = {}\n",
    "plt_conf[\"label\"] = 'KR11x8'\n",
    "plt_conf[\"color\"] = '#5e3c99'\n",
    "plots.append( (ecdf_kriging_11_flow_daily_mean, plt_conf) )\n",
    "\n",
    "### obs plot ###\n",
    "plt_conf = {}\n",
    "plt_conf[\"label\"] = 'Observed'\n",
    "plt_conf[\"color\"] = '#fdb863'\n",
    "plots.append( (ecdf_obs_flow_daily_mean, plt_conf) )"
   ]
  },
  {
   "cell_type": "code",
   "execution_count": 7,
   "metadata": {},
   "outputs": [],
   "source": [
    "kr_rea_output_file = current.config[\"output_path\"] + \"model/streamflow/passirio/daily/\" + \"model_streamflow_passirio_merano_daily_ECDF_kr_rea_kr11_obs.\" + output_format\n",
    "createPlot(plots,  \"Streamflow $[m^3/day]$\", \"ECDF\",\n",
    "           kr_rea_output_file, output_format=output_format, my_dpi=50)\n",
    "\n",
    "kr_rea_output_file_log = current.config[\"output_path\"] + \"model/streamflow/passirio/daily/\" + \"model_streamflow_passirio_merano_daily_ECDF_kr_rea_kr11_obs_log.\" + output_format\n",
    "createPlot(plots,  \"Streamflow $[m^3/day]$\", \"ECDF\",\n",
    "           kr_rea_output_file_log, output_format=output_format, xscale='log', my_dpi=50)\n",
    "\n",
    "kr_rea_output_file_hd = current.config[\"output_path\"] +\"model/streamflow/passirio/daily/\" + \"model_streamflow_passirio_merano_daily_ECDF_kr_rea_kr11_obs_HD.\" + output_format\n",
    "createPlot(plots,  \"Streamflow $[m^3/day]$\", \"ECDF\",\n",
    "           kr_rea_output_file_hd, output_format=output_format, my_dpi=600)\n",
    "\n",
    "kr_rea_output_file_log_hd = current.config[\"output_path\"] + \"model/streamflow/passirio/daily/\" + \"model_streamflow_passirio_merano_daily_ECDF_kr_rea_kr11_obs_HD_log.\" + output_format\n",
    "createPlot(plots,  \"Streamflow $[m^3/day]$\", \"ECDF\",\n",
    "           kr_rea_output_file_log_hd, output_format=output_format, xscale='log', my_dpi=600)"
   ]
  }
 ],
 "metadata": {
  "kernelspec": {
   "display_name": "Python 3.10.6 64-bit",
   "language": "python",
   "name": "python3"
  },
  "language_info": {
   "codemirror_mode": {
    "name": "ipython",
    "version": 3
   },
   "file_extension": ".py",
   "mimetype": "text/x-python",
   "name": "python",
   "nbconvert_exporter": "python",
   "pygments_lexer": "ipython3",
   "version": "3.10.6"
  },
  "metadata": {
   "interpreter": {
    "hash": "63d5e5d3ef3ec13453f007c86728ea82bf14ea96ebb0a2fb9c639ae49af1dbf7"
   }
  },
  "orig_nbformat": 2,
  "vscode": {
   "interpreter": {
    "hash": "916dbcbb3f70747c44a77c7bcd40155683ae19c65e1c03b4aa3499c5328201f1"
   }
  }
 },
 "nbformat": 4,
 "nbformat_minor": 2
}
