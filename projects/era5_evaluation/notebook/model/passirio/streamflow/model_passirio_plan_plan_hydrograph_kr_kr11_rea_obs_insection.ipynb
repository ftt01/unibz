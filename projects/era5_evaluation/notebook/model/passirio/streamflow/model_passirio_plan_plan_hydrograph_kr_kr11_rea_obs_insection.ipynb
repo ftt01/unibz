{
 "cells": [
  {
   "cell_type": "code",
   "execution_count": 1,
   "metadata": {},
   "outputs": [],
   "source": [
    "import sys\n",
    "\n",
    "lib_dir = \"/home/daniele/documents/github/ftt01/phd/share/lib\"\n",
    "sys.path.insert(0, lib_dir)"
   ]
  },
  {
   "cell_type": "code",
   "execution_count": null,
   "metadata": {},
   "outputs": [],
   "source": [
    "from lib import *"
   ]
  },
  {
   "cell_type": "code",
   "execution_count": 2,
   "metadata": {},
   "outputs": [],
   "source": [
    "wdir = \"/home/daniele/documents/github/ftt01/phd/projects/era5_evaluation/\"\n",
    "current = DataCollector(configPath=wdir + \"etc/conf/\")"
   ]
  },
  {
   "cell_type": "code",
   "execution_count": 3,
   "metadata": {},
   "outputs": [],
   "source": [
    "### simulation selection #############################################################################\n",
    "\n",
    "kriging_data_calibration = DataCollector(configPath=wdir + \"etc/conf/\")\n",
    "\n",
    "current_phase = \"calibration_best_plan\"\n",
    "current_basin = \"passirio\"\n",
    "current_type = \"kriging\"\n",
    "current_node = \"plan\"\n",
    "\n",
    "kriging_data_calibration.retrieveData(current_phase, current_basin, current_type, current_node)\n",
    "\n",
    "### end simulation selection ##########################################################################\n",
    "### simulation selection #############################################################################\n",
    "\n",
    "kriging_data_validation = DataCollector(configPath=wdir + \"etc/conf/\")\n",
    "\n",
    "current_phase = \"validation_best_plan\"\n",
    "current_basin = \"passirio\"\n",
    "current_type = \"kriging\"\n",
    "current_node = \"plan\"\n",
    "\n",
    "kriging_data_validation.retrieveData(current_phase, current_basin, current_type, current_node)\n",
    "\n",
    "### end simulation selection ##########################################################################\n",
    "kriging_data = pd.concat( [kriging_data_calibration.model_flow, kriging_data_validation.model_flow] )"
   ]
  },
  {
   "cell_type": "code",
   "execution_count": 4,
   "metadata": {},
   "outputs": [],
   "source": [
    "### simulation selection #############################################################################\n",
    "\n",
    "kriging_11_data_calibration = DataCollector(configPath=wdir + \"etc/conf/\")\n",
    "\n",
    "current_phase = \"calibration_best_plan\"\n",
    "current_basin = \"passirio\"\n",
    "current_type = \"kriging_11\"\n",
    "current_node = \"plan\"\n",
    "\n",
    "kriging_11_data_calibration.retrieveData(current_phase, current_basin, current_type, current_node)\n",
    "\n",
    "### end simulation selection ##########################################################################\n",
    "### simulation selection #############################################################################\n",
    "\n",
    "kriging_11_data_validation = DataCollector(configPath=wdir + \"etc/conf/\")\n",
    "\n",
    "current_phase = \"validation_best_plan\"\n",
    "current_basin = \"passirio\"\n",
    "current_type = \"kriging_11\"\n",
    "current_node = \"plan\"\n",
    "\n",
    "kriging_11_data_validation.retrieveData(current_phase, current_basin, current_type, current_node)\n",
    "\n",
    "### end simulation selection ##########################################################################\n",
    "kriging_11_data = pd.concat( [kriging_11_data_calibration.model_flow, kriging_11_data_validation.model_flow] )"
   ]
  },
  {
   "cell_type": "code",
   "execution_count": 5,
   "metadata": {},
   "outputs": [],
   "source": [
    "### simulation selection #############################################################################\n",
    "\n",
    "rea_data_calibration = DataCollector(configPath=wdir + \"etc/conf/\")\n",
    "\n",
    "current_phase = \"calibration_best_plan\"\n",
    "current_basin = \"passirio\"\n",
    "current_type = \"reanalysis\"\n",
    "current_node = \"plan\"\n",
    "\n",
    "rea_data_calibration.retrieveData(current_phase, current_basin, current_type, current_node)\n",
    "\n",
    "### end simulation selection ##########################################################################\n",
    "### simulation selection #############################################################################\n",
    "\n",
    "rea_data_validation = DataCollector(configPath=wdir + \"etc/conf/\")\n",
    "\n",
    "current_phase = \"validation_best_plan\"\n",
    "current_basin = \"passirio\"\n",
    "current_type = \"reanalysis\"\n",
    "current_node = \"plan\"\n",
    "\n",
    "rea_data_validation.retrieveData(current_phase, current_basin, current_type, current_node)\n",
    "\n",
    "### end simulation selection ##########################################################################\n",
    "rea_data = pd.concat( [rea_data_calibration.model_flow, rea_data_validation.model_flow] )"
   ]
  },
  {
   "cell_type": "code",
   "execution_count": 6,
   "metadata": {},
   "outputs": [],
   "source": [
    "obs_data = pd.concat( [kriging_data_calibration.obs_flow, kriging_data_validation.obs_flow] )"
   ]
  },
  {
   "cell_type": "code",
   "execution_count": 7,
   "metadata": {},
   "outputs": [],
   "source": [
    "from datetime import datetime\n",
    "start_date_str = \"2015-10-01T01:00:00\"\n",
    "end_date_str = \"2016-09-30T23:00:00\"\n",
    "start_date = datetime.strptime(start_date_str, '%Y-%m-%dT%H:%M:%S')\n",
    "end_date = datetime.strptime(end_date_str, '%Y-%m-%dT%H:%M:%S')\n",
    "\n",
    "plots = []\n",
    "\n",
    "### obs plot ###\n",
    "plt_conf = {}\n",
    "plt_conf[\"label\"] = 'Observed'\n",
    "plt_conf[\"color\"] = '#fdb863'\n",
    "plots.append( (obs_data[start_date:end_date], plt_conf) )\n",
    "\n",
    "### rea 11x8 plot ###\n",
    "plt_conf = {}\n",
    "plt_conf[\"label\"] = 'REA11x8'\n",
    "plt_conf[\"color\"] = '#e66101'\n",
    "plots.append( (rea_data[start_date:end_date], plt_conf) )\n",
    "\n",
    "### kriging 1x1 plot ###\n",
    "plt_conf = {}\n",
    "plt_conf[\"label\"] = 'KR1x1'\n",
    "plt_conf[\"color\"] = '#8078bc'\n",
    "plots.append( (kriging_data[start_date:end_date], plt_conf) )\n",
    "\n",
    "### kriging 11x8 plot ###\n",
    "plt_conf = {}\n",
    "plt_conf[\"label\"] = 'KR11x8'\n",
    "plt_conf[\"color\"] = '#5e3c99'\n",
    "plots.append( (kriging_11_data[start_date:end_date], plt_conf) )\n",
    "\n",
    "import matplotlib.dates as mdates\n",
    "x_major_locator=mdates.YearLocator(month=10, day=1)\n",
    "x_major_formatter=mdates.DateFormatter('%Y-%m')"
   ]
  },
  {
   "cell_type": "code",
   "execution_count": 8,
   "metadata": {},
   "outputs": [],
   "source": [
    "outfile_hd = current.config[\"output_path\"] + \"model/streamflow/passirio/hourly/plan_plan/\" + \"model_streamflow_passirio_plan_hourly_hydrograph_kr_kr11_rea_obs_20152016_hd_insection.\" + output_format\n",
    "createPlot( plots, \"Time $[hour]$\", \"Streamflow $[m^3/hour]$\", outfile_hd, \\\n",
    "    x_major_locator=x_major_locator, x_major_formatter=x_major_formatter, scale_factor=0.6, my_dpi=600, height=80 )\n",
    "\n",
    "outfile = current.config[\"output_path\"] + \"model/streamflow/passirio/hourly/plan_plan/\" + \"model_streamflow_passirio_plan_hourly_hydrograph_kr_kr11_rea_20152016_obs_insection.\" + output_format\n",
    "createPlot( plots, \"Time $[hour]$\", \"Streamflow $[m^3/hour]$\", outfile, \\\n",
    "    x_major_locator=x_major_locator, x_major_formatter=x_major_formatter, scale_factor=0.6, my_dpi=50, height=80 )"
   ]
  }
 ],
 "metadata": {
  "kernelspec": {
   "display_name": "Python 3",
   "language": "python",
   "name": "python3"
  },
  "language_info": {
   "codemirror_mode": {
    "name": "ipython",
    "version": 3
   },
   "file_extension": ".py",
   "mimetype": "text/x-python",
   "name": "python",
   "nbconvert_exporter": "python",
   "pygments_lexer": "ipython3",
   "version": "3.10.6"
  },
  "metadata": {
   "interpreter": {
    "hash": "63d5e5d3ef3ec13453f007c86728ea82bf14ea96ebb0a2fb9c639ae49af1dbf7"
   }
  },
  "orig_nbformat": 2,
  "vscode": {
   "interpreter": {
    "hash": "916dbcbb3f70747c44a77c7bcd40155683ae19c65e1c03b4aa3499c5328201f1"
   }
  }
 },
 "nbformat": 4,
 "nbformat_minor": 2
}
