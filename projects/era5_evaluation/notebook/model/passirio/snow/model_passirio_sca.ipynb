{
 "cells": [
  {
   "cell_type": "code",
   "execution_count": null,
   "metadata": {},
   "outputs": [],
   "source": [
    "import sys\n",
    "\n",
    "lib_dir = \"/home/daniele/documents/github/ftt01/phd/share/lib\"\n",
    "sys.path.insert(0, lib_dir)"
   ]
  },
  {
   "cell_type": "code",
   "execution_count": null,
   "metadata": {},
   "outputs": [],
   "source": [
    "from lib import *"
   ]
  },
  {
   "cell_type": "code",
   "execution_count": null,
   "metadata": {},
   "outputs": [],
   "source": [
    "wdir = \"/home/daniele/documents/github/ftt01/phd/projects/era5_evaluation/\"\n",
    "current = DataCollector(configPath=wdir + \"etc/conf/\")"
   ]
  },
  {
   "cell_type": "code",
   "execution_count": null,
   "metadata": {},
   "outputs": [],
   "source": [
    "## OBSERVED ##\n",
    "fileName_obs = \"/media/windows/projects/era5_bias/00_data/vectorial_data/MODIS_SCA.txt\"\n",
    "\n",
    "df_obs = pd.read_csv(fileName_obs, header=0, index_col=0, parse_dates=True, delimiter=r\"\\s+\")\n",
    "df_obs_series = df_obs['SCA']"
   ]
  },
  {
   "cell_type": "code",
   "execution_count": null,
   "metadata": {},
   "outputs": [],
   "source": [
    "### simulation selection #############################################################################\n",
    "\n",
    "kriging_data = DataCollector(configPath=wdir + \"etc/conf/\")\n",
    "\n",
    "current_phase = \"best_merano_cal_val\"\n",
    "current_basin = \"passirio\"\n",
    "current_type = \"kriging\"\n",
    "current_node = \"merano\"\n",
    "\n",
    "kriging_data.retrieveData(current_phase, current_basin, current_type, current_node)\n",
    "\n",
    "### end simulation selection ##########################################################################\n",
    "model_sca_passirio_mean_kr = kriging_data.model_sca_passirio.resample('D').mean() * 100"
   ]
  },
  {
   "cell_type": "code",
   "execution_count": null,
   "metadata": {},
   "outputs": [],
   "source": [
    "### simulation selection #############################################################################\n",
    "\n",
    "kriging_11_data = DataCollector(configPath=wdir + \"etc/conf/\")\n",
    "\n",
    "current_phase = \"best_merano_cal_val\"\n",
    "current_basin = \"passirio\"\n",
    "current_type = \"kriging_11\"\n",
    "current_node = \"merano\"\n",
    "\n",
    "kriging_11_data.retrieveData(current_phase, current_basin, current_type, current_node)\n",
    "\n",
    "### end simulation selection ##########################################################################\n",
    "model_sca_passirio_mean_kr11 = kriging_11_data.model_sca_passirio.resample('D').mean() * 100"
   ]
  },
  {
   "cell_type": "code",
   "execution_count": null,
   "metadata": {},
   "outputs": [],
   "source": [
    "### simulation selection #############################################################################\n",
    "\n",
    "reanalysis_data = DataCollector(configPath=wdir + \"etc/conf/\")\n",
    "\n",
    "current_phase = \"best_merano_cal_val\"\n",
    "current_basin = \"passirio\"\n",
    "current_type = \"reanalysis\"\n",
    "current_node = \"merano\"\n",
    "\n",
    "reanalysis_data.retrieveData(current_phase, current_basin, current_type, current_node)\n",
    "\n",
    "### end simulation selection ##########################################################################\n",
    "model_sca_passirio_mean_rea = reanalysis_data.model_sca_passirio.resample('D').mean() * 100"
   ]
  },
  {
   "cell_type": "code",
   "execution_count": null,
   "metadata": {},
   "outputs": [],
   "source": [
    "fig, axs = instantiatePlot(\"Time $[days]$\", \"SCA $[-]$\", output_format='tiff')\n",
    "\n",
    "axs.scatter(df_obs_series.index, df_obs_series.values, s=10, label='observed', color='#fdb863')\n",
    "\n",
    "axs.plot(model_sca_passirio_mean_rea, label='REA11x8', linestyle=\"solid\", color='#e66101')\n",
    "axs.plot(model_sca_passirio_mean_kr, label='KR1x1', linestyle=\"solid\", color='#8078bc')\n",
    "axs.plot(model_sca_passirio_mean_kr11, label='KR11x8', linestyle=\"solid\", color='#5e3c99')\n",
    "\n",
    "axs.legend(loc='lower right')\n",
    "\n",
    "output_file = current.config[\"output_path\"] + \"model/sca/passirio/daily/\" + \"model_sca_passirio_daily.\" + output_format\n",
    "\n",
    "mkNestedDir(getPathFromFilepath(output_file))\n",
    "fig.savefig(output_file, format=output_format, bbox_inches='tight', facecolor='w', dpi=50)\n",
    "\n",
    "output_file_hd = current.config[\"output_path\"] + \"model/sca/passirio/daily/\" + \"model_sca_passirio_daily_hd.\" + output_format\n",
    "\n",
    "mkNestedDir(getPathFromFilepath(output_file_hd))\n",
    "fig.savefig(output_file_hd, format=output_format, bbox_inches='tight', facecolor='w', dpi=600)"
   ]
  },
  {
   "cell_type": "code",
   "execution_count": null,
   "metadata": {},
   "outputs": [],
   "source": [
    "from datetime import datetime\n",
    "start_date_str = \"2015-10-01T01:00:00\"\n",
    "end_date_str = \"2016-09-30T23:00:00\"\n",
    "start_date = datetime.strptime(start_date_str, '%Y-%m-%dT%H:%M:%S')\n",
    "end_date = datetime.strptime(end_date_str, '%Y-%m-%dT%H:%M:%S')\n",
    "\n",
    "fig, axs = instantiatePlot(\"Time $[days]$\", \"SCA $[-]$\", output_format='tiff')\n",
    "\n",
    "axs.scatter(df_obs_series[start_date:end_date].index, df_obs_series[start_date:end_date].values, s=10, label='observed', color='#fdb863')\n",
    "\n",
    "axs.plot(model_sca_passirio_mean_rea[start_date:end_date], label='REA11x8', linestyle=\"solid\", color='#e66101')\n",
    "axs.plot(model_sca_passirio_mean_kr[start_date:end_date], label='KR1x1', linestyle=\"solid\", color='#8078bc')\n",
    "axs.plot(model_sca_passirio_mean_kr11[start_date:end_date], label='KR11x8', linestyle=\"solid\", color='#5e3c99')\n",
    "\n",
    "axs.legend(loc='lower right')\n",
    "\n",
    "output_file = current.config[\"output_path\"] + \"model/sca/passirio/daily/\" + \"model_sca_passirio_daily_20152016.\" + output_format\n",
    "\n",
    "mkNestedDir(getPathFromFilepath(output_file))\n",
    "fig.savefig(output_file, format=output_format, bbox_inches='tight', facecolor='w', dpi=50)\n",
    "\n",
    "output_file_hd = current.config[\"output_path\"] + \"model/sca/passirio/daily/\" + \"model_sca_passirio_daily_20152016_hd.\" + output_format\n",
    "\n",
    "mkNestedDir(getPathFromFilepath(output_file_hd))\n",
    "fig.savefig(output_file_hd, format=output_format, bbox_inches='tight', facecolor='w', dpi=600)"
   ]
  },
  {
   "cell_type": "code",
   "execution_count": null,
   "metadata": {},
   "outputs": [],
   "source": [
    "from datetime import datetime\n",
    "start_date_str = \"2016-10-01T01:00:00\"\n",
    "end_date_str = \"2017-09-30T23:00:00\"\n",
    "start_date = datetime.strptime(start_date_str, '%Y-%m-%dT%H:%M:%S')\n",
    "end_date = datetime.strptime(end_date_str, '%Y-%m-%dT%H:%M:%S')\n",
    "\n",
    "fig, axs = instantiatePlot(\"Time $[days]$\", \"SCA $[-]$\", output_format='tiff')\n",
    "\n",
    "axs.scatter(df_obs_series[start_date:end_date].index, df_obs_series[start_date:end_date].values, s=10, label='observed', color='#fdb863')\n",
    "\n",
    "axs.plot(model_sca_passirio_mean_rea[start_date:end_date], label='REA11x8', linestyle=\"solid\", color='#e66101')\n",
    "axs.plot(model_sca_passirio_mean_kr[start_date:end_date], label='KR1x1', linestyle=\"solid\", color='#8078bc')\n",
    "axs.plot(model_sca_passirio_mean_kr11[start_date:end_date], label='KR11x8', linestyle=\"solid\", color='#5e3c99')\n",
    "\n",
    "axs.legend(loc='lower right')\n",
    "\n",
    "output_file = current.config[\"output_path\"] + \"model/sca/passirio/daily/\" + \"model_sca_passirio_daily_20162017.\" + output_format\n",
    "\n",
    "mkNestedDir(getPathFromFilepath(output_file))\n",
    "fig.savefig(output_file, format=output_format, bbox_inches='tight', facecolor='w', dpi=50)\n",
    "\n",
    "output_file_hd = current.config[\"output_path\"] + \"model/sca/passirio/daily/\" + \"model_sca_passirio_daily_20162017_hd.\" + output_format\n",
    "\n",
    "mkNestedDir(getPathFromFilepath(output_file_hd))\n",
    "fig.savefig(output_file_hd, format=output_format, bbox_inches='tight', facecolor='w', dpi=600)"
   ]
  },
  {
   "cell_type": "code",
   "execution_count": null,
   "metadata": {},
   "outputs": [],
   "source": [
    "from datetime import datetime\n",
    "start_date_str = \"2017-10-01T01:00:00\"\n",
    "end_date_str = \"2018-09-30T23:00:00\"\n",
    "start_date = datetime.strptime(start_date_str, '%Y-%m-%dT%H:%M:%S')\n",
    "end_date = datetime.strptime(end_date_str, '%Y-%m-%dT%H:%M:%S')\n",
    "\n",
    "fig, axs = instantiatePlot(\"Time $[days]$\", \"SCA $[-]$\", output_format='tiff')\n",
    "\n",
    "axs.scatter(df_obs_series[start_date:end_date].index, df_obs_series[start_date:end_date].values, s=10, label='observed', color='#fdb863')\n",
    "\n",
    "axs.plot(model_sca_passirio_mean_rea[start_date:end_date], label='REA11x8', linestyle=\"solid\", color='#e66101')\n",
    "axs.plot(model_sca_passirio_mean_kr[start_date:end_date], label='KR1x1', linestyle=\"solid\", color='#8078bc')\n",
    "axs.plot(model_sca_passirio_mean_kr11[start_date:end_date], label='KR11x8', linestyle=\"solid\", color='#5e3c99')\n",
    "\n",
    "axs.legend(loc='lower right')\n",
    "\n",
    "output_file = current.config[\"output_path\"] + \"model/sca/passirio/daily/\" + \"model_sca_passirio_daily_20172018.\" + output_format\n",
    "\n",
    "mkNestedDir(getPathFromFilepath(output_file))\n",
    "fig.savefig(output_file, format=output_format, bbox_inches='tight', facecolor='w', dpi=50)\n",
    "\n",
    "output_file_hd = current.config[\"output_path\"] + \"model/sca/passirio/daily/\" + \"model_sca_passirio_daily_20172018_hd.\" + output_format\n",
    "\n",
    "mkNestedDir(getPathFromFilepath(output_file_hd))\n",
    "fig.savefig(output_file_hd, format=output_format, bbox_inches='tight', facecolor='w', dpi=600)"
   ]
  },
  {
   "cell_type": "code",
   "execution_count": null,
   "metadata": {},
   "outputs": [],
   "source": []
  }
 ],
 "metadata": {
  "kernelspec": {
   "display_name": "Python 3.9.1 64-bit",
   "name": "python391jvsc74a57bd063d5e5d3ef3ec13453f007c86728ea82bf14ea96ebb0a2fb9c639ae49af1dbf7"
  },
  "language_info": {
   "codemirror_mode": {
    "name": "ipython",
    "version": 3
   },
   "file_extension": ".py",
   "mimetype": "text/x-python",
   "name": "python",
   "nbconvert_exporter": "python",
   "pygments_lexer": "ipython3",
   "version": "3.9.1"
  },
  "metadata": {
   "interpreter": {
    "hash": "63d5e5d3ef3ec13453f007c86728ea82bf14ea96ebb0a2fb9c639ae49af1dbf7"
   }
  },
  "orig_nbformat": 2
 },
 "nbformat": 4,
 "nbformat_minor": 2
}
