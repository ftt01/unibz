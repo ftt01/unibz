{
 "cells": [
  {
   "cell_type": "code",
   "execution_count": 21,
   "metadata": {},
   "outputs": [],
   "source": [
    "import sys\n",
    "\n",
    "lib_dir = \"/home/daniele/documents/github/ftt01/phd/share/lib\"\n",
    "sys.path.insert(0, lib_dir)"
   ]
  },
  {
   "cell_type": "code",
   "execution_count": 22,
   "metadata": {},
   "outputs": [],
   "source": [
    "from lib import *"
   ]
  },
  {
   "cell_type": "code",
   "execution_count": 23,
   "metadata": {},
   "outputs": [],
   "source": [
    "wdir = \"/home/daniele/documents/github/ftt01/phd/projects/era5_evaluation/\"\n",
    "current = DataCollector(configPath=wdir + \"etc/conf/\")"
   ]
  },
  {
   "cell_type": "code",
   "execution_count": 24,
   "metadata": {},
   "outputs": [],
   "source": [
    "### simulation selection #############################################################################\n",
    "\n",
    "kriging_data_calibration = DataCollector(configPath=wdir + \"etc/conf/\")\n",
    "\n",
    "current_phase = \"validation_best_plan\"\n",
    "current_basin = \"passirio\"\n",
    "current_type = \"kriging\"\n",
    "current_node = \"plan\"\n",
    "\n",
    "kriging_data_calibration.retrieveData(current_phase, current_basin, current_type, current_node)\n",
    "\n",
    "### end simulation selection ##########################################################################"
   ]
  },
  {
   "cell_type": "code",
   "execution_count": 25,
   "metadata": {},
   "outputs": [],
   "source": [
    "### simulation selection #############################################################################\n",
    "\n",
    "kriging_11_data_calibration = DataCollector(configPath=wdir + \"etc/conf/\")\n",
    "\n",
    "current_phase = \"validation_best_plan\"\n",
    "current_basin = \"passirio\"\n",
    "current_type = \"kriging_11\"\n",
    "current_node = \"plan\"\n",
    "\n",
    "kriging_11_data_calibration.retrieveData(current_phase, current_basin, current_type, current_node)\n",
    "\n",
    "### end simulation selection ##########################################################################"
   ]
  },
  {
   "cell_type": "code",
   "execution_count": 26,
   "metadata": {},
   "outputs": [],
   "source": [
    "### simulation selection #############################################################################\n",
    "\n",
    "reanalysis_data_calibration = DataCollector(configPath=wdir + \"etc/conf/\")\n",
    "\n",
    "current_phase = \"validation_best_plan\"\n",
    "current_basin = \"passirio\"\n",
    "current_type = \"reanalysis\"\n",
    "current_node = \"plan\"\n",
    "\n",
    "reanalysis_data_calibration.retrieveData(current_phase, current_basin, current_type, current_node)\n",
    "\n",
    "### end simulation selection ##########################################################################"
   ]
  },
  {
   "cell_type": "code",
   "execution_count": 27,
   "metadata": {},
   "outputs": [],
   "source": [
    "data_kr_plan_swe_mean_calibration = kriging_data_calibration.model_snow_we_plan.resample('MS').mean()\n",
    "data_kr11_plan_swe_mean_calibration = kriging_11_data_calibration.model_snow_we_plan.resample('MS').mean()\n",
    "data_rea_plan_swe_mean_calibration = reanalysis_data_calibration.model_snow_we_plan.resample('MS').mean()\n",
    "\n",
    "data_kr11_kr_plan_swe_mean_bias = data_kr11_plan_swe_mean_calibration - data_kr_plan_swe_mean_calibration\n",
    "\n",
    "plt_conf = {}\n",
    "\n",
    "outfile = current.config[\"output_path\"] + \"model/swe/plan/monthly/\" \\\n",
    "    + \"model_swe_plan_monthly_boxplot_kr11-kr.\" + output_format\n",
    "createBoxPlot(data_kr11_kr_plan_swe_mean_bias, \"Time $[month]$\",\n",
    "              'SWE bias $[mm/month]$', outfile, output_format=output_format, scale_factor=0.5, my_dpi=50)\n",
    "\n",
    "outfile_hd = current.config[\"output_path\"] + \"model/swe/plan/monthly/\" \\\n",
    "    + \"model_swe_plan_monthly_boxplot_kr11-kr_HD.\" + output_format\n",
    "createBoxPlot(data_kr11_kr_plan_swe_mean_bias, \"Time $[month]$\",\n",
    "              'SWE bias $[mm/month]$', outfile_hd, output_format=output_format, scale_factor=0.5, my_dpi=600)"
   ]
  },
  {
   "cell_type": "code",
   "execution_count": 28,
   "metadata": {},
   "outputs": [],
   "source": [
    "data_rea_kr_plan_swe_mean_bias = data_rea_plan_swe_mean_calibration - data_kr_plan_swe_mean_calibration\n",
    "\n",
    "plt_conf = {}\n",
    "\n",
    "outfile = current.config[\"output_path\"] + \"model/swe/plan/monthly/\" \\\n",
    "    + \"model_swe_plan_monthly_boxplot_rea-kr.\" + output_format\n",
    "createBoxPlot(data_rea_kr_plan_swe_mean_bias, \"Time $[month]$\",\n",
    "              'SWE bias $[mm/month]$', outfile, output_format=output_format, scale_factor=0.5, my_dpi=50)\n",
    "\n",
    "outfile_hd = current.config[\"output_path\"] + \"model/swe/plan/monthly/\" \\\n",
    "    + \"model_swe_plan_monthly_boxplot_rea-kr_HD.\" + output_format\n",
    "createBoxPlot(data_rea_kr_plan_swe_mean_bias, \"Time $[month]$\",\n",
    "              'SWE bias $[mm/month]$', outfile_hd, output_format=output_format, scale_factor=0.5, my_dpi=600)"
   ]
  },
  {
   "cell_type": "code",
   "execution_count": 29,
   "metadata": {},
   "outputs": [],
   "source": [
    "data_rea_kr11_plan_swe_mean_bias = data_rea_plan_swe_mean_calibration - data_kr11_plan_swe_mean_calibration\n",
    "\n",
    "plt_conf = {}\n",
    "\n",
    "outfile = current.config[\"output_path\"] + \"model/swe/plan/monthly/\" \\\n",
    "    + \"model_swe_plan_monthly_boxplot_rea-kr11.\" + output_format\n",
    "createBoxPlot(data_rea_kr11_plan_swe_mean_bias, \"Time $[month]$\",\n",
    "              'SWE bias $[mm/month]$', outfile, output_format=output_format, scale_factor=0.5, my_dpi=50)\n",
    "\n",
    "outfile_hd = current.config[\"output_path\"] + \"model/swe/plan/monthly/\" \\\n",
    "    + \"model_swe_plan_monthly_boxplot_rea-kr11_HD.\" + output_format\n",
    "createBoxPlot(data_rea_kr11_plan_swe_mean_bias, \"Time $[month]$\",\n",
    "              'SWE bias $[mm/month]$', outfile_hd, output_format=output_format, scale_factor=0.5, my_dpi=600)"
   ]
  },
  {
   "cell_type": "code",
   "execution_count": 30,
   "metadata": {},
   "outputs": [],
   "source": [
    "plots = []\n",
    "\n",
    "### rea 11x8 plot ###\n",
    "plt_conf = {}\n",
    "plt_conf[\"label\"] = 'REA11x8'\n",
    "plt_conf[\"color\"] = '#e66101'\n",
    "plots.append((reanalysis_data_calibration.model_snow_we, plt_conf))\n",
    "\n",
    "### kriging 1x1 plot ###\n",
    "plt_conf = {}\n",
    "plt_conf[\"label\"] = 'KR1x1'\n",
    "plt_conf[\"color\"] = '#8078bc'\n",
    "plots.append((kriging_data_calibration.model_snow_we, plt_conf))\n",
    "\n",
    "### kriging 11x8 plot ###\n",
    "plt_conf = {}\n",
    "plt_conf[\"label\"] = 'KR11x8'\n",
    "plt_conf[\"color\"] = '#5e3c99'\n",
    "plots.append((kriging_11_data_calibration.model_snow_we, plt_conf))\n",
    "\n",
    "import matplotlib.dates as mdates\n",
    "x_major_locator=mdates.YearLocator(month=10, day=1)\n",
    "x_major_formatter=mdates.DateFormatter('%Y')\n",
    "\n",
    "outfile = current.config[\"output_path\"] + \"model/swe/plan/hourly/\" \\\n",
    "    + \"model_swe_plan_hourly_kr_kr11_rea_kr11.\" + output_format\n",
    "createPlot(plots, \"Time $[hour]$\", 'SWE $[mm/hour]$', outfile, label='(b)',\\\n",
    "    x_major_locator=x_major_locator, x_major_formatter=x_major_formatter, \\\n",
    "    y_lim_min=0.0, y_lim_max=450, output_format=output_format, width=90, height=90, scale_factor=1, my_dpi=50)\n",
    "\n",
    "outfile_hd = current.config[\"output_path\"] + \"model/swe/plan/hourly/\" \\\n",
    "    + \"model_swe_plan_hourly_kr_kr11_rea_kr11_HD.\" + output_format\n",
    "createPlot(plots, \"Time $[hour]$\", 'SWE $[mm/hour]$', outfile_hd, label='(b)',\\\n",
    "    x_major_locator=x_major_locator, x_major_formatter=x_major_formatter, \\\n",
    "    y_lim_min=0.0, y_lim_max=450, output_format=output_format, width=90, height=90, scale_factor=1, my_dpi=600)"
   ]
  }
 ],
 "metadata": {
  "kernelspec": {
   "display_name": "Python 3",
   "language": "python",
   "name": "python3"
  },
  "language_info": {
   "codemirror_mode": {
    "name": "ipython",
    "version": 3
   },
   "file_extension": ".py",
   "mimetype": "text/x-python",
   "name": "python",
   "nbconvert_exporter": "python",
   "pygments_lexer": "ipython3",
   "version": "3.10.6"
  },
  "metadata": {
   "interpreter": {
    "hash": "63d5e5d3ef3ec13453f007c86728ea82bf14ea96ebb0a2fb9c639ae49af1dbf7"
   }
  },
  "orig_nbformat": 2
 },
 "nbformat": 4,
 "nbformat_minor": 2
}
