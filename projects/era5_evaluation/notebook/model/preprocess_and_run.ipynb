{
 "cells": [
  {
   "cell_type": "code",
   "execution_count": 1,
   "metadata": {},
   "outputs": [],
   "source": [
    "import sys\n",
    "\n",
    "lib_dir = \"/home/daniele/documents/github/ftt01/phd/share/lib\"\n",
    "sys.path.insert( 0, lib_dir )"
   ]
  },
  {
   "cell_type": "code",
   "execution_count": 2,
   "metadata": {},
   "outputs": [],
   "source": [
    "from lib import *"
   ]
  },
  {
   "cell_type": "code",
   "execution_count": 3,
   "metadata": {},
   "outputs": [],
   "source": [
    "def write_stations(list_temperature, list_precipitation, list_streamflow, pathout):\n",
    "    mkNestedDir(pathout)\n",
    "\n",
    "    line_1 = \"{num_temperature}                 ! number of T stations\"\n",
    "    line_2 = \"{num_precipitation}               ! number of P stations\"\n",
    "    line_3 = \"{num_streamflow}                  ! number of Q stations\"\n",
    "    line_T = \"! T stations ID\"\n",
    "    line_P = \"! P stations ID\"\n",
    "    line_Q = \"! Q stations ID\"\n",
    "\n",
    "    line_1 = line_1.format(num_temperature=str(len(list_temperature)))\n",
    "    line_2 = line_2.format(num_precipitation=str(len(list_precipitation)))\n",
    "    line_3 = line_3.format(num_streamflow=str(len(list_streamflow)))\n",
    "\n",
    "    file = open(pathout+\"stations.txt\",\"w+\")\n",
    "    file.writelines(line_1 + \"\\n\")\n",
    "    file.writelines(line_2 + \"\\n\")\n",
    "    file.writelines(line_3 + \"\\n\")\n",
    "\n",
    "    file.writelines(line_T + \"\\n\")\n",
    "    for t in list_temperature:\n",
    "        file.writelines(str(t) + \"\\n\")\n",
    "\n",
    "    file.writelines(line_P + \"\\n\")\n",
    "    for p in list_precipitation:\n",
    "        file.writelines(str(p) + \"\\n\")\n",
    "\n",
    "    file.writelines(line_Q + \"\\n\")\n",
    "    for q in list_streamflow:\n",
    "        file.writelines(str(q) + \"\\n\")"
   ]
  },
  {
   "cell_type": "code",
   "execution_count": 4,
   "metadata": {},
   "outputs": [],
   "source": [
    "def write_configuration_file(run_id, run_mode, start_wu_date, end_wu_date, start_forecast_date, end_forecast_date,\n",
    "                             parameters_file, basin, meteo_src, outlet_point, da_flag, wdir, pathout, kernel=True):\n",
    "    mkNestedDir(pathout)\n",
    "\n",
    "    if kernel != True:\n",
    "        wwdir = wdir\n",
    "        wdir = '../'\n",
    "    else:\n",
    "        wwdir = wdir\n",
    "\n",
    "    line_1 = \"{run_mode}                                ! run mode: 10 -> forecasting; 6 -> forward\".format(run_mode=run_mode)\n",
    "    line_2 = \"{run_id}                                         ! ID run\".format(run_id=run_id)\n",
    "    line_3 = \"0 \t\t\t\t \t\t                ! ID previous run (useless)\"\n",
    "    line_4 = \"100 \t\t\t \t\t                    ! ID run meteorological fields (useless)\"\n",
    "    line_5 = \"0  \t \t\t\t \t\t                ! T forecasts correction: 1 -> yes; 0 -> no (useless)\"\n",
    "    line_6 = \"0 \t\t\t\t \t\t                ! T forecasts correction: 1 -> yes; 0 -> no (useless)\"\n",
    "\n",
    "    # warmup period\n",
    "    line_9 = \"{start_wu_date} \t\t                    ! start warm - up\".format(\n",
    "        start_wu_date=dt.datetime.strftime(start_wu_date, format='%Y-%m-%d_%H:%M'))\n",
    "    line_10 = \"{end_wu_date} \t\t                    ! begin D.A. (end warm-up)\".format(\n",
    "        end_wu_date=dt.datetime.strftime(end_wu_date, format='%Y-%m-%d_%H:%M'))\n",
    "\n",
    "    # DA starts one hour later than line_10 and it ends at line_7\n",
    "\n",
    "    # forecast period\n",
    "    line_7 = \"{start_forecast_date}                     ! end D.A. (start forecast/forward)\".format(\n",
    "        start_forecast_date=dt.datetime.strftime(start_forecast_date, format='%Y-%m-%d_%H:%M'))\n",
    "    line_8 = \"{end_forecast_date} \t                    ! end forecast/forward\".format(\n",
    "        end_forecast_date=dt.datetime.strftime(end_forecast_date, format='%Y-%m-%d_%H:%M'))\n",
    "\n",
    "    # parameters to run the model\n",
    "    line_11 = \"\\\"{parameters_file}\\\" \t                    ! parameter file name\".format(\n",
    "        parameters_file=parameters_file)\n",
    "\n",
    "    line_12 = \"\\\"subcatchments.asc\\\"                     ! subcatchment raster file name\"\n",
    "    line_13 = \"\\\"{wdir}{basin}/INPUT/\\\" \t                ! path of required input data\".format(\n",
    "        wdir=wdir, basin=basin)\n",
    "    \n",
    "    line_14 = \"\\\"{wdir}{basin}/OUTPUT/{date}/\\\" \t         ! general folder of output data\"\n",
    "    if run_mode == '10':\n",
    "        line_14 = line_14.format(wdir=wdir, basin=basin, date=dt.datetime.strftime(start_forecast_date, format='%Y%m%d'))\n",
    "        out_path = \"{wdir}{basin}/OUTPUT/{date}/\".format(wdir=wwdir, basin=basin, date=dt.datetime.strftime(start_forecast_date, format='%Y%m%d'))\n",
    "    else:\n",
    "        line_14 = line_14.format(wdir=wdir, basin=basin, date='')\n",
    "        out_path = \"{wdir}{basin}/OUTPUT/\".format(wdir=wwdir, basin=basin)\n",
    "\n",
    "    mkNestedDir(out_path)\n",
    "\n",
    "    line_15 = \"\\\"{wdir}{basin}/meteo/\\\"                     ! path of required meteorological data (obs. and for.)\".format(\n",
    "        wdir=wdir, basin=basin)\n",
    "    line_16 = \"\\\"{meteo_src}\\\"\t\t\t                ! observed meteo source\".format(\n",
    "        meteo_src=meteo_src)\n",
    "    line_17 = \"30.0\t\t\t\t\t                    ! cellsize of subcatchment map\"\n",
    "    line_18 = \"5.0\t\t\t\t\t\t                ! mm SWE for SCA threshold\"\n",
    "    line_19 = \"46.7 \t\t\t\t\t                    ! mean latitude\"\n",
    "    line_20 = \"2.0\t\t\t\t\t\t                ! minimum number of meteorological station to perform interpolation\"\n",
    "    line_21 = \"\\\"NASH\\\" \t\t\t\t\t                ! objective function for model calibration\"\n",
    "    line_22 = \"1 \t\t\t\t\t\t                ! number of calibration points\"\n",
    "    line_23 = \"{outlet_point} \t\t\t\t\t        ! ID calibration point\".format(\n",
    "        outlet_point=outlet_point)\n",
    "    line_24 = \"{outlet_point} \t\t\t\t\t        ! ID outlet section\".format(\n",
    "        outlet_point=outlet_point)\n",
    "    line_25 = \"1 \t\t\t\t\t\t                ! model type for base\"\n",
    "    line_26 = \"{da_flag} \t\t\t\t\t\t        ! flag Data Assimilation: 1 -> active; 0 -> open-loop\".format(\n",
    "        da_flag=da_flag)\n",
    "\n",
    "    file = open(pathout+\"configuration_file.txt\", \"w+\")\n",
    "    [file.writelines(l + \"\\n\") for l in [line_1, line_2, line_3, line_4, line_5, line_6, line_7, line_8, line_9, line_10, line_11,\n",
    "                                         line_12, line_13, line_14, line_15, line_16, line_17, line_18, line_19, line_20, line_21,\n",
    "                                         line_22, line_23, line_24, line_25, line_26]]"
   ]
  },
  {
   "cell_type": "code",
   "execution_count": 5,
   "metadata": {},
   "outputs": [],
   "source": [
    "def write_DA_settings(ensemble_size, pathout):\n",
    "    mkNestedDir(pathout)\n",
    "\n",
    "    line_1 = \"{ensemble_size} \t\t\t! ensemble size\".format(ensemble_size=ensemble_size)\n",
    "    line_2 = \"5 \t\t\t            ! number of state variables\"\n",
    "    line_3 = \"R C S G B \t            ! labels of state variables\"\n",
    "    line_4 = \"0.00\t\t                ! percentage error of observed Q \"\n",
    "    line_5 = \"0.01\t\t\t            ! percentage error for further perturbing observed streamflow\"\n",
    "    line_6 = \"0.02\t\t                ! threshold on precipitation perturbation\"\n",
    "    line_7 = \"1.0\t\t\t            ! shape gamma pdf for P perturbation (k or alpha)      --> USELESS\"\n",
    "    line_8 = \"1.0\t\t\t            ! scale gamma pdf for P perturbation (beta or 1/theta) --> USELESS\"\n",
    "    line_9 = \"0. \t\t\t            ! dev. std. T perturbation\"\n",
    "    line_10 = \"0\t\t\t            ! additive inflation on soil water content (0: no; 1: yes)\"\n",
    "    line_11 = \"0.00\t\t                ! random noise for additive inflation\"\n",
    "    line_12 = \"1\t    \t            ! time step between every analysis step\"\n",
    "\n",
    "    file = open( pathout + \"DA_settings.txt\", \"w+\")\n",
    "    [file.writelines(l + \"\\n\") for l in [line_1, line_2, line_3, line_4, line_5, line_6,\n",
    "                                         line_7, line_8, line_9, line_10, line_11, line_12]]"
   ]
  },
  {
   "cell_type": "code",
   "execution_count": 6,
   "metadata": {},
   "outputs": [],
   "source": [
    "def write_input(basin, pathout):\n",
    "    mkNestedDir(pathout)\n",
    "\n",
    "    line_1 = '''\"../{basin}/INPUT/\"'''.format(basin=basin)\n",
    "    line_1 = line_1.format(basin=basin)\n",
    "\n",
    "    file = open(pathout+\"input_path.txt\",\"w+\")\n",
    "    [file.writelines(el + \"\\n\") for el in [line_1]]"
   ]
  },
  {
   "attachments": {},
   "cell_type": "markdown",
   "metadata": {},
   "source": [
    "## STEPS\n",
    "1. setup the wdir and the basin name\n",
    "2. setup the start and end date of simulation [both warm up and simulation]\n",
    "3. setup the parameter file\n",
    "4. setup the source of meteo data\n",
    "5. setup the outlet point "
   ]
  },
  {
   "cell_type": "code",
   "execution_count": 7,
   "metadata": {},
   "outputs": [],
   "source": [
    "wdir = \"/media/windows/projects/era5_bias/\"\n",
    "basin = \"passirio\"\n",
    "\n",
    "start_wu_date_str = '2010-10-01 00:00:00'\n",
    "end_wu_date_str = '2013-09-30 00:00:00'\n",
    "\n",
    "start_date_str = '2013-10-01 00:00:00'\n",
    "end_date_str = '2017-09-30 00:00:00'\n",
    "\n",
    "timezone_str = 'Europe/Rome'\n",
    "\n",
    "parameters_file = \"hydro_parameters_rea_plan_4283.txt\"\n",
    "meteo_src = \"reanalysis\"\n",
    "outlet_point = \"155\"\n",
    "\n",
    "run_id = \"10\""
   ]
  },
  {
   "cell_type": "code",
   "execution_count": 8,
   "metadata": {},
   "outputs": [],
   "source": [
    "start_wu_date = dt.datetime.strptime(\n",
    "    start_wu_date_str, '%Y-%m-%d %H:%M:%S').replace(tzinfo=pytz.timezone(timezone_str))\n",
    "end_wu_date = dt.datetime.strptime(\n",
    "    end_wu_date_str, '%Y-%m-%d %H:%M:%S').replace(tzinfo=pytz.timezone(timezone_str))\n",
    "\n",
    "start_date = dt.datetime.strptime(\n",
    "    start_date_str, '%Y-%m-%d %H:%M:%S').replace(tzinfo=pytz.timezone(timezone_str))\n",
    "end_date = dt.datetime.strptime(\n",
    "    end_date_str, '%Y-%m-%d %H:%M:%S').replace(tzinfo=pytz.timezone(timezone_str))"
   ]
  },
  {
   "cell_type": "code",
   "execution_count": 9,
   "metadata": {},
   "outputs": [],
   "source": [
    "output_dt_format = '%Y-%m-%d %H:%M:%S'\n",
    "\n",
    "# setup simulations\n",
    "## forecasting => 10\n",
    "## forward => 6\n",
    "run_mode = \"6\"\n",
    "da_flag = \"0\"\n",
    "ensemble_size = 1\n",
    "\n",
    "### ICHYMOD LINUX\n",
    "linux = True\n",
    "exe_path = \"/home/daniele/documents/github/ftt01/phd/models/hydro_modeling/ichymod/core/release/\"\n",
    "exe_name = \"ichymod\"\n",
    "exe_local_path = wdir + 'hydro_modeling/exe/'\n",
    "mkNestedDir(exe_local_path)"
   ]
  },
  {
   "cell_type": "code",
   "execution_count": 10,
   "metadata": {},
   "outputs": [
    {
     "data": {
      "text/plain": [
       "'/media/windows/projects/era5_bias/hydro_modeling/exe/ichymod'"
      ]
     },
     "execution_count": 10,
     "metadata": {},
     "output_type": "execute_result"
    }
   ],
   "source": [
    "write_configuration_file(\n",
    "    run_id, run_mode, start_wu_date, end_wu_date, start_date, end_date, \n",
    "    parameters_file, basin, meteo_src, outlet_point, \n",
    "    da_flag, wdir + \"hydro_modeling/\", wdir + \"hydro_modeling/\" + basin + \"/INPUT/\", kernel=linux)\n",
    "\n",
    "write_DA_settings(ensemble_size, wdir + \"hydro_modeling/\" + basin + \"/INPUT/\")\n",
    "\n",
    "write_input( basin, exe_local_path )\n",
    "\n",
    "### copy the exe in the directory\n",
    "shutil.copyfile(\n",
    "    exe_path + exe_name,\n",
    "    exe_local_path + exe_name)"
   ]
  },
  {
   "cell_type": "code",
   "execution_count": 11,
   "metadata": {},
   "outputs": [
    {
     "name": "stdout",
     "output_type": "stream",
     "text": [
      "cd /media/windows/projects/era5_bias/hydro_modeling/exe/ && /home/daniele/documents/github/ftt01/phd/models/hydro_modeling/ichymod/core/release/ichymod\n",
      "Time: 15:11:24\n"
     ]
    },
    {
     "name": "stderr",
     "output_type": "stream",
     "text": [
      "forrtl: severe (59): list-directed I/O syntax error, unit 1, file /media/windows/projects/era5_bias/hydro_modeling/exe/../passirio/INPUT/configuration_file.txt\n",
      "Image              PC                Routine            Line        Source             \n",
      "ichymod            000000000048D428  Unknown               Unknown  Unknown\n",
      "ichymod            00000000004B6802  Unknown               Unknown  Unknown\n",
      "ichymod            00000000004B5267  Unknown               Unknown  Unknown\n",
      "ichymod            0000000000470747  Unknown               Unknown  Unknown\n",
      "ichymod            000000000045F9E7  Unknown               Unknown  Unknown\n",
      "ichymod            000000000046E9D5  Unknown               Unknown  Unknown\n",
      "ichymod            0000000000403822  Unknown               Unknown  Unknown\n",
      "libc.so.6          00007FA623429D90  Unknown               Unknown  Unknown\n",
      "libc.so.6          00007FA623429E40  __libc_start_main     Unknown  Unknown\n",
      "ichymod            000000000040372E  Unknown               Unknown  Unknown\n"
     ]
    }
   ],
   "source": [
    "### RUN THE MODEL\n",
    "cmd = '''cd {path} && {exe_path}{exe_name}'''.format(path=exe_local_path, exe_path=exe_path, exe_name=exe_name)\n",
    "print(cmd)\n",
    "\n",
    "p = subprocess.Popen( cmd, stdin=subprocess.PIPE, shell=True)\n",
    "# p.communicate(input='\\n'.encode())"
   ]
  },
  {
   "cell_type": "code",
   "execution_count": null,
   "metadata": {},
   "outputs": [],
   "source": [
    "### read the output\n"
   ]
  }
 ],
 "metadata": {
  "interpreter": {
   "hash": "916dbcbb3f70747c44a77c7bcd40155683ae19c65e1c03b4aa3499c5328201f1"
  },
  "kernelspec": {
   "display_name": "Python 3.8.10 64-bit",
   "language": "python",
   "name": "python3"
  },
  "language_info": {
   "codemirror_mode": {
    "name": "ipython",
    "version": 3
   },
   "file_extension": ".py",
   "mimetype": "text/x-python",
   "name": "python",
   "nbconvert_exporter": "python",
   "pygments_lexer": "ipython3",
   "version": "3.10.6"
  },
  "orig_nbformat": 4
 },
 "nbformat": 4,
 "nbformat_minor": 2
}
