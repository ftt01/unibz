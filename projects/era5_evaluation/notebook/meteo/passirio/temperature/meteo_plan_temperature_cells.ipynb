{
 "cells": [
  {
   "cell_type": "code",
   "execution_count": 2,
   "metadata": {},
   "outputs": [],
   "source": [
    "## DESCRIPTION\n",
    "# meteo_temperature_passirio_boxplotBias_cells_kr11-rea\n",
    "# meteo_temperature_passirio_boxplotBias_cells_kr11-rea_*"
   ]
  },
  {
   "cell_type": "code",
   "execution_count": 3,
   "metadata": {},
   "outputs": [],
   "source": [
    "import sys\n",
    "\n",
    "lib_dir = \"/home/daniele/documents/github/ftt01/phd/share/lib\"\n",
    "sys.path.insert( 0, lib_dir )"
   ]
  },
  {
   "cell_type": "code",
   "execution_count": 4,
   "metadata": {},
   "outputs": [],
   "source": [
    "from lib import *"
   ]
  },
  {
   "cell_type": "code",
   "execution_count": 5,
   "metadata": {},
   "outputs": [],
   "source": [
    "wdir = \"/home/daniele/documents/github/ftt01/phd/projects/era5_evaluation/\"\n",
    "current = DataCollector(configPath=wdir + \"etc/conf/\")"
   ]
  },
  {
   "cell_type": "code",
   "execution_count": 6,
   "metadata": {},
   "outputs": [],
   "source": [
    "## SETUP\n",
    "basin = 'passirio'\n",
    "# for output name\n",
    "basin_str = 'plan'\n",
    "\n",
    "start_date_str = \"2010-01-01T00:00:00\"\n",
    "end_date_str = \"2019-12-31T23:00:00\"\n",
    "start_date = dt.datetime.strptime( start_date_str, '%Y-%m-%dT%H:%M:%S' )\n",
    "end_date = dt.datetime.strptime( end_date_str, '%Y-%m-%dT%H:%M:%S' )"
   ]
  },
  {
   "cell_type": "code",
   "execution_count": 7,
   "metadata": {},
   "outputs": [],
   "source": [
    "for el in current.sim_config:\n",
    "    if el['basin'] == basin:\n",
    "        ## REANALYSIS DATASET ##\n",
    "        meteo_stations_rea_path = el[\"sim_path\"] + el[\"meteo_path\"] + \"reanalysis/observations/temperature/plan/\"\n",
    "\n",
    "        temperature_df_rea = pd.DataFrame()\n",
    "\n",
    "        t_file_tot = glob.glob( meteo_stations_rea_path + '*.csv' )\n",
    "\n",
    "        for t_file in t_file_tot:\n",
    "            data_tot = pd.read_csv(t_file,index_col=0,parse_dates=True,skiprows=4,names=[ os.path.basename(t_file)[:-4] ])\n",
    "            data_tot=data_tot[start_date:end_date]\n",
    "            data_tot[data_tot == -999] = None\n",
    "            temperature_df_rea=pd.concat([temperature_df_rea, data_tot],axis=1)\n",
    "\n",
    "        # spatial mean over all cells\n",
    "        temperature_rea_spatial_mean = temperature_df_rea.mean(axis=1)\n",
    "\n",
    "        # # temporal mean over all cells\n",
    "        # temperature_df_rea_temporal_mean = temperature_df_rea.mean(axis=0)\n",
    "        # # temporal ECDF\n",
    "        # temperature_df_rea_temporal_ecdf = evaluateECDF( temperature_df_rea_temporal_mean )\n",
    "\n",
    "        ###################################\n",
    "\n",
    "        ## KRIGING 11X8 DATASET ##\n",
    "        meteo_stations_kr11_path = el[\"sim_path\"] + el[\"meteo_path\"] + \"kriging/observations/11x8/temperature/plan/\"\n",
    "\n",
    "        temperature_df_kr11 = pd.DataFrame()\n",
    "\n",
    "        t_file_tot = glob.glob( meteo_stations_kr11_path + '*.csv' )\n",
    "\n",
    "        for t_file in t_file_tot:\n",
    "            data_tot = pd.read_csv(t_file,index_col=0,parse_dates=True,skiprows=4,names=[ os.path.basename(t_file)[:-4] ])\n",
    "            data_tot=data_tot[start_date:end_date]\n",
    "            data_tot[data_tot == -999] = None\n",
    "            temperature_df_kr11=pd.concat([temperature_df_kr11, data_tot],axis=1)\n",
    "\n",
    "        # spatial mean over all cells\n",
    "        temperature_kr11_spatial_mean = temperature_df_kr11.mean(axis=1)\n",
    "\n",
    "        # # temporal mean over all cells\n",
    "        # temperature_df_kr11_temporal_mean = temperature_df_kr11.mean(axis=0)\n",
    "        # # temporal ECDF\n",
    "        # temperature_df_kr11_temporal_ecdf = evaluateECDF( temperature_df_kr11_temporal_mean )"
   ]
  },
  {
   "cell_type": "code",
   "execution_count": 8,
   "metadata": {},
   "outputs": [],
   "source": [
    "# boxplot monthly bias\n",
    "temperature_bias = temperature_rea_spatial_mean - temperature_kr11_spatial_mean\n",
    "temperature_bias_monthly_sum = temperature_bias.resample('MS').mean()\n",
    "\n",
    "output_path = current.config[\"output_path\"] +  \"meteo/\" + basin_str + \"/temperature/\" + \"/monthly/\" \\\n",
    "    + \"meteo_temperature_\" + basin_str + \"_monthly_spatial_mean_cells_boxplot_rea-kr11.\" + output_format \n",
    "\n",
    "createBoxPlot( temperature_bias_monthly_sum,  \"Time $[month]$\", \"Temp. bias $[\\degree C]$\", \\\n",
    "    output_path, label=\"(b)\", period='MS', scale_factor=0.5, output_format=output_format, my_dpi=50 )\n",
    "\n",
    "output_path_hd = current.config[\"output_path\"] + \"meteo/\" + basin_str + \"/temperature/\" + \"/monthly/\" \\\n",
    "    + \"meteo_temperature_\" + basin_str + \"_monthly_spatial_mean_cells_boxplot_rea-kr11_HD.\" + output_format \n",
    "\n",
    "createBoxPlot( temperature_bias_monthly_sum,  \"Time $[month]$\", \"Temp. bias $[\\degree C]$\", \\\n",
    "    output_path_hd, label=\"(b)\", period='MS', scale_factor=0.5, output_format=output_format, my_dpi=600)"
   ]
  },
  {
   "cell_type": "code",
   "execution_count": 9,
   "metadata": {},
   "outputs": [],
   "source": [
    "# boxplot hourly bias\n",
    "temperature_bias = temperature_rea_spatial_mean - temperature_kr11_spatial_mean\n",
    "\n",
    "output_path = current.config[\"output_path\"] +  \"meteo/\" + basin_str + \"/temperature/\" + \"/hourly/\" \\\n",
    "    + \"meteo_temperature_\" + basin_str + \"_hourly_spatial_mean_cells_boxplot_rea-kr11.\" + output_format \n",
    "createBoxPlot( temperature_bias,  \"Time $[hour]$\", \"Temp. bias $[\\degree C]$\", \\\n",
    "    output_path, period='MS', output_format=output_format, my_dpi=50 )\n",
    "\n",
    "output_path_hd = current.config[\"output_path\"] + \"meteo/\" + basin_str + \"/temperature/\" + \"/hourly/\" \\\n",
    "    + \"meteo_temperature_\" + basin_str + \"_hourly_spatial_mean_cells_boxplot_rea-kr11_HD.\" + output_format \n",
    "createBoxPlot( temperature_bias,  \"Time $[hour]$\", \"Temp. bias $[\\degree C]$\", \\\n",
    "    output_path_hd, period='MS', output_format=output_format, my_dpi=600)"
   ]
  },
  {
   "cell_type": "code",
   "execution_count": 10,
   "metadata": {},
   "outputs": [],
   "source": [
    "# spatial ECDF - hourly\n",
    "temperature_rea_spatial_ecdf = evaluateECDF( temperature_rea_spatial_mean )\n",
    "temperature_kr11_spatial_ecdf = evaluateECDF( temperature_kr11_spatial_mean )\n",
    "\n",
    "plots = []\n",
    "\n",
    "plt_conf = {}\n",
    "plt_conf[\"label\"] = \"REA11x8\"\n",
    "plt_conf[\"color\"] = '#e66101'\n",
    "plots.append( (temperature_rea_spatial_ecdf, plt_conf) )\n",
    "\n",
    "plt_conf = {}\n",
    "plt_conf[\"label\"] = \"KR11x8\"\n",
    "plt_conf[\"color\"] = '#5e3c99'\n",
    "plots.append( (temperature_kr11_spatial_ecdf, plt_conf) )\n",
    "\n",
    "output_file = current.config[\"output_path\"] + \"meteo/\" + basin_str + \"/temperature/hourly/meteo_\" \\\n",
    "    + 'temperature_passirio_hourly_spatialECDF.' + output_format\n",
    "createPlot( plots, \"Temperature $[\\degree C]$\", \"ECDF\", output_file, \\\n",
    "    xticks=[-30,-25,-20,-15,-10,-5,0,5,10,15,20,25,30], x_rot=35, yticks=[0,10,20,30,40,50,60,70,80,90,100], label=\"(b)\", \\\n",
    "    height=160, scale_factor=0.5, bbox_to_anchor=None, my_dpi=50)\n",
    "\n",
    "output_file_hd = current.config[\"output_path\"] + \"meteo/\" + basin_str + \"/temperature/hourly/meteo_\" \\\n",
    "    + 'temperature_passirio_hourly_spatialECDF_HD.' + output_format\n",
    "createPlot( plots, \"Temperature $[\\degree C]$\", \"ECDF\", output_file_hd, \\\n",
    "    xticks=[-30,-25,-20,-15,-10,-5,0,5,10,15,20,25,30], x_rot=35, yticks=[0,10,20,30,40,50,60,70,80,90,100], label=\"(b)\", \\\n",
    "    height=160, scale_factor=0.5, bbox_to_anchor=None, my_dpi=600)\n",
    "\n",
    "output_file = current.config[\"output_path\"] + \"meteo/\" + basin_str + \"/temperature/hourly/meteo_\" \\\n",
    "    + 'temperature_passirio_hourly_spatialECDF_log.' + output_format\n",
    "createPlot( plots, \"Temperature $[\\degree C]$\", \"ECDF\", output_file, \\\n",
    "    xticks=[-30,-25,-20,-15,-10,-5,0,5,10,15,20,25,30], x_rot=35, yticks=[0,10,20,30,40,50,60,70,80,90,100], label=\"(b)\", \\\n",
    "    height=160, scale_factor=0.5, bbox_to_anchor=None, my_dpi=50)\n",
    "\n",
    "output_file_hd = current.config[\"output_path\"] + \"meteo/\" + basin_str + \"/temperature/hourly/meteo_\" \\\n",
    "    + 'temperature_passirio_hourly_spatialECDF_log_HD.' + output_format\n",
    "createPlot( plots, \"Temperature $[\\degree C]$\", \"ECDF\", output_file_hd, \\\n",
    "    xticks=[-30,-25,-20,-15,-10,-5,0,5,10,15,20,25,30], x_rot=35, yticks=[0,10,20,30,40,50,60,70,80,90,100], label=\"(b)\", \\\n",
    "    height=160, scale_factor=0.5, bbox_to_anchor=None, my_dpi=600)"
   ]
  },
  {
   "cell_type": "code",
   "execution_count": 11,
   "metadata": {},
   "outputs": [],
   "source": [
    "# spatial ECDF - monthly\n",
    "temperature_rea_spatial_ecdf = evaluateECDF( temperature_rea_spatial_mean.resample('MS').mean() )\n",
    "temperature_kr11_spatial_ecdf = evaluateECDF( temperature_kr11_spatial_mean.resample('MS').mean() )\n",
    "\n",
    "plots = []\n",
    "\n",
    "plt_conf = {}\n",
    "plt_conf[\"label\"] = \"REA11x8\"\n",
    "plt_conf[\"color\"] = '#e66101'\n",
    "plots.append( (temperature_rea_spatial_ecdf, plt_conf) )\n",
    "\n",
    "plt_conf = {}\n",
    "plt_conf[\"label\"] = \"KR11x8\"\n",
    "plt_conf[\"color\"] = '#5e3c99'\n",
    "plots.append( (temperature_kr11_spatial_ecdf, plt_conf) )\n",
    "\n",
    "output_file = current.config[\"output_path\"] + \"meteo/\" + basin_str + \"/temperature/monthly/meteo_\" \\\n",
    "    + 'temperature_passirio_monthly_spatialECDF.' + output_format\n",
    "createPlot( plots, \"Temperature $[\\degree C]$\", \"ECDF\", output_file, \\\n",
    "    scale_factor=0.5, my_dpi=50)\n",
    "\n",
    "output_file_hd = current.config[\"output_path\"] + \"meteo/\" + basin_str + \"/temperature/monthly/meteo_\" \\\n",
    "    + 'temperature_passirio_monthly_spatialECDF_HD.' + output_format\n",
    "createPlot( plots, \"Temperature $[\\degree C]$\", \"ECDF\", output_file_hd, \\\n",
    "    scale_factor=0.5, my_dpi=600)\n",
    "\n",
    "output_file = current.config[\"output_path\"] + \"meteo/\" + basin_str + \"/temperature/monthly/meteo_\" \\\n",
    "    + 'temperature_passirio_monthly_spatialECDF_log.' + output_format\n",
    "createPlot( plots, \"Temperature $[\\degree C]$\", \"ECDF\", output_file, \\\n",
    "    xscale='log', scale_factor=0.5, my_dpi=50)\n",
    "\n",
    "output_file_hd = current.config[\"output_path\"] + \"meteo/\" + basin_str + \"/temperature/monthly/meteo_\" \\\n",
    "    + 'temperature_passirio_monthly_spatialECDF_log_HD.' + output_format\n",
    "createPlot( plots, \"Temperature $[\\degree C]$\", \"ECDF\", output_file_hd, \\\n",
    "    xscale='log', scale_factor=0.5, my_dpi=600)"
   ]
  },
  {
   "cell_type": "code",
   "execution_count": 12,
   "metadata": {},
   "outputs": [
    {
     "name": "stdout",
     "output_type": "stream",
     "text": [
      "-3.2187768870509794\n"
     ]
    }
   ],
   "source": [
    "rea = temperature_rea_spatial_ecdf\n",
    "kr = temperature_kr11_spatial_ecdf\n",
    "bias_min = np.array(rea.loc[(rea['cdf'] <= 5)].index).mean() - np.array(kr.loc[(kr['cdf'] <= 5)].index).mean()\n",
    "print(bias_min)"
   ]
  },
  {
   "cell_type": "code",
   "execution_count": 13,
   "metadata": {},
   "outputs": [
    {
     "name": "stdout",
     "output_type": "stream",
     "text": [
      "-1.0519769895833333\n"
     ]
    }
   ],
   "source": [
    "rea = temperature_rea_spatial_ecdf\n",
    "kr = temperature_kr11_spatial_ecdf\n",
    "bias_median = np.array(rea.loc[(rea['cdf'] >= 49.5) & (rea['cdf'] <= 50.5)].index).mean() - np.array(kr.loc[(kr['cdf'] >= 49.5) & (kr['cdf'] <= 50.5)].index).mean()\n",
    "print(bias_median)"
   ]
  },
  {
   "cell_type": "code",
   "execution_count": 14,
   "metadata": {},
   "outputs": [
    {
     "name": "stdout",
     "output_type": "stream",
     "text": [
      "0.09889318959080029\n"
     ]
    }
   ],
   "source": [
    "rea = temperature_rea_spatial_ecdf\n",
    "kr = temperature_kr11_spatial_ecdf\n",
    "bias_max = np.array(rea.loc[(rea['cdf'] >= 95)].index).mean() - np.array(kr.loc[(kr['cdf'] >= 95)].index).mean()\n",
    "print(bias_max)"
   ]
  },
  {
   "cell_type": "code",
   "execution_count": 15,
   "metadata": {},
   "outputs": [],
   "source": [
    "temperature_bias = temperature_rea_spatial_mean - temperature_kr11_spatial_mean\n",
    "\n",
    "#-------------------boxplot seasonal--------------------     \n",
    "temperature_bias_jan=temperature_bias.loc[(temperature_bias.index.month==1)]\n",
    "temperature_bias_feb=temperature_bias.loc[(temperature_bias.index.month==2)]\n",
    "temperature_bias_mar=temperature_bias.loc[(temperature_bias.index.month==3)]\n",
    "temperature_bias_apr=temperature_bias.loc[(temperature_bias.index.month==4)]\n",
    "temperature_bias_may=temperature_bias.loc[(temperature_bias.index.month==5)]\n",
    "temperature_bias_jun=temperature_bias.loc[(temperature_bias.index.month==6)]\n",
    "temperature_bias_jul=temperature_bias.loc[(temperature_bias.index.month==7)]\n",
    "temperature_bias_aug=temperature_bias.loc[(temperature_bias.index.month==8)]\n",
    "temperature_bias_sep=temperature_bias.loc[(temperature_bias.index.month==9)]\n",
    "temperature_bias_oct=temperature_bias.loc[(temperature_bias.index.month==10)]\n",
    "temperature_bias_nov=temperature_bias.loc[(temperature_bias.index.month==11)]\n",
    "temperature_bias_dec=temperature_bias.loc[(temperature_bias.index.month==12)]\n",
    "\n",
    "temperature_bias_w=pd.concat([temperature_bias_jan,temperature_bias_feb,temperature_bias_mar])\n",
    "temperature_bias_sp=pd.concat([temperature_bias_apr,temperature_bias_may,temperature_bias_jun])\n",
    "temperature_bias_su=pd.concat([temperature_bias_jul,temperature_bias_aug,temperature_bias_sep])\n",
    "temperature_bias_a=pd.concat([temperature_bias_oct,temperature_bias_nov,temperature_bias_dec])\n",
    "\n",
    "output_file = current.config[\"output_path\"] +  \"meteo/\" + basin_str + \"/temperature/\" + \"/hourly/seasonal/\" \\\n",
    "    + 'meteo_temperature_' + basin_str + '_hourly_boxplot_spatial_mean_cells_rea-kr11_winter.' + output_format\n",
    "createBoxPlot( temperature_bias_w, \"Time $[hour]$\", \"Temp. bias $[\\degree C]$\", \\\n",
    "    output_file, output_format=output_format, period=\"H\", scale_factor=0.5, my_dpi=50 )\n",
    "\n",
    "output_file_hd = current.config[\"output_path\"] +  \"meteo/\" + basin_str + \"/temperature/\" + \"/hourly/seasonal/\" \\\n",
    "    + 'meteo_temperature_' + basin_str + '_hourly_boxplot_spatial_mean_cells_rea-kr11_winter_HD.' + output_format\n",
    "createBoxPlot( temperature_bias_w, \"Time $[hour]$\", \"Temp. bias $[\\degree C]$\", \\\n",
    "    output_file_hd, output_format=output_format, period=\"H\", scale_factor=0.5, my_dpi=600 )\n",
    "\n",
    "output_file = current.config[\"output_path\"] +  \"meteo/\" + basin_str + \"/temperature/\" + \"/hourly/seasonal/\" \\\n",
    "    + 'meteo_temperature_' + basin_str + '_hourly_boxplot_spatial_mean_cells_rea-kr11_spring.' + output_format\n",
    "createBoxPlot( temperature_bias_sp, \"Time $[hour]$\", \"Temp. bias $[\\degree C]$\", \\\n",
    "    output_file, output_format=output_format, period=\"H\", scale_factor=0.5, my_dpi=50 )\n",
    "\n",
    "output_file_hd = current.config[\"output_path\"] +  \"meteo/\" + basin_str + \"/temperature/\" + \"/hourly/seasonal/\" \\\n",
    "    + 'meteo_temperature_' + basin_str + '_hourly_boxplot_spatial_mean_cells_rea-kr11_spring_HD.' + output_format\n",
    "createBoxPlot( temperature_bias_sp, \"Time $[hour]$\", \"Temp. bias $[\\degree C]$\", \\\n",
    "    output_file_hd, output_format=output_format, period=\"H\", scale_factor=0.5, my_dpi=600 )\n",
    "\n",
    "output_file = current.config[\"output_path\"] +  \"meteo/\" + basin_str + \"/temperature/\" + \"/hourly/seasonal/\" \\\n",
    "    + 'meteo_temperature_' + basin_str + '_hourly_boxplot_spatial_mean_cells_rea-kr11_summer.' + output_format\n",
    "createBoxPlot( temperature_bias_su, \"Time $[hour]$\", \"Temp. bias $[\\degree C]$\", \\\n",
    "    output_file, output_format=output_format, period=\"H\", scale_factor=0.5, my_dpi=50 )\n",
    "\n",
    "output_file_hd = current.config[\"output_path\"] +  \"meteo/\" + basin_str + \"/temperature/\" + \"/hourly/seasonal/\" \\\n",
    "    + 'meteo_temperature_' + basin_str + '_hourly_boxplot_spatial_mean_cells_rea-kr11_summer_HD.' + output_format\n",
    "createBoxPlot( temperature_bias_su, \"Time $[hour]$\", \"Temp. bias $[\\degree C]$\", \\\n",
    "    output_file_hd, output_format=output_format, period=\"H\", scale_factor=0.5, my_dpi=600 )\n",
    "\n",
    "output_file = current.config[\"output_path\"] + \"meteo/\" + basin_str + \"/temperature/\" + \"/hourly/seasonal/\" \\\n",
    "    + 'meteo_temperature_' + basin_str + '_hourly_boxplot_spatial_mean_cells_rea-kr11_autumn.' + output_format\n",
    "createBoxPlot( temperature_bias_a, \"Time $[hour]$\", \"Temp. bias $[\\degree C]$\", \\\n",
    "    output_file, output_format=output_format, period=\"H\", scale_factor=0.5, my_dpi=50 )\n",
    "\n",
    "output_file_hd = current.config[\"output_path\"] +  \"meteo/\" + basin_str + \"/temperature/\" + \"/hourly/seasonal/\" \\\n",
    "    + 'meteo_temperature_' + basin_str + '_hourly_boxplot_spatial_mean_cells_rea-kr11_autumn_HD.' + output_format\n",
    "createBoxPlot( temperature_bias_a, \"Time $[hour]$\", \"Temp. bias $[\\degree C]$\", \\\n",
    "    output_file_hd, output_format=output_format, period=\"H\", scale_factor=0.5, my_dpi=600 )"
   ]
  },
  {
   "cell_type": "code",
   "execution_count": 16,
   "metadata": {},
   "outputs": [
    {
     "name": "stdout",
     "output_type": "stream",
     "text": [
      "Min: -4.301339489919354\n",
      "Max: 0.969202494623656\n",
      "Mean: -1.2000030767846814\n"
     ]
    }
   ],
   "source": [
    "temperature_bias_monthly = temperature_bias.resample(\"MS\").mean()\n",
    "\n",
    "print(f\"Min: {temperature_bias_monthly.min()}\")\n",
    "print(f\"Max: {temperature_bias_monthly.max()}\")\n",
    "print(f\"Mean: {temperature_bias_monthly.mean()}\")"
   ]
  },
  {
   "cell_type": "code",
   "execution_count": 17,
   "metadata": {},
   "outputs": [
    {
     "name": "stdout",
     "output_type": "stream",
     "text": [
      "Total precipitation bias for Jan: -3.3\n",
      "Total precipitation bias for Feb: -2.2\n",
      "Total precipitation bias for Mar: -1.3\n",
      "Total precipitation bias for Apr: -0.8\n",
      "Total precipitation bias for May: -0.5\n",
      "Total precipitation bias for Jun: -0.0\n",
      "Total precipitation bias for Jul: 0.2\n",
      "Total precipitation bias for Aug: 0.0\n",
      "Total precipitation bias for Sep: -0.2\n",
      "Total precipitation bias for Oct: -0.9\n",
      "Total precipitation bias for Nov: -2.1\n",
      "Total precipitation bias for Dec: -3.2\n",
      "\n"
     ]
    }
   ],
   "source": [
    "result_string = \"\"\n",
    "months = ['Jan', 'Feb', 'Mar', 'Apr', 'May', 'Jun', 'Jul', 'Aug', 'Sep', 'Oct', 'Nov', 'Dec']\n",
    "\n",
    "for i, month in enumerate(months, start=1):\n",
    "    query_result = temperature_bias.loc[temperature_bias.index.month == i]\n",
    "    monthly_mean = query_result.mean()  # Calculate the mean for the month\n",
    "    result_string += f\"Total precipitation bias for {month}: {round(monthly_mean,1)}\\n\"\n",
    "\n",
    "print(result_string)"
   ]
  }
 ],
 "metadata": {
  "kernelspec": {
   "display_name": "Python 3",
   "language": "python",
   "name": "python3"
  },
  "language_info": {
   "codemirror_mode": {
    "name": "ipython",
    "version": 3
   },
   "file_extension": ".py",
   "mimetype": "text/x-python",
   "name": "python",
   "nbconvert_exporter": "python",
   "pygments_lexer": "ipython3",
   "version": "3.10.12"
  },
  "metadata": {
   "interpreter": {
    "hash": "63d5e5d3ef3ec13453f007c86728ea82bf14ea96ebb0a2fb9c639ae49af1dbf7"
   }
  },
  "orig_nbformat": 2,
  "vscode": {
   "interpreter": {
    "hash": "916dbcbb3f70747c44a77c7bcd40155683ae19c65e1c03b4aa3499c5328201f1"
   }
  }
 },
 "nbformat": 4,
 "nbformat_minor": 2
}
