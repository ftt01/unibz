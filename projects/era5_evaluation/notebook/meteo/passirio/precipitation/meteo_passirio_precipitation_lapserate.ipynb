{
 "cells": [
  {
   "attachments": {},
   "cell_type": "markdown",
   "metadata": {},
   "source": [
    "## DESCRIPTION\n",
    "# lapse rate for the precipitation parameter G\n",
    "\n",
    "\n",
    "\n",
    "#### THIS FILE MUST BE COMPLETED\n",
    "## KR1x1\n",
    "1. read the /media/windows/projects/era5_bias/kriging/old/kriging/AltoAdige/P_AltoAdige.krig\n",
    "2. read the /media/windows/projects/era5_bias/kriging/old/IDsubbs_IDgrid.csv\n",
    "3. select only the cells in the 2. from the 1.\n",
    "4. plot\n",
    "## KR11x8\n",
    "1. read all csv in /media/windows/projects/era5_bias/02_calibration_validation/hydro_modelling/Passirio/meteo/kriging/observations/11x8/precipitation/ that represent the cells in the domain of Passirio\n",
    "## REA11x8\n",
    "1. read all csv in /media/windows/projects/era5_bias/02_calibration_validation/hydro_modelling/Passirio/meteo/reanalysis/observations/precipitation/ that represent the cells in the domain of Passirio"
   ]
  },
  {
   "cell_type": "code",
   "execution_count": null,
   "metadata": {},
   "outputs": [],
   "source": [
    "import sys\n",
    "\n",
    "lib_dir = \"/home/daniele/documents/github/ftt01/phd/share/lib\"\n",
    "sys.path.insert( 0, lib_dir )"
   ]
  },
  {
   "cell_type": "code",
   "execution_count": null,
   "metadata": {},
   "outputs": [],
   "source": [
    "from lib import *"
   ]
  },
  {
   "cell_type": "code",
   "execution_count": null,
   "metadata": {},
   "outputs": [],
   "source": [
    "import logging"
   ]
  },
  {
   "cell_type": "code",
   "execution_count": null,
   "metadata": {},
   "outputs": [],
   "source": [
    "def evaluateParameterG( z_i, z_mean, p_i, p_mean ):\n",
    "    return 1000 / ( z_i - z_mean ) * ( (p_i / p_mean) - 1 )\n",
    "\n",
    "def evaluateParameterGfromSlope( p_mean, slope ):\n",
    "    p_mean_plus1000 = p_mean + slope * 1000\n",
    "    return (p_mean_plus1000 - p_mean) / p_mean"
   ]
  },
  {
   "cell_type": "code",
   "execution_count": null,
   "metadata": {},
   "outputs": [],
   "source": [
    "def scatter_plot_interpolated(basin, model, precipitation_df, output_path, output_logpath):\n",
    "\n",
    "    logging.basicConfig(filename=output_logpath.format(\n",
    "        output_path=output_path,\n",
    "        model=model\n",
    "    ), format='%(asctime)s - %(message)s', level=logging.INFO)\n",
    "\n",
    "    diff_p = list( precipitation_df['precipitation'] )\n",
    "    elevation = list( precipitation_df['elevation'] )\n",
    "\n",
    "    fig, axs = instantiatePlot( \"Precipitation $[mm/year]$\",\"Elevation $[m]$\" )\n",
    "\n",
    "    axs.scatter( diff_p, elevation, s=10 ) \n",
    "    # axs.set_xlim([min(diff_p)-100,max(diff_p)+100])\n",
    "    # axs.set_ylim([0,max(elevation)+50])\n",
    "    axs.set_xlim([500,2000])\n",
    "    axs.set_ylim([1000,3500])\n",
    "\n",
    "    axs.set_xticks([1000,1250,1500,1750])\n",
    "    axs.set_yticks([1500,2000,2500,3000])\n",
    "\n",
    "    z1 = np.polyfit( diff_p, elevation, 1 )\n",
    "    p1 = np.poly1d(z1)\n",
    "\n",
    "    cc_p  =  np.corrcoef(diff_p, elevation)\n",
    "    logging.info( \"KR1x1 correlation: \" + str(cc_p[0][1]) )\n",
    "    axs.plot( elevation, p1(elevation), \"r--\" )\n",
    "\n",
    "    cc_p  =  np.corrcoef(diff_p, elevation)\n",
    "\n",
    "    output_file_hd = output_path + 'meteo_' + model + '_' + basin + '_precipitation_over_elevation_hd.' + output_format\n",
    "\n",
    "    mkNestedDir(getPathFromFilepath(output_file_hd))\n",
    "    fig.savefig( output_file_hd, format=output_format, bbox_inches='tight', facecolor='w', dpi=600 )\n",
    "\n",
    "    ## evaluation of parameter G\n",
    "    z_mean=precipitation_df['elevation'].mean()\n",
    "    logging.info( basin + \" mean elevation: \" + str(z_mean) )\n",
    "    p_mean=precipitation_df['precipitation'].mean()\n",
    "    logging.info( basin + \" mean precipitation: \" + str(p_mean) )\n",
    "\n",
    "    param_g = evaluateParameterGfromSlope( p_mean, p1[1] )\n",
    "\n",
    "    logging.info( basin + \" linear regression slope: \" + str(p1[1]) )\n",
    "    logging.info( basin + \" evaluated G: \" + str(param_g) )"
   ]
  },
  {
   "cell_type": "code",
   "execution_count": null,
   "metadata": {},
   "outputs": [],
   "source": [
    "wdir = \"/home/daniele/documents/github/ftt01/phd/projects/era5_evaluation/\"\n",
    "output_path = \"/media/windows/projects/era5_bias/01_preprocessing/\""
   ]
  },
  {
   "cell_type": "code",
   "execution_count": null,
   "metadata": {},
   "outputs": [],
   "source": [
    "## SETUP\n",
    "basin = 'Passirio'\n",
    "output_path = output_path + \"meteo/\" + basin + \"/precipitation/over_elevation/\"\n",
    "mkNestedDir(output_path)\n",
    "\n",
    "start_date_str = \"2010-01-01T00:00:00\"\n",
    "end_date_str = \"2019-12-31T23:00:00\"\n",
    "start_date = dt.datetime.strptime( start_date_str, '%Y-%m-%dT%H:%M:%S' )\n",
    "end_date = dt.datetime.strptime( end_date_str, '%Y-%m-%dT%H:%M:%S' )\n",
    "dates = pd.date_range(start_date, end_date, freq='h')"
   ]
  },
  {
   "cell_type": "code",
   "execution_count": null,
   "metadata": {},
   "outputs": [],
   "source": [
    "# ### KR1x1\n",
    "\n",
    "# kriging_precipitation_file = \"/media/windows/projects/era5_bias/kriging/old/kriging/AltoAdige/P_AltoAdige.krig\"\n",
    "# grid_metadata = \"/media/windows/projects/era5_bias/kriging/old/grid_1x1km_Adige_river.csv\"\n",
    "\n",
    "# # Reading kriging grid metadata - all Adige river cells\n",
    "# df_grid = pd.read_csv( grid_metadata, index_col=0 )\n",
    "# df_elev = df_grid['Elevation']\n",
    "\n",
    "# # df_T = pd.DataFrame(index=dates,columns=['Tinter','Tslope'])\n",
    "# # df_P = pd.DataFrame(index=dates,columns=IDsubbs)\n",
    "\n",
    "# ### data entire Alto Adige\n",
    "# df_p = pd.read_csv( kriging_precipitation_file, parse_dates=True, index_col=0 )\n",
    "# df_p['dates'] = dates\n",
    "# df_p.set_index( 'dates',inplace=True )\n",
    "\n",
    "# krig_p = df_p\n",
    "\n",
    "# precipitation_yearly_mean = df_p.resample('Y').sum()\n",
    "\n",
    "# precipitation_yearly_mean_mean = precipitation_yearly_mean.mean()\n",
    "\n",
    "# precipitation_df = pd.DataFrame(columns=['id', 'elevation', 'precipitation'])\n",
    "# for id in precipitation_yearly_mean_mean.index:\n",
    "#     if df_elev[int(id)] != -999:\n",
    "#             # if prec > 400:\n",
    "#         precipitation_df = precipitation_df.append({'id':str(id), 'elevation':df_elev[int(id)], \\\n",
    "#             'precipitation': precipitation_yearly_mean_mean[str(id)]}, ignore_index=True)\n",
    "# precipitation_df = precipitation_df.set_index('id')\n",
    "\n",
    "# ## PLOT and G\n",
    "# scatter_plot_interpolated(basin, 'KR1x1', precipitation_df, output_path, output_log)"
   ]
  },
  {
   "cell_type": "code",
   "execution_count": null,
   "metadata": {},
   "outputs": [],
   "source": [
    "### KR11x8\n",
    " \n",
    "path_in = \"/media/windows/projects/era5_bias/02_calibration_validation/hydro_modelling/Passirio/meteo/kriging/observations/11x8/precipitation/\"\n",
    "cells_data = glob.glob( path_in + '*.csv')\n",
    "\n",
    "i = 0\n",
    "precipitation = pd.DataFrame() # dataframe kriging with all data in the directory\n",
    "df_elev = pd.DataFrame(columns=['id', 'elevation'])\n",
    "for file in cells_data:\n",
    "    col = file.removeprefix(path_in).strip('.csv')\n",
    "    # if int(col) in list(ids_in['id']):\n",
    "    curr_id = int( pd.read_csv( file, index_col=0, header=None ).loc['ID'] )\n",
    "    curr_elev = int( pd.read_csv( file, index_col=0, header=None ).loc['z'] )\n",
    "    data_tot = pd.read_csv( file, index_col=0, parse_dates=True, skiprows=4, names=[col] )\n",
    "    data_tot = data_tot[start_date:end_date]\n",
    "\n",
    "    df_elev = df_elev.append({'id': curr_id, 'elevation': curr_elev}, ignore_index=True)\n",
    "    precipitation = pd.concat([precipitation,data_tot],axis=1)\n",
    "    i = i + 1\n",
    "\n",
    "df_elev.set_index('id', inplace=True)\n",
    "\n",
    "precipitation_yearly_mean = precipitation.resample('Y').sum()\n",
    "precipitation_yearly_mean_mean = precipitation_yearly_mean.mean()\n",
    "\n",
    "precipitation_df = pd.DataFrame(columns=['id', 'elevation', 'precipitation'])\n",
    "for id in precipitation_yearly_mean_mean.index:\n",
    "    e = df_elev.loc[int(id),'elevation']\n",
    "    if e != -999:\n",
    "        precipitation_df = precipitation_df.append({'id':str(id), 'elevation':float(e), \\\n",
    "            'precipitation': float(precipitation_yearly_mean_mean[str(id)])}, ignore_index=True)\n",
    "precipitation_df = precipitation_df.set_index('id')\n",
    "\n",
    "## PLOT and G\n",
    "scatter_plot_interpolated(basin, 'KR11x8', precipitation_df, output_path, output_path)"
   ]
  },
  {
   "cell_type": "code",
   "execution_count": null,
   "metadata": {},
   "outputs": [],
   "source": [
    "### REA11x8\n",
    "\n",
    "path_in = \"/media/windows/projects/era5_bias/02_calibration_validation/hydro_modelling/Passirio/meteo/reanalysis/observations/precipitation/\"\n",
    "cells_data = glob.glob( path_in + '*.csv')\n",
    "\n",
    "i = 0\n",
    "precipitation = pd.DataFrame() # dataframe kriging with all data in the directory\n",
    "df_elev = pd.DataFrame(columns=['id', 'elevation'])\n",
    "for file in cells_data:\n",
    "    col = file.removeprefix(path_in).strip('.csv')\n",
    "    # if int(col) in list(ids_in['id']):\n",
    "    curr_id = int( pd.read_csv( file, index_col=0, header=None ).loc['ID'] )\n",
    "    curr_elev = int( pd.read_csv( file, index_col=0, header=None ).loc['z'] )\n",
    "    data_tot = pd.read_csv( file, index_col=0, parse_dates=True, skiprows=4, names=[col] )\n",
    "    data_tot = data_tot[start_date:end_date]\n",
    "\n",
    "    df_elev = df_elev.append({'id': curr_id, 'elevation': curr_elev}, ignore_index=True)\n",
    "    precipitation = pd.concat([precipitation,data_tot],axis=1)\n",
    "    i = i + 1\n",
    "   \n",
    "\n",
    "df_elev.set_index('id', inplace=True)\n",
    "\n",
    "precipitation_yearly_mean = precipitation.resample('Y').sum()\n",
    "precipitation_yearly_mean_mean = precipitation_yearly_mean.mean()\n",
    "\n",
    "precipitation_df = pd.DataFrame(columns=['id', 'elevation', 'precipitation'])\n",
    "for id in precipitation_yearly_mean_mean.index:\n",
    "    e = df_elev.loc[int(id),'elevation']\n",
    "    if e != -999:\n",
    "        precipitation_df = precipitation_df.append({'id':str(id), 'elevation':float(e), \\\n",
    "            'precipitation': float(precipitation_yearly_mean_mean[str(id)])}, ignore_index=True)\n",
    "precipitation_df = precipitation_df.set_index('id')\n",
    "\n",
    "## PLOT and G\n",
    "scatter_plot_interpolated(basin, 'REA11x8', precipitation_df, output_path, output_path)"
   ]
  },
  {
   "cell_type": "code",
   "execution_count": null,
   "metadata": {},
   "outputs": [],
   "source": []
  },
  {
   "cell_type": "code",
   "execution_count": null,
   "metadata": {},
   "outputs": [],
   "source": []
  }
 ],
 "metadata": {
  "kernelspec": {
   "display_name": "Python 3.10.6 64-bit",
   "language": "python",
   "name": "python3"
  },
  "language_info": {
   "codemirror_mode": {
    "name": "ipython",
    "version": 3
   },
   "file_extension": ".py",
   "mimetype": "text/x-python",
   "name": "python",
   "nbconvert_exporter": "python",
   "pygments_lexer": "ipython3",
   "version": "3.10.6"
  },
  "metadata": {
   "interpreter": {
    "hash": "63d5e5d3ef3ec13453f007c86728ea82bf14ea96ebb0a2fb9c639ae49af1dbf7"
   }
  },
  "orig_nbformat": 2,
  "vscode": {
   "interpreter": {
    "hash": "916dbcbb3f70747c44a77c7bcd40155683ae19c65e1c03b4aa3499c5328201f1"
   }
  }
 },
 "nbformat": 4,
 "nbformat_minor": 2
}
