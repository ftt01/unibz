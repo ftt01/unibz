{
 "cells": [
  {
   "cell_type": "code",
   "execution_count": 1,
   "metadata": {},
   "outputs": [],
   "source": [
    "## DESCRIPTION\n",
    "# meteo_precipitation_passirio_cells_rea11_kr11\n",
    "# meteo_precipitation_passirio_monthly_cellsBoxplot_kr11-rea11"
   ]
  },
  {
   "cell_type": "code",
   "execution_count": 2,
   "metadata": {},
   "outputs": [],
   "source": [
    "import sys\n",
    "\n",
    "lib_dir = \"/home/daniele/documents/github/ftt01/phd/share/lib\"\n",
    "sys.path.insert( 0, lib_dir )"
   ]
  },
  {
   "cell_type": "code",
   "execution_count": 3,
   "metadata": {},
   "outputs": [],
   "source": [
    "from lib import *"
   ]
  },
  {
   "cell_type": "code",
   "execution_count": 4,
   "metadata": {},
   "outputs": [],
   "source": [
    "wdir = \"/home/daniele/documents/github/ftt01/phd/projects/era5_evaluation/\"\n",
    "current = DataCollector(configPath=wdir + \"etc/conf/\")"
   ]
  },
  {
   "cell_type": "code",
   "execution_count": 5,
   "metadata": {},
   "outputs": [],
   "source": [
    "## SETUP\n",
    "basin = 'passirio'\n",
    "# for output name\n",
    "basin_str = 'passirio'\n",
    "\n",
    "start_date_str = \"2010-01-01T00:00:00\"\n",
    "end_date_str = \"2019-12-31T23:00:00\"\n",
    "start_date = dt.datetime.strptime( start_date_str, '%Y-%m-%dT%H:%M:%S' )\n",
    "end_date = dt.datetime.strptime( end_date_str, '%Y-%m-%dT%H:%M:%S' )"
   ]
  },
  {
   "cell_type": "code",
   "execution_count": 6,
   "metadata": {},
   "outputs": [],
   "source": [
    "## REANALYSIS DATASET ##\n",
    "for el in current.sim_config:\n",
    "    if el['basin'] == basin:\n",
    "        meteo_stations_rea_path =  el[\"sim_path\"] + el[\"meteo_path\"] + \"reanalysis/observations/precipitation/\"\n",
    "        # print(meteo_stations_rea_path)\n",
    "        precipitation_df_rea = pd.DataFrame()\n",
    "\n",
    "        p_file_tot = glob.glob( meteo_stations_rea_path + '*.csv')\n",
    "        \n",
    "        for p_file in p_file_tot:\n",
    "            data_tot = pd.read_csv(p_file, header=0, index_col=0, \\\n",
    "                skiprows=4, parse_dates=True, names=[ os.path.basename(p_file)[:-4] ])\n",
    "            data_tot = data_tot[start_date:end_date]\n",
    "            data_tot[data_tot == -999] = None\n",
    "            precipitation_df_rea = pd.concat([precipitation_df_rea, data_tot],axis=1)\n",
    "\n",
    "# precipitation_rea_sum = precipitation_df_rea.resample('MS').sum()\n",
    "precipitation_rea_spatial_mean = precipitation_df_rea.mean(axis=1)"
   ]
  },
  {
   "cell_type": "code",
   "execution_count": 7,
   "metadata": {},
   "outputs": [],
   "source": [
    "## KRIGING 11X8 DATASET ##\n",
    "for el in current.sim_config:\n",
    "    if el['basin'] == basin:\n",
    "        meteo_stations_kr11_path =  el[\"sim_path\"] + el[\"meteo_path\"] + \"kriging/observations/11x8/precipitation/\"\n",
    "           \n",
    "        precipitation_df_kr11 = pd.DataFrame()\n",
    "\n",
    "        p_file_tot = glob.glob( meteo_stations_kr11_path + '*.csv')\n",
    "        \n",
    "        for p_file in p_file_tot:\n",
    "            data_tot = pd.read_csv(p_file, header=0, index_col=0, \\\n",
    "                skiprows=4, parse_dates=True, names=[ os.path.basename(p_file)[:-4] ])\n",
    "            data_tot = data_tot[start_date:end_date]\n",
    "            data_tot[data_tot == -999] = None\n",
    "            precipitation_df_kr11 = pd.concat([precipitation_df_kr11, data_tot],axis=1)\n",
    "\n",
    "precipitation_kr11_spatial_mean = precipitation_df_kr11.mean(axis=1)"
   ]
  },
  {
   "cell_type": "code",
   "execution_count": 8,
   "metadata": {},
   "outputs": [],
   "source": [
    "# boxplot monthly bias\n",
    "precipitation_bias = precipitation_rea_spatial_mean - \\\n",
    "    precipitation_kr11_spatial_mean\n",
    "precipitation_bias_monthly_sum = precipitation_bias.resample('MS').sum()\n",
    "\n",
    "output_path = current.config[\"output_path\"] +  \"meteo/\" + basin_str + \"/precipitation/\" + \"/monthly/\" \\\n",
    "    + \"meteo_precipitation_\" + basin_str + \\\n",
    "    \"_monthly_spatial_mean_cells_boxplot_rea-kr11.\" + output_format\n",
    "createBoxPlot(precipitation_bias_monthly_sum,  \"Time $[month]$\", 'Prec. bias $[mm/month]$',\n",
    "              output_path, label=\"(a)\", period='MS', scale_factor=0.5, output_format=output_format, my_dpi=50)\n",
    "\n",
    "output_path_hd = current.config[\"output_path\"] +  \"meteo/\" + basin_str + \"/precipitation/\" + \"/monthly/\" \\\n",
    "    + \"meteo_precipitation_\" + basin_str + \\\n",
    "    \"_monthly_spatial_mean_cells_boxplot_rea-kr11_HD.\" + output_format\n",
    "createBoxPlot(precipitation_bias_monthly_sum,  \"Time $[month]$\", 'Prec. bias $[mm/month]$', output_path_hd,\n",
    "              label=\"(a)\", period='MS', scale_factor=0.5, output_format=output_format, my_dpi=600)"
   ]
  },
  {
   "cell_type": "code",
   "execution_count": 9,
   "metadata": {},
   "outputs": [],
   "source": [
    "# spatial ECDF - hourly\n",
    "precipitation_rea_spatial_ecdf = evaluateECDF( precipitation_rea_spatial_mean )\n",
    "precipitation_kr11_spatial_ecdf = evaluateECDF( precipitation_kr11_spatial_mean )\n",
    "\n",
    "plots = []\n",
    "\n",
    "plt_conf = {}\n",
    "plt_conf[\"label\"] = \"REA11x8\"\n",
    "plt_conf[\"color\"] = '#e66101'\n",
    "plots.append( (precipitation_rea_spatial_ecdf, plt_conf) )\n",
    "\n",
    "plt_conf = {}\n",
    "plt_conf[\"label\"] = \"KR11x8\"\n",
    "plt_conf[\"color\"] = '#5e3c99'\n",
    "plots.append( (precipitation_kr11_spatial_ecdf, plt_conf) )\n",
    "\n",
    "output_file = current.config[\"output_path\"] + \"meteo/\" + basin_str + \"/precipitation/hourly/meteo_\" \\\n",
    "    + 'precipitation_passirio_hourly_spatialECDF.' + output_format\n",
    "createPlot( plots, \"Precipitation $[mm/hour]$\", \"ECDF\", output_file, \\\n",
    "    scale_factor=0.5, my_dpi=50)\n",
    "\n",
    "output_file_hd = current.config[\"output_path\"] + \"meteo/\" + basin_str + \"/precipitation/hourly/meteo_\" \\\n",
    "    + 'precipitation_passirio_hourly_spatialECDF_HD.' + output_format\n",
    "createPlot( plots, \"Precipitation $[mm/hour]$\", \"ECDF\", output_file_hd, \\\n",
    "    scale_factor=0.5, my_dpi=600)\n",
    "\n",
    "output_file = current.config[\"output_path\"] + \"meteo/\" + basin_str + \"/precipitation/hourly/meteo_\" \\\n",
    "    + 'precipitation_passirio_hourly_spatialECDF_log.' + output_format\n",
    "createPlot( plots, \"Precipitation $[mm/hour]$\", \"ECDF\", output_file, \\\n",
    "    xscale='log', scale_factor=0.5, my_dpi=50)\n",
    "\n",
    "output_file_hd = current.config[\"output_path\"] + \"meteo/\" + basin_str + \"/precipitation/hourly/meteo_\" \\\n",
    "    + 'precipitation_passirio_hourly_spatialECDF_log_HD.' + output_format\n",
    "createPlot( plots, \"Precipitation $[mm/hour]$\", \"ECDF\", output_file_hd, \\\n",
    "    xscale='log', scale_factor=0.5, my_dpi=600)"
   ]
  },
  {
   "cell_type": "code",
   "execution_count": 10,
   "metadata": {},
   "outputs": [],
   "source": [
    "# spatial ECDF - monthly\n",
    "precipitation_rea_spatial_ecdf = evaluateECDF( precipitation_rea_spatial_mean.resample('MS').sum() )\n",
    "precipitation_kr11_spatial_ecdf = evaluateECDF( precipitation_kr11_spatial_mean.resample('MS').sum() )\n",
    "\n",
    "plots = []\n",
    "\n",
    "plt_conf = {}\n",
    "plt_conf[\"label\"] = \"REA11x8\"\n",
    "plt_conf[\"color\"] = '#e66101'\n",
    "plots.append( (precipitation_rea_spatial_ecdf, plt_conf) )\n",
    "\n",
    "plt_conf = {}\n",
    "plt_conf[\"label\"] = \"KR11x8\"\n",
    "plt_conf[\"color\"] = '#5e3c99'\n",
    "plots.append( (precipitation_kr11_spatial_ecdf, plt_conf) )\n",
    "\n",
    "output_file = current.config[\"output_path\"] + \"meteo/\" + basin_str + \"/precipitation/monthly/meteo_\" \\\n",
    "    + 'precipitation_passirio_monthly_spatialECDF.' + output_format\n",
    "createPlot( plots, \"Precipitation $[mm/month]$\", \"ECDF\", output_file, \\\n",
    "    scale_factor=0.5, my_dpi=50)\n",
    "\n",
    "output_file_hd = current.config[\"output_path\"] + \"meteo/\" + basin_str + \"/precipitation/monthly/meteo_\" \\\n",
    "    + 'precipitation_passirio_monthly_spatialECDF_HD.' + output_format\n",
    "createPlot( plots, \"Precipitation $[mm/month]$\", \"ECDF\", output_file_hd, \\\n",
    "    scale_factor=0.5, my_dpi=600)\n",
    "\n",
    "output_file = current.config[\"output_path\"] + \"meteo/\" + basin_str + \"/precipitation/monthly/meteo_\" \\\n",
    "    + 'precipitation_passirio_monthly_spatialECDF_log.' + output_format\n",
    "createPlot( plots, \"Precipitation $[mm/month]$\", \"ECDF\", output_file, \\\n",
    "    xscale='log', scale_factor=0.5, my_dpi=50)\n",
    "\n",
    "output_file_hd = current.config[\"output_path\"] + \"meteo/\" + basin_str + \"/precipitation/monthly/meteo_\" \\\n",
    "    + 'precipitation_passirio_monthly_spatialECDF_log_HD.' + output_format\n",
    "createPlot( plots, \"Precipitation $[mm/month]$\", \"ECDF\", output_file_hd, \\\n",
    "    xscale='log', scale_factor=0.5, my_dpi=600)"
   ]
  },
  {
   "cell_type": "code",
   "execution_count": 11,
   "metadata": {},
   "outputs": [
    {
     "name": "stdout",
     "output_type": "stream",
     "text": [
      "14.257851851851854\n"
     ]
    }
   ],
   "source": [
    "rea = precipitation_rea_spatial_ecdf\n",
    "kr = precipitation_kr11_spatial_ecdf\n",
    "bias_min = np.array(rea.loc[(rea['cdf'] <= 5)].index).mean() - np.array(kr.loc[(kr['cdf'] <= 5)].index).mean()\n",
    "print(bias_min)"
   ]
  },
  {
   "cell_type": "code",
   "execution_count": 12,
   "metadata": {},
   "outputs": [
    {
     "name": "stdout",
     "output_type": "stream",
     "text": [
      "36.55283333333334\n"
     ]
    }
   ],
   "source": [
    "rea = precipitation_rea_spatial_ecdf\n",
    "kr = precipitation_kr11_spatial_ecdf\n",
    "bias_median = np.array(rea.loc[(rea['cdf'] >= 49.5) & (rea['cdf'] <= 50.5)].index).mean() - np.array(kr.loc[(kr['cdf'] >= 49.5) & (kr['cdf'] <= 50.5)].index).mean()\n",
    "print(bias_median)"
   ]
  },
  {
   "cell_type": "code",
   "execution_count": 13,
   "metadata": {},
   "outputs": [
    {
     "name": "stdout",
     "output_type": "stream",
     "text": [
      "33.19244444444442\n"
     ]
    }
   ],
   "source": [
    "rea = precipitation_rea_spatial_ecdf\n",
    "kr = precipitation_kr11_spatial_ecdf\n",
    "bias_max = np.array(rea.loc[(rea['cdf'] >= 95)].index).mean() - np.array(kr.loc[(kr['cdf'] >= 95)].index).mean()\n",
    "print(bias_max)"
   ]
  },
  {
   "cell_type": "code",
   "execution_count": 14,
   "metadata": {},
   "outputs": [],
   "source": [
    "precipitation_bias = precipitation_rea_spatial_mean - precipitation_kr11_spatial_mean\n",
    "\n",
    "#-------------------boxplot seasonal--------------------     \n",
    "precipitation_bias_jan=precipitation_bias.loc[(precipitation_bias.index.month==1)]\n",
    "precipitation_bias_feb=precipitation_bias.loc[(precipitation_bias.index.month==2)]\n",
    "precipitation_bias_mar=precipitation_bias.loc[(precipitation_bias.index.month==3)]\n",
    "precipitation_bias_apr=precipitation_bias.loc[(precipitation_bias.index.month==4)]\n",
    "precipitation_bias_may=precipitation_bias.loc[(precipitation_bias.index.month==5)]\n",
    "precipitation_bias_jun=precipitation_bias.loc[(precipitation_bias.index.month==6)]\n",
    "precipitation_bias_jul=precipitation_bias.loc[(precipitation_bias.index.month==7)]\n",
    "precipitation_bias_aug=precipitation_bias.loc[(precipitation_bias.index.month==8)]\n",
    "precipitation_bias_sep=precipitation_bias.loc[(precipitation_bias.index.month==9)]\n",
    "precipitation_bias_oct=precipitation_bias.loc[(precipitation_bias.index.month==10)]\n",
    "precipitation_bias_nov=precipitation_bias.loc[(precipitation_bias.index.month==11)]\n",
    "precipitation_bias_dec=precipitation_bias.loc[(precipitation_bias.index.month==12)]\n",
    "\n",
    "precipitation_bias_w=pd.concat([precipitation_bias_jan,precipitation_bias_feb,precipitation_bias_mar])\n",
    "precipitation_bias_sp=pd.concat([precipitation_bias_apr,precipitation_bias_may,precipitation_bias_jun])\n",
    "precipitation_bias_su=pd.concat([precipitation_bias_jul,precipitation_bias_aug,precipitation_bias_sep])\n",
    "precipitation_bias_a=pd.concat([precipitation_bias_oct,precipitation_bias_nov,precipitation_bias_dec])\n",
    "\n",
    "output_file = current.config[\"output_path\"] +  \"meteo/\" + basin_str + \"/precipitation/\" + \"/hourly/seasonal/\" \\\n",
    "    + 'meteo_precipitation_' + basin_str + '_hourly_boxplot_spatial_mean_cells_rea-kr11_winter.' + output_format\n",
    "createBoxPlot( precipitation_bias_w, \"Time $[hour]$\", \"Prec. $[mm/hour]$\", \\\n",
    "    output_file, output_format=output_format, period=\"H\", scale_factor=0.5, my_dpi=50 )\n",
    "\n",
    "output_file_hd = current.config[\"output_path\"] +  \"meteo/\" + basin_str + \"/precipitation/\" + \"/hourly/seasonal/\" \\\n",
    "    + 'meteo_precipitation_' + basin_str + '_hourly_boxplot_spatial_mean_cells_rea-kr11_winter_HD.' + output_format\n",
    "createBoxPlot( precipitation_bias_w, \"Time $[hour]$\", \"Prec. $[mm/hour]$\", \\\n",
    "    output_file_hd, output_format=output_format, period=\"H\", scale_factor=0.5, my_dpi=600 )\n",
    "\n",
    "output_file = current.config[\"output_path\"] +  \"meteo/\" + basin_str + \"/precipitation/\" + \"/hourly/seasonal/\" \\\n",
    "    + 'meteo_precipitation_' + basin_str + '_hourly_boxplot_spatial_mean_cells_rea-kr11_spring.' + output_format\n",
    "createBoxPlot( precipitation_bias_sp, \"Time $[hour]$\", \"Prec. $[mm/hour]$\", \\\n",
    "    output_file, output_format=output_format, period=\"H\", scale_factor=0.5, my_dpi=50 )\n",
    "\n",
    "output_file_hd = current.config[\"output_path\"] +  \"meteo/\" + basin_str + \"/precipitation/\" + \"/hourly/seasonal/\" \\\n",
    "    + 'meteo_precipitation_' + basin_str + '_hourly_boxplot_spatial_mean_cells_rea-kr11_spring_HD.' + output_format\n",
    "createBoxPlot( precipitation_bias_sp, \"Time $[hour]$\", \"Prec. $[mm/hour]$\", \\\n",
    "    output_file_hd, output_format=output_format, period=\"H\", scale_factor=0.5, my_dpi=600 )\n",
    "\n",
    "output_file = current.config[\"output_path\"] +  \"meteo/\" + basin_str + \"/precipitation/\" + \"/hourly/seasonal/\" \\\n",
    "    + 'meteo_precipitation_' + basin_str + '_hourly_boxplot_spatial_mean_cells_rea-kr11_summer.' + output_format\n",
    "createBoxPlot( precipitation_bias_su, \"Time $[hour]$\", \"Prec. $[mm/hour]$\", \\\n",
    "    output_file, output_format=output_format, period=\"H\", scale_factor=0.5, my_dpi=50 )\n",
    "\n",
    "output_file_hd = current.config[\"output_path\"] +  \"meteo/\" + basin_str + \"/precipitation/\" + \"/hourly/seasonal/\" \\\n",
    "    + 'meteo_precipitation_' + basin_str + '_hourly_boxplot_spatial_mean_cells_rea-kr11_summer_HD.' + output_format\n",
    "createBoxPlot( precipitation_bias_su, \"Time $[hour]$\", \"Prec. $[mm/hour]$\", \\\n",
    "    output_file_hd, output_format=output_format, period=\"H\", scale_factor=0.5, my_dpi=600 )\n",
    "\n",
    "output_file = current.config[\"output_path\"] + \"meteo/\" + basin_str + \"/precipitation/\" + \"/hourly/seasonal/\" \\\n",
    "    + 'meteo_precipitation_' + basin_str + '_hourly_boxplot_spatial_mean_cells_rea-kr11_autumn.' + output_format\n",
    "createBoxPlot( precipitation_bias_a, \"Time $[hour]$\", \"Prec. $[mm/hour]$\", \\\n",
    "    output_file, output_format=output_format, period=\"H\", scale_factor=0.5, my_dpi=50 )\n",
    "\n",
    "output_file_hd = current.config[\"output_path\"] +  \"meteo/\" + basin_str + \"/precipitation/\" + \"/hourly/seasonal/\" \\\n",
    "    + 'meteo_precipitation_' + basin_str + '_hourly_boxplot_spatial_mean_cells_rea-kr11_autumn_HD.' + output_format\n",
    "createBoxPlot( precipitation_bias_a, \"Time $[hour]$\", \"Prec. $[mm/hour]$\", \\\n",
    "    output_file_hd, output_format=output_format, period=\"H\", scale_factor=0.5, my_dpi=600 )"
   ]
  },
  {
   "cell_type": "code",
   "execution_count": 15,
   "metadata": {},
   "outputs": [],
   "source": [
    "# exceedance probability plot - hourly\n",
    "precipitation_rea_fd_mod = precipitation_rea_spatial_mean\n",
    "precipitation_rea_fd_mod[precipitation_rea_fd_mod<=0.01] = 0\n",
    "precipitation_rea_fd_mod.dropna(inplace=True)\n",
    "\n",
    "precipitation_kr11_fd_mod = precipitation_kr11_spatial_mean\n",
    "precipitation_kr11_fd_mod[precipitation_kr11_fd_mod<=0.01] = 0\n",
    "precipitation_kr11_fd_mod.dropna(inplace=True)\n",
    "\n",
    "precipitation_rea_spatial_fd = flowDuration( precipitation_rea_fd_mod )\n",
    "precipitation_kr11_spatial_fd = flowDuration( precipitation_kr11_fd_mod )\n",
    "\n",
    "plots = []\n",
    "\n",
    "### kriging 11x8 plot ###\n",
    "plt_conf = {}\n",
    "plt_conf[\"label\"] = 'KR11x8'\n",
    "plt_conf[\"color\"] = '#5e3c99'\n",
    "# plt_conf[\"marker\"] = 'o'\n",
    "plots.append( (precipitation_kr11_spatial_fd, plt_conf) )\n",
    "\n",
    "### rea 11x8 plot ###\n",
    "plt_conf = {}\n",
    "plt_conf[\"label\"] = 'REA11x8'\n",
    "plt_conf[\"color\"] = '#e66101'\n",
    "# plt_conf[\"marker\"] = 'o'\n",
    "plots.append( (precipitation_rea_spatial_fd, plt_conf) )\n",
    "\n",
    "from matplotlib.ticker import FormatStrFormatter\n",
    "# y_major_locator=FormatStrFormatter('%.2f')\n",
    "y_major_locator=None\n",
    "\n",
    "output_file = current.config[\"output_path\"] +  \"meteo/\" + basin_str + \"/precipitation/\" + \"/hourly/meteo_\" + 'precipitation_AA_hourly_spatialFD_log.' + output_format\n",
    "createPlot( plots, \"Exceedance Probability\", \"Prec. $[mm/hour]$\", output_file, xticks=[0,10,20,30,40,50,60,70,80,90,100], x_rot=90, \\\n",
    "label=\"(a)\", y_major_formatter=y_major_locator, yscale='log', y_lim_min=0.01, y_lim_max=15, \\\n",
    "    height=160, scale_factor=0.35, bbox_to_anchor=None, my_dpi=50)\n",
    "\n",
    "output_file_hd = current.config[\"output_path\"] +  \"meteo/\" + basin_str + \"/precipitation/\" + \"/hourly/meteo_\" + 'precipitation_AA_hourly_spatialFD_log_HD.' + output_format\n",
    "createPlot( plots, \"Exceedance Probability\", \"Prec. $[mm/hour]$\", output_file_hd, xticks=[0,10,20,30,40,50,60,70,80,90,100], x_rot=90, \\\n",
    "label=\"(a)\", y_major_formatter=y_major_locator, yscale='log', y_lim_min=0.01, y_lim_max=15, \\\n",
    "    height=160, scale_factor=0.35, bbox_to_anchor=None, my_dpi=600)\n",
    "\n",
    "#############\n",
    "\n",
    "output_file = current.config[\"output_path\"] +  \"meteo/\" + basin_str + \"/precipitation/\" + \"/hourly/meteo_\" + 'precipitation_AA_hourly_spatialFD_symlog.' + output_format\n",
    "createPlot( plots, \"Exceedance Probability\", \"Prec. $[mm/hour]$\", output_file, label=\"(a)\",\\\n",
    "    y_major_formatter=y_major_locator, yscale='symlog', height=160, scale_factor=0.35, bbox_to_anchor=None, my_dpi=50)\n",
    "\n",
    "output_file_hd = current.config[\"output_path\"] +  \"meteo/\" + basin_str + \"/precipitation/\" + \"/hourly/meteo_\" + 'precipitation_AA_hourly_spatialFD_symlog_HD.' + output_format\n",
    "createPlot( plots, \"Exceedance Probability\", \"Prec. $[mm/hour]$\", output_file_hd, label=\"(a)\",\\\n",
    "    y_major_formatter=y_major_locator, yscale='symlog', height=160, scale_factor=0.35, bbox_to_anchor=None, my_dpi=600)\n",
    "\n",
    "############\n",
    "\n",
    "output_file = current.config[\"output_path\"] +  \"meteo/\" + basin_str + \"/precipitation/\" + \"/hourly/meteo_\" + 'precipitation_AA_hourly_spatialFD.' + output_format\n",
    "createPlot( plots, \"Exceedance Probability\", \"Prec. $[mm/hour]$\", output_file, label=\"(a)\",\\\n",
    "    y_major_formatter=y_major_locator, height=160, scale_factor=0.35, bbox_to_anchor=None, my_dpi=50)\n",
    "\n",
    "output_file_hd = current.config[\"output_path\"] +  \"meteo/\" + basin_str + \"/precipitation/\" + \"/hourly/meteo_\" + 'precipitation_AA_hourly_spatialFD_HD.' + output_format\n",
    "createPlot( plots, \"Exceedance Probability\", \"Prec. $[mm/hour]$\", output_file_hd, label=\"(a)\",\\\n",
    "    y_major_formatter=y_major_locator, height=160, scale_factor=0.35, bbox_to_anchor=None, my_dpi=600)"
   ]
  },
  {
   "cell_type": "code",
   "execution_count": 16,
   "metadata": {},
   "outputs": [],
   "source": [
    "# plots = []\n",
    "\n",
    "# plt_conf = {}\n",
    "# plt_conf[\"label\"] = 'KR11x8'\n",
    "# plt_conf[\"color\"] = 'orange'\n",
    "# plots.append( (precipitation_kr11_mean, plt_conf) )\n",
    "\n",
    "# plt_conf = {}\n",
    "# plt_conf[\"label\"] = 'REA11x8'\n",
    "# plt_conf[\"color\"] = '#e66101'\n",
    "# plots.append( (precipitation_rea_mean, plt_conf) )\n",
    "\n",
    "# outfile = current.config[\"output_path\"] +  \"meteo/\" + basin_str + \"/precipitation/\" + \"/monthly/\" \\\n",
    "#     + \"meteo_precipitation_\" + basin_str + \"_cells_rea11_kr11.\" + output_format\n",
    "# createPlot( plots, \"Time $[month]$\", 'Precipitation $[mm/month]$', outfile, my_dpi=50 )\n",
    "\n",
    "# outfile_hd = current.config[\"output_path\"] +  \"meteo/\" + basin_str + \"/precipitation/\" + \"/monthly/\" \\\n",
    "#     + \"meteo_precipitation_\" + basin_str + \"_cells_rea11_kr11_hd.\" + output_format\n",
    "# createPlot( plots, \"Time $[month]$\", 'Precipitation $[mm/month]$', outfile_hd, my_dpi=600 )\n",
    "\n",
    "# #######################################################################################################"
   ]
  },
  {
   "cell_type": "code",
   "execution_count": 17,
   "metadata": {},
   "outputs": [
    {
     "name": "stdout",
     "output_type": "stream",
     "text": [
      "Min: -65.11\n",
      "Max: 111.66655555555556\n",
      "Mean: 33.433026851851864\n"
     ]
    }
   ],
   "source": [
    "precipitation_bias_monthly = precipitation_bias.resample(\"MS\").sum()\n",
    "\n",
    "print(f\"Min: {precipitation_bias_monthly.min()}\")\n",
    "print(f\"Max: {precipitation_bias_monthly.max()}\")\n",
    "print(f\"Mean: {precipitation_bias_monthly.mean()}\")"
   ]
  },
  {
   "cell_type": "code",
   "execution_count": 29,
   "metadata": {},
   "outputs": [
    {
     "name": "stdout",
     "output_type": "stream",
     "text": [
      "Total precipitation bias for Jan: 31.13\n",
      "Total precipitation bias for Feb: 28.3\n",
      "Total precipitation bias for Mar: 24.59\n",
      "Total precipitation bias for Apr: 28.51\n",
      "Total precipitation bias for May: 43.54\n",
      "Total precipitation bias for Jun: 42.15\n",
      "Total precipitation bias for Jul: 67.91\n",
      "Total precipitation bias for Aug: 51.85\n",
      "Total precipitation bias for Sep: 23.53\n",
      "Total precipitation bias for Oct: 25.68\n",
      "Total precipitation bias for Nov: 7.58\n",
      "Total precipitation bias for Dec: 26.43\n",
      "\n"
     ]
    }
   ],
   "source": [
    "result_string = \"\"\n",
    "months = ['Jan', 'Feb', 'Mar', 'Apr', 'May', 'Jun', 'Jul', 'Aug', 'Sep', 'Oct', 'Nov', 'Dec']\n",
    "\n",
    "for i, month in enumerate(months, start=1):\n",
    "    query_result = precipitation_bias.loc[precipitation_bias.index.month == i]\n",
    "    monthly_sum = query_result.sum()  # Calculate the sum for the month\n",
    "    result_string += f\"Total precipitation bias for {month}: {round(monthly_sum/10,2)}\\n\"\n",
    "\n",
    "print(result_string)"
   ]
  }
 ],
 "metadata": {
  "kernelspec": {
   "display_name": "Python 3",
   "language": "python",
   "name": "python3"
  },
  "language_info": {
   "codemirror_mode": {
    "name": "ipython",
    "version": 3
   },
   "file_extension": ".py",
   "mimetype": "text/x-python",
   "name": "python",
   "nbconvert_exporter": "python",
   "pygments_lexer": "ipython3",
   "version": "3.10.12"
  },
  "metadata": {
   "interpreter": {
    "hash": "63d5e5d3ef3ec13453f007c86728ea82bf14ea96ebb0a2fb9c639ae49af1dbf7"
   }
  },
  "orig_nbformat": 2,
  "vscode": {
   "interpreter": {
    "hash": "31f2aee4e71d21fbe5cf8b01ff0e069b9275f58929596ceb00d14d90e3e16cd6"
   }
  }
 },
 "nbformat": 4,
 "nbformat_minor": 2
}
