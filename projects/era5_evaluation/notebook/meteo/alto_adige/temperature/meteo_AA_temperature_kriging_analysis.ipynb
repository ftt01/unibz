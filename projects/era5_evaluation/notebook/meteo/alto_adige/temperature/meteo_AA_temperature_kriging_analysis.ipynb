{
 "cells": [
  {
   "cell_type": "code",
   "execution_count": 1,
   "metadata": {},
   "outputs": [],
   "source": [
    "## DESCRIPTION\n",
    "# stats on kriging"
   ]
  },
  {
   "cell_type": "code",
   "execution_count": 2,
   "metadata": {},
   "outputs": [],
   "source": [
    "import sys\n",
    "\n",
    "lib_dir = \"/home/daniele/documents/github/ftt01/phd/share/lib\"\n",
    "sys.path.insert( 0, lib_dir )"
   ]
  },
  {
   "cell_type": "code",
   "execution_count": 3,
   "metadata": {},
   "outputs": [],
   "source": [
    "from lib import *"
   ]
  },
  {
   "cell_type": "code",
   "execution_count": 4,
   "metadata": {},
   "outputs": [],
   "source": [
    "import logging"
   ]
  },
  {
   "cell_type": "code",
   "execution_count": 5,
   "metadata": {},
   "outputs": [],
   "source": [
    "wdir = \"/home/daniele/documents/github/ftt01/phd/projects/era5_evaluation/\"\n",
    "output_tath = \"/media/windows/projects/era5_bias/05_plots/\""
   ]
  },
  {
   "cell_type": "code",
   "execution_count": 6,
   "metadata": {},
   "outputs": [],
   "source": [
    "## SETUP\n",
    "basin = 'AltoAdige'\n",
    "output_tath = output_tath + \"meteo/\" + basin + \"/temperature/over_elevation/\"\n",
    "mkNestedDir(output_tath)\n",
    "output_log = '''{output_tath}/{model}_temperature_lapse_rate_new.log'''\n",
    "\n",
    "start_date_str = \"2010-01-01T00:00:00\"\n",
    "end_date_str = \"2019-12-31T23:00:00\"\n",
    "start_date = dt.datetime.strptime( start_date_str, '%Y-%m-%dT%H:%M:%S' )\n",
    "end_date = dt.datetime.strptime( end_date_str, '%Y-%m-%dT%H:%M:%S' )\n",
    "dates = pd.date_range(start_date, end_date, freq='h')"
   ]
  },
  {
   "cell_type": "code",
   "execution_count": 24,
   "metadata": {},
   "outputs": [
    {
     "ename": "AttributeError",
     "evalue": "'list' object has no attribute 'mean'",
     "output_type": "error",
     "traceback": [
      "\u001b[0;31m---------------------------------------------------------------------------\u001b[0m",
      "\u001b[0;31mAttributeError\u001b[0m                            Traceback (most recent call last)",
      "\u001b[0;32m/tmp/ipykernel_337177/1551656031.py\u001b[0m in \u001b[0;36m<module>\u001b[0;34m\u001b[0m\n\u001b[1;32m     42\u001b[0m \u001b[0mkrig_t_dec_mean\u001b[0m \u001b[0;34m=\u001b[0m \u001b[0mkrig_t_dec\u001b[0m\u001b[0;34m.\u001b[0m\u001b[0mresample\u001b[0m\u001b[0;34m(\u001b[0m\u001b[0;34m\"MS\"\u001b[0m\u001b[0;34m)\u001b[0m\u001b[0;34m.\u001b[0m\u001b[0magg\u001b[0m\u001b[0;34m(\u001b[0m\u001b[0;32mlambda\u001b[0m \u001b[0mx\u001b[0m\u001b[0;34m:\u001b[0m \u001b[0mnp\u001b[0m\u001b[0;34m.\u001b[0m\u001b[0mnan\u001b[0m \u001b[0;32mif\u001b[0m \u001b[0mnp\u001b[0m\u001b[0;34m.\u001b[0m\u001b[0misnan\u001b[0m\u001b[0;34m(\u001b[0m\u001b[0mx\u001b[0m\u001b[0;34m)\u001b[0m\u001b[0;34m.\u001b[0m\u001b[0mall\u001b[0m\u001b[0;34m(\u001b[0m\u001b[0;34m)\u001b[0m \u001b[0;32melse\u001b[0m \u001b[0mnp\u001b[0m\u001b[0;34m.\u001b[0m\u001b[0mnanmean\u001b[0m\u001b[0;34m(\u001b[0m\u001b[0mx\u001b[0m\u001b[0;34m)\u001b[0m\u001b[0;34m)\u001b[0m\u001b[0;34m.\u001b[0m\u001b[0mdropna\u001b[0m\u001b[0;34m(\u001b[0m\u001b[0;34m)\u001b[0m\u001b[0;34m.\u001b[0m\u001b[0mmean\u001b[0m\u001b[0;34m(\u001b[0m\u001b[0;34m)\u001b[0m\u001b[0;34m.\u001b[0m\u001b[0mmean\u001b[0m\u001b[0;34m(\u001b[0m\u001b[0;34m)\u001b[0m\u001b[0;34m\u001b[0m\u001b[0;34m\u001b[0m\u001b[0m\n\u001b[1;32m     43\u001b[0m \u001b[0;34m\u001b[0m\u001b[0m\n\u001b[0;32m---> 44\u001b[0;31m \u001b[0mkrig_t_w\u001b[0m\u001b[0;34m=\u001b[0m\u001b[0;34m[\u001b[0m\u001b[0mkrig_t_dec_mean\u001b[0m\u001b[0;34m,\u001b[0m\u001b[0mkrig_t_jan_mean\u001b[0m\u001b[0;34m,\u001b[0m\u001b[0mkrig_t_feb_mean\u001b[0m\u001b[0;34m]\u001b[0m\u001b[0;34m.\u001b[0m\u001b[0mmean\u001b[0m\u001b[0;34m(\u001b[0m\u001b[0maxis\u001b[0m\u001b[0;34m=\u001b[0m\u001b[0;36m0\u001b[0m\u001b[0;34m)\u001b[0m\u001b[0;34m\u001b[0m\u001b[0;34m\u001b[0m\u001b[0m\n\u001b[0m\u001b[1;32m     45\u001b[0m \u001b[0;31m# krig_t_sp=pd.concat( [krig_t_mar,krig_t_apr,krig_t_may] ).mean(axis=0)\u001b[0m\u001b[0;34m\u001b[0m\u001b[0;34m\u001b[0m\u001b[0m\n\u001b[1;32m     46\u001b[0m \u001b[0;31m# krig_t_su=pd.concat( [krig_t_jun,krig_t_jul,krig_t_aug] ).mean(axis=0)\u001b[0m\u001b[0;34m\u001b[0m\u001b[0;34m\u001b[0m\u001b[0m\n",
      "\u001b[0;31mAttributeError\u001b[0m: 'list' object has no attribute 'mean'"
     ]
    }
   ],
   "source": [
    "## KRIGING DATASET INPUT ##\n",
    "temperature_kr_path = \"/media/windows/projects/era5_bias/OLD/comparison/scripts/kriging/AltoAdige/TMEAN/\"\n",
    "         \n",
    "temperature_df_kr = pd.DataFrame()\n",
    "\n",
    "t_file_tot = glob.glob( temperature_kr_path + '*.csv')\n",
    "\n",
    "for t_file in t_file_tot:\n",
    "    data_tot = pd.read_csv(t_file,index_col=0,parse_dates=True,skiprows=4,names=[ os.path.basename(t_file)[:-4] ])\n",
    "    data_tot = data_tot[start_date:end_date]\n",
    "    data_tot[data_tot == -999] = None\n",
    "    temperature_df_kr = pd.concat([temperature_df_kr, data_tot],axis=1)\n",
    "\n",
    "temperature_df_kr = temperature_df_kr[start_date:end_date]\n",
    "\n",
    "### evaluate the monthly average\n",
    "## aggredate the data\n",
    "krig_t_jan = temperature_df_kr.loc[(temperature_df_kr.index.month==1)]\n",
    "krig_t_feb = temperature_df_kr.loc[(temperature_df_kr.index.month==2)]\n",
    "krig_t_mar = temperature_df_kr.loc[(temperature_df_kr.index.month==3)]\n",
    "krig_t_apr = temperature_df_kr.loc[(temperature_df_kr.index.month==4)]\n",
    "krig_t_may = temperature_df_kr.loc[(temperature_df_kr.index.month==5)]\n",
    "krig_t_jun = temperature_df_kr.loc[(temperature_df_kr.index.month==6)]\n",
    "krig_t_jul = temperature_df_kr.loc[(temperature_df_kr.index.month==7)]\n",
    "krig_t_aug = temperature_df_kr.loc[(temperature_df_kr.index.month==8)]\n",
    "krig_t_sep = temperature_df_kr.loc[(temperature_df_kr.index.month==9)]\n",
    "krig_t_oct = temperature_df_kr.loc[(temperature_df_kr.index.month==10)]\n",
    "krig_t_nov = temperature_df_kr.loc[(temperature_df_kr.index.month==11)]\n",
    "krig_t_dec = temperature_df_kr.loc[(temperature_df_kr.index.month==12)]\n",
    "## evaluate the mean, dropping stations with all NaN\n",
    "krig_t_jan_mean = krig_t_jan.resample(\"MS\").agg(lambda x: np.nan if np.isnan(x).all() else np.nanmean(x)).dropna().mean().mean()\n",
    "krig_t_feb_mean = krig_t_feb.resample(\"MS\").agg(lambda x: np.nan if np.isnan(x).all() else np.nanmean(x)).dropna().mean().mean()\n",
    "krig_t_mar_mean = krig_t_mar.resample(\"MS\").agg(lambda x: np.nan if np.isnan(x).all() else np.nanmean(x)).dropna().mean().mean()\n",
    "krig_t_apr_mean = krig_t_apr.resample(\"MS\").agg(lambda x: np.nan if np.isnan(x).all() else np.nanmean(x)).dropna().mean().mean()\n",
    "krig_t_may_mean = krig_t_may.resample(\"MS\").agg(lambda x: np.nan if np.isnan(x).all() else np.nanmean(x)).dropna().mean().mean()\n",
    "krig_t_jun_mean = krig_t_jun.resample(\"MS\").agg(lambda x: np.nan if np.isnan(x).all() else np.nanmean(x)).dropna().mean().mean()\n",
    "krig_t_jul_mean = krig_t_jul.resample(\"MS\").agg(lambda x: np.nan if np.isnan(x).all() else np.nanmean(x)).dropna().mean().mean()\n",
    "krig_t_aug_mean = krig_t_aug.resample(\"MS\").agg(lambda x: np.nan if np.isnan(x).all() else np.nanmean(x)).dropna().mean().mean()\n",
    "krig_t_sep_mean = krig_t_sep.resample(\"MS\").agg(lambda x: np.nan if np.isnan(x).all() else np.nanmean(x)).dropna().mean().mean()\n",
    "krig_t_oct_mean = krig_t_oct.resample(\"MS\").agg(lambda x: np.nan if np.isnan(x).all() else np.nanmean(x)).dropna().mean().mean()\n",
    "krig_t_nov_mean = krig_t_nov.resample(\"MS\").agg(lambda x: np.nan if np.isnan(x).all() else np.nanmean(x)).dropna().mean().mean()\n",
    "krig_t_dec_mean = krig_t_dec.resample(\"MS\").agg(lambda x: np.nan if np.isnan(x).all() else np.nanmean(x)).dropna().mean().mean()"
   ]
  },
  {
   "cell_type": "code",
   "execution_count": 33,
   "metadata": {},
   "outputs": [
    {
     "name": "stdout",
     "output_type": "stream",
     "text": [
      "T mean\n",
      "-3.8124836403289706\n",
      "4.009446944278509\n",
      "13.291322596893115\n",
      "5.224180405023451\n",
      "T min\n",
      "-4.740669125846277\n",
      "0.26835310322082856\n",
      "12.28473071630659\n",
      "0.7440487532150206\n",
      "T max\n",
      "-3.056006829325966\n",
      "7.503999033627046\n",
      "14.060395506023493\n",
      "9.561411900077157\n"
     ]
    }
   ],
   "source": [
    "krig_t_w_mean=np.mean([krig_t_dec_mean,krig_t_jan_mean,krig_t_feb_mean])\n",
    "krig_t_sp_mean=np.mean([krig_t_mar_mean,krig_t_apr_mean,krig_t_may_mean])\n",
    "krig_t_su_mean=np.mean([krig_t_jun_mean,krig_t_jul_mean,krig_t_aug_mean])\n",
    "krig_t_a_mean=np.mean([krig_t_sep_mean,krig_t_oct_mean,krig_t_nov_mean])\n",
    "\n",
    "print(\"T mean\")\n",
    "print(krig_t_w_mean)\n",
    "print(krig_t_sp_mean)\n",
    "print(krig_t_su_mean)\n",
    "print(krig_t_a_mean)\n",
    "\n",
    "krig_t_w_min=np.min([krig_t_dec_mean,krig_t_jan_mean,krig_t_feb_mean])\n",
    "krig_t_sp_min=np.min([krig_t_mar_mean,krig_t_apr_mean,krig_t_may_mean])\n",
    "krig_t_su_min=np.min([krig_t_jun_mean,krig_t_jul_mean,krig_t_aug_mean])\n",
    "krig_t_a_min=np.min([krig_t_sep_mean,krig_t_oct_mean,krig_t_nov_mean])\n",
    "\n",
    "print(\"T min\")\n",
    "print(krig_t_w_min)\n",
    "print(krig_t_sp_min)\n",
    "print(krig_t_su_min)\n",
    "print(krig_t_a_min)\n",
    "\n",
    "krig_t_w_max=np.max([krig_t_dec_mean,krig_t_jan_mean,krig_t_feb_mean])\n",
    "krig_t_sp_max=np.max([krig_t_mar_mean,krig_t_apr_mean,krig_t_may_mean])\n",
    "krig_t_su_max=np.max([krig_t_jun_mean,krig_t_jul_mean,krig_t_aug_mean])\n",
    "krig_t_a_max=np.max([krig_t_sep_mean,krig_t_oct_mean,krig_t_nov_mean])\n",
    "\n",
    "print(\"T max\")\n",
    "print(krig_t_w_max)\n",
    "print(krig_t_sp_max)\n",
    "print(krig_t_su_max)\n",
    "print(krig_t_a_max)"
   ]
  },
  {
   "cell_type": "code",
   "execution_count": 26,
   "metadata": {},
   "outputs": [
    {
     "ename": "TypeError",
     "evalue": "cannot concatenate object of type '<class 'float'>'; only Series and DataFrame objs are valid",
     "output_type": "error",
     "traceback": [
      "\u001b[0;31m---------------------------------------------------------------------------\u001b[0m",
      "\u001b[0;31mTypeError\u001b[0m                                 Traceback (most recent call last)",
      "\u001b[0;32m/tmp/ipykernel_337177/32140105.py\u001b[0m in \u001b[0;36m<module>\u001b[0;34m\u001b[0m\n\u001b[0;32m----> 1\u001b[0;31m \u001b[0mkrig_t_w\u001b[0m\u001b[0;34m=\u001b[0m\u001b[0mpd\u001b[0m\u001b[0;34m.\u001b[0m\u001b[0mconcat\u001b[0m\u001b[0;34m(\u001b[0m\u001b[0;34m[\u001b[0m\u001b[0mkrig_t_dec_mean\u001b[0m\u001b[0;34m,\u001b[0m\u001b[0mkrig_t_jan_mean\u001b[0m\u001b[0;34m,\u001b[0m\u001b[0mkrig_t_feb_mean\u001b[0m\u001b[0;34m]\u001b[0m\u001b[0;34m)\u001b[0m\u001b[0;34m.\u001b[0m\u001b[0mmean\u001b[0m\u001b[0;34m(\u001b[0m\u001b[0maxis\u001b[0m\u001b[0;34m=\u001b[0m\u001b[0;36m0\u001b[0m\u001b[0;34m)\u001b[0m\u001b[0;34m\u001b[0m\u001b[0;34m\u001b[0m\u001b[0m\n\u001b[0m\u001b[1;32m      2\u001b[0m \u001b[0;31m# krig_t_sp=pd.concat( [krig_t_mar,krig_t_apr,krig_t_may] ).mean(axis=0)\u001b[0m\u001b[0;34m\u001b[0m\u001b[0;34m\u001b[0m\u001b[0m\n\u001b[1;32m      3\u001b[0m \u001b[0;31m# krig_t_su=pd.concat( [krig_t_jun,krig_t_jul,krig_t_aug] ).mean(axis=0)\u001b[0m\u001b[0;34m\u001b[0m\u001b[0;34m\u001b[0m\u001b[0m\n\u001b[1;32m      4\u001b[0m \u001b[0;31m# krig_t_a=pd.concat( [krig_t_sep,krig_t_oct,krig_t_nov] ).mean(axis=0)\u001b[0m\u001b[0;34m\u001b[0m\u001b[0;34m\u001b[0m\u001b[0m\n\u001b[1;32m      5\u001b[0m \u001b[0;34m\u001b[0m\u001b[0m\n",
      "\u001b[0;32m~/.local/lib/python3.10/site-packages/pandas/util/_decorators.py\u001b[0m in \u001b[0;36mwrapper\u001b[0;34m(*args, **kwargs)\u001b[0m\n\u001b[1;32m    309\u001b[0m                     \u001b[0mstacklevel\u001b[0m\u001b[0;34m=\u001b[0m\u001b[0mstacklevel\u001b[0m\u001b[0;34m,\u001b[0m\u001b[0;34m\u001b[0m\u001b[0;34m\u001b[0m\u001b[0m\n\u001b[1;32m    310\u001b[0m                 )\n\u001b[0;32m--> 311\u001b[0;31m             \u001b[0;32mreturn\u001b[0m \u001b[0mfunc\u001b[0m\u001b[0;34m(\u001b[0m\u001b[0;34m*\u001b[0m\u001b[0margs\u001b[0m\u001b[0;34m,\u001b[0m \u001b[0;34m**\u001b[0m\u001b[0mkwargs\u001b[0m\u001b[0;34m)\u001b[0m\u001b[0;34m\u001b[0m\u001b[0;34m\u001b[0m\u001b[0m\n\u001b[0m\u001b[1;32m    312\u001b[0m \u001b[0;34m\u001b[0m\u001b[0m\n\u001b[1;32m    313\u001b[0m         \u001b[0;32mreturn\u001b[0m \u001b[0mwrapper\u001b[0m\u001b[0;34m\u001b[0m\u001b[0;34m\u001b[0m\u001b[0m\n",
      "\u001b[0;32m~/.local/lib/python3.10/site-packages/pandas/core/reshape/concat.py\u001b[0m in \u001b[0;36mconcat\u001b[0;34m(objs, axis, join, ignore_index, keys, levels, names, verify_integrity, sort, copy)\u001b[0m\n\u001b[1;32m    345\u001b[0m     \u001b[0mValueError\u001b[0m\u001b[0;34m:\u001b[0m \u001b[0mIndexes\u001b[0m \u001b[0mhave\u001b[0m \u001b[0moverlapping\u001b[0m \u001b[0mvalues\u001b[0m\u001b[0;34m:\u001b[0m \u001b[0;34m[\u001b[0m\u001b[0;34m'a'\u001b[0m\u001b[0;34m]\u001b[0m\u001b[0;34m\u001b[0m\u001b[0;34m\u001b[0m\u001b[0m\n\u001b[1;32m    346\u001b[0m     \"\"\"\n\u001b[0;32m--> 347\u001b[0;31m     op = _Concatenator(\n\u001b[0m\u001b[1;32m    348\u001b[0m         \u001b[0mobjs\u001b[0m\u001b[0;34m,\u001b[0m\u001b[0;34m\u001b[0m\u001b[0;34m\u001b[0m\u001b[0m\n\u001b[1;32m    349\u001b[0m         \u001b[0maxis\u001b[0m\u001b[0;34m=\u001b[0m\u001b[0maxis\u001b[0m\u001b[0;34m,\u001b[0m\u001b[0;34m\u001b[0m\u001b[0;34m\u001b[0m\u001b[0m\n",
      "\u001b[0;32m~/.local/lib/python3.10/site-packages/pandas/core/reshape/concat.py\u001b[0m in \u001b[0;36m__init__\u001b[0;34m(self, objs, axis, join, keys, levels, names, ignore_index, verify_integrity, copy, sort)\u001b[0m\n\u001b[1;32m    435\u001b[0m                     \u001b[0;34m\"only Series and DataFrame objs are valid\"\u001b[0m\u001b[0;34m\u001b[0m\u001b[0;34m\u001b[0m\u001b[0m\n\u001b[1;32m    436\u001b[0m                 )\n\u001b[0;32m--> 437\u001b[0;31m                 \u001b[0;32mraise\u001b[0m \u001b[0mTypeError\u001b[0m\u001b[0;34m(\u001b[0m\u001b[0mmsg\u001b[0m\u001b[0;34m)\u001b[0m\u001b[0;34m\u001b[0m\u001b[0;34m\u001b[0m\u001b[0m\n\u001b[0m\u001b[1;32m    438\u001b[0m \u001b[0;34m\u001b[0m\u001b[0m\n\u001b[1;32m    439\u001b[0m             \u001b[0mndims\u001b[0m\u001b[0;34m.\u001b[0m\u001b[0madd\u001b[0m\u001b[0;34m(\u001b[0m\u001b[0mobj\u001b[0m\u001b[0;34m.\u001b[0m\u001b[0mndim\u001b[0m\u001b[0;34m)\u001b[0m\u001b[0;34m\u001b[0m\u001b[0;34m\u001b[0m\u001b[0m\n",
      "\u001b[0;31mTypeError\u001b[0m: cannot concatenate object of type '<class 'float'>'; only Series and DataFrame objs are valid"
     ]
    }
   ],
   "source": [
    "krig_t_w=pd.concat([krig_t_dec_mean,krig_t_jan_mean,krig_t_feb_mean]).mean(axis=0)\n",
    "# krig_t_sp=pd.concat( [krig_t_mar,krig_t_apr,krig_t_may] ).mean(axis=0)\n",
    "# krig_t_su=pd.concat( [krig_t_jun,krig_t_jul,krig_t_aug] ).mean(axis=0)\n",
    "# krig_t_a=pd.concat( [krig_t_sep,krig_t_oct,krig_t_nov] ).mean(axis=0)\n",
    "\n",
    "# print(krig_t_w)\n",
    "# print(krig_t_sp)\n",
    "# print(krig_t_su)\n",
    "# print(krig_t_a)"
   ]
  },
  {
   "cell_type": "code",
   "execution_count": 8,
   "metadata": {},
   "outputs": [
    {
     "name": "stdout",
     "output_type": "stream",
     "text": [
      "-3.784736407353658\n",
      "4.024881662727181\n",
      "13.320323980855854\n",
      "5.2474983812119484\n"
     ]
    }
   ],
   "source": [
    "### KR1x1\n",
    "model = 'KR1x1'\n",
    "kriging_temperature_file = \"/media/windows/projects/era5_bias/kriging/old/kriging/AltoAdige/TMEAN_AltoAdige.krig\"\n",
    "grid_metadata = \"/media/windows/projects/era5_bias/kriging/old/grid_1x1km_Adige_river.csv\"\n",
    "\n",
    "# Reading kriging grid metadata - all Adige river cells\n",
    "df_grid = pd.read_csv( grid_metadata, index_col=0 )\n",
    "df_elev = df_grid['Elevation']\n",
    "\n",
    "# krig_t_all = pd.DataFrame(index=dates,columns=['Tinter','Tslope'])\n",
    "# krig_t_all = pd.DataFrame(index=dates,columns=IDsubbs)\n",
    "\n",
    "### data entire Alto Adige\n",
    "krig_t_all = pd.read_csv( kriging_temperature_file, parse_dates=True, index_col=0 )\n",
    "krig_t_all['dates'] = dates\n",
    "krig_t_all.set_index( 'dates',inplace=True )\n",
    "\n",
    "krig_t_mean = krig_t_all.mean(axis=1)\n",
    "krig_t_then = krig_t_mean\n",
    "\n",
    "krig_t_jan = krig_t_then.loc[(krig_t_then.index.month==1)]\n",
    "krig_t_feb = krig_t_then.loc[(krig_t_then.index.month==2)]\n",
    "krig_t_mar = krig_t_then.loc[(krig_t_then.index.month==3)]\n",
    "krig_t_apr = krig_t_then.loc[(krig_t_then.index.month==4)]\n",
    "krig_t_may = krig_t_then.loc[(krig_t_then.index.month==5)]\n",
    "krig_t_jun = krig_t_then.loc[(krig_t_then.index.month==6)]\n",
    "krig_t_jul = krig_t_then.loc[(krig_t_then.index.month==7)]\n",
    "krig_t_aug = krig_t_then.loc[(krig_t_then.index.month==8)]\n",
    "krig_t_sep = krig_t_then.loc[(krig_t_then.index.month==9)]\n",
    "krig_t_oct = krig_t_then.loc[(krig_t_then.index.month==10)]\n",
    "krig_t_nov = krig_t_then.loc[(krig_t_then.index.month==11)]\n",
    "krig_t_dec = krig_t_then.loc[(krig_t_then.index.month==12)]\n",
    "\n",
    "number_of_years = len( krig_t_then.resample('Y').sum() )\n",
    "\n",
    "krig_t_w=pd.concat( [krig_t_dec,krig_t_jan,krig_t_feb] ).mean(axis=0)\n",
    "krig_t_sp=pd.concat( [krig_t_mar,krig_t_apr,krig_t_may] ).mean(axis=0)\n",
    "krig_t_su=pd.concat( [krig_t_jun,krig_t_jul,krig_t_aug] ).mean(axis=0)\n",
    "krig_t_a=pd.concat( [krig_t_sep,krig_t_oct,krig_t_nov] ).mean(axis=0)\n",
    "\n",
    "print(krig_t_w)\n",
    "print(krig_t_sp)\n",
    "print(krig_t_su)\n",
    "print(krig_t_a)"
   ]
  }
 ],
 "metadata": {
  "kernelspec": {
   "display_name": "Python 3.10.6 64-bit",
   "language": "python",
   "name": "python3"
  },
  "language_info": {
   "codemirror_mode": {
    "name": "ipython",
    "version": 3
   },
   "file_extension": ".py",
   "mimetype": "text/x-python",
   "name": "python",
   "nbconvert_exporter": "python",
   "pygments_lexer": "ipython3",
   "version": "3.10.12"
  },
  "metadata": {
   "interpreter": {
    "hash": "63d5e5d3ef3ec13453f007c86728ea82bf14ea96ebb0a2fb9c639ae49af1dbf7"
   }
  },
  "orig_nbformat": 2,
  "vscode": {
   "interpreter": {
    "hash": "916dbcbb3f70747c44a77c7bcd40155683ae19c65e1c03b4aa3499c5328201f1"
   }
  }
 },
 "nbformat": 4,
 "nbformat_minor": 2
}
