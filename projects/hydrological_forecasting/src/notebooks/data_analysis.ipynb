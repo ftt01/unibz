{
 "cells": [
  {
   "cell_type": "code",
   "execution_count": null,
   "metadata": {},
   "outputs": [],
   "source": [
    "import sys\n",
    "\n",
    "lib_dir = \"/home/daniele/documents/github/ftt01/phd/share/lib/\"\n",
    "sys.path.insert( 0, lib_dir )"
   ]
  },
  {
   "cell_type": "code",
   "execution_count": null,
   "metadata": {},
   "outputs": [],
   "source": [
    "from lib import *"
   ]
  },
  {
   "cell_type": "code",
   "execution_count": null,
   "metadata": {},
   "outputs": [],
   "source": [
    "prec_datapath = \"/media/lacie2022/data/meteo/eu/it/taa/aa/online/precipitation/20500MS.csv\"\n",
    "# prec_datapath = \"/media/lacie2022/data/meteo/eu/it/taa/aa/older/data/precipitation/128.txt\"\n",
    "\n",
    "prec_data = pd.read_csv(prec_datapath)\n",
    "prec_data.loc[:,'datetime'] = pd.to_datetime( prec_data['datetime'], format='%Y-%m-%dT%H:%M:%SZ%z' )\n",
    "prec_data.set_index( 'datetime', inplace=True )\n",
    "\n",
    "prec_data = resample_timeseries(prec_data, step=\"1H\", offset=True, res_type='sum')\n",
    "\n",
    "# checked_data = data_check( prec_data, style='precipitation', threshold=1.1 )\n",
    "# checked_data.plot( figsize=(15,15) )\n",
    "\n",
    "prec_data.plot( figsize=(15,15) )"
   ]
  },
  {
   "cell_type": "code",
   "execution_count": null,
   "metadata": {},
   "outputs": [],
   "source": [
    "temp_datapath = \"/media/lacie2022/data/meteo/eu/it/taa/aa/merged/data/temperature/20500MS.csv\"\n",
    "\n",
    "temp_data = pd.read_csv(temp_datapath)\n",
    "temp_data.loc[:,'datetime'] = pd.to_datetime( temp_data['datetime'], format='%Y-%m-%dT%H:%M:%SZ%z' )\n",
    "temp_data.set_index( 'datetime', inplace=True )\n",
    "\n",
    "# checked_data = data_check( series, style='precipitation', threshold=1.1 )\n",
    "# checked_data.plot( figsize=(15,15) )\n",
    "\n",
    "temp_data.plot( figsize=(15,15) )"
   ]
  },
  {
   "cell_type": "code",
   "execution_count": null,
   "metadata": {},
   "outputs": [],
   "source": [
    "streamflow_datapath = \"/media/lacie2022/data/meteo/eu/it/taa/aa/merged/data/streamflow/20750PG.csv\"\n",
    "# from 1994-01-01\n",
    "\n",
    "streamflow_data = pd.read_csv(streamflow_datapath)\n",
    "streamflow_data.loc[:,'datetime'] = pd.to_datetime( streamflow_data['datetime'], format='%Y-%m-%dT%H:%M:%SZ%z' )\n",
    "streamflow_data.set_index( 'datetime', inplace=True )\n",
    "\n",
    "# checked_data = data_check( series, style='precipitation', threshold=1.1 )\n",
    "# checked_data.plot( figsize=(15,15) )\n",
    "\n",
    "streamflow_data.plot( figsize=(15,15) )"
   ]
  },
  {
   "cell_type": "code",
   "execution_count": null,
   "metadata": {},
   "outputs": [],
   "source": [
    "# prec_datapath = \"/media/windows/projects/pp/SHARED/meteo/aa/merged/extracted/training/B001/SB004/precipitation/1985010120210215.csv\"\n",
    "\n",
    "# series = pd.read_csv(prec_datapath)\n",
    "# series.loc[:,'datetime'] = pd.to_datetime( series['datetime'], format='%Y-%m-%d %H:%M:%S' )\n",
    "# series.set_index( 'datetime', inplace=True )\n",
    "\n",
    "# checked_data = data_check( series, style='precipitation', threshold=1.1 )\n",
    "# checked_data.plot( figsize=(15,15) )"
   ]
  },
  {
   "cell_type": "code",
   "execution_count": null,
   "metadata": {},
   "outputs": [],
   "source": [
    "# # collecting sample data\n",
    "# temp_datapath = \"/media/windows/projects/pp/SHARED/meteo/aa/merged/extracted/training/B001/SB004/temperature/1985010120210215.csv\"\n",
    "# series = pd.read_csv(temp_datapath)\n",
    "# series.loc[:,'datetime'] = pd.to_datetime( series['datetime'], format='%Y-%m-%d %H:%M:%S' )\n",
    "# series.set_index( 'datetime', inplace=True )\n",
    "\n",
    "# checked_data = data_check( series, style='temperature' )\n",
    "# checked_data.plot( figsize=(15,15) )"
   ]
  },
  {
   "cell_type": "code",
   "execution_count": null,
   "metadata": {},
   "outputs": [],
   "source": [
    "# streamflow_datapath = \"/media/windows/projects/pp/SHARED/meteo/aa/merged/extracted/training/B001/SB001/streamflow/1985010120210215.csv\"\n",
    "\n",
    "# series = pd.read_csv(streamflow_datapath)\n",
    "# series.loc[:,'datetime'] = pd.to_datetime( series['datetime'], format='%Y-%m-%d %H:%M:%S' )\n",
    "# series.set_index( 'datetime', inplace=True )\n",
    "\n",
    "# checked_data = data_check( series, style='streamflow', threshold=5 )\n",
    "# checked_data.plot( figsize=(15,15) )"
   ]
  },
  {
   "cell_type": "code",
   "execution_count": null,
   "metadata": {},
   "outputs": [],
   "source": []
  },
  {
   "cell_type": "code",
   "execution_count": null,
   "metadata": {},
   "outputs": [],
   "source": [
    "# send_email(\n",
    "#     subject=\"Data checked..\",\n",
    "#     body=\"Started at \" + computation_start.strftime(format=\"%Y-%m-%dT%H:%M:%SZ%z\") + \n",
    "#         \"\\nFinish at \" + dt.datetime.now().strftime(format=\"%Y-%m-%dT%H:%M:%SZ%z\") +\n",
    "#         \"\\nJSON config: \" + json.dumps( configuration, indent=4 )\n",
    "# )"
   ]
  }
 ],
 "metadata": {
  "kernelspec": {
   "display_name": "Python 3.10.4 64-bit",
   "language": "python",
   "name": "python3"
  },
  "language_info": {
   "codemirror_mode": {
    "name": "ipython",
    "version": 3
   },
   "file_extension": ".py",
   "mimetype": "text/x-python",
   "name": "python",
   "nbconvert_exporter": "python",
   "pygments_lexer": "ipython3",
   "version": "3.10.6"
  },
  "orig_nbformat": 4,
  "vscode": {
   "interpreter": {
    "hash": "916dbcbb3f70747c44a77c7bcd40155683ae19c65e1c03b4aa3499c5328201f1"
   }
  }
 },
 "nbformat": 4,
 "nbformat_minor": 2
}
