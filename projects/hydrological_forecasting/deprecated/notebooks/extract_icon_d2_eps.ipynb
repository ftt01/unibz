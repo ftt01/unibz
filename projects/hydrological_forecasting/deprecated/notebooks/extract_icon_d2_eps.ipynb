{
 "cells": [
  {
   "cell_type": "code",
   "execution_count": null,
   "metadata": {},
   "outputs": [],
   "source": [
    "import glob\n",
    "import xarray as xr\n",
    "import datetime as dt\n",
    "import argparse"
   ]
  },
  {
   "cell_type": "code",
   "execution_count": null,
   "metadata": {},
   "outputs": [],
   "source": [
    "def mkNestedDir(dirTree):\n",
    "    from pathlib import Path\n",
    "    Path(dirTree).mkdir(parents=True, exist_ok=True)"
   ]
  },
  {
   "cell_type": "code",
   "execution_count": null,
   "metadata": {},
   "outputs": [],
   "source": []
  },
  {
   "cell_type": "code",
   "execution_count": null,
   "metadata": {},
   "outputs": [],
   "source": [
    "script = True\n",
    "\n",
    "input_path = \"/home/hydrological_forecasting/data/\"\n",
    "output_path = \"/home/hydrological_forecasting/data/\"\n",
    "\n",
    "ensemble_number = 20\n",
    "\n",
    "mkNestedDir(output_path)"
   ]
  },
  {
   "cell_type": "code",
   "execution_count": null,
   "metadata": {},
   "outputs": [],
   "source": [
    "parser = argparse.ArgumentParser()\n",
    "\n",
    "parser.add_argument('bbox_lat_min', type=str)\n",
    "parser.add_argument('bbox_lat_max', type=str)\n",
    "parser.add_argument('bbox_lon_min', type=str)\n",
    "parser.add_argument('bbox_lon_max', type=str)\n",
    "parser.add_argument('basin', type=str)\n",
    "# parser.add_argument('input_path', type=str)\n",
    "# parser.add_argument('output_path', type=str)\n",
    "\n",
    "args = parser.parse_args()\n",
    "bbox_lat_min = float(args.bbox_lat_min)\n",
    "bbox_lat_max = float(args.bbox_lat_max)\n",
    "bbox_lon_min = float(args.bbox_lon_min)\n",
    "bbox_lon_max = float(args.bbox_lon_max)\n",
    "# input_path = float(args.input_path)\n",
    "# output_path = float(args.output_path)\n",
    "\n",
    "basin = args.basin"
   ]
  },
  {
   "cell_type": "code",
   "execution_count": null,
   "metadata": {},
   "outputs": [],
   "source": [
    "lat_min,lat_max,lon_min,lon_max = bbox_extraction( \n",
    "    bbox_lat_min=bbox_lat_min,\n",
    "    bbox_lat_max=bbox_lat_max,\n",
    "    bbox_lon_min=bbox_lon_min,\n",
    "    bbox_lon_max=bbox_lon_max,\n",
    "    spatial_resolution=0.1,\n",
    "    lon_factor=360)"
   ]
  },
  {
   "cell_type": "code",
   "execution_count": null,
   "metadata": {},
   "outputs": [],
   "source": [
    "files_to_convert = glob.glob( input_path + 'regridded*.grib2' ) + glob.glob( input_path + '*regular*.grib2' )"
   ]
  },
  {
   "cell_type": "code",
   "execution_count": null,
   "metadata": {},
   "outputs": [],
   "source": [
    "print(input_path)"
   ]
  },
  {
   "cell_type": "code",
   "execution_count": null,
   "metadata": {},
   "outputs": [],
   "source": [
    "for file in files_to_convert:\n",
    "\n",
    "    print(\"Converting: \" + file)\n",
    "    \n",
    "    ds = xr.open_dataset(file, engine=\"pynio\")\n",
    "    # <xarray.Dataset>\n",
    "    # Dimensions:           (ensemble0: 20, lat_0: 745, lon_0: 1214)\n",
    "    # Coordinates:\n",
    "    # * lat_0             (lat_0) float32 43.18 43.2 43.22 ... 58.02 58.04 58.06\n",
    "    # * lon_0             (lon_0) float32 356.1 356.1 356.1 ... 380.3 380.3 380.3\n",
    "    # * ensemble0         (ensemble0) int32 0 1 2 3 4 5 6 7 ... 13 14 15 16 17 18 19\n",
    "    # Data variables:\n",
    "    #     TMP_P1_L103_GLL0  (ensemble0, lat_0, lon_0) float32 ...\n",
    "    #     ensemble0_info    (ensemble0) |S0 ...\n",
    "\n",
    "    variable_mapped_meta = ds.variables.get(list(ds.keys())[0]).attrs\n",
    "    # {\n",
    "\t# 'center': 'Offenbach (RSMC)',\n",
    "\t# 'production_status': 'Operational products',\n",
    "\t# 'long_name': 'Temperature',\n",
    "\t# 'units': 'K',\n",
    "\t# 'grid_type': 'Latitude/longitude',\n",
    "\t# 'parameter_discipline_and_category': 'Meteorological products, Temperature',\n",
    "\t# 'parameter_template_discipline_category_number': array([1, 0, 0, 0], dtype = int32),\n",
    "\t# 'level_type': 'Specified height level above ground (m)',\n",
    "\t# 'level': array([2.], dtype = float32),\n",
    "\t# 'forecast_time': array([60], dtype = int32),\n",
    "\t# 'forecast_time_units': 'minutes',\n",
    "\t# 'initial_time': '02/17/2021 (00:00)'\n",
    "    # }\n",
    "\n",
    "    variable_mapped_name = list(ds.keys())[0]\n",
    "\n",
    "    ds_red = ds.sel(lat_0=slice(lat_min, lat_max),lon_0=slice(lon_min,lon_max))\n",
    "    del [ds]\n",
    "\n",
    "    df = ds_red.to_dataframe()\n",
    "    del [ds_red]\n",
    "    \n",
    "    df.reset_index(inplace=True)\n",
    "    df['lon'] = [round(idx-360,6) for idx in df['lon_0']]\n",
    "    df['lat'] = [round(idx,6) for idx in df['lat_0']]\n",
    "    if variable_mapped_meta['long_name'] == 'Temperature':\n",
    "        df['values'] = [round(val-273.15,2) for val in df[variable_mapped_name]]\n",
    "        variable = 'temperature'\n",
    "        ens_keyname = 'ensemble0'\n",
    "    elif variable_mapped_meta['long_name'] == 'Total precipitation rate':\n",
    "        df['values'] = [round(val,2) for val in df[variable_mapped_name]]\n",
    "        variable = 'precipitation'\n",
    "        ens_keyname = 'ensemble0'\n",
    "    elif variable_mapped_meta['long_name'] == 'Snow depth water equivalent':\n",
    "        df['values'] = [round(val,2) for val in df[variable_mapped_name]]\n",
    "        variable = 'snow'\n",
    "        ens_keyname = 'ensemble0'\n",
    "    else:\n",
    "        raise KeyError\n",
    "    \n",
    "    for ens in range(ensemble_number):\n",
    "        current_ens = str(ens+1).zfill(3)\n",
    "\n",
    "        print(current_ens)\n",
    "        print(\"Dataframe keys: \\n\")\n",
    "        print(df.keys())\n",
    "\n",
    "        print(\"Dataframe: \\n\")\n",
    "        print(df)\n",
    "\n",
    "        current_ens_data = df[df[ens_keyname]==ens]\n",
    "\n",
    "        current_ens_data.insert(0, 'id', range(1, 1 + len(current_ens_data)))\n",
    "        current_ens_data.set_index(['id','lat','lon'], inplace=True)\n",
    "        current_ens_data = current_ens_data.loc[:, ['values']]\n",
    "\n",
    "        current_datetime = dt.datetime.strptime(variable_mapped_meta['initial_time'], '%m/%d/%Y (%H:%M)')\n",
    "        output_file_path = output_path + \"{lead_hour}/{basin}/{variable}/{ensemble}/\".format(\n",
    "            date = dt.datetime.strftime( current_datetime, format='%Y%m%d' ),\n",
    "            lead_hour = str( int(variable_mapped_meta['forecast_time']/60) ).zfill(3),\n",
    "            basin = basin,\n",
    "            variable = variable,\n",
    "            ensemble = current_ens\n",
    "        )\n",
    "        mkNestedDir(output_file_path)\n",
    "\n",
    "        ## to save on DB\n",
    "        current_ens_data.to_csv(output_file_path + 'output.csv')\n",
    "    \n",
    "    del [df]"
   ]
  }
 ],
 "metadata": {
  "interpreter": {
   "hash": "916dbcbb3f70747c44a77c7bcd40155683ae19c65e1c03b4aa3499c5328201f1"
  },
  "kernelspec": {
   "display_name": "Python 3.10.4 64-bit",
   "language": "python",
   "name": "python3"
  },
  "language_info": {
   "codemirror_mode": {
    "name": "ipython",
    "version": 3
   },
   "file_extension": ".py",
   "mimetype": "text/x-python",
   "name": "python",
   "nbconvert_exporter": "python",
   "pygments_lexer": "ipython3",
   "version": "3.10.4"
  },
  "orig_nbformat": 4
 },
 "nbformat": 4,
 "nbformat_minor": 2
}
