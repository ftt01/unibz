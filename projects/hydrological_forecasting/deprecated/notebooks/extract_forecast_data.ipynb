{
 "cells": [
  {
   "cell_type": "markdown",
   "metadata": {},
   "source": [
    "#### EXTRACT DATA TO CSV\n",
    "- taking the coordinates in the setup, for each directory in the input_path read the data, cut it to the BBOX and save it to CSV\n",
    "- regrid the data if not in regular grid\n",
    "- valid only for icon-d2-eps right now"
   ]
  },
  {
   "cell_type": "markdown",
   "metadata": {},
   "source": [
    "#### GLOBAL LIB"
   ]
  },
  {
   "cell_type": "code",
   "execution_count": null,
   "metadata": {},
   "outputs": [],
   "source": [
    "import sys\n",
    "\n",
    "lib_dir = \"/home/daniele/documents/github/ftt01/phd/share/lib\"\n",
    "sys.path.insert( 0, lib_dir )"
   ]
  },
  {
   "cell_type": "code",
   "execution_count": null,
   "metadata": {},
   "outputs": [],
   "source": [
    "from lib import *"
   ]
  },
  {
   "cell_type": "code",
   "execution_count": null,
   "metadata": {},
   "outputs": [],
   "source": [
    "import subprocess\n",
    "import os"
   ]
  },
  {
   "cell_type": "markdown",
   "metadata": {},
   "source": [
    "#### LOCAL LIB"
   ]
  },
  {
   "cell_type": "code",
   "execution_count": null,
   "metadata": {},
   "outputs": [],
   "source": [
    "def regrid_dir(path_dir, regridded=False):\n",
    "\n",
    "    if regridded == False:\n",
    "\n",
    "        os.chdir(path_dir)\n",
    "\n",
    "        subprocess.run('''docker run --rm \\\n",
    "            --volume $(pwd):/local \\\n",
    "            --env INPUT_FILE=/local \\\n",
    "            --env OUTPUT_FILE=/local \\\n",
    "            deutscherwetterdienst/regrid:icon-d2-eps \\\n",
    "            /convert.sh''',\n",
    "                       shell=True, check=True,\n",
    "                       executable='/bin/bash')"
   ]
  },
  {
   "cell_type": "markdown",
   "metadata": {},
   "source": [
    "#### SETUP"
   ]
  },
  {
   "cell_type": "code",
   "execution_count": null,
   "metadata": {},
   "outputs": [],
   "source": [
    "input_path = \"/home/daniele/documents/github/ftt01/phd/data/meteo/providers/dwd/\"\n",
    "output_path = \"/home/daniele/documents/github/ftt01/phd/data/meteo/providers/dwd/example/preprocessed/\"\n",
    "\n",
    "lat_min = '45.00'\n",
    "lat_max = '47.50'\n",
    "lon_min = '9.80'\n",
    "lon_max = '13.00'\n",
    "basin = 'trentino_alto_adige'"
   ]
  },
  {
   "cell_type": "code",
   "execution_count": null,
   "metadata": {},
   "outputs": [],
   "source": [
    "extraction_process = '''docker run -v $(pwd):/home/hydrological_forecasting/data/ ftt01/extract_icon-d2-eps {lat_min} {lat_max} {lon_min} {lon_max} {basin}'''\n",
    "\n",
    "extraction_process = extraction_process.format(\n",
    "    lat_min = lat_min,\n",
    "    lat_max = lat_max,\n",
    "    lon_min = lon_min,\n",
    "    lon_max = lon_max,\n",
    "    basin = basin\n",
    ")"
   ]
  },
  {
   "cell_type": "code",
   "execution_count": null,
   "metadata": {},
   "outputs": [],
   "source": [
    "print(extraction_process)"
   ]
  },
  {
   "cell_type": "code",
   "execution_count": null,
   "metadata": {},
   "outputs": [],
   "source": [
    "dirs = glob.glob( input_path + \"/*\" )"
   ]
  },
  {
   "cell_type": "code",
   "execution_count": null,
   "metadata": {},
   "outputs": [],
   "source": [
    "print(dirs)"
   ]
  },
  {
   "cell_type": "code",
   "execution_count": null,
   "metadata": {},
   "outputs": [],
   "source": [
    "for dir in dirs:\n",
    "\n",
    "    print(\"Process: \" + dir)\n",
    "\n",
    "    os.chdir( dir )\n",
    "\n",
    "    regrid_dir( dir, regridded=False )\n",
    "\n",
    "    subprocess.run(extraction_process,\n",
    "                shell=True, check=True,\n",
    "                executable='/bin/bash')\n",
    "    \n",
    "    # copy_content( dir + 'preprocessed/', output_path )\n",
    "\n",
    "    # 35s REGRIDDING\n"
   ]
  },
  {
   "cell_type": "code",
   "execution_count": null,
   "metadata": {},
   "outputs": [],
   "source": []
  }
 ],
 "metadata": {
  "interpreter": {
   "hash": "916dbcbb3f70747c44a77c7bcd40155683ae19c65e1c03b4aa3499c5328201f1"
  },
  "kernelspec": {
   "display_name": "Python 3.8.10 64-bit",
   "language": "python",
   "name": "python3"
  },
  "language_info": {
   "codemirror_mode": {
    "name": "ipython",
    "version": 3
   },
   "file_extension": ".py",
   "mimetype": "text/x-python",
   "name": "python",
   "nbconvert_exporter": "python",
   "pygments_lexer": "ipython3",
   "version": "3.10.6"
  },
  "orig_nbformat": 4
 },
 "nbformat": 4,
 "nbformat_minor": 2
}
