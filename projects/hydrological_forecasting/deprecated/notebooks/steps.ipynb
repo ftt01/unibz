{
 "cells": [
  {
   "cell_type": "markdown",
   "metadata": {},
   "source": [
    "## download\n",
    "1. using docker\n",
    "2. dowload with a direct communication to the opendata"
   ]
  },
  {
   "cell_type": "markdown",
   "metadata": {},
   "source": [
    "## regrid\n",
    "1. using docker\n",
    "2. cdo"
   ]
  },
  {
   "cell_type": "markdown",
   "metadata": {},
   "source": [
    "## extract\n",
    "1. using docker\n",
    "2. using the nio package"
   ]
  },
  {
   "cell_type": "markdown",
   "metadata": {},
   "source": [
    "## archive\n",
    "1. CSV\n",
    "2. DB\n",
    "    - postgresql\n",
    "    - timescaleDB"
   ]
  },
  {
   "cell_type": "markdown",
   "metadata": {},
   "source": [
    "## query\n",
    "1. python API\n",
    "2. java API"
   ]
  },
  {
   "cell_type": "markdown",
   "metadata": {},
   "source": [
    "## preprocess\n",
    "1. standard CSV\n",
    "2. bias correction"
   ]
  }
 ],
 "metadata": {
  "interpreter": {
   "hash": "31f2aee4e71d21fbe5cf8b01ff0e069b9275f58929596ceb00d14d90e3e16cd6"
  },
  "kernelspec": {
   "display_name": "Python 3.10.4 64-bit",
   "language": "python",
   "name": "python3"
  },
  "language_info": {
   "codemirror_mode": {
    "name": "ipython",
    "version": 3
   },
   "file_extension": ".py",
   "mimetype": "text/x-python",
   "name": "python",
   "nbconvert_exporter": "python",
   "pygments_lexer": "ipython3",
   "version": "3.10.4"
  },
  "orig_nbformat": 4
 },
 "nbformat": 4,
 "nbformat_minor": 2
}
