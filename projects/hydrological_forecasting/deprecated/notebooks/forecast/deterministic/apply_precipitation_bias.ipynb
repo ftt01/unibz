{
 "cells": [
  {
   "cell_type": "code",
   "execution_count": null,
   "metadata": {},
   "outputs": [],
   "source": [
    "wdir = \"/home/daniele/documents/github/ftt01/phd/projects/hydrological_forecasting/\""
   ]
  },
  {
   "cell_type": "code",
   "execution_count": null,
   "metadata": {},
   "outputs": [],
   "source": [
    "# IMPORTs\n",
    "import sys\n",
    "import os\n",
    "import glob\n",
    "import subprocess\n",
    "import pandas as pd\n",
    "from dask import dataframe as dd\n",
    "\n",
    "from shutil import rmtree\n",
    "\n",
    "# to link the lib in py scripts as well\n",
    "os.chdir(wdir)\n",
    "sys.path.insert(0, os.path.join(os.path.abspath(os.getcwd()), 'lib'))\n",
    "from lib import *\n"
   ]
  },
  {
   "cell_type": "code",
   "execution_count": null,
   "metadata": {},
   "outputs": [],
   "source": [
    "def apply_bias_correction( fct_data ):\n",
    "\n",
    "    fct_data['values'] = fct_data['values'] * 1.5\n",
    "    return fct_data"
   ]
  },
  {
   "cell_type": "code",
   "execution_count": null,
   "metadata": {},
   "outputs": [],
   "source": [
    "# SETUP\n",
    "# basins = ['passirio', 'plan']\n",
    "basins = ['plan']\n",
    "variable = 'precipitation'\n",
    "\n",
    "# init_ref = '03'\n",
    "init_forecasting_hour = 9\n",
    "lead_hours = 39\n",
    "lag_hours = 24*7\n",
    "\n",
    "output_types = ['mean','median','first_quantile','third_quantile']\n",
    "\n",
    "start_date = '20210615'\n",
    "end_date = '20211014'\n"
   ]
  },
  {
   "cell_type": "code",
   "execution_count": null,
   "metadata": {},
   "outputs": [],
   "source": [
    "start_date = dt.datetime.strptime(start_date, '%Y%m%d')\n",
    "end_date = dt.datetime.strptime(end_date, '%Y%m%d')\n",
    "\n",
    "dates = [start_date + dt.timedelta(days=x)\n",
    "         for x in range(0, (end_date-start_date).days + 1)]\n"
   ]
  },
  {
   "cell_type": "code",
   "execution_count": null,
   "metadata": {},
   "outputs": [],
   "source": [
    "for output_type in output_types:\n",
    "\n",
    "    print(output_type)\n",
    "\n",
    "    for basin in basins:\n",
    "\n",
    "        print(basin)\n",
    "        \n",
    "        fct_data_path = \"/media/windows/projects/hydrological_forecasting/machine_learning/data/observed/{basin}/{variable}/daily/fullfilled/{output_type}/\"\n",
    "        obs_data_path = \"/media/windows/projects/hydrological_forecasting/machine_learning/data/observed/{basin}/{variable}/daily/\"\n",
    "        output_path = \"/media/windows/projects/hydrological_forecasting/machine_learning/data/observed/{basin}/{variable}/daily/unbiased/{output_type}/\"\n",
    "\n",
    "        fct_data_path = fct_data_path.format(\n",
    "            basin=basin, variable=variable, output_type=output_type)\n",
    "        obs_data_path = obs_data_path.format(\n",
    "            basin=basin, variable=variable, output_type='mean')\n",
    "        output_path = output_path.format(\n",
    "            basin=basin, variable=variable, output_type=output_type)\n",
    "        mkNestedDir(output_path)\n",
    "\n",
    "        ### evaluate the bias\n",
    "        # diff_fct_obs = pd.DataFrame()\n",
    "\n",
    "        # for date in dates:\n",
    "\n",
    "        #     # print(date)\n",
    "        #     date_as_str = dt.datetime.strftime(date, '%Y%m%d')\n",
    "\n",
    "        #     ## FORECAST DATASET ##\n",
    "        #     fileName_fct = fct_data_path + date_as_str + \".csv\"\n",
    "\n",
    "        #     df_fct = pd.read_csv(fileName_fct, header=0,\n",
    "        #                          index_col=0, parse_dates=True, sep=';')\n",
    "        #     df_fct = df_fct['values']\n",
    "\n",
    "        #     ## OBSERVED DATASET ##\n",
    "        #     fileName_obs = obs_data_path + date_as_str + \".csv\"\n",
    "\n",
    "        #     df_obs = pd.read_csv(fileName_obs, header=0,\n",
    "        #                          index_col=0, parse_dates=True, sep=';')\n",
    "        #     df_obs = df_obs['values']\n",
    "\n",
    "        #     diff_fct_obs[date_as_str] = (df_fct - df_obs).values\n",
    "\n",
    "        #     # print(diff_fct_obs)\n",
    "\n",
    "        ### apply the bias correction\n",
    "        for date in dates:\n",
    "\n",
    "            # print(date)\n",
    "\n",
    "            date_as_str = dt.datetime.strftime(date, '%Y%m%d')\n",
    "            # print(date_as_str)\n",
    "\n",
    "            current_fct_data = fct_data_path + date_as_str + \".csv\"\n",
    "            # print( current_fct_data )\n",
    "\n",
    "            fct_data = pd.read_csv(\n",
    "                current_fct_data, parse_dates=True, header=0, sep=';')\n",
    "            fct_data.set_index('datetime', inplace=True)\n",
    "\n",
    "            if date != start_date:\n",
    "                fct_data_unbiased = apply_bias_correction(fct_data)\n",
    "            else:\n",
    "                fct_data_unbiased = fct_data\n",
    "                \n",
    "            fct_data_unbiased.to_csv(\n",
    "                output_path + date_as_str + '.csv', sep=';')"
   ]
  },
  {
   "cell_type": "code",
   "execution_count": null,
   "metadata": {},
   "outputs": [],
   "source": []
  }
 ],
 "metadata": {
  "interpreter": {
   "hash": "31f2aee4e71d21fbe5cf8b01ff0e069b9275f58929596ceb00d14d90e3e16cd6"
  },
  "kernelspec": {
   "display_name": "Python 3.8.10 64-bit",
   "language": "python",
   "name": "python3"
  },
  "language_info": {
   "codemirror_mode": {
    "name": "ipython",
    "version": 3
   },
   "file_extension": ".py",
   "mimetype": "text/x-python",
   "name": "python",
   "nbconvert_exporter": "python",
   "pygments_lexer": "ipython3",
   "version": "3.8.10"
  },
  "orig_nbformat": 4
 },
 "nbformat": 4,
 "nbformat_minor": 2
}
