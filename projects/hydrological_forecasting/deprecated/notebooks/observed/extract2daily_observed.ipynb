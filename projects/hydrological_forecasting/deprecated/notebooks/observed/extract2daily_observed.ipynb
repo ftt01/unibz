{
 "cells": [
  {
   "cell_type": "markdown",
   "metadata": {},
   "source": [
    "### Description\n",
    "Scope: from observed data to set of 45h files with observed\n",
    "\n",
    "As input is necessary a file of the station that cover the entire period. "
   ]
  },
  {
   "cell_type": "code",
   "execution_count": null,
   "metadata": {},
   "outputs": [],
   "source": [
    "wdir = \"/home/daniele/documents/github/ftt01/phd/projects/hydrological_forecasting/\""
   ]
  },
  {
   "cell_type": "code",
   "execution_count": null,
   "metadata": {},
   "outputs": [],
   "source": [
    "# IMPORTs\n",
    "import os\n",
    "import sys\n",
    "\n",
    "# to link the lib in py scripts as well\n",
    "os.chdir(wdir)\n",
    "sys.path.insert(0, os.path.join(os.path.abspath(os.getcwd()), 'lib'))\n",
    "\n",
    "from lib import *"
   ]
  },
  {
   "cell_type": "code",
   "execution_count": null,
   "metadata": {},
   "outputs": [],
   "source": [
    "import glob\n",
    "from dateutil import tz\n",
    "from shutil import rmtree"
   ]
  },
  {
   "cell_type": "code",
   "execution_count": null,
   "metadata": {},
   "outputs": [],
   "source": [
    "### SETUP\n",
    "# basins = ['passirio', 'plan']\n",
    "basins = ['plan']\n",
    "variables = ['temperature','precipitation','streamflow']\n",
    "\n",
    "init_forecasting_hour = 9\n",
    "lead_hours = 39\n",
    "\n",
    "start_date_str = '20210615T00:00:00'\n",
    "end_date_str = '20211016T00:00:00'\n",
    "timezone_str = 'Europe/Rome'\n",
    "timezone = ZoneInfo(timezone_str)"
   ]
  },
  {
   "cell_type": "code",
   "execution_count": null,
   "metadata": {},
   "outputs": [],
   "source": [
    "start_date = dt.datetime.strptime(start_date_str, '%Y%m%dT%H:%M:%S').replace(tzinfo=ZoneInfo(timezone_str))\n",
    "end_date = dt.datetime.strptime(end_date_str, '%Y%m%dT%H:%M:%S').replace(tzinfo=ZoneInfo(timezone_str))\n",
    "\n",
    "dates = [ start_date + dt.timedelta(days=x) for x in range(0, (end_date-start_date).days) ]"
   ]
  },
  {
   "cell_type": "code",
   "execution_count": null,
   "metadata": {},
   "outputs": [],
   "source": [
    "for variable in variables:\n",
    "    for basin in basins:\n",
    "\n",
    "        data_path = '/media/windows/projects/hydro_forecasting/machine_learning/data/observed/{basin}/{variable}/'\n",
    "        output_path = \"/media/windows/projects/hydro_forecasting/machine_learning/data/observed/{basin}/{variable}/daily/\"\n",
    "        \n",
    "        data_path = data_path.format( basin=basin, variable=variable )\n",
    "        output_path = output_path.format( basin=basin, variable=variable )\n",
    "        mkNestedDir(output_path)\n",
    "\n",
    "        stations = glob.glob( data_path + '*.txt' )\n",
    "\n",
    "        for station in stations:\n",
    "\n",
    "            print(station)\n",
    "            \n",
    "            station_data = pd.read_csv( station, parse_dates=[0], header=None, skiprows=4, index_col=0, names=['values'] )\n",
    "            station_data.index.name = 'datetime'\n",
    "\n",
    "            infer_dst = np.array([False] * station_data.shape[0])\n",
    "            station_data = station_data.tz_localize(timezone_str, ambiguous=infer_dst)\n",
    "            \n",
    "            for date in dates:\n",
    "\n",
    "                start_datetime = date + dt.timedelta( hours=init_forecasting_hour )\n",
    "                end_datetime = date + dt.timedelta( hours=init_forecasting_hour + lead_hours )\n",
    "\n",
    "                current_data = station_data[ start_datetime : end_datetime ]\n",
    "                current_data.index = [ dt.datetime.strftime(i, format='%Y-%m-%d %H:%M:%S') for i in current_data.index ]\n",
    "                current_data.index.name = \"datetime\"\n",
    "                \n",
    "                current_data.to_csv( output_path + dt.datetime.strftime(start_datetime, format='%Y%m%d') + '.csv', sep=';' )"
   ]
  }
 ],
 "metadata": {
  "interpreter": {
   "hash": "31f2aee4e71d21fbe5cf8b01ff0e069b9275f58929596ceb00d14d90e3e16cd6"
  },
  "kernelspec": {
   "display_name": "Python 3.8.10 64-bit",
   "language": "python",
   "name": "python3"
  },
  "language_info": {
   "codemirror_mode": {
    "name": "ipython",
    "version": 3
   },
   "file_extension": ".py",
   "mimetype": "text/x-python",
   "name": "python",
   "nbconvert_exporter": "python",
   "pygments_lexer": "ipython3",
   "version": "3.8.10"
  },
  "orig_nbformat": 4
 },
 "nbformat": 4,
 "nbformat_minor": 2
}
