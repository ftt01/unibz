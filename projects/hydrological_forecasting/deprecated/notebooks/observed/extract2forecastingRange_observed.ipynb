{
 "cells": [
  {
   "cell_type": "code",
   "execution_count": null,
   "metadata": {},
   "outputs": [],
   "source": [
    "wdir = \"/home/daniele/documents/github/ftt01/phd/projects/hydrological_forecasting/\""
   ]
  },
  {
   "cell_type": "code",
   "execution_count": null,
   "metadata": {},
   "outputs": [],
   "source": [
    "# IMPORTs\n",
    "import os\n",
    "import sys\n",
    "\n",
    "# to link the lib in py scripts as well\n",
    "os.chdir(wdir)\n",
    "sys.path.insert(0, os.path.join(os.path.abspath(os.getcwd()), 'lib'))\n",
    "from lib import *"
   ]
  },
  {
   "cell_type": "code",
   "execution_count": null,
   "metadata": {},
   "outputs": [],
   "source": [
    "import glob\n",
    "from dateutil import tz\n",
    "from shutil import rmtree"
   ]
  },
  {
   "cell_type": "code",
   "execution_count": null,
   "metadata": {},
   "outputs": [],
   "source": [
    "def append_data(current_data, additional_data):\n",
    "\n",
    "    current_data = current_data.reset_index()\n",
    "    additional_data = additional_data.reset_index()\n",
    "\n",
    "    current_data = pd.concat([current_data[current_data['datetime'].isin(\n",
    "        additional_data['datetime']) == False], additional_data], ignore_index=True)\n",
    "\n",
    "    # print(data)\n",
    "    current_data.dropna(subset=['datetime'], inplace=True)\n",
    "    current_data.sort_values(by=['datetime'], inplace=True)\n",
    "\n",
    "    current_data = current_data.set_index('datetime')\n",
    "    current_data = current_data[current_data.index.notnull()]\n",
    "\n",
    "    return current_data"
   ]
  },
  {
   "cell_type": "code",
   "execution_count": null,
   "metadata": {},
   "outputs": [],
   "source": [
    "def dirtier(current_obs_data, previous_day_data, yesterday_fct_data):\n",
    "\n",
    "    return current_obs_data + yesterday_fct_data - previous_day_data"
   ]
  },
  {
   "cell_type": "code",
   "execution_count": null,
   "metadata": {},
   "outputs": [],
   "source": [
    "# SETUP\n",
    "# basins = ['passirio', 'plan']\n",
    "basins = ['plan']\n",
    "variables = ['temperature', 'precipitation', 'streamflow']\n",
    "\n",
    "init_forecasting_hour = 10\n",
    "lead_hours = 38\n",
    "lag_hours = 24*7\n",
    "\n",
    "output_types = ['mean','median','first_quantile','third_quantile']\n",
    "\n",
    "start_date_str = '20210615T00:00:00'\n",
    "end_date_str = '20211016T00:00:00'\n",
    "timezone_str = 'Europe/Rome'\n",
    "timezone = ZoneInfo(timezone_str)\n",
    "\n",
    "# ## Passirio basin\n",
    "# lat = ( 46.68, 46.945 )\n",
    "# lon = ( 11.015, 11.38 )\n",
    "\n",
    "# # Plan basin\n",
    "# lat = (46.7145853, 46.8251415)\n",
    "# lon = (11.0198472, 11.117037)"
   ]
  },
  {
   "cell_type": "code",
   "execution_count": null,
   "metadata": {},
   "outputs": [],
   "source": [
    "start_date = dt.datetime.strptime(start_date_str, '%Y%m%dT%H:%M:%S').replace(tzinfo=ZoneInfo(timezone_str))\n",
    "end_date = dt.datetime.strptime(end_date_str, '%Y%m%dT%H:%M:%S').replace(tzinfo=ZoneInfo(timezone_str))\n",
    "\n",
    "dates = [start_date + dt.timedelta(days=x)\n",
    "         for x in range(0, (end_date-start_date).days)]"
   ]
  },
  {
   "cell_type": "code",
   "execution_count": null,
   "metadata": {},
   "outputs": [],
   "source": [
    "# To create the input for the machine learning models\n",
    "# for each day we create here a timeseries with the 7 days lag before the init_hour [9AM] and the forecasting for the following 38 hours\n",
    "\n",
    "for output_type in output_types:\n",
    "\n",
    "    print(output_type)\n",
    "\n",
    "    for variable in variables:\n",
    "\n",
    "        print(variable)\n",
    "\n",
    "        for basin in basins:\n",
    "\n",
    "            print(basin)\n",
    "\n",
    "            obs_data_path = \"/media/windows/projects/hydro_forecasting/machine_learning/data/observed/{basin}/{variable}/\"\n",
    "            output_path = \"/media/windows/projects/hydro_forecasting/machine_learning/data/observed/{basin}/{variable}/daily/obs/{output_type}/\"\n",
    "\n",
    "            obs_data_path = obs_data_path.format(\n",
    "                basin=basin, variable=variable, output_type=output_type)\n",
    "            output_path = output_path.format(\n",
    "                basin=basin, variable=variable, output_type=output_type)\n",
    "            mkNestedDir(output_path)\n",
    "\n",
    "            stations = glob.glob(obs_data_path + '*.txt')\n",
    "            print(obs_data_path)\n",
    "\n",
    "            station = stations[0]\n",
    "\n",
    "            station_data = pd.read_csv( station, parse_dates=[0], header=None, skiprows=4, index_col=0, names=['values'] )\n",
    "            station_data.index.name = 'datetime'\n",
    "\n",
    "            infer_dst = np.array([False] * station_data.shape[0])\n",
    "            station_data = station_data.tz_localize(timezone_str, ambiguous=infer_dst)\n",
    "\n",
    "            for date in dates:\n",
    "\n",
    "                # print( date )\n",
    "\n",
    "                start_datetime = date + \\\n",
    "                    dt.timedelta(hours=int(init_forecasting_hour))\n",
    "                start_datetime_wlag = start_datetime - \\\n",
    "                    dt.timedelta(hours=lag_hours)\n",
    "                end_datetime = date + \\\n",
    "                    dt.timedelta(\n",
    "                        hours=int(init_forecasting_hour) + lead_hours)\n",
    "\n",
    "                current_obs_data = station_data[start_datetime_wlag:end_datetime]\n",
    " \n",
    "                current_obs_data.index = [ dt.datetime.strftime(i, format='%Y-%m-%d %H:%M:%S') for i in current_obs_data.index ]\n",
    "                current_obs_data.index.name = \"datetime\"\n",
    "                    \n",
    "                current_obs_data.to_csv(\n",
    "                    output_path + dt.datetime.strftime(start_datetime, format='%Y%m%d') + '.csv', sep=';')"
   ]
  }
 ],
 "metadata": {
  "interpreter": {
   "hash": "31f2aee4e71d21fbe5cf8b01ff0e069b9275f58929596ceb00d14d90e3e16cd6"
  },
  "kernelspec": {
   "display_name": "Python 3.8.10 64-bit",
   "language": "python",
   "name": "python3"
  },
  "language_info": {
   "codemirror_mode": {
    "name": "ipython",
    "version": 3
   },
   "file_extension": ".py",
   "mimetype": "text/x-python",
   "name": "python",
   "nbconvert_exporter": "python",
   "pygments_lexer": "ipython3",
   "version": "3.8.10"
  },
  "orig_nbformat": 4
 },
 "nbformat": 4,
 "nbformat_minor": 2
}
