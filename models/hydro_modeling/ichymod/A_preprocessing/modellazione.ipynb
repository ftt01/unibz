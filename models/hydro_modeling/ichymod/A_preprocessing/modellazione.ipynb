{
 "metadata": {
  "language_info": {
   "codemirror_mode": {
    "name": "ipython",
    "version": 3
   },
   "file_extension": ".py",
   "mimetype": "text/x-python",
   "name": "python",
   "nbconvert_exporter": "python",
   "pygments_lexer": "ipython3",
   "version": "3.8.5"
  },
  "orig_nbformat": 2,
  "kernelspec": {
   "name": "python385jvsc74a57bd0916dbcbb3f70747c44a77c7bcd40155683ae19c65e1c03b4aa3499c5328201f1",
   "display_name": "Python 3.8.5 64-bit"
  },
  "metadata": {
   "interpreter": {
    "hash": "916dbcbb3f70747c44a77c7bcd40155683ae19c65e1c03b4aa3499c5328201f1"
   }
  }
 },
 "nbformat": 4,
 "nbformat_minor": 2,
 "cells": [
  {
   "cell_type": "code",
   "execution_count": null,
   "metadata": {},
   "outputs": [],
   "source": [
    "import pandas as pd\n",
    "import glob"
   ]
  },
  {
   "cell_type": "code",
   "execution_count": null,
   "metadata": {},
   "outputs": [],
   "source": [
    "path = \"/mnt/c/Users/DDallaTorre/Desktop/altoadige/precipitation/\""
   ]
  },
  {
   "cell_type": "code",
   "execution_count": null,
   "metadata": {},
   "outputs": [],
   "source": [
    "dirs = glob.glob( path + \"*\" )"
   ]
  },
  {
   "cell_type": "code",
   "execution_count": null,
   "metadata": {},
   "outputs": [],
   "source": [
    "stations = [ dir[-7:] for dir in dirs ]"
   ]
  },
  {
   "cell_type": "code",
   "execution_count": null,
   "metadata": {},
   "outputs": [],
   "source": [
    "for st in stations:\n",
    "    \n",
    "    p_file_tot = glob.glob( path + \"/\" + st + \"/\" + '*.csv' )\n",
    "\n",
    "    data = pd.DataFrame(columns=['datetime', 'station_id', 'values'])\n",
    "\n",
    "    for p_file in p_file_tot:\n",
    "\n",
    "        data_tot = pd.read_csv( p_file, header=0, index_col=0, skiprows=0, parse_dates=True)\n",
    "        data_tot.reset_index(inplace=True)\n",
    "        # data_tot = data_tot[start_date:end_date]\n",
    "        # data_tot[data_tot == -999] = None\n",
    "        data_tot['station_id'] = st\n",
    "        data = pd.concat([data, data_tot], axis=0)\n",
    "\n",
    "    data = data.set_index('datetime')\n",
    "\n",
    "    data.to_csv( path + \"/\" + st + \".csv\" )"
   ]
  },
  {
   "cell_type": "code",
   "execution_count": null,
   "metadata": {},
   "outputs": [],
   "source": []
  },
  {
   "cell_type": "code",
   "execution_count": null,
   "metadata": {},
   "outputs": [],
   "source": []
  }
 ]
}