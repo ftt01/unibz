{
 "metadata": {
  "language_info": {
   "codemirror_mode": {
    "name": "ipython",
    "version": 3
   },
   "file_extension": ".py",
   "mimetype": "text/x-python",
   "name": "python",
   "nbconvert_exporter": "python",
   "pygments_lexer": "ipython3",
   "version": "3.9.1-final"
  },
  "orig_nbformat": 2,
  "kernelspec": {
   "name": "python3",
   "display_name": "Python 3.9.1 64-bit",
   "metadata": {
    "interpreter": {
     "hash": "63d5e5d3ef3ec13453f007c86728ea82bf14ea96ebb0a2fb9c639ae49af1dbf7"
    }
   }
  }
 },
 "nbformat": 4,
 "nbformat_minor": 2,
 "cells": [
  {
   "cell_type": "code",
   "execution_count": 2,
   "metadata": {},
   "outputs": [],
   "source": [
    "from lib import *"
   ]
  },
  {
   "cell_type": "code",
   "execution_count": 3,
   "metadata": {},
   "outputs": [
    {
     "output_type": "execute_result",
     "data": {
      "text/plain": [
       "0.06372788718623815"
      ]
     },
     "metadata": {},
     "execution_count": 3
    }
   ],
   "source": [
    "# application of the AltoAdige basin for kriging 1x1 to mean precipitation of Passirio basin\n",
    "aa_slope_kr = 0.07003755319822341\n",
    "passirio_p_mean_kr = 1099.0094963221652\n",
    "\n",
    "g_kr = evaluateParameterGfromSlope( passirio_p_mean_kr, aa_slope_kr )\n",
    "g_kr"
   ]
  },
  {
   "cell_type": "code",
   "execution_count": 5,
   "metadata": {},
   "outputs": [
    {
     "output_type": "execute_result",
     "data": {
      "text/plain": [
       "0.019304132363336703"
      ]
     },
     "metadata": {},
     "execution_count": 5
    }
   ],
   "source": [
    "# application of the AltoAdige basin for kriging 11x8 to mean precipitation of Passirio basin\n",
    "aa_slope_kr11 = 0.020524104624897524\n",
    "passirio_p_mean_kr11 = 1063.1974666666626\n",
    "\n",
    "g_kr11 = evaluateParameterGfromSlope( passirio_p_mean_kr11, aa_slope_kr11 )\n",
    "g_kr11"
   ]
  },
  {
   "cell_type": "code",
   "execution_count": 4,
   "metadata": {},
   "outputs": [
    {
     "output_type": "execute_result",
     "data": {
      "text/plain": [
       "0.07591086152551886"
      ]
     },
     "metadata": {},
     "execution_count": 4
    }
   ],
   "source": [
    "# application of the AltoAdige basin for reanalysis 11x8 to mean precipitation of Passirio basin\n",
    "aa_slope_rea11 = 0.10357989906077482\n",
    "passirio_p_mean_rea11 = 1364.4937888888858\n",
    "\n",
    "g_rea11 = evaluateParameterGfromSlope( passirio_p_mean_rea11, aa_slope_rea11 )\n",
    "g_rea11"
   ]
  },
  {
   "cell_type": "code",
   "execution_count": null,
   "metadata": {},
   "outputs": [],
   "source": [
    "g_kr = 0.06372788718623815\n",
    "g_kr11 = 0.019304132363336703\n",
    "g_rea11 = 0.07591086152551886"
   ]
  }
 ]
}