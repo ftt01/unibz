{
 "metadata": {
  "language_info": {
   "codemirror_mode": {
    "name": "ipython",
    "version": 3
   },
   "file_extension": ".py",
   "mimetype": "text/x-python",
   "name": "python",
   "nbconvert_exporter": "python",
   "pygments_lexer": "ipython3",
   "version": "3.9.1-final"
  },
  "orig_nbformat": 2,
  "kernelspec": {
   "name": "python391jvsc74a57bd063d5e5d3ef3ec13453f007c86728ea82bf14ea96ebb0a2fb9c639ae49af1dbf7",
   "display_name": "Python 3.9.1 64-bit"
  },
  "metadata": {
   "interpreter": {
    "hash": "63d5e5d3ef3ec13453f007c86728ea82bf14ea96ebb0a2fb9c639ae49af1dbf7"
   }
  }
 },
 "nbformat": 4,
 "nbformat_minor": 2,
 "cells": [
  {
   "cell_type": "code",
   "execution_count": 1,
   "metadata": {},
   "outputs": [],
   "source": [
    "from lib import *\n",
    "\n",
    "### simulation selection #############################################################################\n",
    "\n",
    "current_phase = \"best_merano_cal_val\"\n",
    "current_basin = \"passirio\"\n",
    "current_node = \"merano\"\n",
    "\n",
    "current_type = \"kriging\"\n",
    "\n",
    "model_flow, model_precipitation, model_temperature, \\\n",
    "    obs_flow, obs_temperature, model_snow_we, model_snow_we_plan, \\\n",
    "        sca_passirio, swe1_kr, swe2_kr, swe3_kr, swe4_kr, swe5_kr \\\n",
    "            = retrieveSimulated( configPath, current_phase, current_basin, current_type, current_node)\n",
    "\n",
    "### end simulation selection ##########################################################################\n",
    "### simulation selection #############################################################################\n",
    "\n",
    "current_type = \"kriging_11\"\n",
    "\n",
    "model_flow, model_precipitation, model_temperature, \\\n",
    "    obs_flow, obs_temperature, model_snow_we, model_snow_we_plan, \\\n",
    "        sca_passirio, swe1_kr11, swe2_kr11, swe3_kr11, swe4_kr11, swe5_kr11 \\\n",
    "            = retrieveSimulated( configPath, current_phase, current_basin, current_type, current_node)\n",
    "\n",
    "### end simulation selection ##########################################################################\n",
    "### simulation selection #############################################################################\n",
    "\n",
    "current_type = \"reanalysis\"\n",
    "\n",
    "model_flow, model_precipitation, model_temperature, \\\n",
    "    obs_flow, obs_temperature, model_snow_we, model_snow_we_plan, \\\n",
    "        sca_passirio, swe1_rea, swe2_rea, swe3_rea, swe4_rea, swe5_rea \\\n",
    "            = retrieveSimulated( configPath, current_phase, current_basin, current_type, current_node)\n",
    "\n",
    "### end simulation selection ##########################################################################"
   ]
  },
  {
   "cell_type": "code",
   "execution_count": 2,
   "metadata": {},
   "outputs": [
    {
     "output_type": "execute_result",
     "data": {
      "text/plain": [
       "array([0., 0., 0., ..., 0., 0., 0.])"
      ]
     },
     "metadata": {},
     "execution_count": 2
    }
   ],
   "source": [
    "(swe1_kr.values - swe1_kr11.values)"
   ]
  },
  {
   "cell_type": "code",
   "execution_count": 3,
   "metadata": {},
   "outputs": [],
   "source": [
    "# Plan\n",
    "swe1_kr = swe1_kr.resample('d').mean()\n",
    "swe1_kr = pd.DataFrame(data=swe1_kr)\n",
    "\n",
    "swe1_kr_model = pd.DataFrame(index=swe1_kr.index, columns=['swe_kr'])\n",
    "swe1_kr_model['swe_kr'] = swe1_kr.values\n",
    "\n",
    "# Prati di Plan\n",
    "swe2_kr = swe2_kr.resample('d').mean()\n",
    "swe2_kr = pd.DataFrame(data=swe2_kr)\n",
    "\n",
    "swe2_kr_model = pd.DataFrame(index=swe2_kr.index, columns=['swe_kr'])\n",
    "swe2_kr_model['swe_kr'] = swe2_kr.values\n",
    "\n",
    "# Plata\n",
    "swe3_kr = swe3_kr.resample('d').mean()\n",
    "swe3_kr = pd.DataFrame(data=swe3_kr)\n",
    "\n",
    "swe3_kr_model = pd.DataFrame(index=swe3_kr.index, columns=['swe_kr'])\n",
    "swe3_kr_model['swe_kr'] = swe3_kr.values\n",
    "\n",
    "# St. Martino\n",
    "swe4_kr = swe4_kr.resample('d').mean()\n",
    "swe4_kr = pd.DataFrame(data=swe4_kr)\n",
    "\n",
    "swe4_kr_model = pd.DataFrame(index=swe4_kr.index, columns=['swe_kr'])\n",
    "swe4_kr_model['swe_kr'] = swe4_kr.values\n",
    "\n",
    "# Alpe del Tumulo\n",
    "swe5_kr = swe5_kr.resample('d').mean()\n",
    "swe5_kr = pd.DataFrame(data=swe5_kr)\n",
    "\n",
    "swe5_kr_model = pd.DataFrame(index=swe5_kr.index, columns=['swe_kr'])\n",
    "swe5_kr_model['swe_kr'] = swe5_kr.values"
   ]
  },
  {
   "cell_type": "code",
   "execution_count": 4,
   "metadata": {},
   "outputs": [
    {
     "output_type": "execute_result",
     "data": {
      "text/plain": [
       "swe_kr    0.0\n",
       "Name: 2015-10-10 00:00:00, dtype: float64"
      ]
     },
     "metadata": {},
     "execution_count": 4
    }
   ],
   "source": [
    "swe1_kr_model.loc['2015-10-10']"
   ]
  },
  {
   "cell_type": "code",
   "execution_count": 5,
   "metadata": {},
   "outputs": [],
   "source": [
    "# Plan\n",
    "swe1_kr11 = swe1_kr11.resample('d').mean()\n",
    "swe1_kr11 = pd.DataFrame(data=swe1_kr11)\n",
    "\n",
    "swe1_kr11_model = pd.DataFrame(index=swe1_kr11.index, columns=['swe_kr11'])\n",
    "swe1_kr11_model['swe_kr11'] = swe1_kr11.values\n",
    "\n",
    "# Prati di Plan\n",
    "swe2_kr11 = swe2_kr11.resample('d').mean()\n",
    "swe2_kr11 = pd.DataFrame(data=swe2_kr11)\n",
    "\n",
    "swe2_kr11_model = pd.DataFrame(index=swe2_kr11.index, columns=['swe_kr11'])\n",
    "swe2_kr11_model['swe_kr11'] = swe2_kr11.values\n",
    "\n",
    "# Plata\n",
    "swe3_kr11 = swe3_kr11.resample('d').mean()\n",
    "swe3_kr11 = pd.DataFrame(data=swe3_kr11)\n",
    "\n",
    "swe3_kr11_model = pd.DataFrame(index=swe3_kr11.index, columns=['swe_kr11'])\n",
    "swe3_kr11_model['swe_kr11'] = swe3_kr11.values\n",
    "\n",
    "# St. Martino\n",
    "swe4_kr11 = swe4_kr11.resample('d').mean()\n",
    "swe4_kr11 = pd.DataFrame(data=swe4_kr11)\n",
    "\n",
    "swe4_kr11_model = pd.DataFrame(index=swe4_kr11.index, columns=['swe_kr11'])\n",
    "swe4_kr11_model['swe_kr11'] = swe4_kr11.values\n",
    "\n",
    "# Alpe del Tumulo\n",
    "swe5_kr11 = swe5_kr11.resample('d').mean()\n",
    "swe5_kr11 = pd.DataFrame(data=swe5_kr11)\n",
    "\n",
    "swe5_kr11_model = pd.DataFrame(index=swe5_kr11.index, columns=['swe_kr11'])\n",
    "swe5_kr11_model['swe_kr11'] = swe5_kr11.values"
   ]
  },
  {
   "cell_type": "code",
   "execution_count": 6,
   "metadata": {},
   "outputs": [],
   "source": [
    "# Plan\n",
    "swe1_rea = swe1_rea.resample('d').mean()\n",
    "swe1_rea = pd.DataFrame(data=swe1_rea)\n",
    "\n",
    "swe1_rea_model = pd.DataFrame(index=swe1_rea.index, columns=['swe_rea'])\n",
    "swe1_rea_model['swe_rea'] = swe1_rea.values\n",
    "\n",
    "# Prati di Plan\n",
    "swe2_rea = swe2_rea.resample('d').mean()\n",
    "swe2_rea = pd.DataFrame(data=swe2_rea)\n",
    "\n",
    "swe2_rea_model = pd.DataFrame(index=swe2_rea.index, columns=['swe_rea'])\n",
    "swe2_rea_model['swe_rea'] = swe2_rea.values\n",
    "\n",
    "# Plata\n",
    "swe3_rea = swe3_rea.resample('d').mean()\n",
    "swe3_rea = pd.DataFrame(data=swe3_rea)\n",
    "\n",
    "swe3_rea_model = pd.DataFrame(index=swe3_rea.index, columns=['swe_rea'])\n",
    "swe3_rea_model['swe_rea'] = swe3_rea.values\n",
    "\n",
    "# St. Martino\n",
    "swe4_rea = swe4_rea.resample('d').mean()\n",
    "swe4_rea = pd.DataFrame(data=swe4_rea)\n",
    "\n",
    "swe4_rea_model = pd.DataFrame(index=swe4_rea.index, columns=['swe_rea'])\n",
    "swe4_rea_model['swe_rea'] = swe4_rea.values\n",
    "\n",
    "# Alpe del Tumulo\n",
    "swe5_rea = swe5_rea.resample('d').mean()\n",
    "swe5_rea = pd.DataFrame(data=swe5_rea)\n",
    "\n",
    "swe5_rea_model = pd.DataFrame(index=swe5_rea.index, columns=['swe_rea'])\n",
    "swe5_rea_model['swe_rea'] = swe5_rea.values"
   ]
  },
  {
   "cell_type": "code",
   "execution_count": 7,
   "metadata": {},
   "outputs": [],
   "source": [
    "def read_local_csv(fileName):\n",
    "    from pandas import read_csv\n",
    "    df = read_csv(fileName, skiprows=1, index_col=0, parse_dates=True, names=['depth_obs'], dayfirst=True)\n",
    "\n",
    "    df['depth_obs'] = pd.to_numeric(df['depth_obs'])\n",
    "    df[df['depth_obs']<0] = None\n",
    "    return df.resample('d').mean()"
   ]
  },
  {
   "cell_type": "code",
   "execution_count": 8,
   "metadata": {},
   "outputs": [],
   "source": [
    "def get_doy( datetime, model='S10' ):\n",
    "\n",
    "    if model == 'S10':\n",
    "        curr_year = str(datetime.year)\n",
    "        ref_date = pd.Timestamp(curr_year + '-10-01')\n",
    "\n",
    "        if datetime.dayofyear >= ref_date.dayofyear:\n",
    "            return - 92 + datetime.dayofyear - ref_date.dayofyear\n",
    "        else:\n",
    "            return datetime.dayofyear\n",
    "    else:\n",
    "        return None"
   ]
  },
  {
   "cell_type": "code",
   "execution_count": 9,
   "metadata": {},
   "outputs": [],
   "source": [
    "def depth_2_rho_snow( df, model='S10'):\n",
    "\n",
    "    df_out = pd.DataFrame(index=df.index, columns=['rho_snow'])\n",
    "    for index, row in df.iterrows():\n",
    "        \n",
    "        depth = row['depth_obs']\n",
    "\n",
    "        model_doy = get_doy( index, model=model )\n",
    "        rho_snow = density_eval(depth, doy=model_doy, model=model)\n",
    "\n",
    "        df_out.at[index, 'rho_snow'] = round(rho_snow,2)\n",
    "        \n",
    "    return pd.concat([df, df_out], axis=1)"
   ]
  },
  {
   "cell_type": "code",
   "execution_count": 10,
   "metadata": {},
   "outputs": [],
   "source": [
    "# def swe_from_depth(depth, rho_snow, rho_w=997, unit='cm'):\n",
    "#     if unit == 'm':\n",
    "#         unit_conv = 1000\n",
    "#     if unit == 'cm':\n",
    "#         unit_conv = 10\n",
    "#     if unit == 'mm':\n",
    "#         unit_conv = 1\n",
    "#     out = rho_snow / rho_w * depth * unit_conv\n",
    "#     return out"
   ]
  },
  {
   "cell_type": "code",
   "execution_count": 11,
   "metadata": {
    "tags": []
   },
   "outputs": [],
   "source": [
    "# def evaluate_swe( df ):\n",
    "\n",
    "#     df_out = pd.DataFrame(index=df.index, columns=['swe'])\n",
    "#     for index, row in df.iterrows():\n",
    "#         depth = row['depth_obs']\n",
    "#         rho_snow = row['rho_snow']\n",
    "        \n",
    "#         swe = swe_from_depth(depth, rho_snow)\n",
    "\n",
    "#         # to avoid negative SWE\n",
    "#         if swe >= 0:\n",
    "#             df_out.at[index, 'swe'] = round(swe,2)\n",
    "#         else:\n",
    "#             df_out.at[index, 'swe'] = None\n",
    "\n",
    "#     return pd.concat([df, df_out], axis=1)"
   ]
  },
  {
   "cell_type": "code",
   "execution_count": 12,
   "metadata": {},
   "outputs": [],
   "source": [
    "def depth_from_swe(swe, rho_snow, rho_w=997, unit='cm'):\n",
    "    if unit == 'm':\n",
    "        unit_conv = 1000\n",
    "    if unit == 'cm':\n",
    "        unit_conv = 10\n",
    "    if unit == 'mm':\n",
    "        unit_conv = 1\n",
    "\n",
    "    # print(\"swe: \" + str(swe))\n",
    "    # print(\"rho_snow: \" + str(rho_snow))\n",
    "    # print(\"rho_w: \" + str(rho_w))\n",
    "    # print(\"unit_conv: \" + str(unit_conv))\n",
    "\n",
    "    out = swe * rho_w / rho_snow / unit_conv\n",
    "    return out"
   ]
  },
  {
   "cell_type": "code",
   "execution_count": 13,
   "metadata": {},
   "outputs": [],
   "source": [
    "def evaluate_depth( df, dataset ):\n",
    "\n",
    "    out_feature_name = 'depth_' + dataset\n",
    "    in_swe_name = 'swe_' + dataset\n",
    "\n",
    "    df_out = pd.DataFrame(index=df.index, columns=[out_feature_name])\n",
    "    for index, row in df.iterrows():\n",
    "        swe = row[in_swe_name]\n",
    "        rho_snow = row['rho_snow']\n",
    "        depth = depth_from_swe(swe, rho_snow)\n",
    "\n",
    "        # to avoid negative depth\n",
    "        if depth >= 0:\n",
    "            df_out.at[index, out_feature_name] = round(swe,2)\n",
    "        else:\n",
    "            df_out.at[index, out_feature_name] = None\n",
    "\n",
    "    return pd.concat([df, df_out], axis=1)"
   ]
  },
  {
   "cell_type": "code",
   "execution_count": 14,
   "metadata": {},
   "outputs": [],
   "source": [
    "def printing(df, current_phase):\n",
    "\n",
    "    datasets = [\"kr\", \"kr11\", \"rea\"]\n",
    "\n",
    "    df_name = [x for x in globals() if globals()[x] is df][0]\n",
    "\n",
    "    outfile = config[\"output_path\"] + \"model\\\\passirio\\\\swe\\\\daily\\\\\" \\\n",
    "        + \"model_passirio_model_depth_\" + df_name + '.' + output_format\n",
    "\n",
    "    plots = []\n",
    "    \n",
    "    for el in datasets:\n",
    "        feature_name = 'depth_' + el\n",
    "        plots.append( (df[feature_name], {\"label\": el}) )\n",
    "        # print(feature_name)\n",
    "\n",
    "    plots.append( (df['depth_obs'], {\"label\":\"obs_depth\"}) )\n",
    "\n",
    "    createPlot( plots, \"Time $[day]$\", 'Depth $[cm]$', outfile, output_format=output_format, my_dpi=600 )\n",
    "\n",
    "    ####################\n",
    "\n",
    "    # outfile = config[\"output_path\"] + \"model\\\\passirio\\\\swe\\\\daily\\\\\" \\\n",
    "    # + \"model_passirio_depth_\" + df_name + '_' + current_phase + '.' + output_format\n",
    "\n",
    "    # plots = []\n",
    "    # dict_plt = {}\n",
    "\n",
    "    # plots.append( (df['depth_obs'], dict_plt) )\n",
    "\n",
    "    # createPlot( plots, \"Time $[day]$\", 'Depth $[mm]$', outfile, output_format=output_format, my_dpi=600 )\n",
    "\n",
    "    ####################\n",
    "\n",
    "    outfile = config[\"output_path\"] + \"model\\\\passirio\\\\swe\\\\daily\\\\\" \\\n",
    "    + \"model_passirio_rho_snow_\" + df_name + '.' + output_format\n",
    "\n",
    "    plots = []\n",
    "    dict_plt = {}\n",
    "\n",
    "    plots.append( (df['rho_snow'], dict_plt) )\n",
    "\n",
    "    createPlot( plots, \"Time $[day]$\", 'Density $[kg/m^3]$', outfile, output_format=output_format, my_dpi=600 )"
   ]
  },
  {
   "cell_type": "code",
   "execution_count": 15,
   "metadata": {},
   "outputs": [],
   "source": [
    "fileName_belpiano = \"D:\\\\hydrology\\\\data\\\\da_Nicola\\\\dati neve da Uff. Idro. BZ\\\\mod\\\\00390SF Belpiano HS TagMittel.csv\"\n",
    "df_belpiano = read_local_csv(fileName_belpiano)\n",
    "\n",
    "fileName_alpedeltumulo = \"D:\\\\hydrology\\\\data\\\\da_Nicola\\\\dati neve da Uff. Idro. BZ\\\\mod\\\\20050SF Alpe del Tumulo HS TagMittel.csv\"\n",
    "df_alpedeltumulo = read_local_csv(fileName_alpedeltumulo)\n",
    "\n",
    "fileName_plan = \"D:\\\\hydrology\\\\data\\\\da_Nicola\\\\dati neve da Uff. Idro. BZ\\\\mod\\\\20580BL Plan Mod 1 HS TagMomentan.csv\"\n",
    "df_plan = read_local_csv(fileName_plan)\n",
    "\n",
    "fileName_pratiplan = \"D:\\\\hydrology\\\\data\\\\da_Nicola\\\\dati neve da Uff. Idro. BZ\\\\mod\\\\20690SF Prati di Plan HS TagMittel.csv\"\n",
    "df_pratiplan = read_local_csv(fileName_pratiplan)\n",
    "\n",
    "fileName_plata = \"D:\\\\hydrology\\\\data\\\\da_Nicola\\\\dati neve da Uff. Idro. BZ\\\\mod\\\\20900MS Plata HS Beobachter TagMomentan.csv\"\n",
    "df_plata = read_local_csv(fileName_plata)\n",
    "\n",
    "fileName_stmartino = \"D:\\\\hydrology\\\\data\\\\da_Nicola\\\\dati neve da Uff. Idro. BZ\\\\mod\\\\22200BM SMartino in Passiria.csv\"\n",
    "df_stmartino = read_local_csv(fileName_stmartino)\n",
    "\n",
    "fileName_merano = \"D:\\\\hydrology\\\\data\\\\da_Nicola\\\\dati neve da Uff. Idro. BZ\\\\mod\\\\23200MS Merano.csv\"\n",
    "df_merano = read_local_csv(fileName_merano)"
   ]
  },
  {
   "cell_type": "code",
   "execution_count": 16,
   "metadata": {},
   "outputs": [],
   "source": [
    "df_alpedeltumulo = depth_2_rho_snow( df_alpedeltumulo )\n",
    "df_belpiano = depth_2_rho_snow( df_belpiano )\n",
    "df_merano = depth_2_rho_snow( df_merano )\n",
    "df_plan = depth_2_rho_snow( df_plan )\n",
    "df_plata = depth_2_rho_snow( df_plata )\n",
    "df_pratiplan = depth_2_rho_snow( df_pratiplan )\n",
    "df_stmartino = depth_2_rho_snow( df_stmartino )"
   ]
  },
  {
   "cell_type": "code",
   "execution_count": 17,
   "metadata": {},
   "outputs": [],
   "source": [
    "current_type = \"kr\"\n",
    "\n",
    "# Plan # SG1\n",
    "df_plan = pd.concat([swe1_kr_model, df_plan], axis=1)\n",
    "df_plan = evaluate_depth( df_plan, current_type )\n",
    "\n",
    "# Prati di Plan # SG2\n",
    "df_pratiplan = pd.concat([swe2_kr_model, df_pratiplan], axis=1)\n",
    "df_pratiplan = evaluate_depth( df_pratiplan, current_type )\n",
    "\n",
    "# Plata # SG3\n",
    "df_plata = pd.concat([swe3_kr_model, df_plata], axis=1)\n",
    "df_plata = evaluate_depth( df_plata, current_type )\n",
    "\n",
    "# St. Martino # SG4\n",
    "df_stmartino = pd.concat([swe4_kr_model, df_stmartino], axis=1)\n",
    "df_stmartino = evaluate_depth( df_stmartino, current_type )\n",
    "\n",
    "# Alpe del Tumulo # SG5\n",
    "df_alpedeltumulo = pd.concat([swe5_kr_model, df_alpedeltumulo], axis=1)\n",
    "df_alpedeltumulo = evaluate_depth( df_alpedeltumulo, current_type )"
   ]
  },
  {
   "cell_type": "code",
   "execution_count": 18,
   "metadata": {},
   "outputs": [],
   "source": [
    "current_type = \"kr11\"\n",
    "\n",
    "# Plan # SG1\n",
    "df_plan = pd.concat([swe1_kr11_model, df_plan], axis=1)\n",
    "df_plan = evaluate_depth( df_plan, current_type )\n",
    "\n",
    "# Prati di Plan # SG2\n",
    "df_pratiplan = pd.concat([swe2_kr11_model, df_pratiplan], axis=1)\n",
    "df_pratiplan = evaluate_depth( df_pratiplan, current_type )\n",
    "\n",
    "# Plata # SG3\n",
    "df_plata = pd.concat([swe3_kr11_model, df_plata], axis=1)\n",
    "df_plata = evaluate_depth( df_plata, current_type )\n",
    "\n",
    "# St. Martino # SG4\n",
    "df_stmartino = pd.concat([swe4_kr11_model, df_stmartino], axis=1)\n",
    "df_stmartino = evaluate_depth( df_stmartino, current_type )\n",
    "\n",
    "# Alpe del Tumulo # SG5\n",
    "df_alpedeltumulo = pd.concat([swe5_kr11_model, df_alpedeltumulo], axis=1)\n",
    "df_alpedeltumulo = evaluate_depth( df_alpedeltumulo, current_type )"
   ]
  },
  {
   "cell_type": "code",
   "execution_count": 19,
   "metadata": {},
   "outputs": [],
   "source": [
    "current_type = \"rea\"\n",
    "\n",
    "# Plan # SG1\n",
    "df_plan = pd.concat([swe1_rea_model, df_plan], axis=1)\n",
    "df_plan = evaluate_depth( df_plan, current_type )\n",
    "\n",
    "# Prati di Plan # SG2\n",
    "df_pratiplan = pd.concat([swe2_rea_model, df_pratiplan], axis=1)\n",
    "df_pratiplan = evaluate_depth( df_pratiplan, current_type )\n",
    "\n",
    "# Plata # SG3\n",
    "df_plata = pd.concat([swe3_rea_model, df_plata], axis=1)\n",
    "df_plata = evaluate_depth( df_plata, current_type )\n",
    "\n",
    "# St. Martino # SG4\n",
    "df_stmartino = pd.concat([swe4_rea_model, df_stmartino], axis=1)\n",
    "df_stmartino = evaluate_depth( df_stmartino, current_type )\n",
    "\n",
    "# Alpe del Tumulo # SG5\n",
    "df_alpedeltumulo = pd.concat([swe5_rea_model, df_alpedeltumulo], axis=1)\n",
    "df_alpedeltumulo = evaluate_depth( df_alpedeltumulo, current_type )"
   ]
  },
  {
   "cell_type": "code",
   "execution_count": 20,
   "metadata": {},
   "outputs": [
    {
     "output_type": "stream",
     "name": "stderr",
     "text": [
      "No handles with labels found to put in legend.\n",
      "No handles with labels found to put in legend.\n",
      "No handles with labels found to put in legend.\n",
      "No handles with labels found to put in legend.\n",
      "No handles with labels found to put in legend.\n"
     ]
    }
   ],
   "source": [
    "df_plan = df_plan.loc['2013-10-10':'2018-12-31']\n",
    "printing(df_plan, current_phase)\n",
    "\n",
    "df_pratiplan = df_pratiplan.loc['2014-10-10':'2018-12-31']\n",
    "printing(df_pratiplan, current_phase)\n",
    "\n",
    "df_plata = df_plata.loc['2014-10-10':'2018-12-31']\n",
    "printing(df_plata, current_phase)\n",
    "\n",
    "df_stmartino = df_stmartino.loc['2014-10-10':'2018-12-31']\n",
    "printing(df_stmartino, current_phase)\n",
    "\n",
    "df_alpedeltumulo = df_alpedeltumulo.loc['2014-10-10':'2018-12-31']\n",
    "printing(df_alpedeltumulo, current_phase)"
   ]
  },
  {
   "cell_type": "code",
   "execution_count": null,
   "metadata": {},
   "outputs": [],
   "source": []
  },
  {
   "cell_type": "code",
   "execution_count": 21,
   "metadata": {},
   "outputs": [
    {
     "output_type": "execute_result",
     "data": {
      "text/plain": [
       "swe_kr    346.141027\n",
       "dtype: float64"
      ]
     },
     "metadata": {},
     "execution_count": 21
    }
   ],
   "source": [
    "swe1_kr_model['2014-10-10':'2018-12-31'].max()"
   ]
  },
  {
   "cell_type": "code",
   "execution_count": 22,
   "metadata": {},
   "outputs": [
    {
     "output_type": "execute_result",
     "data": {
      "text/plain": [
       "              swe_rea   swe_kr11     swe_kr  depth_obs rho_snow depth_kr  \\\n",
       "2013-10-10   0.254516   0.801106   1.476695        0.0    85.09     1.48   \n",
       "2013-10-11  15.788275  31.970352  32.879265        0.0    87.04    32.88   \n",
       "2013-10-12  27.646083  46.379902  47.002006        0.0    88.97     47.0   \n",
       "2013-10-13  29.037100  48.591794  49.900517        0.0     90.9     49.9   \n",
       "2013-10-14  22.116135  44.167815  46.339690        0.0    92.82    46.34   \n",
       "...               ...        ...        ...        ...      ...      ...   \n",
       "2018-09-26   0.000000   0.000000   0.000000        NaN      NaN      NaN   \n",
       "2018-09-27   0.000000   0.000000   0.000000        NaN      NaN      NaN   \n",
       "2018-09-28   0.000000   0.000000   0.000000        NaN      NaN      NaN   \n",
       "2018-09-29   0.000000   0.000000   0.000000        NaN      NaN      NaN   \n",
       "2018-09-30   0.000000   0.000000   0.000000        NaN      NaN      NaN   \n",
       "\n",
       "           depth_kr11 depth_rea  \n",
       "2013-10-10        0.8      0.25  \n",
       "2013-10-11      31.97     15.79  \n",
       "2013-10-12      46.38     27.65  \n",
       "2013-10-13      48.59     29.04  \n",
       "2013-10-14      44.17     22.12  \n",
       "...               ...       ...  \n",
       "2018-09-26        NaN       NaN  \n",
       "2018-09-27        NaN       NaN  \n",
       "2018-09-28        NaN       NaN  \n",
       "2018-09-29        NaN       NaN  \n",
       "2018-09-30        NaN       NaN  \n",
       "\n",
       "[1817 rows x 8 columns]"
      ],
      "text/html": "<div>\n<style scoped>\n    .dataframe tbody tr th:only-of-type {\n        vertical-align: middle;\n    }\n\n    .dataframe tbody tr th {\n        vertical-align: top;\n    }\n\n    .dataframe thead th {\n        text-align: right;\n    }\n</style>\n<table border=\"1\" class=\"dataframe\">\n  <thead>\n    <tr style=\"text-align: right;\">\n      <th></th>\n      <th>swe_rea</th>\n      <th>swe_kr11</th>\n      <th>swe_kr</th>\n      <th>depth_obs</th>\n      <th>rho_snow</th>\n      <th>depth_kr</th>\n      <th>depth_kr11</th>\n      <th>depth_rea</th>\n    </tr>\n  </thead>\n  <tbody>\n    <tr>\n      <th>2013-10-10</th>\n      <td>0.254516</td>\n      <td>0.801106</td>\n      <td>1.476695</td>\n      <td>0.0</td>\n      <td>85.09</td>\n      <td>1.48</td>\n      <td>0.8</td>\n      <td>0.25</td>\n    </tr>\n    <tr>\n      <th>2013-10-11</th>\n      <td>15.788275</td>\n      <td>31.970352</td>\n      <td>32.879265</td>\n      <td>0.0</td>\n      <td>87.04</td>\n      <td>32.88</td>\n      <td>31.97</td>\n      <td>15.79</td>\n    </tr>\n    <tr>\n      <th>2013-10-12</th>\n      <td>27.646083</td>\n      <td>46.379902</td>\n      <td>47.002006</td>\n      <td>0.0</td>\n      <td>88.97</td>\n      <td>47.0</td>\n      <td>46.38</td>\n      <td>27.65</td>\n    </tr>\n    <tr>\n      <th>2013-10-13</th>\n      <td>29.037100</td>\n      <td>48.591794</td>\n      <td>49.900517</td>\n      <td>0.0</td>\n      <td>90.9</td>\n      <td>49.9</td>\n      <td>48.59</td>\n      <td>29.04</td>\n    </tr>\n    <tr>\n      <th>2013-10-14</th>\n      <td>22.116135</td>\n      <td>44.167815</td>\n      <td>46.339690</td>\n      <td>0.0</td>\n      <td>92.82</td>\n      <td>46.34</td>\n      <td>44.17</td>\n      <td>22.12</td>\n    </tr>\n    <tr>\n      <th>...</th>\n      <td>...</td>\n      <td>...</td>\n      <td>...</td>\n      <td>...</td>\n      <td>...</td>\n      <td>...</td>\n      <td>...</td>\n      <td>...</td>\n    </tr>\n    <tr>\n      <th>2018-09-26</th>\n      <td>0.000000</td>\n      <td>0.000000</td>\n      <td>0.000000</td>\n      <td>NaN</td>\n      <td>NaN</td>\n      <td>NaN</td>\n      <td>NaN</td>\n      <td>NaN</td>\n    </tr>\n    <tr>\n      <th>2018-09-27</th>\n      <td>0.000000</td>\n      <td>0.000000</td>\n      <td>0.000000</td>\n      <td>NaN</td>\n      <td>NaN</td>\n      <td>NaN</td>\n      <td>NaN</td>\n      <td>NaN</td>\n    </tr>\n    <tr>\n      <th>2018-09-28</th>\n      <td>0.000000</td>\n      <td>0.000000</td>\n      <td>0.000000</td>\n      <td>NaN</td>\n      <td>NaN</td>\n      <td>NaN</td>\n      <td>NaN</td>\n      <td>NaN</td>\n    </tr>\n    <tr>\n      <th>2018-09-29</th>\n      <td>0.000000</td>\n      <td>0.000000</td>\n      <td>0.000000</td>\n      <td>NaN</td>\n      <td>NaN</td>\n      <td>NaN</td>\n      <td>NaN</td>\n      <td>NaN</td>\n    </tr>\n    <tr>\n      <th>2018-09-30</th>\n      <td>0.000000</td>\n      <td>0.000000</td>\n      <td>0.000000</td>\n      <td>NaN</td>\n      <td>NaN</td>\n      <td>NaN</td>\n      <td>NaN</td>\n      <td>NaN</td>\n    </tr>\n  </tbody>\n</table>\n<p>1817 rows × 8 columns</p>\n</div>"
     },
     "metadata": {},
     "execution_count": 22
    }
   ],
   "source": [
    "df_plan"
   ]
  },
  {
   "cell_type": "code",
   "execution_count": 23,
   "metadata": {},
   "outputs": [
    {
     "output_type": "execute_result",
     "data": {
      "text/plain": [
       "64.88"
      ]
     },
     "metadata": {},
     "execution_count": 23
    }
   ],
   "source": [
    "max(df_pratiplan['depth_kr'] - df_pratiplan['depth_kr11'])"
   ]
  },
  {
   "cell_type": "code",
   "execution_count": 24,
   "metadata": {},
   "outputs": [
    {
     "output_type": "execute_result",
     "data": {
      "text/plain": [
       "17.42"
      ]
     },
     "metadata": {},
     "execution_count": 24
    }
   ],
   "source": [
    "(df_stmartino['depth_kr'] - df_stmartino['depth_kr11']).max()"
   ]
  },
  {
   "cell_type": "code",
   "execution_count": 25,
   "metadata": {},
   "outputs": [
    {
     "output_type": "execute_result",
     "data": {
      "text/plain": [
       "33.92"
      ]
     },
     "metadata": {},
     "execution_count": 25
    }
   ],
   "source": [
    "df_stmartino['depth_kr'].max()"
   ]
  },
  {
   "cell_type": "code",
   "execution_count": 26,
   "metadata": {},
   "outputs": [
    {
     "output_type": "execute_result",
     "data": {
      "text/plain": [
       "31.94"
      ]
     },
     "metadata": {},
     "execution_count": 26
    }
   ],
   "source": [
    "df_stmartino['depth_kr11'].max()"
   ]
  },
  {
   "cell_type": "code",
   "execution_count": 27,
   "metadata": {},
   "outputs": [
    {
     "output_type": "execute_result",
     "data": {
      "text/plain": [
       "45.129999999999995"
      ]
     },
     "metadata": {},
     "execution_count": 27
    }
   ],
   "source": [
    "(df_plata['depth_kr'] - df_plata['depth_kr11']).max()"
   ]
  },
  {
   "cell_type": "code",
   "execution_count": 28,
   "metadata": {
    "tags": []
   },
   "outputs": [],
   "source": [
    "# df_alpedeltumulo = evaluate_swe( df_alpedeltumulo )\n",
    "# df_belpiano = evaluate_swe( df_belpiano )\n",
    "# df_merano = evaluate_swe( df_merano )\n",
    "# df_plan = evaluate_swe( df_plan )\n",
    "# df_plata = evaluate_swe( df_plata )\n",
    "# df_pratiplan = evaluate_swe( df_pratiplan )\n",
    "# df_stmartino = evaluate_swe( df_stmartino )"
   ]
  },
  {
   "cell_type": "code",
   "execution_count": 29,
   "metadata": {},
   "outputs": [],
   "source": [
    "# df_alpedeltumulo = evaluate_depth( df_alpedeltumulo )\n",
    "# df_belpiano = evaluate_depth( df_belpiano )\n",
    "# df_merano = evaluate_depth( df_merano )\n",
    "# df_plan = evaluate_depth( df_plan )\n",
    "# df_plata = evaluate_depth( df_plata )\n",
    "# df_pratiplan = evaluate_depth( df_pratiplan )\n",
    "# df_stmartino = evaluate_depth( df_stmartino )"
   ]
  },
  {
   "cell_type": "code",
   "execution_count": 30,
   "metadata": {},
   "outputs": [],
   "source": [
    "# printing(df_alpedeltumulo)\n",
    "# printing(df_belpiano)\n",
    "# printing(df_merano)\n",
    "# printing(df_plan)\n",
    "# printing(df_plata)\n",
    "# printing(df_pratiplan)\n",
    "# printing(df_stmartino)"
   ]
  },
  {
   "cell_type": "code",
   "execution_count": 31,
   "metadata": {},
   "outputs": [],
   "source": [
    "# df_alpedeltumulo[df_alpedeltumulo['values']>100]"
   ]
  },
  {
   "cell_type": "code",
   "execution_count": null,
   "metadata": {},
   "outputs": [],
   "source": []
  },
  {
   "cell_type": "code",
   "execution_count": null,
   "metadata": {},
   "outputs": [],
   "source": []
  }
 ]
}