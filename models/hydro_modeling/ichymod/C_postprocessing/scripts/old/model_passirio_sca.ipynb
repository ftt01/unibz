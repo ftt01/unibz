{
 "metadata": {
  "language_info": {
   "codemirror_mode": {
    "name": "ipython",
    "version": 3
   },
   "file_extension": ".py",
   "mimetype": "text/x-python",
   "name": "python",
   "nbconvert_exporter": "python",
   "pygments_lexer": "ipython3",
   "version": "3.9.1-final"
  },
  "orig_nbformat": 2,
  "kernelspec": {
   "name": "python391jvsc74a57bd063d5e5d3ef3ec13453f007c86728ea82bf14ea96ebb0a2fb9c639ae49af1dbf7",
   "display_name": "Python 3.9.1 64-bit"
  },
  "metadata": {
   "interpreter": {
    "hash": "63d5e5d3ef3ec13453f007c86728ea82bf14ea96ebb0a2fb9c639ae49af1dbf7"
   }
  }
 },
 "nbformat": 4,
 "nbformat_minor": 2,
 "cells": [
  {
   "cell_type": "code",
   "execution_count": 1,
   "metadata": {},
   "outputs": [],
   "source": [
    "from sys import path\n",
    "path.append('../lib/')"
   ]
  },
  {
   "cell_type": "code",
   "execution_count": 2,
   "metadata": {},
   "outputs": [
    {
     "output_type": "error",
     "ename": "NameError",
     "evalue": "name 'DataCollector' is not defined",
     "traceback": [
      "\u001b[1;31m---------------------------------------------------------------------------\u001b[0m",
      "\u001b[1;31mNameError\u001b[0m                                 Traceback (most recent call last)",
      "\u001b[1;32m<ipython-input-2-25847fe800e3>\u001b[0m in \u001b[0;36m<module>\u001b[1;34m\u001b[0m\n\u001b[0;32m      1\u001b[0m \u001b[1;32mfrom\u001b[0m \u001b[0mlib\u001b[0m \u001b[1;32mimport\u001b[0m \u001b[1;33m*\u001b[0m\u001b[1;33m\u001b[0m\u001b[1;33m\u001b[0m\u001b[0m\n\u001b[1;32m----> 2\u001b[1;33m \u001b[0mcurrent\u001b[0m \u001b[1;33m=\u001b[0m \u001b[0mDataCollector\u001b[0m\u001b[1;33m(\u001b[0m\u001b[1;33m)\u001b[0m\u001b[1;33m\u001b[0m\u001b[1;33m\u001b[0m\u001b[0m\n\u001b[0m",
      "\u001b[1;31mNameError\u001b[0m: name 'DataCollector' is not defined"
     ]
    }
   ],
   "source": [
    "from lib import *\n",
    "current = DataCollector()"
   ]
  },
  {
   "cell_type": "code",
   "execution_count": null,
   "metadata": {},
   "outputs": [],
   "source": [
    "## OBSERVED ##\n",
    "fileName_obs = \"D:\\\\hydrology\\\\projects\\\\era5_bias\\\\00_data\\\\vectorial_data\\\\MODIS_SCA.txt\"\n",
    "\n",
    "df_obs = read_csv(fileName_obs, header=0, index_col=0, parse_dates=True, delimiter=r\"\\s+\")\n",
    "df_obs_series = df_obs['SCA']"
   ]
  },
  {
   "cell_type": "code",
   "execution_count": null,
   "metadata": {},
   "outputs": [],
   "source": [
    "### simulation selection #############################################################################\n",
    "\n",
    "current_phase = \"best_merano_cal_val\"\n",
    "current_basin = \"passirio\"\n",
    "current_type = \"kriging\"\n",
    "current_node = \"merano\"\n",
    "\n",
    "kriging_data.retrieveData(current_phase, current_basin, current_type, current_node)\n",
    "\n",
    "### end simulation selection ##########################################################################\n",
    "model_sca_passirio_mean_kr = kriging_data.model_flow.resample('D').mean() * 100"
   ]
  },
  {
   "cell_type": "code",
   "execution_count": null,
   "metadata": {},
   "outputs": [],
   "source": [
    "### simulation selection #############################################################################\n",
    "\n",
    "current_phase = \"best_merano_cal_val\"\n",
    "current_basin = \"passirio\"\n",
    "current_type = \"kriging_11\"\n",
    "current_node = \"merano\"\n",
    "\n",
    "kriging_11_data.retrieveData(current_phase, current_basin, current_type, current_node)\n",
    "\n",
    "### end simulation selection ##########################################################################\n",
    "model_sca_passirio_mean_kr11 = kriging_11_data.model_flow.resample('D').mean() * 100"
   ]
  },
  {
   "cell_type": "code",
   "execution_count": null,
   "metadata": {},
   "outputs": [],
   "source": [
    "### simulation selection #############################################################################\n",
    "\n",
    "current_phase = \"best_merano_cal_val\"\n",
    "current_basin = \"passirio\"\n",
    "current_type = \"reanalysis\"\n",
    "current_node = \"merano\"\n",
    "\n",
    "reanalysis_data.retrieveData(current_phase, current_basin, current_type, current_node)\n",
    "\n",
    "### end simulation selection ##########################################################################\n",
    "model_sca_passirio_mean_rea = reanalysis_data.model_flow.resample('D').mean() * 100"
   ]
  },
  {
   "cell_type": "code",
   "execution_count": null,
   "metadata": {},
   "outputs": [],
   "source": [
    "fig, axs = instantiatePlot(\"Time $[days]$\", \"SCA $[-]$\", output_format='tiff')\n",
    "\n",
    "axs.plot(model_sca_passirio_mean_kr, label='kriging', linestyle=\"solid\", color='#8078bc')\n",
    "axs.plot(model_sca_passirio_mean_kr11, label='kriging11x8', linestyle=\"solid\", color='orange')\n",
    "axs.plot(model_sca_passirio_mean_rea, label='reanalysis', linestyle=\"solid\", color='green')\n",
    "\n",
    "axs.scatter(df_obs_series.index, df_obs_series.values, s=10, label='observed', color='#fdb863')\n",
    "\n",
    "axs.legend(loc='lower right')\n",
    "\n",
    "output_file = config[\"output_path\"] + \"model\\\\passirio\\\\sca\\\\daily\\\\\" + \"model_passirio_sca_daily.\" + output_format\n",
    "\n",
    "mkNestedDir(getPathFromFilepath(output_file))\n",
    "fig.savefig(output_file, format=output_format, bbox_inches='tight', facecolor='w', dpi=50)\n",
    "\n",
    "output_file_hd = config[\"output_path\"] + \"model\\\\passirio\\\\sca\\\\daily\\\\\" + \"model_passirio_sca_daily_hd.\" + output_format\n",
    "\n",
    "mkNestedDir(getPathFromFilepath(output_file_hd))\n",
    "fig.savefig(output_file_hd, format=output_format, bbox_inches='tight', facecolor='w', dpi=600)"
   ]
  },
  {
   "cell_type": "code",
   "execution_count": null,
   "metadata": {},
   "outputs": [],
   "source": [
    "from datetime import datetime\n",
    "start_date_str = \"2015-10-01T01:00:00\"\n",
    "end_date_str = \"2016-09-30T23:00:00\"\n",
    "start_date = datetime.strptime(start_date_str, '%Y-%m-%dT%H:%M:%S')\n",
    "end_date = datetime.strptime(end_date_str, '%Y-%m-%dT%H:%M:%S')\n",
    "\n",
    "fig, axs = instantiatePlot(\"Time $[days]$\", \"SCA $[-]$\", output_format='tiff')\n",
    "\n",
    "axs.plot(model_sca_passirio_mean_kr[start_date:end_date], label='kriging', linestyle=\"solid\", color='#8078bc')\n",
    "axs.plot(model_sca_passirio_mean_kr11[start_date:end_date], label='kriging11x8', linestyle=\"solid\", color='orange')\n",
    "axs.plot(model_sca_passirio_mean_rea[start_date:end_date], label='reanalysis', linestyle=\"solid\", color='green')\n",
    "\n",
    "axs.scatter(df_obs_series[start_date:end_date].index, df_obs_series[start_date:end_date].values, s=10, label='observed', color='#fdb863')\n",
    "\n",
    "axs.legend(loc='lower right')\n",
    "\n",
    "output_file = config[\"output_path\"] + \"model\\\\passirio\\\\sca\\\\daily\\\\\" + \"model_passirio_sca_daily_20152016.\" + output_format\n",
    "\n",
    "mkNestedDir(getPathFromFilepath(output_file))\n",
    "fig.savefig(output_file, format=output_format, bbox_inches='tight', facecolor='w', dpi=50)\n",
    "\n",
    "output_file_hd = config[\"output_path\"] + \"model\\\\passirio\\\\sca\\\\daily\\\\\" + \"model_passirio_sca_daily_20152016_hd.\" + output_format\n",
    "\n",
    "mkNestedDir(getPathFromFilepath(output_file_hd))\n",
    "fig.savefig(output_file_hd, format=output_format, bbox_inches='tight', facecolor='w', dpi=600)"
   ]
  },
  {
   "cell_type": "code",
   "execution_count": null,
   "metadata": {},
   "outputs": [],
   "source": [
    "from datetime import datetime\n",
    "start_date_str = \"2016-10-01T01:00:00\"\n",
    "end_date_str = \"2017-09-30T23:00:00\"\n",
    "start_date = datetime.strptime(start_date_str, '%Y-%m-%dT%H:%M:%S')\n",
    "end_date = datetime.strptime(end_date_str, '%Y-%m-%dT%H:%M:%S')\n",
    "\n",
    "fig, axs = instantiatePlot(\"Time $[days]$\", \"SCA $[-]$\", output_format='tiff')\n",
    "\n",
    "axs.plot(model_sca_passirio_mean_kr[start_date:end_date], label='kriging', linestyle=\"solid\", color='#8078bc')\n",
    "axs.plot(model_sca_passirio_mean_kr11[start_date:end_date], label='kriging11x8', linestyle=\"solid\", color='orange')\n",
    "axs.plot(model_sca_passirio_mean_rea[start_date:end_date], label='reanalysis', linestyle=\"solid\", color='green')\n",
    "\n",
    "axs.scatter(df_obs_series[start_date:end_date].index, df_obs_series[start_date:end_date].values, s=10, label='observed', color='#fdb863')\n",
    "\n",
    "axs.legend(loc='lower right')\n",
    "\n",
    "output_file = config[\"output_path\"] + \"model\\\\passirio\\\\sca\\\\daily\\\\\" + \"model_passirio_sca_daily_20162017.\" + output_format\n",
    "\n",
    "mkNestedDir(getPathFromFilepath(output_file))\n",
    "fig.savefig(output_file, format=output_format, bbox_inches='tight', facecolor='w', dpi=50)\n",
    "\n",
    "output_file_hd = config[\"output_path\"] + \"model\\\\passirio\\\\sca\\\\daily\\\\\" + \"model_passirio_sca_daily_20162017_hd.\" + output_format\n",
    "\n",
    "mkNestedDir(getPathFromFilepath(output_file_hd))\n",
    "fig.savefig(output_file_hd, format=output_format, bbox_inches='tight', facecolor='w', dpi=600)"
   ]
  },
  {
   "cell_type": "code",
   "execution_count": null,
   "metadata": {},
   "outputs": [],
   "source": [
    "from datetime import datetime\n",
    "start_date_str = \"2017-10-01T01:00:00\"\n",
    "end_date_str = \"2018-09-30T23:00:00\"\n",
    "start_date = datetime.strptime(start_date_str, '%Y-%m-%dT%H:%M:%S')\n",
    "end_date = datetime.strptime(end_date_str, '%Y-%m-%dT%H:%M:%S')\n",
    "\n",
    "fig, axs = instantiatePlot(\"Time $[days]$\", \"SCA $[-]$\", output_format='tiff')\n",
    "\n",
    "axs.plot(model_sca_passirio_mean_kr[start_date:end_date], label='kriging', linestyle=\"solid\", color='#8078bc')\n",
    "axs.plot(model_sca_passirio_mean_kr11[start_date:end_date], label='kriging11x8', linestyle=\"solid\", color='orange')\n",
    "axs.plot(model_sca_passirio_mean_rea[start_date:end_date], label='reanalysis', linestyle=\"solid\", color='green')\n",
    "\n",
    "axs.scatter(df_obs_series[start_date:end_date].index, df_obs_series[start_date:end_date].values, s=10, label='observed', color='#fdb863')\n",
    "\n",
    "axs.legend(loc='lower right')\n",
    "\n",
    "output_file = config[\"output_path\"] + \"model\\\\passirio\\\\sca\\\\daily\\\\\" + \"model_passirio_sca_daily_20172018.\" + output_format\n",
    "\n",
    "mkNestedDir(getPathFromFilepath(output_file))\n",
    "fig.savefig(output_file, format=output_format, bbox_inches='tight', facecolor='w', dpi=50)\n",
    "\n",
    "output_file_hd = config[\"output_path\"] + \"model\\\\passirio\\\\sca\\\\daily\\\\\" + \"model_passirio_sca_daily_20172018_hd.\" + output_format\n",
    "\n",
    "mkNestedDir(getPathFromFilepath(output_file_hd))\n",
    "fig.savefig(output_file_hd, format=output_format, bbox_inches='tight', facecolor='w', dpi=600)"
   ]
  }
 ]
}