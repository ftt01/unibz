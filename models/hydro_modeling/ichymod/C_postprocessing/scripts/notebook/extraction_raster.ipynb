{
 "cells": [
  {
   "cell_type": "code",
   "execution_count": null,
   "source": [
    "import pandas as pd\n",
    "import os\n",
    "\n",
    "### extrapolation of data to build the maps\n",
    "## 1. extraction of the grid 11x8km\n",
    "## 2. temporal mean over the entire dataset - mean of all years over each cell\n",
    "\n",
    "pathout = \"/media/windows/OLD/data/data/GFS_models/ECMWF/ERA5Land-reanalysis/\"\n",
    "grid_metadata = pd.read_csv(pathout+'grid_1x1km_Adige_river.csv', index_col=0)\n"
   ],
   "outputs": [],
   "metadata": {}
  },
  {
   "cell_type": "code",
   "execution_count": null,
   "source": [
    "grid_metadata = grid_metadata[grid_metadata['Elevation']!=-999.0]"
   ],
   "outputs": [],
   "metadata": {}
  },
  {
   "cell_type": "code",
   "execution_count": null,
   "source": [
    "import glob\n",
    "kr_pathout = \"/media/windows/projects/kriging/Scripts/unibz/test_python/output_AA_2018/precipitation/KR/OKED/DEUTSCH/\"\n",
    "outputs = glob.glob( kr_pathout + \"*.csv\" )"
   ],
   "outputs": [],
   "metadata": {}
  },
  {
   "cell_type": "code",
   "execution_count": null,
   "source": [
    "import datetime as dt\n",
    "\n",
    "start_date_str = \"2018-01-01T00:00:00\"\n",
    "end_date_str = \"2018-12-31T23:00:00\"\n",
    "start_date = dt.datetime.strptime( start_date_str, '%Y-%m-%dT%H:%M:%S' )\n",
    "end_date = dt.datetime.strptime( end_date_str, '%Y-%m-%dT%H:%M:%S' )\n",
    "dates = pd.date_range(start_date, end_date, freq='h')"
   ],
   "outputs": [],
   "metadata": {}
  },
  {
   "cell_type": "code",
   "execution_count": null,
   "source": [
    "df_alldata = pd.DataFrame(index=dates)\n",
    "\n",
    "counter = 0\n",
    "\n",
    "for output in outputs:\n",
    "    id_cell = int( os.path.basename( output ).split('_')[2] )\n",
    "    tmp = pd.read_csv( output )\n",
    "    tmp.drop(columns='Unnamed: 1', inplace=True)\n",
    "\n",
    "    df_data = pd.DataFrame( index=dates )\n",
    "    df_data[str(id_cell)] = tmp.values\n",
    "\n",
    "    df_alldata = pd.concat([df_alldata, df_data])\n",
    "\n",
    "    counter = counter + 1\n",
    "\n",
    "    if counter > 1000:\n",
    "        break"
   ],
   "outputs": [],
   "metadata": {}
  },
  {
   "cell_type": "code",
   "execution_count": null,
   "source": [
    "df_alldata"
   ],
   "outputs": [],
   "metadata": {}
  },
  {
   "cell_type": "code",
   "execution_count": null,
   "source": [],
   "outputs": [],
   "metadata": {}
  },
  {
   "cell_type": "code",
   "execution_count": null,
   "source": [],
   "outputs": [],
   "metadata": {}
  }
 ],
 "metadata": {
  "orig_nbformat": 4,
  "language_info": {
   "name": "python",
   "version": "3.8.10",
   "mimetype": "text/x-python",
   "codemirror_mode": {
    "name": "ipython",
    "version": 3
   },
   "pygments_lexer": "ipython3",
   "nbconvert_exporter": "python",
   "file_extension": ".py"
  },
  "kernelspec": {
   "name": "python3",
   "display_name": "Python 3.8.10 64-bit"
  },
  "interpreter": {
   "hash": "31f2aee4e71d21fbe5cf8b01ff0e069b9275f58929596ceb00d14d90e3e16cd6"
  }
 },
 "nbformat": 4,
 "nbformat_minor": 2
}