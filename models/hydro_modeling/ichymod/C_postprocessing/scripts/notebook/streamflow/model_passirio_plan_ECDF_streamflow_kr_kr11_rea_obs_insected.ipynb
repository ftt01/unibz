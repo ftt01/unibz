{
 "metadata": {
  "language_info": {
   "codemirror_mode": {
    "name": "ipython",
    "version": 3
   },
   "file_extension": ".py",
   "mimetype": "text/x-python",
   "name": "python",
   "nbconvert_exporter": "python",
   "pygments_lexer": "ipython3",
   "version": "3.9.1"
  },
  "orig_nbformat": 2,
  "kernelspec": {
   "name": "python391jvsc74a57bd063d5e5d3ef3ec13453f007c86728ea82bf14ea96ebb0a2fb9c639ae49af1dbf7",
   "display_name": "Python 3.9.1 64-bit"
  },
  "metadata": {
   "interpreter": {
    "hash": "63d5e5d3ef3ec13453f007c86728ea82bf14ea96ebb0a2fb9c639ae49af1dbf7"
   }
  }
 },
 "nbformat": 4,
 "nbformat_minor": 2,
 "cells": [
  {
   "cell_type": "code",
   "execution_count": null,
   "source": [
    "# wdir = \"C:/Users/daniele/Documents/GitHub/ftt01/phd/hydro_modeling/ichymod/C_postprocessing/scripts/\"\n",
    "wdir = \"/home/daniele/documents/github/ftt01/phd/hydro_modeling/ichymod/C_postprocessing/scripts/\""
   ],
   "outputs": [],
   "metadata": {}
  },
  {
   "cell_type": "code",
   "execution_count": null,
   "source": [
    "import sys, os\n",
    "# sys.path.insert( 0, os.path.join(os.path.dirname(os.path.dirname(os.path.abspath(''))),'lib') )\n",
    "# to link the lib in py scripts as well\n",
    "os.chdir( wdir )\n",
    "sys.path.insert( 0, os.path.join(os.path.abspath(os.getcwd()),'lib') )\n",
    "\n",
    "from lib import *\n",
    "current = DataCollector()"
   ],
   "outputs": [],
   "metadata": {}
  },
  {
   "cell_type": "code",
   "execution_count": null,
   "source": [
    "### simulation selection #############################################################################\n",
    "\n",
    "kriging_data_calibration = DataCollector()\n",
    "\n",
    "current_phase = \"calibration_best_plan\"\n",
    "current_basin = \"passirio\"\n",
    "current_type = \"kriging\"\n",
    "current_node = \"plan\"\n",
    "\n",
    "kriging_data_calibration.retrieveData(current_phase, current_basin, current_type, current_node)\n",
    "\n",
    "### end simulation selection ##########################################################################\n",
    "### simulation selection #############################################################################\n",
    "\n",
    "kriging_data_validation = DataCollector()\n",
    "\n",
    "current_phase = \"validation_best_plan\"\n",
    "current_basin = \"passirio\"\n",
    "current_type = \"kriging\"\n",
    "current_node = \"plan\"\n",
    "\n",
    "kriging_data_validation.retrieveData(current_phase, current_basin, current_type, current_node)\n",
    "\n",
    "### end simulation selection ##########################################################################\n",
    "kriging_data = pd.concat( [kriging_data_calibration.model_flow, kriging_data_validation.model_flow] )\n",
    "\n",
    "obs_data = pd.concat( [kriging_data_calibration.obs_flow, kriging_data_validation.obs_flow] )"
   ],
   "outputs": [],
   "metadata": {}
  },
  {
   "cell_type": "code",
   "execution_count": null,
   "source": [
    "### simulation selection #############################################################################\r\n",
    "\r\n",
    "kriging_11_data_calibration = DataCollector()\r\n",
    "\r\n",
    "current_phase = \"calibration_best_plan\"\r\n",
    "current_basin = \"passirio\"\r\n",
    "current_type = \"kriging_11\"\r\n",
    "current_node = \"plan\"\r\n",
    "\r\n",
    "kriging_11_data_calibration.retrieveData(current_phase, current_basin, current_type, current_node)\r\n",
    "\r\n",
    "### end simulation selection ##########################################################################\r\n",
    "### simulation selection #############################################################################\r\n",
    "\r\n",
    "kriging_11_data_validation = DataCollector()\r\n",
    "\r\n",
    "current_phase = \"validation_best_plan\"\r\n",
    "current_basin = \"passirio\"\r\n",
    "current_type = \"kriging_11\"\r\n",
    "current_node = \"plan\"\r\n",
    "\r\n",
    "kriging_11_data_validation.retrieveData(current_phase, current_basin, current_type, current_node)\r\n",
    "\r\n",
    "### end simulation selection ##########################################################################\r\n",
    "kriging_11_data = pd.concat( [kriging_11_data_calibration.model_flow, kriging_11_data_validation.model_flow] )"
   ],
   "outputs": [],
   "metadata": {}
  },
  {
   "cell_type": "code",
   "execution_count": null,
   "source": [
    "### simulation selection #############################################################################\r\n",
    "\r\n",
    "reanalysis_data_calibration = DataCollector()\r\n",
    "\r\n",
    "current_phase = \"calibration_best_plan\"\r\n",
    "current_basin = \"passirio\"\r\n",
    "current_type = \"reanalysis\"\r\n",
    "current_node = \"plan\"\r\n",
    "\r\n",
    "reanalysis_data_calibration.retrieveData(current_phase, current_basin, current_type, current_node)\r\n",
    "\r\n",
    "### end simulation selection ##########################################################################\r\n",
    "### simulation selection #############################################################################\r\n",
    "\r\n",
    "reanalysis_data_validation = DataCollector()\r\n",
    "\r\n",
    "current_phase = \"validation_best_plan\"\r\n",
    "current_basin = \"passirio\"\r\n",
    "current_type = \"reanalysis\"\r\n",
    "current_node = \"plan\"\r\n",
    "\r\n",
    "reanalysis_data_validation.retrieveData(current_phase, current_basin, current_type, current_node)\r\n",
    "\r\n",
    "### end simulation selection ##########################################################################\r\n",
    "reanalysis_data = pd.concat( [reanalysis_data_calibration.model_flow, reanalysis_data_validation.model_flow] )"
   ],
   "outputs": [],
   "metadata": {}
  },
  {
   "cell_type": "code",
   "execution_count": null,
   "source": [
    "kriging_data_daily_mean =  kriging_data.resample('D').mean()\r\n",
    "ecdf_kriging_flow_daily_mean = evaluateECDF( kriging_data_daily_mean )\r\n",
    "\r\n",
    "obs_data_daily_mean =  obs_data.resample('D').mean()\r\n",
    "ecdf_obs_flow_daily_mean = evaluateECDF( obs_data_daily_mean )\r\n",
    "\r\n",
    "kriging_11_data_daily_mean =  kriging_11_data.resample('D').mean()\r\n",
    "ecdf_kriging_11_flow_daily_mean = evaluateECDF( kriging_11_data_daily_mean )\r\n",
    "\r\n",
    "reanalysis_data_daily_mean =  reanalysis_data.resample('D').mean()\r\n",
    "ecdf_reanalysis_flow_daily_mean = evaluateECDF( reanalysis_data_daily_mean )\r\n",
    "\r\n",
    "plots = []\r\n",
    "\r\n",
    "### obs plot ###\r\n",
    "plt_conf = {}\r\n",
    "plt_conf[\"color\"] = '#fdb863'\r\n",
    "plots.append( (ecdf_obs_flow_daily_mean, plt_conf) )\r\n",
    "\r\n",
    "### rea 11x8 plot ###\r\n",
    "plt_conf = {}\r\n",
    "plt_conf[\"color\"] = '#e66101'\r\n",
    "plots.append( (ecdf_reanalysis_flow_daily_mean, plt_conf) )\r\n",
    "\r\n",
    "### kriging 1x1 plot ###\r\n",
    "plt_conf = {}\r\n",
    "plt_conf[\"color\"] = '#8078bc'\r\n",
    "plots.append( (ecdf_kriging_flow_daily_mean, plt_conf) )\r\n",
    "\r\n",
    "### kriging 11x8 plot ###\r\n",
    "plt_conf = {}\r\n",
    "plt_conf[\"color\"] = '#5e3c99'\r\n",
    "plots.append( (ecdf_kriging_11_flow_daily_mean, plt_conf) )"
   ],
   "outputs": [],
   "metadata": {}
  },
  {
   "cell_type": "code",
   "execution_count": null,
   "source": [
    "kr_rea_output_file = current.config[\"output_path\"] + \"model/streamflow/passirio/daily/\" + \"model_streamflow_passirio_plan_daily_ECDF_kr_rea_kr11_obs_insected.\" + output_format\r\n",
    "createPlot(plots,  \"Streamflow $[m^3/day]$\", \"ECDF\",\r\n",
    "           kr_rea_output_file, output_format=output_format, my_dpi=50)\r\n",
    "\r\n",
    "kr_rea_output_file_log = current.config[\"output_path\"] + \"model/streamflow/passirio/daily/\" + \"model_streamflow_passirio_plan_daily_ECDF_kr_rea_kr11_obs_log_insected.\" + output_format\r\n",
    "createPlot(plots,  \"Streamflow $[m^3/day]$\", \"ECDF\",\r\n",
    "           kr_rea_output_file_log, output_format=output_format, xscale='log', my_dpi=50)\r\n",
    "\r\n",
    "kr_rea_output_file_hd = current.config[\"output_path\"] +\"model/streamflow/passirio/daily/\" + \"model_streamflow_passirio_plan_daily_ECDF_kr_rea_kr11_obs_HD_insected.\" + output_format\r\n",
    "createPlot(plots,  \"Streamflow $[m^3/day]$\", \"ECDF\",\r\n",
    "           kr_rea_output_file_hd, output_format=output_format, my_dpi=600)\r\n",
    "\r\n",
    "kr_rea_output_file_log_hd = current.config[\"output_path\"] + \"model/streamflow/passirio/daily/\" + \"model_streamflow_passirio_plan_daily_ECDF_kr_rea_kr11_obs_HD_log_insected.\" + output_format\r\n",
    "createPlot(plots,  \"Streamflow $[m^3/day]$\", \"ECDF\",\r\n",
    "           kr_rea_output_file_log_hd, output_format=output_format, xscale='log', my_dpi=600)"
   ],
   "outputs": [],
   "metadata": {}
  }
 ]
}