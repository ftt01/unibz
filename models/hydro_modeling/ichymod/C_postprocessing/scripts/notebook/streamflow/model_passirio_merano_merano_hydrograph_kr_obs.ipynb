{
 "metadata": {
  "language_info": {
   "codemirror_mode": {
    "name": "ipython",
    "version": 3
   },
   "file_extension": ".py",
   "mimetype": "text/x-python",
   "name": "python",
   "nbconvert_exporter": "python",
   "pygments_lexer": "ipython3",
   "version": "3.9.1"
  },
  "orig_nbformat": 2,
  "kernelspec": {
   "name": "python391jvsc74a57bd063d5e5d3ef3ec13453f007c86728ea82bf14ea96ebb0a2fb9c639ae49af1dbf7",
   "display_name": "Python 3.9.1 64-bit"
  },
  "metadata": {
   "interpreter": {
    "hash": "63d5e5d3ef3ec13453f007c86728ea82bf14ea96ebb0a2fb9c639ae49af1dbf7"
   }
  }
 },
 "nbformat": 4,
 "nbformat_minor": 2,
 "cells": [
  {
   "cell_type": "code",
   "execution_count": null,
   "source": [
    "# wdir = \"C:/Users/daniele/Documents/GitHub/ftt01/phd/hydro_modeling/ichymod/C_postprocessing/scripts/\"\n",
    "wdir = \"/home/daniele/documents/github/ftt01/phd/hydro_modeling/ichymod/C_postprocessing/scripts/\""
   ],
   "outputs": [],
   "metadata": {}
  },
  {
   "cell_type": "code",
   "execution_count": null,
   "source": [
    "import sys, os\n",
    "# sys.path.insert( 0, os.path.join(os.path.dirname(os.path.dirname(os.path.abspath(''))),'lib') )\n",
    "# to link the lib in py scripts as well\n",
    "os.chdir( wdir )\n",
    "sys.path.insert( 0, os.path.join(os.path.abspath(os.getcwd()),'lib') )\n",
    "\n",
    "from lib import *\n",
    "current = DataCollector()"
   ],
   "outputs": [],
   "metadata": {}
  },
  {
   "cell_type": "code",
   "execution_count": null,
   "source": [
    "### simulation selection #############################################################################\n",
    "\n",
    "kriging_data_calibration = DataCollector()\n",
    "\n",
    "current_phase = \"calibration_best_merano\"\n",
    "current_basin = \"passirio\"\n",
    "current_type = \"kriging\"\n",
    "current_node = \"merano\"\n",
    "\n",
    "kriging_data_calibration.retrieveData(current_phase, current_basin, current_type, current_node)\n",
    "\n",
    "### end simulation selection ##########################################################################"
   ],
   "outputs": [],
   "metadata": {}
  },
  {
   "cell_type": "code",
   "execution_count": null,
   "source": [
    "### simulation selection #############################################################################\n",
    "\n",
    "kriging_data_validation = DataCollector()\n",
    "\n",
    "current_phase = \"validation_best_merano\"\n",
    "current_basin = \"passirio\"\n",
    "current_type = \"kriging\"\n",
    "current_node = \"merano\"\n",
    "\n",
    "kriging_data_validation.retrieveData(current_phase, current_basin, current_type, current_node)\n",
    "\n",
    "### end simulation selection ##########################################################################"
   ],
   "outputs": [],
   "metadata": {}
  },
  {
   "cell_type": "code",
   "execution_count": null,
   "source": [
    "kriging_data = pd.concat( [kriging_data_calibration.model_flow, kriging_data_validation.model_flow] )\n",
    "obs_data = pd.concat( [kriging_data_calibration.obs_flow, kriging_data_validation.obs_flow] )"
   ],
   "outputs": [],
   "metadata": {}
  },
  {
   "cell_type": "code",
   "execution_count": null,
   "source": [
    "# define and add to plot the vertical line between calibration and validation #\n",
    "last_date_cal = kriging_data_calibration.model_flow.index[-1]\n",
    "first_date_val = kriging_data_validation.model_flow.index[0]\n",
    "\n",
    "max_h = max( np.concatenate((kriging_data_calibration.model_flow.values, kriging_data_validation.model_flow.values, \\\n",
    "    kriging_data_calibration.obs_flow.values, kriging_data_validation.obs_flow.values)) )\n",
    "vertical_line = np.array( [0, max_h] )\n",
    "vertical_line_DF = pd.DataFrame(data=vertical_line, index=[last_date_cal, first_date_val])"
   ],
   "outputs": [],
   "metadata": {}
  },
  {
   "cell_type": "code",
   "execution_count": null,
   "source": [
    "plots = []\n",
    "\n",
    "### obs plot ###\n",
    "plt_conf = {}\n",
    "plt_conf[\"label\"] = 'Observed'\n",
    "plt_conf[\"color\"] = '#fdb863'\n",
    "plots.append( (obs_data, plt_conf) )\n",
    "\n",
    "### kriging 11x8 plot ###\n",
    "plt_conf = {}\n",
    "plt_conf[\"label\"] = 'Kriging 1x1'\n",
    "plt_conf[\"color\"] = '#8078bc'\n",
    "plots.append( (kriging_data, plt_conf) )\n",
    "\n",
    "plt_conf = {}\n",
    "plt_conf[\"linestyle\"] = \"--\"\n",
    "plots.append( (vertical_line_DF, plt_conf) )\n",
    "\n",
    "import matplotlib.dates as mdates\n",
    "x_major_locator=mdates.YearLocator(month=10, day=1)\n",
    "x_major_formatter=mdates.DateFormatter('%Y-%m')"
   ],
   "outputs": [],
   "metadata": {}
  },
  {
   "cell_type": "code",
   "execution_count": null,
   "source": [
    "outfile_hd = current.config[\"output_path\"] + \"model/streamflow/passirio/hourly/merano_merano/\" \\\n",
    "    + \"model_streamflow_passirio_merano_hourly_hydrograph_kr_obs_hd.\" + output_format\n",
    "createPlot( plots, \"Time $[hour]$\", \"Streamflow $[m^3/hour]$\", outfile_hd, \\\n",
    "    x_major_locator=x_major_locator, x_major_formatter=x_major_formatter, my_dpi=600, height=80 )\n",
    "\n",
    "outfile = current.config[\"output_path\"] + \"model/streamflow/passirio/hourly/merano_merano/\" \\\n",
    "    + \"model_streamflow_passirio_merano_hourly_hydrograph_kr_obs.\" + output_format\n",
    "createPlot( plots, \"Time $[hour]$\", \"Streamflow $[m^3/hour]$\", outfile, \\\n",
    "    x_major_locator=x_major_locator, x_major_formatter=x_major_formatter, my_dpi=50, height=80 )"
   ],
   "outputs": [],
   "metadata": {}
  },
  {
   "cell_type": "code",
   "execution_count": null,
   "source": [
    "from datetime import datetime\n",
    "start_date_str = \"2015-10-01T01:00:00\"\n",
    "end_date_str = \"2016-09-30T23:00:00\"\n",
    "start_date = datetime.strptime(start_date_str, '%Y-%m-%dT%H:%M:%S')\n",
    "end_date = datetime.strptime(end_date_str, '%Y-%m-%dT%H:%M:%S')\n",
    "\n",
    "plots = []\n",
    "\n",
    "### obs plot ###\n",
    "plt_conf = {}\n",
    "plt_conf[\"label\"] = 'Observed'\n",
    "plt_conf[\"color\"] = '#fdb863'\n",
    "plots.append( (obs_data[start_date:end_date], plt_conf) )\n",
    "\n",
    "### kriging 1x1 plot ###\n",
    "plt_conf = {}\n",
    "plt_conf[\"label\"] = 'Kriging 1x1'\n",
    "plt_conf[\"color\"] = '#8078bc'\n",
    "plots.append( (kriging_data[start_date:end_date], plt_conf) )\n",
    "\n",
    "import matplotlib.dates as mdates\n",
    "x_major_locator=mdates.YearLocator(month=10, day=1)\n",
    "x_major_formatter=mdates.DateFormatter('%Y-%m')\n",
    "\n",
    "outfile_hd = current.config[\"output_path\"] + \"model/streamflow/passirio/hourly/merano_merano/\" \\\n",
    "    + \"model_streamflow_passirio_merano_hourly_hydrograph_kr_obs_20152016_hd.\" + output_format\n",
    "createPlot( plots, \"Time $[hour]$\", \"Streamflow $[m^3/hour]$\", outfile_hd, \\\n",
    "    x_major_locator=x_major_locator, x_major_formatter=x_major_formatter, my_dpi=600, height=80 )\n",
    "\n",
    "outfile = current.config[\"output_path\"] + \"model/streamflow/passirio/hourly/merano_merano/\" \\\n",
    "    + \"model_streamflow_passirio_merano_hourly_hydrograph_kr_obs_20152016.\" + output_format\n",
    "createPlot( plots, \"Time $[hour]$\", \"Streamflow $[m^3/hour]$\", outfile, \\\n",
    "    x_major_locator=x_major_locator, x_major_formatter=x_major_formatter, my_dpi=50, height=80 )\n",
    "\n",
    "########################\n",
    "\n",
    "from datetime import datetime\n",
    "start_date_str = \"2016-10-01T01:00:00\"\n",
    "end_date_str = \"2017-09-30T23:00:00\"\n",
    "start_date = datetime.strptime(start_date_str, '%Y-%m-%dT%H:%M:%S')\n",
    "end_date = datetime.strptime(end_date_str, '%Y-%m-%dT%H:%M:%S')\n",
    "\n",
    "plots = []\n",
    "\n",
    "### obs plot ###\n",
    "plt_conf = {}\n",
    "plt_conf[\"label\"] = 'Observed'\n",
    "plt_conf[\"color\"] = '#fdb863'\n",
    "plots.append( (obs_data[start_date:end_date], plt_conf) )\n",
    "\n",
    "### kriging 1x1 plot ###\n",
    "plt_conf = {}\n",
    "plt_conf[\"label\"] = 'Kriging 1x1'\n",
    "plt_conf[\"color\"] = '#8078bc'\n",
    "plots.append( (kriging_data[start_date:end_date], plt_conf) )\n",
    "\n",
    "import matplotlib.dates as mdates\n",
    "x_major_locator=mdates.YearLocator(month=10, day=1)\n",
    "x_major_formatter=mdates.DateFormatter('%Y-%m')\n",
    "\n",
    "outfile_hd = current.config[\"output_path\"] + \"model/streamflow/passirio/hourly/merano_merano/\" \\\n",
    "    + \"model_streamflow_passirio_merano_hourly_hydrograph_kr_obs_20162017_hd.\" + output_format\n",
    "createPlot( plots, \"Time $[hour]$\", \"Streamflow $[m^3/hour]$\", outfile_hd, \\\n",
    "    x_major_locator=x_major_locator, x_major_formatter=x_major_formatter, my_dpi=600, height=80 )\n",
    "\n",
    "outfile = current.config[\"output_path\"] + \"model/streamflow/passirio/hourly/merano_merano/\" \\\n",
    "    + \"model_streamflow_passirio_merano_hourly_hydrograph_kr_obs_20162017.\" + output_format\n",
    "createPlot( plots, \"Time $[hour]$\", \"Streamflow $[m^3/hour]$\", outfile, \\\n",
    "    x_major_locator=x_major_locator, x_major_formatter=x_major_formatter, my_dpi=50, height=80 )"
   ],
   "outputs": [],
   "metadata": {}
  }
 ]
}