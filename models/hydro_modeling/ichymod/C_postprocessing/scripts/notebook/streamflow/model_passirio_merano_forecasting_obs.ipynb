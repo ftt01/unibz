{
 "cells": [
  {
   "cell_type": "code",
   "execution_count": null,
   "metadata": {},
   "outputs": [],
   "source": [
    "wdir = \"/home/daniele/documents/github/ftt01/phd/models/hydro_modeling/ichymod/C_postprocessing/scripts/\""
   ]
  },
  {
   "cell_type": "code",
   "execution_count": null,
   "metadata": {},
   "outputs": [],
   "source": [
    "import sys, os\n",
    "# sys.path.insert( 0, os.path.join(os.path.dirname(os.path.dirname(os.path.abspath(''))),'lib') )\n",
    "# to link the lib in py scripts as well\n",
    "os.chdir( wdir )\n",
    "sys.path.insert( 0, os.path.join(os.path.abspath(os.getcwd()),'lib') )\n",
    "\n",
    "from lib import *\n",
    "current = DataCollector()"
   ]
  },
  {
   "cell_type": "code",
   "execution_count": null,
   "metadata": {},
   "outputs": [],
   "source": [
    "start_date = '20180925T00:00:00'\n",
    "end_date = '20181004T00:00:00'\n",
    "\n",
    "start_date = dt.datetime.strptime(start_date, '%Y%m%dT%H:%M:%S')\n",
    "end_date = dt.datetime.strptime(end_date, '%Y%m%dT%H:%M:%S')\n",
    "\n",
    "dates = [start_date + dt.timedelta(hours=x)\n",
    "         for x in range(0, (end_date-start_date).days*24 + 1)]\n",
    "\n",
    "current_node = \"merano\""
   ]
  },
  {
   "cell_type": "code",
   "execution_count": null,
   "metadata": {},
   "outputs": [],
   "source": [
    "merano_obs = pd.DataFrame(index=dates)"
   ]
  },
  {
   "cell_type": "code",
   "execution_count": null,
   "metadata": {},
   "outputs": [],
   "source": [
    "obs_flow_filepath = \"/home/daniele/documents/github/ftt01/phd/models/hydro_modeling/ichymod/core/example/OUTPUT/FORECASTING/Nens_20/output_1/\"\n",
    "obs_flow = pd.read_csv( obs_flow_filepath + 'out_ENSEMBLE_mean_flow.txt', skiprows=1, header=None, parse_dates=True, index_col=0 )\n",
    "obs_flow.index.name = 'datetime'\n",
    "obs_flow = obs_flow.drop( columns=obs_flow.shape[1] )\n",
    "\n",
    "### merano\n",
    "merano_obs['ensamble'] = obs_flow[58]"
   ]
  },
  {
   "cell_type": "code",
   "execution_count": null,
   "metadata": {},
   "outputs": [],
   "source": [
    "obs_flow_filepath = \"/home/daniele/documents/github/ftt01/phd/models/hydro_modeling/ichymod/core/example/OUTPUT/FORECASTING/Nens_20/output_1/\"\n",
    "obs_flow = pd.read_csv( obs_flow_filepath + 'DA_out_ENSEMBLE_mean_flow.txt', skiprows=1, header=None, parse_dates=True, index_col=0 )\n",
    "obs_flow.index.name = 'datetime'\n",
    "obs_flow = obs_flow.drop( columns=obs_flow.shape[1] )\n",
    "\n",
    "### merano\n",
    "merano_obs['DA'] = obs_flow[58]"
   ]
  },
  {
   "cell_type": "code",
   "execution_count": null,
   "metadata": {},
   "outputs": [],
   "source": [
    "obs_flow_filepath = \"/home/daniele/documents/github/ftt01/phd/models/hydro_modeling/ichymod/core/example/OUTPUT/FORECASTING/Nens_20/output_1/\"\n",
    "obs_flow = pd.read_csv( obs_flow_filepath + 'out_flow.txt', skiprows=1, header=None, parse_dates=True, index_col=0 )\n",
    "obs_flow.index.name = 'datetime'\n",
    "obs_flow = obs_flow.drop( columns=obs_flow.shape[1] )\n",
    "\n",
    "### merano\n",
    "merano_obs['deterministic'] = obs_flow[58]"
   ]
  },
  {
   "cell_type": "code",
   "execution_count": null,
   "metadata": {},
   "outputs": [],
   "source": [
    "obs_flow_filepath = \"/home/daniele/documents/github/ftt01/phd/models/hydro_modeling/ichymod/core/example/meteo/streamflow/\"\n",
    "obs_flow = pd.read_csv( obs_flow_filepath + '118.txt', skiprows=5, header=None, parse_dates=True, index_col=0 )\n",
    "obs_flow.index.name = 'datetime'\n",
    "# obs_flow = obs_flow.drop( columns=obs_flow.shape[1] )\n",
    "\n",
    "### merano\n",
    "merano_obs['measured'] = obs_flow[ obs_flow[1] > 0 ][1]"
   ]
  },
  {
   "cell_type": "code",
   "execution_count": null,
   "metadata": {},
   "outputs": [],
   "source": [
    "obs_flow_filepath = \"/home/daniele/documents/github/ftt01/phd/models/hydro_modeling/ichymod/core/example/OUTPUT/FORWARD/output_1/\"\n",
    "obs_flow = pd.read_csv( obs_flow_filepath + 'out_flow.txt', skiprows=1, header=None, parse_dates=True, index_col=0 )\n",
    "obs_flow.index.name = 'datetime'\n",
    "# obs_flow = obs_flow.drop( columns=obs_flow.shape[1] )\n",
    "\n",
    "### merano\n",
    "merano_obs['forward'] = obs_flow[58]"
   ]
  },
  {
   "cell_type": "code",
   "execution_count": null,
   "metadata": {},
   "outputs": [],
   "source": [
    "merano_obs = merano_obs[start_date:end_date]"
   ]
  },
  {
   "cell_type": "code",
   "execution_count": null,
   "metadata": {},
   "outputs": [],
   "source": [
    "merano_obs.plot(figsize=(15,10))"
   ]
  },
  {
   "cell_type": "code",
   "execution_count": null,
   "metadata": {},
   "outputs": [],
   "source": [
    "merano_obs"
   ]
  },
  {
   "cell_type": "code",
   "execution_count": null,
   "metadata": {},
   "outputs": [],
   "source": [
    "obs_flow_filepath = \"/home/daniele/documents/github/ftt01/phd/models/hydro_modeling/ichymod/core/example/OUTPUT/FORECASTING/Nens_20/output_1/\"\n",
    "obs_flow = pd.read_csv( obs_flow_filepath + 'out_flow.txt', skiprows=1, header=None, parse_dates=True, index_col=0 )"
   ]
  },
  {
   "cell_type": "code",
   "execution_count": null,
   "metadata": {},
   "outputs": [],
   "source": [
    "obs_flow[58].plot()"
   ]
  },
  {
   "cell_type": "code",
   "execution_count": null,
   "metadata": {},
   "outputs": [],
   "source": []
  }
 ],
 "metadata": {
  "interpreter": {
   "hash": "916dbcbb3f70747c44a77c7bcd40155683ae19c65e1c03b4aa3499c5328201f1"
  },
  "kernelspec": {
   "display_name": "Python 3.8.10 64-bit",
   "language": "python",
   "name": "python3"
  },
  "language_info": {
   "codemirror_mode": {
    "name": "ipython",
    "version": 3
   },
   "file_extension": ".py",
   "mimetype": "text/x-python",
   "name": "python",
   "nbconvert_exporter": "python",
   "pygments_lexer": "ipython3",
   "version": "3.8.10"
  },
  "orig_nbformat": 4
 },
 "nbformat": 4,
 "nbformat_minor": 2
}
