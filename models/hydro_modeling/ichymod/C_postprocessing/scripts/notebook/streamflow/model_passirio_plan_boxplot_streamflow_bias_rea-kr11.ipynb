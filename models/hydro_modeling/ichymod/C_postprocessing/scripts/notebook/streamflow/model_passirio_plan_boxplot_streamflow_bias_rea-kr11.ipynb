{
 "cells": [
  {
   "cell_type": "code",
   "execution_count": 1,
   "metadata": {},
   "outputs": [],
   "source": [
    "# wdir = \"C:/Users/daniele/Documents/GitHub/ftt01/phd/hydro_modeling/ichymod/C_postprocessing/scripts/\"\n",
    "wdir = \"/home/daniele/documents/github/ftt01/phd/hydro_modeling/ichymod/C_postprocessing/scripts/\""
   ]
  },
  {
   "cell_type": "code",
   "execution_count": 2,
   "metadata": {},
   "outputs": [],
   "source": [
    "import sys, os\n",
    "# sys.path.insert( 0, os.path.join(os.path.dirname(os.path.dirname(os.path.abspath(''))),'lib') )\n",
    "# to link the lib in py scripts as well\n",
    "os.chdir( wdir )\n",
    "sys.path.insert( 0, os.path.join(os.path.abspath(os.getcwd()),'lib') )\n",
    "\n",
    "from lib import *\n",
    "current = DataCollector()"
   ]
  },
  {
   "cell_type": "code",
   "execution_count": 3,
   "metadata": {},
   "outputs": [],
   "source": [
    "### simulation selection #############################################################################\n",
    "\n",
    "kriging11_data = DataCollector()\n",
    "\n",
    "current_phase = \"calibration_best_plan\"\n",
    "current_basin = \"passirio\"\n",
    "current_type = \"kriging_11\"\n",
    "current_node = \"plan\"\n",
    "\n",
    "kriging11_data.retrieveData(current_phase, current_basin, current_type, current_node)\n",
    "\n",
    "### end simulation selection ##########################################################################"
   ]
  },
  {
   "cell_type": "code",
   "execution_count": 4,
   "metadata": {},
   "outputs": [],
   "source": [
    "### simulation selection #############################################################################\n",
    "\n",
    "reanalysis_data = DataCollector()\n",
    "\n",
    "current_phase = \"calibration_best_plan\"\n",
    "current_basin = \"passirio\"\n",
    "current_type = \"reanalysis\"\n",
    "current_node = \"plan\"\n",
    "\n",
    "reanalysis_data.retrieveData(current_phase, current_basin, current_type, current_node)\n",
    "\n",
    "### end simulation selection ##########################################################################"
   ]
  },
  {
   "cell_type": "code",
   "execution_count": 5,
   "metadata": {},
   "outputs": [],
   "source": [
    "data_kr11_temporal_mean = kriging11_data.model_flow.resample('MS').mean()\n",
    "data_rea_temporal_mean = reanalysis_data.model_flow.resample('MS').mean()\n",
    "\n",
    "data_monthly_mean = data_rea_temporal_mean - data_kr11_temporal_mean"
   ]
  },
  {
   "cell_type": "code",
   "execution_count": 6,
   "metadata": {},
   "outputs": [],
   "source": [
    "output_path = current.config[\"output_path\"] + \"model/streamflow/passirio/monthly/\" + \"model_streamflow_passirio_plan_boxplotBias_rea-kr11.\" + output_format\n",
    "createBoxPlot(data_monthly_mean,  \"Time $[month]$\", \"Streamflow bias $[m^3/month]$\", output_path, period='MS', output_format=output_format, my_dpi=50)\n",
    "\n",
    "output_path_hd = current.config[\"output_path\"] + \"model/streamflow/passirio/monthly/\" + \"model_streamflow_passirio_plan_boxplotBias_rea-kr11_HD.\" + output_format\n",
    "createBoxPlot(data_monthly_mean,  \"Time $[month]$\", \"Streamflow bias $[m^3/month]$\", output_path_hd, period='MS', output_format=output_format, my_dpi=600)"
   ]
  }
 ],
 "metadata": {
  "interpreter": {
   "hash": "63d5e5d3ef3ec13453f007c86728ea82bf14ea96ebb0a2fb9c639ae49af1dbf7"
  },
  "kernelspec": {
   "display_name": "Python 3.9.1 64-bit",
   "name": "python3"
  },
  "language_info": {
   "codemirror_mode": {
    "name": "ipython",
    "version": 3
   },
   "file_extension": ".py",
   "mimetype": "text/x-python",
   "name": "python",
   "nbconvert_exporter": "python",
   "pygments_lexer": "ipython3",
   "version": "3.8.10"
  },
  "metadata": {
   "interpreter": {
    "hash": "63d5e5d3ef3ec13453f007c86728ea82bf14ea96ebb0a2fb9c639ae49af1dbf7"
   }
  },
  "orig_nbformat": 2
 },
 "nbformat": 4,
 "nbformat_minor": 2
}
