{
 "metadata": {
  "language_info": {
   "codemirror_mode": {
    "name": "ipython",
    "version": 3
   },
   "file_extension": ".py",
   "mimetype": "text/x-python",
   "name": "python",
   "nbconvert_exporter": "python",
   "pygments_lexer": "ipython3",
   "version": "3.9.1"
  },
  "orig_nbformat": 2,
  "kernelspec": {
   "name": "python391jvsc74a57bd063d5e5d3ef3ec13453f007c86728ea82bf14ea96ebb0a2fb9c639ae49af1dbf7",
   "display_name": "Python 3.9.1 64-bit"
  },
  "metadata": {
   "interpreter": {
    "hash": "63d5e5d3ef3ec13453f007c86728ea82bf14ea96ebb0a2fb9c639ae49af1dbf7"
   }
  }
 },
 "nbformat": 4,
 "nbformat_minor": 2,
 "cells": [
  {
   "cell_type": "code",
   "execution_count": null,
   "source": [
    "# wdir = \"C:/Users/daniele/Documents/GitHub/ftt01/phd/hydro_modeling/ichymod/C_postprocessing/scripts/\"\n",
    "wdir = \"/home/daniele/documents/github/ftt01/phd/hydro_modeling/ichymod/C_postprocessing/scripts/\""
   ],
   "outputs": [],
   "metadata": {}
  },
  {
   "cell_type": "code",
   "execution_count": null,
   "source": [
    "import sys, os\n",
    "# sys.path.insert( 0, os.path.join(os.path.dirname(os.path.dirname(os.path.abspath(''))),'lib') )\n",
    "# to link the lib in py scripts as well\n",
    "os.chdir( wdir )\n",
    "sys.path.insert( 0, os.path.join(os.path.abspath(os.getcwd()),'lib') )\n",
    "\n",
    "from lib import *\n",
    "current = DataCollector()"
   ],
   "outputs": [],
   "metadata": {}
  },
  {
   "cell_type": "code",
   "execution_count": null,
   "source": [
    "### simulation selection #############################################################################\n",
    "\n",
    "kriging_data = DataCollector()\n",
    "\n",
    "current_phase = \"calibration_best_merano\"\n",
    "current_basin = \"passirio\"\n",
    "current_type = \"kriging\"\n",
    "current_node = \"merano\"\n",
    "\n",
    "kriging_data.retrieveData(current_phase, current_basin, current_type, current_node)\n",
    "\n",
    "### end simulation selection ##########################################################################"
   ],
   "outputs": [],
   "metadata": {}
  },
  {
   "cell_type": "code",
   "execution_count": null,
   "source": [
    "### simulation selection #############################################################################\n",
    "\n",
    "kriging11_data = DataCollector()\n",
    "\n",
    "current_phase = \"calibration_best_merano\"\n",
    "current_basin = \"passirio\"\n",
    "current_type = \"kriging_11\"\n",
    "current_node = \"merano\"\n",
    "\n",
    "kriging11_data.retrieveData(current_phase, current_basin, current_type, current_node)\n",
    "\n",
    "### end simulation selection ##########################################################################"
   ],
   "outputs": [],
   "metadata": {}
  },
  {
   "cell_type": "code",
   "execution_count": null,
   "source": [
    "data_kr_temporal_mean = kriging_data.model_flow.resample('MS').mean()\n",
    "data_kr11_temporal_mean = kriging11_data.model_flow.resample('MS').mean()\n",
    "data_monthly_mean = data_kr11_temporal_mean - data_kr_temporal_mean"
   ],
   "outputs": [],
   "metadata": {}
  },
  {
   "cell_type": "code",
   "execution_count": null,
   "source": [
    "output_path = current.config[\"output_path\"] + \"model/streamflow/passirio/monthly/\" \\\n",
    "    + \"model_streamflow_passirio_merano_boxplotBias_kr11-kr.\" + output_format\n",
    "\n",
    "createBoxPlot(data_monthly_mean,  \"Time $[month]$\", \"Streamflow bias $[m^3/month]$\",\n",
    "              output_path, period='MS', output_format=output_format, my_dpi=50)\n",
    "\n",
    "output_path_hd = current.config[\"output_path\"] + \"model/streamflow/passirio/monthly/\" \\\n",
    "    + \"model_streamflow_passirio_merano_boxplotBias_kr11-kr_HD.\" + output_format\n",
    "\n",
    "createBoxPlot(data_monthly_mean,  \"Time $[month]$\", \"Streamflow bias $[m^3/month]$\",\n",
    "              output_path_hd, period='MS', output_format=output_format, my_dpi=600)"
   ],
   "outputs": [],
   "metadata": {}
  },
  {
   "cell_type": "code",
   "execution_count": null,
   "source": [],
   "outputs": [],
   "metadata": {}
  }
 ]
}