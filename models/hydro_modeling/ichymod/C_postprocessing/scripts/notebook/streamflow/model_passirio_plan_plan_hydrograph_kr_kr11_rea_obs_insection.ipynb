{
 "metadata": {
  "language_info": {
   "codemirror_mode": {
    "name": "ipython",
    "version": 3
   },
   "file_extension": ".py",
   "mimetype": "text/x-python",
   "name": "python",
   "nbconvert_exporter": "python",
   "pygments_lexer": "ipython3",
   "version": "3.9.1"
  },
  "orig_nbformat": 2,
  "kernelspec": {
   "name": "python3",
   "display_name": "Python 3.9.1 64-bit"
  },
  "metadata": {
   "interpreter": {
    "hash": "63d5e5d3ef3ec13453f007c86728ea82bf14ea96ebb0a2fb9c639ae49af1dbf7"
   }
  },
  "interpreter": {
   "hash": "63d5e5d3ef3ec13453f007c86728ea82bf14ea96ebb0a2fb9c639ae49af1dbf7"
  }
 },
 "nbformat": 4,
 "nbformat_minor": 2,
 "cells": [
  {
   "cell_type": "code",
   "execution_count": 1,
   "source": [
    "# wdir = \"C:/Users/daniele/Documents/GitHub/ftt01/phd/hydro_modeling/ichymod/C_postprocessing/scripts/\"\n",
    "wdir = \"/home/daniele/documents/github/ftt01/phd/hydro_modeling/ichymod/C_postprocessing/scripts/\""
   ],
   "outputs": [],
   "metadata": {}
  },
  {
   "cell_type": "code",
   "execution_count": 2,
   "source": [
    "import sys, os\n",
    "# sys.path.insert( 0, os.path.join(os.path.dirname(os.path.dirname(os.path.abspath(''))),'lib') )\n",
    "# to link the lib in py scripts as well\n",
    "os.chdir( wdir )\n",
    "sys.path.insert( 0, os.path.join(os.path.abspath(os.getcwd()),'lib') )\n",
    "\n",
    "from lib import *\n",
    "current = DataCollector()"
   ],
   "outputs": [],
   "metadata": {}
  },
  {
   "cell_type": "code",
   "execution_count": 3,
   "source": [
    "### simulation selection #############################################################################\n",
    "\n",
    "kriging_data_calibration = DataCollector()\n",
    "\n",
    "current_phase = \"calibration_best_plan\"\n",
    "current_basin = \"passirio\"\n",
    "current_type = \"kriging\"\n",
    "current_node = \"plan\"\n",
    "\n",
    "kriging_data_calibration.retrieveData(current_phase, current_basin, current_type, current_node)\n",
    "\n",
    "### end simulation selection ##########################################################################\n",
    "### simulation selection #############################################################################\n",
    "\n",
    "kriging_data_validation = DataCollector()\n",
    "\n",
    "current_phase = \"validation_best_plan\"\n",
    "current_basin = \"passirio\"\n",
    "current_type = \"kriging\"\n",
    "current_node = \"plan\"\n",
    "\n",
    "kriging_data_validation.retrieveData(current_phase, current_basin, current_type, current_node)\n",
    "\n",
    "### end simulation selection ##########################################################################\n",
    "kriging_data = pd.concat( [kriging_data_calibration.model_flow, kriging_data_validation.model_flow] )"
   ],
   "outputs": [],
   "metadata": {}
  },
  {
   "cell_type": "code",
   "execution_count": 4,
   "source": [
    "### simulation selection #############################################################################\r\n",
    "\r\n",
    "kriging_11_data_calibration = DataCollector()\r\n",
    "\r\n",
    "current_phase = \"calibration_best_plan\"\r\n",
    "current_basin = \"passirio\"\r\n",
    "current_type = \"kriging_11\"\r\n",
    "current_node = \"plan\"\r\n",
    "\r\n",
    "kriging_11_data_calibration.retrieveData(current_phase, current_basin, current_type, current_node)\r\n",
    "\r\n",
    "### end simulation selection ##########################################################################\r\n",
    "### simulation selection #############################################################################\r\n",
    "\r\n",
    "kriging_11_data_validation = DataCollector()\r\n",
    "\r\n",
    "current_phase = \"validation_best_plan\"\r\n",
    "current_basin = \"passirio\"\r\n",
    "current_type = \"kriging_11\"\r\n",
    "current_node = \"plan\"\r\n",
    "\r\n",
    "kriging_11_data_validation.retrieveData(current_phase, current_basin, current_type, current_node)\r\n",
    "\r\n",
    "### end simulation selection ##########################################################################\r\n",
    "kriging_11_data = pd.concat( [kriging_11_data_calibration.model_flow, kriging_11_data_validation.model_flow] )"
   ],
   "outputs": [],
   "metadata": {}
  },
  {
   "cell_type": "code",
   "execution_count": 5,
   "source": [
    "### simulation selection #############################################################################\r\n",
    "\r\n",
    "rea_data_calibration = DataCollector()\r\n",
    "\r\n",
    "current_phase = \"calibration_best_plan\"\r\n",
    "current_basin = \"passirio\"\r\n",
    "current_type = \"reanalysis\"\r\n",
    "current_node = \"plan\"\r\n",
    "\r\n",
    "rea_data_calibration.retrieveData(current_phase, current_basin, current_type, current_node)\r\n",
    "\r\n",
    "### end simulation selection ##########################################################################\r\n",
    "### simulation selection #############################################################################\r\n",
    "\r\n",
    "rea_data_validation = DataCollector()\r\n",
    "\r\n",
    "current_phase = \"validation_best_plan\"\r\n",
    "current_basin = \"passirio\"\r\n",
    "current_type = \"reanalysis\"\r\n",
    "current_node = \"plan\"\r\n",
    "\r\n",
    "rea_data_validation.retrieveData(current_phase, current_basin, current_type, current_node)\r\n",
    "\r\n",
    "### end simulation selection ##########################################################################\r\n",
    "rea_data = pd.concat( [rea_data_calibration.model_flow, rea_data_validation.model_flow] )"
   ],
   "outputs": [],
   "metadata": {}
  },
  {
   "cell_type": "code",
   "execution_count": 6,
   "source": [
    "obs_data = pd.concat( [kriging_data_calibration.obs_flow, kriging_data_validation.obs_flow] )"
   ],
   "outputs": [],
   "metadata": {}
  },
  {
   "cell_type": "code",
   "execution_count": 7,
   "source": [
    "from datetime import datetime\r\n",
    "start_date_str = \"2015-10-01T01:00:00\"\r\n",
    "end_date_str = \"2016-09-30T23:00:00\"\r\n",
    "start_date = datetime.strptime(start_date_str, '%Y-%m-%dT%H:%M:%S')\r\n",
    "end_date = datetime.strptime(end_date_str, '%Y-%m-%dT%H:%M:%S')\r\n",
    "\r\n",
    "plots = []\r\n",
    "\r\n",
    "### obs plot ###\r\n",
    "plt_conf = {}\r\n",
    "plt_conf[\"label\"] = 'Observed'\r\n",
    "plt_conf[\"color\"] = '#fdb863'\r\n",
    "plots.append( (obs_data[start_date:end_date], plt_conf) )\r\n",
    "\r\n",
    "### rea 11x8 plot ###\r\n",
    "plt_conf = {}\r\n",
    "plt_conf[\"label\"] = 'Reanalysis 11x8'\r\n",
    "plt_conf[\"color\"] = '#e66101'\r\n",
    "plots.append( (rea_data[start_date:end_date], plt_conf) )\r\n",
    "\r\n",
    "### kriging 1x1 plot ###\r\n",
    "plt_conf = {}\r\n",
    "plt_conf[\"label\"] = 'Kriging 1x1'\r\n",
    "plt_conf[\"color\"] = '#8078bc'\r\n",
    "plots.append( (kriging_data[start_date:end_date], plt_conf) )\r\n",
    "\r\n",
    "### kriging 11x8 plot ###\r\n",
    "plt_conf = {}\r\n",
    "plt_conf[\"label\"] = 'Kriging 11x8'\r\n",
    "plt_conf[\"color\"] = '#5e3c99'\r\n",
    "plots.append( (kriging_11_data[start_date:end_date], plt_conf) )\r\n",
    "\r\n",
    "import matplotlib.dates as mdates\r\n",
    "x_major_locator=mdates.YearLocator(month=10, day=1)\r\n",
    "x_major_formatter=mdates.DateFormatter('%Y-%m')"
   ],
   "outputs": [],
   "metadata": {}
  },
  {
   "cell_type": "code",
   "execution_count": 8,
   "source": [
    "outfile_hd = current.config[\"output_path\"] + \"model/streamflow/passirio/hourly/plan_plan/\" + \"model_streamflow_passirio_plan_hourly_hydrograph_kr_kr11_rea_obs_20152016_hd_insection.\" + output_format\r\n",
    "createPlot( plots, \"Time $[hour]$\", \"Streamflow $[m^3/hour]$\", outfile_hd, \\\r\n",
    "    x_major_locator=x_major_locator, x_major_formatter=x_major_formatter, scale_factor=0.6, my_dpi=600, height=80 )\r\n",
    "\r\n",
    "outfile = current.config[\"output_path\"] + \"model/streamflow/passirio/hourly/plan_plan/\" + \"model_streamflow_passirio_plan_hourly_hydrograph_kr_kr11_rea_20152016_obs_insection.\" + output_format\r\n",
    "createPlot( plots, \"Time $[hour]$\", \"Streamflow $[m^3/hour]$\", outfile, \\\r\n",
    "    x_major_locator=x_major_locator, x_major_formatter=x_major_formatter, scale_factor=0.6, my_dpi=50, height=80 )"
   ],
   "outputs": [],
   "metadata": {}
  }
 ]
}