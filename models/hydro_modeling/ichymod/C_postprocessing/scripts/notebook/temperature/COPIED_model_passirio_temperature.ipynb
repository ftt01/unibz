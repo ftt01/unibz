{
 "cells": [
  {
   "cell_type": "code",
   "execution_count": null,
   "metadata": {},
   "outputs": [],
   "source": [
    "# DESCRIPTION\n",
    "# model_temperature_AA_monthlyBias_kr-rea\n",
    "# model_temperature_AA_monthlyBias_kr-kr11\n",
    "# model_temperature_AA_monthlyBias_kr11-rea\n",
    "\n",
    "# model_temperature_AA_boxplot_500-3000_kr-rea11\n",
    "# model_temperature_AA_boxplot_500-3000_kr11-kr\n",
    "# model_temperature_AA_boxplot_500-3000_kr11-rea11"
   ]
  },
  {
   "cell_type": "code",
   "execution_count": null,
   "metadata": {},
   "outputs": [],
   "source": [
    "# wdir = \"C:/Users/daniele/Documents/GitHub/ftt01/phd/hydro_modeling/ichymod/C_postprocessing/scripts/\"\n",
    "wdir = \"/home/daniele/documents/github/ftt01/phd/hydro_modeling/ichymod/C_postprocessing/scripts/\""
   ]
  },
  {
   "cell_type": "code",
   "execution_count": null,
   "metadata": {},
   "outputs": [],
   "source": [
    "import sys, os\n",
    "# sys.path.insert( 0, os.path.join(os.path.dirname(os.path.dirname(os.path.abspath(''))),'lib') )\n",
    "# to link the lib in py scripts as well\n",
    "os.chdir( wdir )\n",
    "sys.path.insert( 0, os.path.join(os.path.abspath(os.getcwd()),'lib') )\n",
    "\n",
    "from lib import *\n",
    "current = DataCollector()"
   ]
  },
  {
   "cell_type": "code",
   "execution_count": null,
   "metadata": {},
   "outputs": [],
   "source": [
    "start_date_str = \"2013-10-01T01:00:00\"\n",
    "end_date_str = \"2020-09-30T23:00:00\"\n",
    "start_date = dt.datetime.strptime( start_date_str, '%Y-%m-%dT%H:%M:%S' )\n",
    "end_date = dt.datetime.strptime( end_date_str, '%Y-%m-%dT%H:%M:%S' )\n",
    "\n",
    "zz_top = [500, 1000, 1500, 2000, 2500, 3000] # elevation in meters\n",
    "added_cols = []\n",
    "for el in zz_top:\n",
    "    added_cols.append( \"t_at_\" + str(el) )"
   ]
  },
  {
   "cell_type": "code",
   "execution_count": null,
   "metadata": {},
   "outputs": [],
   "source": [
    "def evaluateTemperatures( df, z_list=[1000] ):\n",
    "    for elevation in zz_top:\n",
    "        evaluated_temp = []\n",
    "        column_str = 't_at_' + str(elevation)\n",
    "        for i in range( len(df) ):\n",
    "            evaluated_temp.append(float(df[i:i+1]['t_int']) + float(df[i:i+1]['t_slope']) * elevation)\n",
    "        df[column_str] = evaluated_temp\n",
    "    \n",
    "    return df"
   ]
  },
  {
   "cell_type": "code",
   "execution_count": null,
   "metadata": {},
   "outputs": [],
   "source": [
    "## KRIGING DATASET ##\n",
    "fileName_kr = \"/media/windows/projects/era5_bias/02_calibration_validation/hydro_modelling/Passirio/meteo/kriging/observations/1x1/temperature.txt\"\n",
    "#fileName_kr = \"/media/windows/projects/era5_bias/CALIBRAZIONE_PASSIRIO_REANALISYS/hydro_modelling/Passirio/meteo/kriging/observations/precipitation.txt\"\n",
    "df_kr = pd.read_csv(fileName_kr, header=None, index_col=0, parse_dates=True, names=['t_int', 't_slope'])\n",
    "\n",
    "df_kr = evaluateTemperatures( df_kr, zz_top )\n",
    "\n",
    "temperature_kr_monthly_mean = df_kr.resample('MS').mean()"
   ]
  },
  {
   "cell_type": "code",
   "execution_count": null,
   "metadata": {},
   "outputs": [],
   "source": [
    "## KRIGING 11X8 DATASET ##\n",
    "fileName_kr11 = \"/media/windows/projects/era5_bias/02_calibration_validation/hydro_modelling/Passirio/meteo/kriging/observations/11x8/temperature.txt\"\n",
    "#fileName_kr11 = \"/media/windows/projects/era5_bias/CALIBRAZIONE_PASSIRIO_KRIGING_11x8/hydro_modelling/Passirio/meteo/kriging/observations/precipitation.txt\"\n",
    "df_kr11 = pd.read_csv(fileName_kr11, header=None, index_col=0, parse_dates=True, delimiter=r\"\\s+\", names=['date', 't_int', 't_slope'])\n",
    "df_kr11 = rewriteDF(df_kr11)\n",
    "df_kr11 = df_kr11.sort_index()\n",
    "\n",
    "df_kr11 = evaluateTemperatures( df_kr11, zz_top )\n",
    "\n",
    "temperature_kr11_monthly_mean = df_kr11.resample('MS').mean()"
   ]
  },
  {
   "cell_type": "code",
   "execution_count": null,
   "metadata": {},
   "outputs": [],
   "source": [
    "## REANALYSIS DATASET ##\n",
    "fileName_rea = \"/media/windows/projects/era5_bias/02_calibration_validation/hydro_modelling/Passirio/meteo/reanalysis/observations/temperature.txt\"\n",
    "#fileName_rea =  \"/media/windows/projects/era5_bias/CALIBRAZIONE_PASSIRIO_REANALISYS/hydro_modelling/Passirio/meteo/reanalysis/observations/precipitation.txt\"\n",
    "df_rea = pd.read_csv(fileName_rea, header=None, index_col=0, parse_dates=True, delimiter=r\"\\s+\", names=['date', 't_int', 't_slope'])\n",
    "df_rea = rewriteDF(df_rea)\n",
    "df_rea = df_rea.sort_index()\n",
    "\n",
    "df_rea = evaluateTemperatures( df_rea, zz_top )\n",
    "\n",
    "temperature_rea_monthly_mean = df_rea.resample('MS').mean()"
   ]
  },
  {
   "cell_type": "code",
   "execution_count": null,
   "metadata": {},
   "outputs": [],
   "source": [
    "\n",
    "## OBSERVED ##\n",
    "#fileName_obs = \"/media/windows/projects/era5_bias/02_calibration_validation/hydro_modelling/Passirio/meteo/GS/observations/precipitation.txt\"\n",
    "#df_obs = pd.read_csv(fileName_obs, header=0, index_col=0, parse_dates=True, delimiter=r\"\\s+\")\n",
    "#df_obs = rewriteDF(df_obs)\n",
    "\n",
    "## BASINS ##\n",
    "#fileName_basins = \"/media/windows/projects/era5_bias/02_calibration_validation/hydro_modelling/Passirio/INPUT/topological_elements/basins.txt\"\n"
   ]
  },
  {
   "cell_type": "code",
   "execution_count": null,
   "metadata": {},
   "outputs": [],
   "source": [
    "###### BOXPLOTS ######\n",
    "\n",
    "temperature_rea_kr_comparison = df_rea[start_date:end_date] - df_kr[start_date:end_date]\n",
    "bias_rea_kr_plots = []\n",
    "\n",
    "temperature_rea_kr11_comparison = df_rea[start_date:end_date] - df_kr11[start_date:end_date]\n",
    "bias_rea_kr11_plots = []\n",
    "\n",
    "temperature_kr11_kr_comparison = df_kr11[start_date:end_date] - df_kr[start_date:end_date]\n",
    "bias_kr11_kr_plots = []\n",
    "\n",
    "index = 0\n",
    "for col in added_cols:\n",
    "\n",
    "    temperature_at_rea_kr = temperature_rea_kr_comparison[col]\n",
    "    temperature_at_rea_kr_mean = temperature_at_rea_kr.resample('MS').mean()\n",
    "\n",
    "    bias_rea_kr_plots.append( (temperature_at_rea_kr_mean, {\"label\":str(zz_top[index])}) )\n",
    "\n",
    "    temperature_at_rea_kr11 = temperature_rea_kr11_comparison[col]\n",
    "    temperature_at_rea_kr11_mean = temperature_at_rea_kr11.resample('MS').mean()\n",
    "\n",
    "    bias_rea_kr11_plots.append( (temperature_at_rea_kr11_mean, {\"label\":str(zz_top[index])}) )\n",
    "\n",
    "    temperature_at_kr11_kr = temperature_kr11_kr_comparison[col]\n",
    "    temperature_at_kr11_kr_mean = temperature_at_kr11_kr.resample('MS').mean()\n",
    "\n",
    "    bias_kr11_kr_plots.append( (temperature_at_kr11_kr_mean, {\"label\":str(zz_top[index])}) )\n",
    "\n",
    "    index = index + 1\n",
    "\n",
    "createPlot( bias_rea_kr_plots, \"Time $[month]$\", 'Temp. bias [$\\degree C$]', \\\n",
    "    current.config[\"output_path\"] + \"model/temperature/passirio/monthly/over_elevation/\" \\\n",
    "        + \"model_temperature_AA_monthlyBias_kr-rea.\" + output_format, my_dpi=50 )\n",
    "\n",
    "createPlot( bias_rea_kr_plots, \"Time $[month]$\", 'Temp. bias [$\\degree C$]', \\\n",
    "    current.config[\"output_path\"] + \"model/temperature/passirio/monthly/over_elevation/\" \\\n",
    "        + \"model_temperature_AA_monthlyBias_kr-rea_HD.\" + output_format, my_dpi=600 )\n",
    "\n",
    "createPlot( bias_kr11_kr_plots, \"Time $[month]$\", 'Temp. bias [$\\degree C$]', \\\n",
    "    current.config[\"output_path\"] + \"model/temperature/passirio/monthly/over_elevation/\" \\\n",
    "        + \"model_temperature_AA_monthlyBias_kr-kr11.\" + output_format, my_dpi=50 )\n",
    "\n",
    "createPlot( bias_kr11_kr_plots, \"Time $[month]$\", 'Temp. bias [$\\degree C$]', \\\n",
    "    current.config[\"output_path\"] + \"model/temperature/passirio/monthly/over_elevation/\" \\\n",
    "        + \"model_temperature_AA_monthlyBias_kr-kr11_hd.\" + output_format, my_dpi=600 )\n",
    "\n",
    "createPlot( bias_rea_kr11_plots, \"Time $[month]$\", 'Temp. bias [$\\degree C$]', \\\n",
    "    current.config[\"output_path\"] + \"model/temperature/passirio/monthly/over_elevation/\" \\\n",
    "        + \"model_temperature_AA_monthlyBias_kr11-rea.\" + output_format, my_dpi=50 )\n",
    "\n",
    "createPlot( bias_rea_kr11_plots, \"Time $[month]$\", 'Temp. bias [$\\degree C$]', \\\n",
    "    current.config[\"output_path\"] + \"model/temperature/passirio/monthly/over_elevation/\" \\\n",
    "        + \"model_temperature_AA_monthlyBias_kr11-rea_hd.\" + output_format, my_dpi=600 )"
   ]
  },
  {
   "cell_type": "code",
   "execution_count": null,
   "metadata": {},
   "outputs": [],
   "source": [
    "################ BOXPLOT BIAS kriging - reanalysis ##################\n",
    "rea_kr_bias = temperature_rea_kr_comparison[added_cols[len(added_cols)-1]].resample('MS').mean() - \\\n",
    "    temperature_rea_kr_comparison[added_cols[0]].resample('MS').mean()\n",
    "\n",
    "output_path = current.config[\"output_path\"] + \"model/temperature/passirio/monthly/over_elevation/\" \\\n",
    "    \"model_temperature_passirio_boxplot_\" + added_cols[len(added_cols)-1] + \"-\" + added_cols[0] + \"_rea-kr.\" + output_format \n",
    "\n",
    "createBoxPlot( rea_kr_bias,  \"Time $[month]$\", \"Temp. bias $[\\degree C]$\", \\\n",
    "    output_path, period='MS', output_format=output_format, my_dpi=50 )\n",
    "\n",
    "output_path_hd = current.config[\"output_path\"] + \"model/temperature/passirio/monthly/over_elevation/\" \\\n",
    "    \"model_temperature_passirio_boxplot_\" + added_cols[len(added_cols)-1] + \"-\" + added_cols[0] + \"_rea-kr_HD.\" + output_format \n",
    "\n",
    "createBoxPlot( rea_kr_bias,  \"Time $[month]$\", \"Temp. bias $[\\degree C]$\", \\\n",
    "    output_path_hd, period='MS', output_format=output_format, my_dpi=600)"
   ]
  },
  {
   "cell_type": "code",
   "execution_count": null,
   "metadata": {},
   "outputs": [],
   "source": [
    "################ BOXPLOT BIAS kriging - kriging11 ##################\n",
    "kr11_kr_bias = temperature_kr11_kr_comparison[added_cols[len(added_cols)-1]].resample('MS').mean() - \\\n",
    "    temperature_kr11_kr_comparison[added_cols[0]].resample('MS').mean()\n",
    "\n",
    "output_path = current.config[\"output_path\"] + \"model/temperature/passirio/monthly/over_elevation/\" \\\n",
    "    \"model_temperature_passirio_boxplot_\" + added_cols[len(added_cols)-1] + \"-\" + added_cols[0] + \"_kr11-kr.\" + output_format \n",
    "\n",
    "createBoxPlot( kr11_kr_bias,  \"Time $[month]$\", \"Temp. bias $[\\degree C]$\", \\\n",
    "    output_path, period='MS', output_format=output_format, my_dpi=50 )\n",
    "\n",
    "output_path_hd = current.config[\"output_path\"] + \"model/temperature/passirio/monthly/over_elevation/\" \\\n",
    "    \"model_temperature_passirio_boxplot_\" + added_cols[len(added_cols)-1] + \"-\" + added_cols[0] + \"_kr11-kr_HD.\" + output_format \n",
    "\n",
    "createBoxPlot( kr11_kr_bias,  \"Time $[month]$\", \"Temp. bias $[\\degree C]$\", \\\n",
    "    output_path_hd, period='MS', output_format=output_format, my_dpi=600)"
   ]
  },
  {
   "cell_type": "code",
   "execution_count": null,
   "metadata": {},
   "outputs": [],
   "source": [
    "################ BOXPLOT BIAS kriging11 - reanalysis ##################\n",
    "rea_kr11_bias = temperature_rea_kr11_comparison[added_cols[len(added_cols)-1]].resample('MS').mean() - \\\n",
    "    temperature_rea_kr11_comparison[added_cols[0]].resample('MS').mean()\n",
    "\n",
    "output_path = current.config[\"output_path\"] + \"model/temperature/passirio/monthly/over_elevation/\" \\\n",
    "    \"model_temperature_passirio_boxplot_\" + added_cols[len(added_cols)-1] + \"-\" + added_cols[0] + \"_rea-kr11.\" + output_format \n",
    "\n",
    "createBoxPlot( rea_kr11_bias,  \"Time $[month]$\", \"Temp. bias $[\\degree C]$\", \\\n",
    "    output_path, period='MS', output_format=output_format, my_dpi=50 )\n",
    "\n",
    "output_path_hd = current.config[\"output_path\"] + \"model/temperature/passirio/monthly/over_elevation/\" \\\n",
    "    \"model_temperature_passirio_boxplot_\" + added_cols[len(added_cols)-1] + \"-\" + added_cols[0] + \"_rea-kr11_HD.\" + output_format \n",
    "\n",
    "createBoxPlot( rea_kr11_bias,  \"Time $[month]$\", \"Temp. bias $[\\degree C]$\", \\\n",
    "    output_path_hd, period='MS', output_format=output_format, my_dpi=600)"
   ]
  },
  {
   "cell_type": "code",
   "execution_count": null,
   "metadata": {},
   "outputs": [],
   "source": []
  }
 ],
 "metadata": {
  "kernelspec": {
   "display_name": "Python 3",
   "language": "python",
   "name": "python3"
  },
  "language_info": {
   "codemirror_mode": {
    "name": "ipython",
    "version": 3
   },
   "file_extension": ".py",
   "mimetype": "text/x-python",
   "name": "python",
   "nbconvert_exporter": "python",
   "pygments_lexer": "ipython3",
   "version": "3.10.6"
  },
  "metadata": {
   "interpreter": {
    "hash": "63d5e5d3ef3ec13453f007c86728ea82bf14ea96ebb0a2fb9c639ae49af1dbf7"
   }
  },
  "orig_nbformat": 2,
  "vscode": {
   "interpreter": {
    "hash": "916dbcbb3f70747c44a77c7bcd40155683ae19c65e1c03b4aa3499c5328201f1"
   }
  }
 },
 "nbformat": 4,
 "nbformat_minor": 2
}
