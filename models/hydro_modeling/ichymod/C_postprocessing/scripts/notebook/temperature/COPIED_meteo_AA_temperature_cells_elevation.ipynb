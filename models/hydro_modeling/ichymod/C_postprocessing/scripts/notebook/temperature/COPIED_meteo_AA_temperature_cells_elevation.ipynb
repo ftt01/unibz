{
 "cells": [
  {
   "cell_type": "code",
   "execution_count": null,
   "metadata": {},
   "outputs": [],
   "source": [
    "## DESCRIPTION\n",
    "# Script to plot temperature cells bias against elevation."
   ]
  },
  {
   "cell_type": "code",
   "execution_count": null,
   "metadata": {},
   "outputs": [],
   "source": [
    "# wdir = \"C:/Users/daniele/Documents/GitHub/ftt01/phd/hydro_modeling/ichymod/C_postprocessing/scripts/\"\n",
    "wdir = \"/home/daniele/documents/github/ftt01/phd/models/hydro_modeling/ichymod/C_postprocessing/scripts\""
   ]
  },
  {
   "cell_type": "code",
   "execution_count": null,
   "metadata": {},
   "outputs": [],
   "source": [
    "import sys, os\n",
    "# sys.path.insert( 0, os.path.join(os.path.dirname(os.path.dirname(os.path.abspath(''))),'lib') )\n",
    "# to link the lib in py scripts as well\n",
    "os.chdir( wdir )\n",
    "sys.path.insert( 0, os.path.join(os.path.abspath(os.getcwd()),'lib') )\n",
    "\n",
    "from lib import *\n",
    "current = DataCollector()\n",
    "import glob"
   ]
  },
  {
   "cell_type": "code",
   "execution_count": null,
   "metadata": {},
   "outputs": [],
   "source": [
    "## SETUP\n",
    "basin = 'AA'\n",
    "# for output name\n",
    "basin_str = 'alto_adige'\n",
    "\n",
    "start_date_str = \"2010-01-01T00:00:00\"\n",
    "end_date_str = \"2019-12-31T23:00:00\"\n",
    "start_date = dt.datetime.strptime( start_date_str, '%Y-%m-%dT%H:%M:%S' )\n",
    "end_date = dt.datetime.strptime( end_date_str, '%Y-%m-%dT%H:%M:%S' )"
   ]
  },
  {
   "cell_type": "code",
   "execution_count": null,
   "metadata": {},
   "outputs": [],
   "source": [
    "## REANALYSIS DATASET ##\n",
    "temperature_rea_path = \"/media/windows/data/GFS_models/ECMWF/ERA5Land-reanalysis/derivatives/t2m/\"\n",
    "\n",
    "list_of_cells = []\n",
    "temperature_df_rea = pd.DataFrame()\n",
    "\n",
    "t_file_tot = glob.glob( temperature_rea_path + '*.csv' )\n",
    "\n",
    "for t_file in t_file_tot:\n",
    "    data_tot = pd.read_csv(t_file,index_col=0,parse_dates=True,skiprows=4,names=[ os.path.basename(t_file)[:-4] ])\n",
    "    data_tot=data_tot[start_date:end_date]\n",
    "    data_tot[data_tot == -999] = None\n",
    "    temperature_df_rea=pd.concat([temperature_df_rea, data_tot],axis=1)\n",
    "    list_of_cells.append(os.path.basename(t_file)[:-4])\n",
    "\n",
    "# spatial mean over all cells\n",
    "# temperature_rea_spatial_mean = temperature_df_rea.mean(axis=1)\n",
    "\n",
    "# # temporal mean over all cells\n",
    "# temperature_df_rea_temporal_mean = temperature_df_rea.mean(axis=0)\n",
    "# # temporal ECDF\n",
    "# temperature_df_rea_temporal_ecdf = evaluateECDF( temperature_df_rea_temporal_mean )"
   ]
  },
  {
   "cell_type": "code",
   "execution_count": null,
   "metadata": {},
   "outputs": [],
   "source": [
    "## KRIGING 11X8 DATASET ##\n",
    "temperature_kr11_path = \"/media/windows/projects/era5_bias/OLD/comparison/scripts/kriging/AltoAdige/TMEAN/\"\n",
    "         \n",
    "temperature_df_kr11 = pd.DataFrame()\n",
    "\n",
    "t_file_tot = glob.glob( temperature_kr11_path + '*.csv')\n",
    "\n",
    "for t_file in t_file_tot:\n",
    "    if os.path.basename(t_file)[:-4] in list_of_cells:\n",
    "        data_tot = pd.read_csv(t_file,index_col=0,parse_dates=True,skiprows=4,names=[ os.path.basename(t_file)[:-4] ])\n",
    "        data_tot = data_tot[start_date:end_date]\n",
    "        data_tot[data_tot == -999] = None\n",
    "        temperature_df_kr11 = pd.concat([temperature_df_kr11, data_tot],axis=1)\n",
    "\n",
    "# spatial mean over all cells\n",
    "# temperature_kr11_spatial_mean = temperature_df_kr11.mean(axis=1)\n",
    "\n",
    "# # temporal mean over all cells\n",
    "# temperature_df_kr11_temporal_mean = temperature_df_kr11.mean(axis=0)\n",
    "# # temporal ECDF\n",
    "# temperature_df_kr11_temporal_ecdf = evaluateECDF( temperature_df_kr11_temporal_mean )"
   ]
  },
  {
   "cell_type": "code",
   "execution_count": null,
   "metadata": {},
   "outputs": [],
   "source": [
    "temperature_bias = temperature_df_rea - temperature_df_kr11"
   ]
  },
  {
   "cell_type": "code",
   "execution_count": null,
   "metadata": {},
   "outputs": [],
   "source": [
    "bias_df = pd.DataFrame( temperature_bias.resample('Y').mean().mean(), columns=['bias'] )"
   ]
  },
  {
   "cell_type": "code",
   "execution_count": null,
   "metadata": {},
   "outputs": [],
   "source": [
    "el = \"/media/windows/OLD/data/data/GFS_models/ECMWF/ERA5Land-reanalysis/ECMWF_grid_Adige_river.csv\"\n",
    "tmp = pd.read_csv( el )\n",
    "tmp.set_index( \"ID\", inplace=True )"
   ]
  },
  {
   "cell_type": "code",
   "execution_count": null,
   "metadata": {},
   "outputs": [],
   "source": [
    "elev = []\n",
    "bias = []\n",
    "\n",
    "for i in bias_df.index:\n",
    "    # print(i)\n",
    "    elev.append( tmp.loc[int(i)]['Elev'] )\n",
    "    bias.append( bias_df.loc[str(i)].values[0] )"
   ]
  },
  {
   "cell_type": "code",
   "execution_count": null,
   "metadata": {},
   "outputs": [],
   "source": [
    "data = pd.DataFrame(elev, columns=['elevation'])\n",
    "data['bias'] = bias"
   ]
  },
  {
   "cell_type": "code",
   "execution_count": null,
   "metadata": {},
   "outputs": [],
   "source": [
    "data[data['elevation']==-999] = None\n",
    "data.dropna(inplace=True)"
   ]
  },
  {
   "cell_type": "code",
   "execution_count": null,
   "metadata": {},
   "outputs": [],
   "source": [
    "fig, axs = instantiatePlot( \"Temperature bias $[mm]$\", \"Elevation $[m]$\" )\n",
    "\n",
    "axs.scatter( data['bias'], data['elevation'], s=10 )\n",
    "\n",
    "output_file = current.config[\"output_path\"] + \"meteo/temperature/\" + basin_str + \"/yearly/meteo_\" + 'temperature_AA_yearly_elevation_bias.' + output_format\n",
    "mkNestedDir(getPathFromFilepath(output_file))\n",
    "fig.savefig( output_file, format=output_format, bbox_inches='tight', facecolor='w', dpi=50 )\n",
    "\n",
    "output_file_hd = current.config[\"output_path\"] + \"meteo/temperature/\" + basin_str + \"/yearly/meteo_\" + 'temperature_AA_yearly_elevation_bias_HD.' + output_format\n",
    "mkNestedDir(getPathFromFilepath(output_file_hd))\n",
    "fig.savefig( output_file_hd, format=output_format, bbox_inches='tight', facecolor='w', dpi=600 ) "
   ]
  },
  {
   "cell_type": "markdown",
   "metadata": {},
   "source": []
  }
 ],
 "metadata": {
  "interpreter": {
   "hash": "31f2aee4e71d21fbe5cf8b01ff0e069b9275f58929596ceb00d14d90e3e16cd6"
  },
  "kernelspec": {
   "display_name": "Python 3.8.10 64-bit",
   "name": "python3"
  },
  "language_info": {
   "codemirror_mode": {
    "name": "ipython",
    "version": 3
   },
   "file_extension": ".py",
   "mimetype": "text/x-python",
   "name": "python",
   "nbconvert_exporter": "python",
   "pygments_lexer": "ipython3",
   "version": "3.10.6"
  },
  "metadata": {
   "interpreter": {
    "hash": "63d5e5d3ef3ec13453f007c86728ea82bf14ea96ebb0a2fb9c639ae49af1dbf7"
   }
  },
  "orig_nbformat": 2
 },
 "nbformat": 4,
 "nbformat_minor": 2
}
