{
 "metadata": {
  "language_info": {
   "codemirror_mode": {
    "name": "ipython",
    "version": 3
   },
   "file_extension": ".py",
   "mimetype": "text/x-python",
   "name": "python",
   "nbconvert_exporter": "python",
   "pygments_lexer": "ipython3",
   "version": "3.9.1"
  },
  "orig_nbformat": 2,
  "kernelspec": {
   "name": "python391jvsc74a57bd063d5e5d3ef3ec13453f007c86728ea82bf14ea96ebb0a2fb9c639ae49af1dbf7",
   "display_name": "Python 3.9.1 64-bit"
  },
  "metadata": {
   "interpreter": {
    "hash": "63d5e5d3ef3ec13453f007c86728ea82bf14ea96ebb0a2fb9c639ae49af1dbf7"
   }
  }
 },
 "nbformat": 4,
 "nbformat_minor": 2,
 "cells": [
  {
   "cell_type": "code",
   "execution_count": null,
   "source": [
    "# wdir = \"C:/Users/daniele/Documents/GitHub/ftt01/phd/hydro_modeling/ichymod/C_postprocessing/scripts/\"\n",
    "wdir = \"/home/daniele/documents/github/ftt01/phd/hydro_modeling/ichymod/C_postprocessing/scripts/\""
   ],
   "outputs": [],
   "metadata": {}
  },
  {
   "cell_type": "code",
   "execution_count": null,
   "source": [
    "import sys, os\n",
    "# sys.path.insert( 0, os.path.join(os.path.dirname(os.path.dirname(os.path.abspath(''))),'lib') )\n",
    "# to link the lib in py scripts as well\n",
    "os.chdir( wdir )\n",
    "sys.path.insert( 0, os.path.join(os.path.abspath(os.getcwd()),'lib') )\n",
    "\n",
    "from lib import *\n",
    "current = DataCollector()"
   ],
   "outputs": [],
   "metadata": {}
  },
  {
   "cell_type": "code",
   "execution_count": null,
   "source": [
    "### simulation selection #############################################################################\n",
    "\n",
    "kriging_data_calibration = DataCollector()\n",
    "\n",
    "current_phase = \"calibration_best_plan\"\n",
    "current_basin = \"passirio\"\n",
    "current_type = \"kriging\"\n",
    "current_node = \"plan\"\n",
    "\n",
    "kriging_data_calibration.retrieveData(current_phase, current_basin, current_type, current_node)\n",
    "\n",
    "### end simulation selection ##########################################################################"
   ],
   "outputs": [],
   "metadata": {}
  },
  {
   "cell_type": "code",
   "execution_count": null,
   "source": [
    "### simulation selection #############################################################################\n",
    "\n",
    "kriging_11_data_calibration = DataCollector()\n",
    "\n",
    "current_phase = \"calibration_best_plan\"\n",
    "current_basin = \"passirio\"\n",
    "current_type = \"kriging_11\"\n",
    "current_node = \"plan\"\n",
    "\n",
    "kriging_11_data_calibration.retrieveData(current_phase, current_basin, current_type, current_node)\n",
    "\n",
    "### end simulation selection ##########################################################################"
   ],
   "outputs": [],
   "metadata": {}
  },
  {
   "cell_type": "code",
   "execution_count": null,
   "source": [
    "### simulation selection #############################################################################\n",
    "\n",
    "reanalysis_data_calibration = DataCollector()\n",
    "\n",
    "current_phase = \"calibration_best_plan\"\n",
    "current_basin = \"passirio\"\n",
    "current_type = \"reanalysis\"\n",
    "current_node = \"plan\"\n",
    "\n",
    "reanalysis_data_calibration.retrieveData(current_phase, current_basin, current_type, current_node)\n",
    "\n",
    "### end simulation selection ##########################################################################"
   ],
   "outputs": [],
   "metadata": {}
  },
  {
   "cell_type": "code",
   "execution_count": null,
   "source": [
    "data_kr_plan_swe_mean_calibration = kriging_data_calibration.model_snow_we_plan.resample('MS').mean()\n",
    "data_kr11_plan_swe_mean_calibration = kriging_11_data_calibration.model_snow_we_plan.resample('MS').mean()\n",
    "data_rea_plan_swe_mean_calibration = reanalysis_data_calibration.model_snow_we_plan.resample('MS').mean()\n",
    "\n",
    "data_kr11_kr_plan_swe_mean_bias = data_kr11_plan_swe_mean_calibration - data_kr_plan_swe_mean_calibration\n",
    "\n",
    "plt_conf = {}\n",
    "\n",
    "outfile = current.config[\"output_path\"] + \"model/swe/plan/monthly/\" \\\n",
    "    + \"model_swe_plan_monthly_boxplot_kr11-kr.\" + output_format\n",
    "createBoxPlot(data_kr11_kr_plan_swe_mean_bias, \"Time $[month]$\",\n",
    "              'SWE bias $[mm/month]$', outfile, output_format=output_format, scale_factor=0.5, my_dpi=50)\n",
    "\n",
    "outfile_hd = current.config[\"output_path\"] + \"model/swe/plan/monthly/\" \\\n",
    "    + \"model_swe_plan_monthly_boxplot_kr11-kr_HD.\" + output_format\n",
    "createBoxPlot(data_kr11_kr_plan_swe_mean_bias, \"Time $[month]$\",\n",
    "              'SWE bias $[mm/month]$', outfile_hd, output_format=output_format, scale_factor=0.5, my_dpi=600)"
   ],
   "outputs": [],
   "metadata": {}
  },
  {
   "cell_type": "code",
   "execution_count": null,
   "source": [
    "data_rea_kr_plan_swe_mean_bias = data_rea_plan_swe_mean_calibration - data_kr_plan_swe_mean_calibration\n",
    "\n",
    "plt_conf = {}\n",
    "\n",
    "outfile = current.config[\"output_path\"] + \"model/swe/plan/monthly/\" \\\n",
    "    + \"model_swe_plan_monthly_boxplot_rea-kr.\" + output_format\n",
    "createBoxPlot(data_rea_kr_plan_swe_mean_bias, \"Time $[month]$\",\n",
    "              'SWE bias $[mm/month]$', outfile, output_format=output_format, scale_factor=0.5, my_dpi=50)\n",
    "\n",
    "outfile_hd = current.config[\"output_path\"] + \"model/swe/plan/monthly/\" \\\n",
    "    + \"model_swe_plan_monthly_boxplot_rea-kr_HD.\" + output_format\n",
    "createBoxPlot(data_rea_kr_plan_swe_mean_bias, \"Time $[month]$\",\n",
    "              'SWE bias $[mm/month]$', outfile_hd, output_format=output_format, scale_factor=0.5, my_dpi=600)"
   ],
   "outputs": [],
   "metadata": {}
  },
  {
   "cell_type": "code",
   "execution_count": null,
   "source": [
    "data_rea_kr11_plan_swe_mean_bias = data_rea_plan_swe_mean_calibration - data_kr11_plan_swe_mean_calibration\n",
    "\n",
    "plt_conf = {}\n",
    "\n",
    "outfile = current.config[\"output_path\"] + \"model/swe/plan/monthly/\" \\\n",
    "    + \"model_swe_plan_monthly_boxplot_rea-kr11.\" + output_format\n",
    "createBoxPlot(data_rea_kr11_plan_swe_mean_bias, \"Time $[month]$\",\n",
    "              'SWE bias $[mm/month]$', outfile, output_format=output_format, scale_factor=0.5, my_dpi=50)\n",
    "\n",
    "outfile_hd = current.config[\"output_path\"] + \"model/swe/plan/monthly/\" \\\n",
    "    + \"model_swe_plan_monthly_boxplot_rea-kr11_HD.\" + output_format\n",
    "createBoxPlot(data_rea_kr11_plan_swe_mean_bias, \"Time $[month]$\",\n",
    "              'SWE bias $[mm/month]$', outfile_hd, output_format=output_format, scale_factor=0.5, my_dpi=600)"
   ],
   "outputs": [],
   "metadata": {}
  },
  {
   "cell_type": "code",
   "execution_count": null,
   "source": [
    "plots = []\n",
    "\n",
    "### rea 11x8 plot ###\n",
    "plt_conf = {}\n",
    "plt_conf[\"label\"] = 'Reanalysis 11x8'\n",
    "plt_conf[\"color\"] = '#e66101'\n",
    "plots.append((reanalysis_data_calibration.model_snow_we, plt_conf))\n",
    "\n",
    "### kriging 1x1 plot ###\n",
    "plt_conf = {}\n",
    "plt_conf[\"label\"] = 'Kriging 1x1'\n",
    "plt_conf[\"color\"] = '#8078bc'\n",
    "plots.append((kriging_data_calibration.model_snow_we, plt_conf))\n",
    "\n",
    "### kriging 11x8 plot ###\n",
    "plt_conf = {}\n",
    "plt_conf[\"label\"] = 'Kriging 11x8'\n",
    "plt_conf[\"color\"] = '#5e3c99'\n",
    "plots.append((kriging_11_data_calibration.model_snow_we, plt_conf))\n",
    "\n",
    "import matplotlib.dates as mdates\n",
    "x_major_locator=mdates.YearLocator(month=10, day=1)\n",
    "x_major_formatter=mdates.DateFormatter('%Y')\n",
    "\n",
    "outfile = current.config[\"output_path\"] + \"model/swe/plan/hourly/\" \\\n",
    "    + \"model_swe_plan_hourly_boxplot_kr_rea_kr11.\" + output_format\n",
    "createPlot(plots, \"Time $[hour]$\", 'SWE $[mm/hour]$', outfile, \\\n",
    "    x_major_locator=x_major_locator, x_major_formatter=x_major_formatter, \\\n",
    "        output_format=output_format, scale_factor=0.5, my_dpi=50)\n",
    "\n",
    "outfile = current.config[\"output_path\"] + \"model/swe/plan/hourly/\" \\\n",
    "    + \"model_swe_plan_hourly_boxplot_kr_rea_kr11_HD.\" + output_format\n",
    "createPlot(plots, \"Time $[hour]$\", 'SWE $[mm/hour]$', outfile, \\\n",
    "    x_major_locator=x_major_locator, x_major_formatter=x_major_formatter, \\\n",
    "        output_format=output_format, scale_factor=0.5, my_dpi=600)"
   ],
   "outputs": [],
   "metadata": {}
  }
 ]
}