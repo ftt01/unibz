{
 "metadata": {
  "language_info": {
   "codemirror_mode": {
    "name": "ipython",
    "version": 3
   },
   "file_extension": ".py",
   "mimetype": "text/x-python",
   "name": "python",
   "nbconvert_exporter": "python",
   "pygments_lexer": "ipython3",
   "version": "3.8.10"
  },
  "orig_nbformat": 2,
  "kernelspec": {
   "name": "python3",
   "display_name": "Python 3.8.10 64-bit"
  },
  "metadata": {
   "interpreter": {
    "hash": "63d5e5d3ef3ec13453f007c86728ea82bf14ea96ebb0a2fb9c639ae49af1dbf7"
   }
  },
  "interpreter": {
   "hash": "31f2aee4e71d21fbe5cf8b01ff0e069b9275f58929596ceb00d14d90e3e16cd6"
  }
 },
 "nbformat": 4,
 "nbformat_minor": 2,
 "cells": [
  {
   "cell_type": "code",
   "execution_count": null,
   "source": [
    "import glob\n",
    "import pandas as pd\n",
    "import datetime as dt"
   ],
   "outputs": [],
   "metadata": {}
  },
  {
   "cell_type": "code",
   "execution_count": null,
   "source": [
    "t0 = dt.datetime(2010,1,1,1,0) \n",
    "t1 = dt.datetime(2019,12,31,23,0) "
   ],
   "outputs": [],
   "metadata": {}
  },
  {
   "cell_type": "code",
   "execution_count": null,
   "source": [
    "# Reanalysis extracted on Adige (closed to Bronzolo) catchment output data \n",
    "path_rea ='/media/windows/data/GFS_models/ECMWF/ERA5Land-reanalysis/derivatives/'\n",
    "meteo_var_r = ['t2m', 'ptot']"
   ],
   "outputs": [],
   "metadata": {}
  },
  {
   "cell_type": "code",
   "execution_count": null,
   "source": [
    "# Kriging resampling output data \n",
    "path_kr = '/media/windows/projects/era5_bias/OLD/comparison/scripts/kriging/AltoAdige/'\n",
    "meteo_var = ['TMEAN', 'P']"
   ],
   "outputs": [],
   "metadata": {}
  },
  {
   "cell_type": "code",
   "execution_count": null,
   "source": [
    "for var in meteo_var:\n",
    "    for var_r in meteo_var_r:\n",
    "\n",
    "        df_k=pd.DataFrame() # dataframe kriging with all data in the directory\n",
    "        metadata_k=pd.DataFrame() # metadata of the df files\n",
    "\n",
    "        df=pd.DataFrame() # dataframe reanalysis with all data in the directory\n",
    "        metadata=pd.DataFrame() # metadata of the df files\n",
    "\n",
    "        ### assemblo la matrice per fare le medie spaziali e temporali - Reanalysis\n",
    "        cells_list = []\n",
    "\n",
    "        if var_r == 't2m':\n",
    "            f = path_rea  + var_r + '/'\n",
    "        if var_r == 'ptot':\n",
    "            f = path_rea  + var_r + '/hourly_ts/'\n",
    "            \n",
    "        file_tot = glob.glob( f + '*.csv')\n",
    "        for file in file_tot:\n",
    "\n",
    "            data_tot = pd.read_csv(file,index_col=0,parse_dates=True,skiprows=4,names=[os.path.basename(file)[:-4]])\n",
    "            data_tot_metadata = pd.read_csv(file,index_col=0,parse_dates=True,names=[os.path.basename(file)[:-4]])\n",
    "\n",
    "            if data_tot_metadata.loc['z'][0] != -999:\n",
    "                cells_list.append(os.path.basename(file)[:-4])\n",
    "                #print(file)\n",
    "                \n",
    "                data_tot=data_tot[t0:t1]\n",
    "                data_tot_metadata=data_tot_metadata[0:4]\n",
    "                data_tot[data_tot == -999] = None\n",
    "                \n",
    "                df=pd.concat([df,data_tot],axis=1)\n",
    "                df.index.name = 'datetime'\n",
    "                metadata=pd.concat([metadata,data_tot_metadata],axis=1)\n",
    "\n",
    "        df.index.name = 'datetime'\n",
    "        \n",
    "        if var_r == 't2m':\n",
    "            output = '/media/windows/projects/bias_correction/data/reanalysis_temperature8.csv'\n",
    "            print(\"SAVING..\" + output)\n",
    "        if var_r == 'ptot':\n",
    "            output = '/media/windows/projects/bias_correction/data/reanalysis_precipitation8.csv'\n",
    "            print(\"SAVING..\" + output)\n",
    "\n",
    "        df.to_csv(output)\n",
    "\n",
    "        ### assemblo la matrice per fare le medie spaziali e temporali - kriging\n",
    "        f = path_kr + var + '/'\n",
    "        file_tot = glob.glob( f + '*.csv')\n",
    "        for file in file_tot:\n",
    "\n",
    "            if os.path.basename(file)[:-4] in cells_list:\n",
    "                #print(file)\n",
    "                data_tot = pd.read_csv( file, index_col=0, parse_dates=True, skiprows=4, names=[os.path.basename(file)[:-4]] )\n",
    "                data_tot_metadata = pd.read_csv( file, index_col=0, parse_dates=True, names=[os.path.basename(file)[:-4]] ) \n",
    "                \n",
    "                data_tot = data_tot[t0:t1]\n",
    "                data_tot_metadata = data_tot_metadata[0:3]\n",
    "\n",
    "                df_k=pd.concat([df_k,data_tot],axis=1)\n",
    "                metadata_k=pd.concat([metadata_k,data_tot_metadata],axis=1)\n",
    "\n",
    "        df_k.index.name = 'datetime'\n",
    "        \n",
    "        if var == 'TMEAN':\n",
    "            output = '/media/windows/projects/bias_correction/data/kriging_temperature8.csv'\n",
    "            print(\"SAVING..\" + output)\n",
    "        if var == 'P':\n",
    "            output = '/media/windows/projects/bias_correction/data/kriging_precipitation8.csv'\n",
    "            print(\"SAVING..\" + output)\n",
    "        \n",
    "        df_k.to_csv(output)"
   ],
   "outputs": [],
   "metadata": {
    "tags": []
   }
  },
  {
   "cell_type": "code",
   "execution_count": null,
   "source": [
    "data_kr = pd.read_csv( '/media/windows/projects/bias_correction/data/kriging_precipitation8.csv', index_col=0, parse_dates=True )"
   ],
   "outputs": [],
   "metadata": {}
  },
  {
   "cell_type": "code",
   "execution_count": null,
   "source": [
    "df_k.describe()"
   ],
   "outputs": [],
   "metadata": {}
  },
  {
   "cell_type": "code",
   "execution_count": null,
   "source": [
    "data_rea = pd.read_csv( '/media/windows/projects/bias_correction/data/reanalysis_temperature8.csv', index_col=0, parse_dates=True )"
   ],
   "outputs": [],
   "metadata": {}
  },
  {
   "cell_type": "code",
   "execution_count": null,
   "source": [
    "df.describe()"
   ],
   "outputs": [],
   "metadata": {}
  },
  {
   "cell_type": "code",
   "execution_count": null,
   "source": [],
   "outputs": [],
   "metadata": {}
  }
 ]
}