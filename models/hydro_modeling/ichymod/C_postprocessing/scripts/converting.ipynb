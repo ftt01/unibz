{
 "cells": [
  {
   "cell_type": "code",
   "execution_count": null,
   "source": [
    "!rm -r ./bin/*"
   ],
   "outputs": [],
   "metadata": {}
  },
  {
   "cell_type": "code",
   "execution_count": null,
   "source": [
    "!jupyter nbconvert --output-dir='./bin/precipitation/' --to script ./notebook/precipitation/meteo_AA_precipitation_cells.ipynb\n",
    "!jupyter nbconvert --output-dir='./bin/temperature/' --to script ./notebook/temperature/meteo_AA_temperature_cells.ipynb\n",
    "\n",
    "!jupyter nbconvert --output-dir='./bin/precipitation/' --to script ./notebook/precipitation/meteo_AA_precipitation_cells_elevation.ipynb\n",
    "!jupyter nbconvert --output-dir='./bin/temperature/' --to script ./notebook/temperature/meteo_AA_temperature_cells_elevation.ipynb"
   ],
   "outputs": [],
   "metadata": {}
  },
  {
   "cell_type": "code",
   "execution_count": null,
   "source": [
    "!jupyter nbconvert --output-dir='./bin/precipitation/' --to script ./notebook/precipitation/meteo_passirio_precipitation_cells.ipynb\n",
    "!jupyter nbconvert --output-dir='./bin/precipitation/' --to script ./notebook/precipitation/model_passirio_precipitation.ipynb"
   ],
   "outputs": [],
   "metadata": {}
  },
  {
   "cell_type": "code",
   "execution_count": null,
   "source": [
    "!jupyter nbconvert --output-dir='./bin/temperature/' --to script ./notebook/temperature/meteo_passirio_temperature_cells.ipynb\n",
    "!jupyter nbconvert --output-dir='./bin/temperature/' --to script ./notebook/temperature/model_passirio_temperature.ipynb"
   ],
   "outputs": [],
   "metadata": {}
  },
  {
   "cell_type": "code",
   "execution_count": null,
   "source": [
    "!jupyter nbconvert --output-dir='./bin/precipitation/' --to script ./notebook/precipitation/meteo_plan_precipitation_cells.ipynb\n",
    "!jupyter nbconvert --output-dir='./bin/precipitation/' --to script ./notebook/precipitation/model_plan_precipitation.ipynb"
   ],
   "outputs": [],
   "metadata": {}
  },
  {
   "cell_type": "code",
   "execution_count": null,
   "source": [
    "!jupyter nbconvert --output-dir='./bin/temperature/' --to script ./notebook/temperature/meteo_plan_temperature_cells.ipynb"
   ],
   "outputs": [],
   "metadata": {}
  },
  {
   "cell_type": "code",
   "execution_count": null,
   "source": [
    "!jupyter nbconvert --output-dir='./bin/streamflow/' --to script ./notebook/streamflow/model_passirio_merano_boxplot_streamflow_bias_kr11-kr.ipynb\n",
    "!jupyter nbconvert --output-dir='./bin/streamflow/' --to script ./notebook/streamflow/model_passirio_merano_boxplot_streamflow_bias_rea-kr.ipynb\n",
    "!jupyter nbconvert --output-dir='./bin/streamflow/' --to script ./notebook/streamflow/model_passirio_merano_boxplot_streamflow_bias_rea-kr11.ipynb\n",
    "!jupyter nbconvert --output-dir='./bin/streamflow/' --to script ./notebook/streamflow/model_passirio_merano_ECDF_streamflow_kr_kr11_rea_obs.ipynb\n",
    "!jupyter nbconvert --output-dir='./bin/streamflow/' --to script ./notebook/streamflow/model_passirio_merano_ECDF_streamflow_kr_kr11_rea_obs_insected.ipynb"
   ],
   "outputs": [],
   "metadata": {}
  },
  {
   "cell_type": "code",
   "execution_count": null,
   "source": [
    "!jupyter nbconvert --output-dir='./bin/streamflow/' --to script ./notebook/streamflow/model_passirio_plan_ECDF_streamflow_kr_kr11_rea_obs.ipynb\n",
    "!jupyter nbconvert --output-dir='./bin/streamflow/' --to script ./notebook/streamflow/model_passirio_plan_ECDF_streamflow_kr_kr11_rea_obs_insected.ipynb\n",
    "!jupyter nbconvert --output-dir='./bin/streamflow/' --to script ./notebook/streamflow/model_passirio_plan_boxplot_streamflow_bias_rea-kr11.ipynb"
   ],
   "outputs": [],
   "metadata": {}
  },
  {
   "cell_type": "code",
   "execution_count": null,
   "source": [
    "!jupyter nbconvert --output-dir='./bin/streamflow/' --to script ./notebook/streamflow/model_passirio_merano_merano_hydrograph_kr_kr11_rea_obs.ipynb\n",
    "!jupyter nbconvert --output-dir='./bin/streamflow/' --to script ./notebook/streamflow/model_passirio_merano_merano_hydrograph_kr_kr11_rea_obs_insection.ipynb\n",
    "!jupyter nbconvert --output-dir='./bin/streamflow/' --to script ./notebook/streamflow/model_passirio_merano_merano_hydrograph_kr_obs.ipynb\n",
    "!jupyter nbconvert --output-dir='./bin/streamflow/' --to script ./notebook/streamflow/model_passirio_merano_merano_hydrograph_kr11_obs.ipynb\n",
    "!jupyter nbconvert --output-dir='./bin/streamflow/' --to script ./notebook/streamflow/model_passirio_merano_merano_hydrograph_rea_obs.ipynb"
   ],
   "outputs": [],
   "metadata": {}
  },
  {
   "cell_type": "code",
   "execution_count": null,
   "source": [
    "!jupyter nbconvert --output-dir='./bin/streamflow/' --to script ./notebook/streamflow/model_passirio_merano_plan_hydrograph_kr_obs.ipynb\n",
    "!jupyter nbconvert --output-dir='./bin/streamflow/' --to script ./notebook/streamflow/model_passirio_merano_plan_hydrograph_kr11_obs.ipynb\n",
    "!jupyter nbconvert --output-dir='./bin/streamflow/' --to script ./notebook/streamflow/model_passirio_merano_plan_hydrograph_rea_obs.ipynb "
   ],
   "outputs": [],
   "metadata": {}
  },
  {
   "cell_type": "code",
   "execution_count": null,
   "source": [
    "!jupyter nbconvert --output-dir='./bin/streamflow/' --to script ./notebook/streamflow/model_passirio_plan_plan_hydrograph_kr_kr11_rea_obs.ipynb\n",
    "!jupyter nbconvert --output-dir='./bin/streamflow/' --to script ./notebook/streamflow/model_passirio_plan_plan_hydrograph_kr_kr11_rea_obs_insection.ipynb\n",
    "!jupyter nbconvert --output-dir='./bin/streamflow/' --to script ./notebook/streamflow/model_passirio_plan_plan_hydrograph_kr_obs.ipynb\n",
    "!jupyter nbconvert --output-dir='./bin/streamflow/' --to script ./notebook/streamflow/model_passirio_plan_plan_hydrograph_kr11_obs.ipynb\n",
    "!jupyter nbconvert --output-dir='./bin/streamflow/' --to script ./notebook/streamflow/model_passirio_plan_plan_hydrograph_rea_obs.ipynb"
   ],
   "outputs": [],
   "metadata": {}
  },
  {
   "cell_type": "code",
   "execution_count": null,
   "source": [
    "!jupyter nbconvert --output-dir='./bin/snow/' --to script ./notebook/snow/model_passirio_sca.ipynb\n",
    "!jupyter nbconvert --output-dir='./bin/snow/' --to script ./notebook/snow/model_passirio_swe.ipynb\n",
    "!jupyter nbconvert --output-dir='./bin/snow/' --to script ./notebook/snow/model_plan_swe.ipynb\n",
    "!jupyter nbconvert --output-dir='./bin/snow/' --to script ./notebook/snow/model_swe_local.ipynb"
   ],
   "outputs": [],
   "metadata": {}
  }
 ],
 "metadata": {
  "orig_nbformat": 4,
  "kernelspec": {
   "name": "python3",
   "display_name": "Python 3.8.10 64-bit"
  },
  "language_info": {
   "name": "python",
   "version": "3.8.10",
   "mimetype": "text/x-python",
   "codemirror_mode": {
    "name": "ipython",
    "version": 3
   },
   "pygments_lexer": "ipython3",
   "nbconvert_exporter": "python",
   "file_extension": ".py"
  },
  "interpreter": {
   "hash": "31f2aee4e71d21fbe5cf8b01ff0e069b9275f58929596ceb00d14d90e3e16cd6"
  }
 },
 "nbformat": 4,
 "nbformat_minor": 2
}