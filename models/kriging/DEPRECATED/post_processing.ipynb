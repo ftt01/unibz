{
 "cells": [
  {
   "cell_type": "code",
   "execution_count": null,
   "source": [
    "import glob\n",
    "import json\n",
    "import datetime as dt\n",
    "import pandas as pd\n",
    "import os"
   ],
   "outputs": [],
   "metadata": {}
  },
  {
   "cell_type": "code",
   "execution_count": null,
   "source": [
    "#### SETUP ####\n",
    "wdir = \"/media/windows/projects/kriging/Scripts/unibz/test_python/\"\n",
    "config_path = wdir + \"etc/config/\"\n",
    "input_path = wdir + \"input/\""
   ],
   "outputs": [],
   "metadata": {}
  },
  {
   "cell_type": "code",
   "execution_count": null,
   "source": [
    "inputs = glob.glob( input_path + \"*.json\" )"
   ],
   "outputs": [],
   "metadata": {}
  },
  {
   "cell_type": "code",
   "execution_count": null,
   "source": [
    "for input in inputs:\n",
    "    # print(input)\n",
    "\n",
    "    setup_file = open(input)\n",
    "    setup_sim = json.load(setup_file)\n",
    "    variable = setup_sim[\"variable\"]\n",
    "\n",
    "    # coordinates = coordinates.format(\n",
    "    #     east=east, north=north, elevation=elevation)\n",
    "    # config_file = open(config_path + \"temperature.json\")\n",
    "    # file = open(pathout+\"subcells.in\", \"w+\")\n",
    "    # [file.writelines(el + \"\\n\") for el in [header, cell_metadata, coordinates]]\n",
    "\n",
    "    if variable == \"temperature\":\n",
    "        config_file = open(config_path + \"temperature.json\")\n",
    "    elif variable == \"precipitation\":\n",
    "        config_file = open(config_path + \"precipitation.json\")\n",
    "\n",
    "    params = json.load(config_file)\n",
    "\n",
    "    simulation_type = setup_sim[\"simulation_type\"]\n",
    "\n",
    "    basin = setup_sim[\"basin\"]\n",
    "    secs_timestep = setup_sim[\"secs_timestep\"]\n",
    "    number_of_stations = setup_sim[\"number_of_stations\"]\n",
    "    kriging_type = setup_sim[\"kriging_type\"]\n",
    "    kriging_model = params[\"kriging_model\"]\n",
    "    kriging_correction = setup_sim[\"kriging_correction\"]\n",
    "\n",
    "    number_of_cells = len(setup_sim[\"cells\"])\n",
    "    # print(\"Number of points: \" + str(number_of_cells))\n",
    "\n",
    "    start_datetime_str = setup_sim[\"start_datetime\"]\n",
    "    start_datetime = dt.datetime.strptime(\n",
    "        start_datetime_str, '%Y-%m-%d %H:%M:%S')\n",
    "    end_datetime_str = setup_sim[\"end_datetime\"]\n",
    "    end_datetime = dt.datetime.strptime(end_datetime_str, '%Y-%m-%d %H:%M:%S')\n",
    "    dates = pd.date_range(start_datetime, end_datetime, freq='h')\n",
    "    steps = len(dates)\n",
    "\n",
    "    weather_data_path = wdir + setup_sim[\"weather_data_path\"]\n",
    "\n",
    "    path_kriging_inputs = wdir + basin + \"/input/\"\n",
    "    path_kriging_outputs = wdir + basin + \"/output/\"\n",
    "\n",
    "    # OUTPUT DIRECTORY\n",
    "    output_dir = wdir + setup_sim['output_path'] + variable + \"/\" + simulation_type + \\\n",
    "        \"/\" + kriging_type + \"/\" + kriging_correction + \"/\"\n",
    "    output_path_stats = output_dir + \"stats/\"\n",
    "\n",
    "    outputs = glob.glob(output_path_stats + \"*.txt\")\n",
    "\n",
    "    # create stats\n",
    "    sum_hourly_rmse = 0.0\n",
    "    sum_daily_rmse = 0.0\n",
    "    sum_monthly_rmse = 0.0\n",
    "\n",
    "    sum_hourly_mae = 0.0\n",
    "    sum_daily_mae = 0.0\n",
    "    sum_monthly_mae = 0.0\n",
    "\n",
    "    sum_hourly_r2 = 0.0\n",
    "    sum_daily_r2 = 0.0\n",
    "    sum_monthly_r2 = 0.0\n",
    "\n",
    "    for out in outputs:\n",
    "\n",
    "        # print(os.path.basename(out).split(\"_\"))\n",
    "\n",
    "        out_stats = pd.read_csv(out, index_col=0)\n",
    "        sum_hourly_rmse = sum_hourly_rmse + \\\n",
    "            float(out_stats.loc[\"hourly\"][\"RMSE\"])\n",
    "        sum_daily_rmse = sum_daily_rmse + float(out_stats.loc[\"daily\"][\"RMSE\"])\n",
    "        sum_monthly_rmse = sum_monthly_rmse + \\\n",
    "            float(out_stats.loc[\"monthly\"][\"RMSE\"])\n",
    "\n",
    "        sum_hourly_mae = sum_hourly_mae + float(out_stats.loc[\"hourly\"][\"MAE\"])\n",
    "        sum_daily_mae = sum_daily_mae + float(out_stats.loc[\"daily\"][\"MAE\"])\n",
    "        sum_monthly_mae = sum_monthly_mae + \\\n",
    "            float(out_stats.loc[\"monthly\"][\"MAE\"])\n",
    "\n",
    "        sum_hourly_r2 = sum_hourly_r2 + float(out_stats.loc[\"hourly\"][\"R2\"])\n",
    "        sum_daily_r2 = sum_daily_r2 + float(out_stats.loc[\"daily\"][\"R2\"])\n",
    "        sum_monthly_r2 = sum_monthly_r2 + float(out_stats.loc[\"monthly\"][\"R2\"])\n",
    "\n",
    "    rmse_hourly_mean = sum_hourly_rmse / len(outputs)\n",
    "    rmse_daily_mean = sum_daily_rmse / len(outputs)\n",
    "    rmse_monthly_mean = sum_monthly_rmse / len(outputs)\n",
    "\n",
    "    mae_hourly_mean = sum_hourly_mae / len(outputs)\n",
    "    mae_daily_mean = sum_daily_mae / len(outputs)\n",
    "    mae_monthly_mean = sum_monthly_mae / len(outputs)\n",
    "\n",
    "    r2_hourly_mean = sum_hourly_r2 / len(outputs)\n",
    "    r2_daily_mean = sum_daily_r2 / len(outputs)\n",
    "    r2_monthly_mean = sum_monthly_r2 / len(outputs)\n",
    "\n",
    "    data = [[\"hourly\", rmse_hourly_mean, mae_hourly_mean, r2_hourly_mean],\n",
    "            [\"daily\", rmse_daily_mean, mae_daily_mean, r2_daily_mean],\n",
    "            [\"monthly\", rmse_monthly_mean, mae_monthly_mean, r2_monthly_mean]]\n",
    "\n",
    "    output_stats = pd.DataFrame(data, columns=[\"timestep\", \"RMSE\", \"MAE\", \"R2\"])\n",
    "    output_stats.set_index(\"timestep\", inplace=True)\n",
    "\n",
    "    output_stats.to_csv( output_path_stats + \"00_statistics_mean.txt\" )"
   ],
   "outputs": [],
   "metadata": {}
  },
  {
   "cell_type": "code",
   "execution_count": null,
   "source": [],
   "outputs": [],
   "metadata": {}
  },
  {
   "cell_type": "code",
   "execution_count": null,
   "source": [
    "# data_stats = pd.DataFrame( columns=['elevation', 'error'] )"
   ],
   "outputs": [],
   "metadata": {}
  },
  {
   "cell_type": "code",
   "execution_count": null,
   "source": [
    "# data_stats['elevation'] = elevation_array\n",
    "# data_stats['error'] = error_array"
   ],
   "outputs": [],
   "metadata": {}
  },
  {
   "cell_type": "code",
   "execution_count": null,
   "source": [
    "# data_stats"
   ],
   "outputs": [],
   "metadata": {}
  },
  {
   "cell_type": "code",
   "execution_count": null,
   "source": [],
   "outputs": [],
   "metadata": {}
  }
 ],
 "metadata": {
  "orig_nbformat": 4,
  "language_info": {
   "name": "python",
   "version": "3.8.10",
   "mimetype": "text/x-python",
   "codemirror_mode": {
    "name": "ipython",
    "version": 3
   },
   "pygments_lexer": "ipython3",
   "nbconvert_exporter": "python",
   "file_extension": ".py"
  },
  "kernelspec": {
   "name": "python3",
   "display_name": "Python 3.8.10 64-bit"
  },
  "interpreter": {
   "hash": "31f2aee4e71d21fbe5cf8b01ff0e069b9275f58929596ceb00d14d90e3e16cd6"
  }
 },
 "nbformat": 4,
 "nbformat_minor": 2
}