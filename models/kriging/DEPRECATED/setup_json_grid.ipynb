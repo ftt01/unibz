{
 "cells": [
  {
   "cell_type": "code",
   "execution_count": null,
   "source": [
    "## IMPORT\n",
    "import pandas as pd\n",
    "import glob\n",
    "import os\n",
    "import json"
   ],
   "outputs": [],
   "metadata": {}
  },
  {
   "cell_type": "code",
   "execution_count": null,
   "source": [
    "#### SETUP ####\n",
    "wdir = \"/media/windows/projects/kriging/Scripts/unibz/test_python/\""
   ],
   "outputs": [],
   "metadata": {}
  },
  {
   "cell_type": "code",
   "execution_count": null,
   "source": [
    "### Open metadata file\n",
    "grid_metadata_file = wdir + \"data/grid_1x1km_AA.csv\"\n",
    "grid_metadata = pd.read_csv( grid_metadata_file )"
   ],
   "outputs": [],
   "metadata": {}
  },
  {
   "cell_type": "code",
   "execution_count": null,
   "source": [
    "grid_metadata = grid_metadata[ grid_metadata['field_4'] != -999.0 ]"
   ],
   "outputs": [],
   "metadata": {}
  },
  {
   "cell_type": "code",
   "execution_count": null,
   "source": [
    "### Read stations with data\n",
    "st_list = []\n",
    "\n",
    "for i in range(len(grid_metadata)):\n",
    "\n",
    "    st_props = {}\n",
    "\n",
    "    station_id = int( grid_metadata[\"field_2\"].iloc[i] )\n",
    "    st_props[\"station_id\"] = str(grid_metadata[\"field_1\"].iloc[i])\n",
    "    st_props[\"station_name\"] = str(grid_metadata[\"field_1\"].iloc[i])\n",
    "    st_props[\"east\"] = str(grid_metadata[\"field_2\"].iloc[i])\n",
    "    st_props[\"north\"] = str(grid_metadata[\"field_3\"].iloc[i])\n",
    "    st_props[\"elevation\"] = str(grid_metadata[\"field_4\"].iloc[i])\n",
    "\n",
    "    st_list.append( st_props )\n",
    "\n",
    "with open(wdir + \"data/grid_1x1km_AA.json\", \"w\") as data_file:\n",
    "    json.dump(st_list, data_file, indent=4, sort_keys=True)"
   ],
   "outputs": [],
   "metadata": {}
  },
  {
   "cell_type": "code",
   "execution_count": null,
   "source": [
    "len(grid_metadata)"
   ],
   "outputs": [],
   "metadata": {}
  },
  {
   "cell_type": "code",
   "execution_count": null,
   "source": [],
   "outputs": [],
   "metadata": {}
  }
 ],
 "metadata": {
  "orig_nbformat": 4,
  "language_info": {
   "name": "python",
   "version": "3.8.10",
   "mimetype": "text/x-python",
   "codemirror_mode": {
    "name": "ipython",
    "version": 3
   },
   "pygments_lexer": "ipython3",
   "nbconvert_exporter": "python",
   "file_extension": ".py"
  },
  "kernelspec": {
   "name": "python3",
   "display_name": "Python 3.8.10 64-bit"
  },
  "interpreter": {
   "hash": "31f2aee4e71d21fbe5cf8b01ff0e069b9275f58929596ceb00d14d90e3e16cd6"
  }
 },
 "nbformat": 4,
 "nbformat_minor": 2
}