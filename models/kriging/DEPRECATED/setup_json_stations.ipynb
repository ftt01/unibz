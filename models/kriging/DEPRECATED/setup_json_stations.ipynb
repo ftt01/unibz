{
 "cells": [
  {
   "cell_type": "code",
   "execution_count": null,
   "source": [
    "## IMPORT\n",
    "import pandas as pd\n",
    "import glob\n",
    "import os\n",
    "import json"
   ],
   "outputs": [],
   "metadata": {}
  },
  {
   "cell_type": "code",
   "execution_count": null,
   "source": [
    "#### SETUP ####\n",
    "wdir = \"/media/windows/projects/kriging/Scripts/unibz/test_python/\"\n",
    "variables = [\"precipitation\",\"temperature\"]"
   ],
   "outputs": [],
   "metadata": {}
  },
  {
   "cell_type": "code",
   "execution_count": null,
   "source": [
    "### Open metadata file\n",
    "st_metadata_file = wdir + \"data/AA_weather_data/AA_stations_metadata.csv\"\n",
    "st_metadata = pd.read_csv( st_metadata_file )\n",
    "st_metadata.set_index(\"ID\", inplace=True)\n",
    "\n",
    "### Read stations with data\n",
    "for variable in variables:\n",
    "    st_files = glob.glob( wdir + \"data/AA_weather_data/\" + variable + \"/*\")\n",
    "\n",
    "    st_list = []\n",
    "\n",
    "    for f in st_files:\n",
    "        st_props = {}\n",
    "\n",
    "        station_id = int( os.path.basename(f)[:-4] )\n",
    "        st_props[\"station_id\"] = str(station_id)\n",
    "        st_props[\"station_name\"] = str(st_metadata.loc[station_id]['Station']).lower().replace(\" \", \"_\").replace(\"-\", \"_\").replace(\"(\",\"_\").replace(\")\", \"_\")\n",
    "        st_props[\"east\"] = str(st_metadata.loc[station_id]['East'])\n",
    "        st_props[\"north\"] = str(st_metadata.loc[station_id]['North'])\n",
    "        st_props[\"elevation\"] = str(st_metadata.loc[station_id]['Elevation'])\n",
    "\n",
    "        st_list.append( st_props )\n",
    "\n",
    "    with open(wdir + \"data/\" + variable + \".json\", \"w\") as data_file:\n",
    "        json.dump(st_list, data_file, indent=4, sort_keys=True)"
   ],
   "outputs": [],
   "metadata": {}
  }
 ],
 "metadata": {
  "orig_nbformat": 4,
  "language_info": {
   "name": "python",
   "version": "3.8.10",
   "mimetype": "text/x-python",
   "codemirror_mode": {
    "name": "ipython",
    "version": 3
   },
   "pygments_lexer": "ipython3",
   "nbconvert_exporter": "python",
   "file_extension": ".py"
  },
  "kernelspec": {
   "name": "python3",
   "display_name": "Python 3.8.10 64-bit"
  },
  "interpreter": {
   "hash": "31f2aee4e71d21fbe5cf8b01ff0e069b9275f58929596ceb00d14d90e3e16cd6"
  }
 },
 "nbformat": 4,
 "nbformat_minor": 2
}