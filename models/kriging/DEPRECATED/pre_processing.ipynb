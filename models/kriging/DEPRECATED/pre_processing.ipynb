{
 "cells": [
  {
   "cell_type": "code",
   "execution_count": null,
   "metadata": {},
   "outputs": [],
   "source": [
    "import glob"
   ]
  },
  {
   "cell_type": "code",
   "execution_count": null,
   "metadata": {},
   "outputs": [],
   "source": [
    "import sys\n",
    "# to link the lib in py scripts as well\n",
    "lib_dir = \"/home/daniele/documents/github/ftt01/phd/share/lib/\"\n",
    "\n",
    "os.chdir( lib_dir )\n",
    "sys.path.insert( 0, os.path.join(os.path.abspath(os.getcwd()),'lib') )\n",
    "\n",
    "from lib import *"
   ]
  },
  {
   "cell_type": "code",
   "execution_count": null,
   "metadata": {},
   "outputs": [],
   "source": [
    "# def evaluate_wet_days( df_precipitation_hourly ):\n",
    "    \n",
    "    "
   ]
  },
  {
   "cell_type": "code",
   "execution_count": null,
   "metadata": {},
   "outputs": [],
   "source": [
    "#### SETUP ####\n",
    "wdir = \"/media/windows/projects/era5_bias/kriging/\"\n",
    "config_path = wdir + \"etc/config/\"\n",
    "input_path = wdir + \"input/\"\n",
    "\n",
    "start_date_str = \"2010-01-01T00:00:00\"\n",
    "end_date_str = \"2019-12-31T23:00:00\"\n",
    "start_date = dt.datetime.strptime( start_date_str, '%Y-%m-%dT%H:%M:%S' )\n",
    "end_date = dt.datetime.strptime( end_date_str, '%Y-%m-%dT%H:%M:%S' )\n",
    "\n",
    "tot_hours = (end_date-start_date).days*24\n",
    "dates = np.arange(start_date, end_date + dt.timedelta(hours=1), dt.timedelta(hours=1)).astype(dt.datetime)"
   ]
  },
  {
   "cell_type": "code",
   "execution_count": null,
   "metadata": {},
   "outputs": [],
   "source": [
    "# weather_data_path = wdir +  \"data/AA_weather_data/precipitation/\"\n",
    "\n",
    "# stations = glob.glob( weather_data_path + \"*.txt\" )\n",
    "\n",
    "# coverage_array = []\n",
    "\n",
    "# df_elements = pd.DataFrame(index=dates, columns=['values'])\n",
    "\n",
    "# for station in stations:\n",
    "\n",
    "#     # Reading data\n",
    "#     data = pd.read_csv(station, skiprows=4, index_col=0,\n",
    "#                        parse_dates=True, names=['values'])\n",
    "    \n",
    "#     data[ data['values'] == -999.0 ] = np.nan\n",
    "#     data = data[ start_date:end_date ]\n",
    "\n",
    "#     coverage_array.append( len(data.dropna()) / tot_hours )\n",
    "\n",
    "#     for date in dates:\n",
    "#         if data['values'].isna()[date] == False:\n",
    "#             if np.isnan(df_elements['values'].loc[date]):\n",
    "#                 df_elements['values'].loc[date] = 1\n",
    "#             else:\n",
    "#                 df_elements['values'].loc[date] = df_elements['values'].loc[date] + 1\n",
    "\n",
    "# df_elements.to_csv( wdir + \"output/\" + \"precipitation_station_consistency.csv\" )\n",
    "# coverage_array = np.array( coverage_array )\n",
    "# coverage_array.mean()"
   ]
  },
  {
   "cell_type": "code",
   "execution_count": null,
   "metadata": {},
   "outputs": [],
   "source": [
    "# weather_data_path = wdir +  \"data/AA_weather_data/temperature/\"\n",
    "\n",
    "# stations = glob.glob( weather_data_path + \"*.txt\" )\n",
    "\n",
    "# coverage_array = []\n",
    "\n",
    "# df_elements = pd.DataFrame(index=dates, columns=['values'])\n",
    "\n",
    "# for station in stations:\n",
    "\n",
    "#     # Reading data\n",
    "#     data = pd.read_csv(station, skiprows=4, index_col=0,\n",
    "#                        parse_dates=True, names=['values'])\n",
    "    \n",
    "#     data[ data['values'] == -999.0 ] = np.nan\n",
    "#     data = data[ start_date:end_date ]\n",
    "\n",
    "#     coverage_array.append( len(data.dropna()) / tot_hours )\n",
    "\n",
    "#     for date in dates:\n",
    "#         if data['values'].isna()[date] == False:\n",
    "#             if np.isnan(df_elements['values'].loc[date]):\n",
    "#                 df_elements['values'].loc[date] = 1\n",
    "#             else:\n",
    "#                 df_elements['values'].loc[date] = df_elements['values'].loc[date] + 1\n",
    "\n",
    "# df_elements.to_csv( wdir + \"output/\" + \"temperature_station_consistency.csv\" )\n",
    "# coverage_array = np.array( coverage_array )\n",
    "# coverage_array.mean()"
   ]
  },
  {
   "cell_type": "code",
   "execution_count": null,
   "metadata": {},
   "outputs": [],
   "source": [
    "df_precipitation_elements = pd.read_csv(wdir + \"output/\" + \"precipitation_station_consistency.csv\", parse_dates=True, skiprows=1, names=['values'])"
   ]
  },
  {
   "cell_type": "code",
   "execution_count": null,
   "metadata": {},
   "outputs": [],
   "source": [
    "df_temperature_elements = pd.read_csv(wdir + \"output/\" + \"temperature_station_consistency.csv\", parse_dates=True, skiprows=1, names=['values'])"
   ]
  },
  {
   "cell_type": "code",
   "execution_count": null,
   "metadata": {},
   "outputs": [],
   "source": [
    "df_precipitation_elements_yearly = df_precipitation_elements.resample('Y').mean()\n",
    "df_precipitation_elements_yearly.index = [int(i.year) for i in df_precipitation_elements_yearly.index]\n",
    "\n",
    "df_temperature_elements_yearly = df_temperature_elements.resample('Y').mean()\n",
    "df_temperature_elements_yearly.index = [int(i.year) for i in df_temperature_elements_yearly.index]\n",
    "\n",
    "plots = []\n",
    "\n",
    "### precipitation plot ###\n",
    "plt_conf = {}\n",
    "plt_conf[\"label\"] = 'Precipitation stations'\n",
    "plt_conf[\"color\"] = '#fdb863'\n",
    "plots.append((df_precipitation_elements_yearly, plt_conf))\n",
    "\n",
    "### temperature plot ###\n",
    "plt_conf = {}\n",
    "plt_conf[\"label\"] = 'Temperature stations'\n",
    "plt_conf[\"color\"] = '#e66101'\n",
    "plots.append((df_temperature_elements_yearly, plt_conf))\n",
    "\n",
    "outfile_hd = wdir + \"output/\" + \"station_consistency_HD.\" + output_format\n",
    "# createPlot(plots, \"Years\", \"Number of stations\", outfile_hd, xticks=df_precipitation_elements_yearly.index, my_dpi=600, height=80)\n",
    "createPlot(plots, \"Years\", \"Number of stations\", outfile_hd, scale_factor=0.5, my_dpi=600, height=80)\n",
    "\n",
    "outfile = wdir + \"output/\" + \"station_consistency.\" + output_format\n",
    "# createPlot(plots, \"Years\", \"Number of stations\", outfile, xticks=df_precipitation_elements_yearly.index, my_dpi=150, height=80)\n",
    "createPlot(plots, \"Years\", \"Number of stations\", outfile, scale_factor=0.5, my_dpi=50, height=80)"
   ]
  },
  {
   "cell_type": "code",
   "execution_count": null,
   "metadata": {},
   "outputs": [],
   "source": [
    "## PRECIPITATION STATS\n",
    "weather_data_path = wdir +  \"data/AA_weather_data/precipitation/\"\n",
    "stations = glob.glob( weather_data_path + \"*.txt\" )\n",
    "\n",
    "df_precipitation = pd.DataFrame(index=dates)\n",
    "df_precipitation_wet_hours = pd.DataFrame(index=dates)\n",
    "\n",
    "for station in stations:\n",
    "\n",
    "    station_name = os.path.basename( station )[:-4]\n",
    "    # print(station_name)\n",
    "\n",
    "    # Reading data\n",
    "    data = pd.read_csv(station, skiprows=4, index_col=0,\n",
    "                       parse_dates=True, names=['values'])\n",
    "    \n",
    "    data[ data['values'] == -999.0 ] = np.nan\n",
    "    data = data[ start_date:end_date ]\n",
    "\n",
    "    df_precipitation[ station_name ] = data\n",
    "\n",
    "    wet_data = data[ data['values'] >= 0.1 ]\n",
    "    df_precipitation_wet_hours[ station_name ] = wet_data\n",
    "\n",
    "    # wet_days = evaluate_wet_days(  )"
   ]
  },
  {
   "cell_type": "code",
   "execution_count": null,
   "metadata": {},
   "outputs": [],
   "source": [
    "## TEMPERATURE STATS\n",
    "weather_data_path = wdir +  \"data/AA_weather_data/temperature/\"\n",
    "stations = glob.glob( weather_data_path + \"*.txt\" )\n",
    "\n",
    "df_temperature = pd.DataFrame(index=dates)\n",
    "\n",
    "for station in stations:\n",
    "\n",
    "    station_name = os.path.basename( station )[:-4]\n",
    "    # print(station_name)\n",
    "\n",
    "    # Reading data\n",
    "    data = pd.read_csv(station, skiprows=4, index_col=0,\n",
    "                       parse_dates=True, names=['values'])\n",
    "    \n",
    "    data[ data['values'] == -999.0 ] = np.nan\n",
    "    data = data[ start_date:end_date ]\n",
    "\n",
    "    df_temperature[ station_name ] = data"
   ]
  },
  {
   "cell_type": "code",
   "execution_count": null,
   "metadata": {},
   "outputs": [],
   "source": [
    "df_precipitation.shape"
   ]
  },
  {
   "cell_type": "code",
   "execution_count": null,
   "metadata": {},
   "outputs": [],
   "source": [
    "df_temperature.shape"
   ]
  },
  {
   "cell_type": "code",
   "execution_count": null,
   "metadata": {},
   "outputs": [],
   "source": [
    "df_precipitation_wet_hours.describe()"
   ]
  },
  {
   "cell_type": "code",
   "execution_count": null,
   "metadata": {},
   "outputs": [],
   "source": [
    "df_precipitation_wet_days = df_precipitation_wet_hours.resample('d').sum()"
   ]
  },
  {
   "cell_type": "code",
   "execution_count": null,
   "metadata": {},
   "outputs": [],
   "source": [
    "df_precipitation_wet_hours.index.year.unique()"
   ]
  },
  {
   "cell_type": "code",
   "execution_count": null,
   "metadata": {},
   "outputs": [],
   "source": [
    "df_precipitation_wet_days[ df_precipitation_wet_days != 0.0 ]['10'].describe()"
   ]
  },
  {
   "cell_type": "code",
   "execution_count": null,
   "metadata": {},
   "outputs": [],
   "source": [
    "start_date_str = \"2010-01-01T00:00:00\"\n",
    "end_date_str = \"2012-09-30T23:00:00\"\n",
    "start_date = dt.datetime.strptime( start_date_str, '%Y-%m-%dT%H:%M:%S' )\n",
    "end_date = dt.datetime.strptime( end_date_str, '%Y-%m-%dT%H:%M:%S' )\n",
    "\n",
    "tot_days = (end_date-start_date).days\n",
    "\n",
    "test = df_precipitation_wet_days['10'][ start_date:end_date ].resample('d').sum()\n",
    "\n",
    "test.plot()"
   ]
  },
  {
   "cell_type": "code",
   "execution_count": null,
   "metadata": {},
   "outputs": [],
   "source": [
    "test"
   ]
  },
  {
   "cell_type": "code",
   "execution_count": null,
   "metadata": {},
   "outputs": [],
   "source": [
    "test[ 'values' ]"
   ]
  },
  {
   "cell_type": "code",
   "execution_count": null,
   "metadata": {},
   "outputs": [],
   "source": [
    "df_precipitation_wet_days.resample('d').sum().plot()"
   ]
  },
  {
   "cell_type": "code",
   "execution_count": null,
   "metadata": {},
   "outputs": [],
   "source": [
    "df_precipitation_wet_days.mean(axis=1).describe()"
   ]
  },
  {
   "cell_type": "code",
   "execution_count": null,
   "metadata": {},
   "outputs": [],
   "source": [
    "0.637553*45048/24/10"
   ]
  },
  {
   "cell_type": "code",
   "execution_count": null,
   "metadata": {},
   "outputs": [],
   "source": [
    "120*0.64*24"
   ]
  },
  {
   "cell_type": "code",
   "execution_count": null,
   "metadata": {},
   "outputs": [],
   "source": [
    "df_precipitation_wet_days.resample('d').sum()"
   ]
  },
  {
   "cell_type": "code",
   "execution_count": null,
   "metadata": {},
   "outputs": [],
   "source": [
    "45048/129/10"
   ]
  },
  {
   "cell_type": "code",
   "execution_count": null,
   "metadata": {},
   "outputs": [],
   "source": [
    "10*1.05"
   ]
  },
  {
   "cell_type": "code",
   "execution_count": null,
   "metadata": {},
   "outputs": [],
   "source": [
    "df_precipitation_wet_days.resample('Y').sum().mean(axis=1)"
   ]
  },
  {
   "cell_type": "code",
   "execution_count": null,
   "metadata": {},
   "outputs": [],
   "source": [
    "df_precipitation.resample('Y').sum().mean(axis=1)"
   ]
  },
  {
   "cell_type": "code",
   "execution_count": null,
   "metadata": {},
   "outputs": [],
   "source": []
  }
 ],
 "metadata": {
  "interpreter": {
   "hash": "916dbcbb3f70747c44a77c7bcd40155683ae19c65e1c03b4aa3499c5328201f1"
  },
  "kernelspec": {
   "display_name": "Python 3.8.10 64-bit",
   "language": "python",
   "name": "python3"
  },
  "language_info": {
   "codemirror_mode": {
    "name": "ipython",
    "version": 3
   },
   "file_extension": ".py",
   "mimetype": "text/x-python",
   "name": "python",
   "nbconvert_exporter": "python",
   "pygments_lexer": "ipython3",
   "version": "3.8.10"
  },
  "orig_nbformat": 4
 },
 "nbformat": 4,
 "nbformat_minor": 2
}
